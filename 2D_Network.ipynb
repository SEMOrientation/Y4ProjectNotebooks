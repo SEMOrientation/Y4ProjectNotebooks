{
  "nbformat": 4,
  "nbformat_minor": 0,
  "metadata": {
    "colab": {
      "name": "Untitled1.ipynb",
      "provenance": [],
      "authorship_tag": "ABX9TyMPFx5/NsHrJiGHWnXI/OGI"
    },
    "kernelspec": {
      "name": "python3",
      "display_name": "Python 3"
    },
    "language_info": {
      "name": "python"
    },
    "widgets": {
      "application/vnd.jupyter.widget-state+json": {
        "57da05b315a046c890af478d8d26002d": {
          "model_module": "@jupyter-widgets/controls",
          "model_name": "HBoxModel",
          "model_module_version": "1.5.0",
          "state": {
            "_view_name": "HBoxView",
            "_dom_classes": [],
            "_model_name": "HBoxModel",
            "_view_module": "@jupyter-widgets/controls",
            "_model_module_version": "1.5.0",
            "_view_count": null,
            "_view_module_version": "1.5.0",
            "box_style": "",
            "layout": "IPY_MODEL_b2ab5fc1433c4c758e7b505c994a5e7d",
            "_model_module": "@jupyter-widgets/controls",
            "children": [
              "IPY_MODEL_5dfb8862fec14a6fa611e6ee2b9448ee",
              "IPY_MODEL_5349d8c5d0ca4149b35adc2785245648",
              "IPY_MODEL_360dbf4e298649579b39da52f1a03418"
            ]
          }
        },
        "b2ab5fc1433c4c758e7b505c994a5e7d": {
          "model_module": "@jupyter-widgets/base",
          "model_name": "LayoutModel",
          "model_module_version": "1.2.0",
          "state": {
            "_view_name": "LayoutView",
            "grid_template_rows": null,
            "right": null,
            "justify_content": null,
            "_view_module": "@jupyter-widgets/base",
            "overflow": null,
            "_model_module_version": "1.2.0",
            "_view_count": null,
            "flex_flow": null,
            "width": null,
            "min_width": null,
            "border": null,
            "align_items": null,
            "bottom": null,
            "_model_module": "@jupyter-widgets/base",
            "top": null,
            "grid_column": null,
            "overflow_y": null,
            "overflow_x": null,
            "grid_auto_flow": null,
            "grid_area": null,
            "grid_template_columns": null,
            "flex": null,
            "_model_name": "LayoutModel",
            "justify_items": null,
            "grid_row": null,
            "max_height": null,
            "align_content": null,
            "visibility": null,
            "align_self": null,
            "height": null,
            "min_height": null,
            "padding": null,
            "grid_auto_rows": null,
            "grid_gap": null,
            "max_width": null,
            "order": null,
            "_view_module_version": "1.2.0",
            "grid_template_areas": null,
            "object_position": null,
            "object_fit": null,
            "grid_auto_columns": null,
            "margin": null,
            "display": null,
            "left": null
          }
        },
        "5dfb8862fec14a6fa611e6ee2b9448ee": {
          "model_module": "@jupyter-widgets/controls",
          "model_name": "HTMLModel",
          "model_module_version": "1.5.0",
          "state": {
            "_view_name": "HTMLView",
            "style": "IPY_MODEL_0362820e77824271a270e13c7322c5a9",
            "_dom_classes": [],
            "description": "",
            "_model_name": "HTMLModel",
            "placeholder": "​",
            "_view_module": "@jupyter-widgets/controls",
            "_model_module_version": "1.5.0",
            "value": "100%",
            "_view_count": null,
            "_view_module_version": "1.5.0",
            "description_tooltip": null,
            "_model_module": "@jupyter-widgets/controls",
            "layout": "IPY_MODEL_c266a4d0fb504755b40035bad6e59ad2"
          }
        },
        "5349d8c5d0ca4149b35adc2785245648": {
          "model_module": "@jupyter-widgets/controls",
          "model_name": "FloatProgressModel",
          "model_module_version": "1.5.0",
          "state": {
            "_view_name": "ProgressView",
            "style": "IPY_MODEL_709ee0145b1b4db9af0c718413eb5c95",
            "_dom_classes": [],
            "description": "",
            "_model_name": "FloatProgressModel",
            "bar_style": "success",
            "max": 72,
            "_view_module": "@jupyter-widgets/controls",
            "_model_module_version": "1.5.0",
            "value": 72,
            "_view_count": null,
            "_view_module_version": "1.5.0",
            "orientation": "horizontal",
            "min": 0,
            "description_tooltip": null,
            "_model_module": "@jupyter-widgets/controls",
            "layout": "IPY_MODEL_d7fb00f1cd2643c2acfdc4261749d8ee"
          }
        },
        "360dbf4e298649579b39da52f1a03418": {
          "model_module": "@jupyter-widgets/controls",
          "model_name": "HTMLModel",
          "model_module_version": "1.5.0",
          "state": {
            "_view_name": "HTMLView",
            "style": "IPY_MODEL_c9d2a4377e7645549ae7bbd6053adc46",
            "_dom_classes": [],
            "description": "",
            "_model_name": "HTMLModel",
            "placeholder": "​",
            "_view_module": "@jupyter-widgets/controls",
            "_model_module_version": "1.5.0",
            "value": " 72/72 [00:01&lt;00:00, 65.19it/s]",
            "_view_count": null,
            "_view_module_version": "1.5.0",
            "description_tooltip": null,
            "_model_module": "@jupyter-widgets/controls",
            "layout": "IPY_MODEL_65d229daa2b54035a508f6cf6161cdce"
          }
        },
        "0362820e77824271a270e13c7322c5a9": {
          "model_module": "@jupyter-widgets/controls",
          "model_name": "DescriptionStyleModel",
          "model_module_version": "1.5.0",
          "state": {
            "_view_name": "StyleView",
            "_model_name": "DescriptionStyleModel",
            "description_width": "",
            "_view_module": "@jupyter-widgets/base",
            "_model_module_version": "1.5.0",
            "_view_count": null,
            "_view_module_version": "1.2.0",
            "_model_module": "@jupyter-widgets/controls"
          }
        },
        "c266a4d0fb504755b40035bad6e59ad2": {
          "model_module": "@jupyter-widgets/base",
          "model_name": "LayoutModel",
          "model_module_version": "1.2.0",
          "state": {
            "_view_name": "LayoutView",
            "grid_template_rows": null,
            "right": null,
            "justify_content": null,
            "_view_module": "@jupyter-widgets/base",
            "overflow": null,
            "_model_module_version": "1.2.0",
            "_view_count": null,
            "flex_flow": null,
            "width": null,
            "min_width": null,
            "border": null,
            "align_items": null,
            "bottom": null,
            "_model_module": "@jupyter-widgets/base",
            "top": null,
            "grid_column": null,
            "overflow_y": null,
            "overflow_x": null,
            "grid_auto_flow": null,
            "grid_area": null,
            "grid_template_columns": null,
            "flex": null,
            "_model_name": "LayoutModel",
            "justify_items": null,
            "grid_row": null,
            "max_height": null,
            "align_content": null,
            "visibility": null,
            "align_self": null,
            "height": null,
            "min_height": null,
            "padding": null,
            "grid_auto_rows": null,
            "grid_gap": null,
            "max_width": null,
            "order": null,
            "_view_module_version": "1.2.0",
            "grid_template_areas": null,
            "object_position": null,
            "object_fit": null,
            "grid_auto_columns": null,
            "margin": null,
            "display": null,
            "left": null
          }
        },
        "709ee0145b1b4db9af0c718413eb5c95": {
          "model_module": "@jupyter-widgets/controls",
          "model_name": "ProgressStyleModel",
          "model_module_version": "1.5.0",
          "state": {
            "_view_name": "StyleView",
            "_model_name": "ProgressStyleModel",
            "description_width": "",
            "_view_module": "@jupyter-widgets/base",
            "_model_module_version": "1.5.0",
            "_view_count": null,
            "_view_module_version": "1.2.0",
            "bar_color": null,
            "_model_module": "@jupyter-widgets/controls"
          }
        },
        "d7fb00f1cd2643c2acfdc4261749d8ee": {
          "model_module": "@jupyter-widgets/base",
          "model_name": "LayoutModel",
          "model_module_version": "1.2.0",
          "state": {
            "_view_name": "LayoutView",
            "grid_template_rows": null,
            "right": null,
            "justify_content": null,
            "_view_module": "@jupyter-widgets/base",
            "overflow": null,
            "_model_module_version": "1.2.0",
            "_view_count": null,
            "flex_flow": null,
            "width": null,
            "min_width": null,
            "border": null,
            "align_items": null,
            "bottom": null,
            "_model_module": "@jupyter-widgets/base",
            "top": null,
            "grid_column": null,
            "overflow_y": null,
            "overflow_x": null,
            "grid_auto_flow": null,
            "grid_area": null,
            "grid_template_columns": null,
            "flex": null,
            "_model_name": "LayoutModel",
            "justify_items": null,
            "grid_row": null,
            "max_height": null,
            "align_content": null,
            "visibility": null,
            "align_self": null,
            "height": null,
            "min_height": null,
            "padding": null,
            "grid_auto_rows": null,
            "grid_gap": null,
            "max_width": null,
            "order": null,
            "_view_module_version": "1.2.0",
            "grid_template_areas": null,
            "object_position": null,
            "object_fit": null,
            "grid_auto_columns": null,
            "margin": null,
            "display": null,
            "left": null
          }
        },
        "c9d2a4377e7645549ae7bbd6053adc46": {
          "model_module": "@jupyter-widgets/controls",
          "model_name": "DescriptionStyleModel",
          "model_module_version": "1.5.0",
          "state": {
            "_view_name": "StyleView",
            "_model_name": "DescriptionStyleModel",
            "description_width": "",
            "_view_module": "@jupyter-widgets/base",
            "_model_module_version": "1.5.0",
            "_view_count": null,
            "_view_module_version": "1.2.0",
            "_model_module": "@jupyter-widgets/controls"
          }
        },
        "65d229daa2b54035a508f6cf6161cdce": {
          "model_module": "@jupyter-widgets/base",
          "model_name": "LayoutModel",
          "model_module_version": "1.2.0",
          "state": {
            "_view_name": "LayoutView",
            "grid_template_rows": null,
            "right": null,
            "justify_content": null,
            "_view_module": "@jupyter-widgets/base",
            "overflow": null,
            "_model_module_version": "1.2.0",
            "_view_count": null,
            "flex_flow": null,
            "width": null,
            "min_width": null,
            "border": null,
            "align_items": null,
            "bottom": null,
            "_model_module": "@jupyter-widgets/base",
            "top": null,
            "grid_column": null,
            "overflow_y": null,
            "overflow_x": null,
            "grid_auto_flow": null,
            "grid_area": null,
            "grid_template_columns": null,
            "flex": null,
            "_model_name": "LayoutModel",
            "justify_items": null,
            "grid_row": null,
            "max_height": null,
            "align_content": null,
            "visibility": null,
            "align_self": null,
            "height": null,
            "min_height": null,
            "padding": null,
            "grid_auto_rows": null,
            "grid_gap": null,
            "max_width": null,
            "order": null,
            "_view_module_version": "1.2.0",
            "grid_template_areas": null,
            "object_position": null,
            "object_fit": null,
            "grid_auto_columns": null,
            "margin": null,
            "display": null,
            "left": null
          }
        },
        "6f848a85d2444a938c9ce4f05d7e25b6": {
          "model_module": "@jupyter-widgets/controls",
          "model_name": "HBoxModel",
          "model_module_version": "1.5.0",
          "state": {
            "_view_name": "HBoxView",
            "_dom_classes": [],
            "_model_name": "HBoxModel",
            "_view_module": "@jupyter-widgets/controls",
            "_model_module_version": "1.5.0",
            "_view_count": null,
            "_view_module_version": "1.5.0",
            "box_style": "",
            "layout": "IPY_MODEL_2192833956144befb416aa6881a2f20a",
            "_model_module": "@jupyter-widgets/controls",
            "children": [
              "IPY_MODEL_488c91fa292c4536bfad72a51668c495",
              "IPY_MODEL_035d3e1de1f141acbbd95b0a0f04d0aa",
              "IPY_MODEL_acef5588457848f187ad4b5e40ee5a5a"
            ]
          }
        },
        "2192833956144befb416aa6881a2f20a": {
          "model_module": "@jupyter-widgets/base",
          "model_name": "LayoutModel",
          "model_module_version": "1.2.0",
          "state": {
            "_view_name": "LayoutView",
            "grid_template_rows": null,
            "right": null,
            "justify_content": null,
            "_view_module": "@jupyter-widgets/base",
            "overflow": null,
            "_model_module_version": "1.2.0",
            "_view_count": null,
            "flex_flow": null,
            "width": null,
            "min_width": null,
            "border": null,
            "align_items": null,
            "bottom": null,
            "_model_module": "@jupyter-widgets/base",
            "top": null,
            "grid_column": null,
            "overflow_y": null,
            "overflow_x": null,
            "grid_auto_flow": null,
            "grid_area": null,
            "grid_template_columns": null,
            "flex": null,
            "_model_name": "LayoutModel",
            "justify_items": null,
            "grid_row": null,
            "max_height": null,
            "align_content": null,
            "visibility": null,
            "align_self": null,
            "height": null,
            "min_height": null,
            "padding": null,
            "grid_auto_rows": null,
            "grid_gap": null,
            "max_width": null,
            "order": null,
            "_view_module_version": "1.2.0",
            "grid_template_areas": null,
            "object_position": null,
            "object_fit": null,
            "grid_auto_columns": null,
            "margin": null,
            "display": null,
            "left": null
          }
        },
        "488c91fa292c4536bfad72a51668c495": {
          "model_module": "@jupyter-widgets/controls",
          "model_name": "HTMLModel",
          "model_module_version": "1.5.0",
          "state": {
            "_view_name": "HTMLView",
            "style": "IPY_MODEL_e3bebbcf028d47b9b9f04a991ab9eb4f",
            "_dom_classes": [],
            "description": "",
            "_model_name": "HTMLModel",
            "placeholder": "​",
            "_view_module": "@jupyter-widgets/controls",
            "_model_module_version": "1.5.0",
            "value": "100%",
            "_view_count": null,
            "_view_module_version": "1.5.0",
            "description_tooltip": null,
            "_model_module": "@jupyter-widgets/controls",
            "layout": "IPY_MODEL_da526ddfe7144403843d809785bf0ea1"
          }
        },
        "035d3e1de1f141acbbd95b0a0f04d0aa": {
          "model_module": "@jupyter-widgets/controls",
          "model_name": "FloatProgressModel",
          "model_module_version": "1.5.0",
          "state": {
            "_view_name": "ProgressView",
            "style": "IPY_MODEL_37d60f53fe044809b17192b2c4f377b7",
            "_dom_classes": [],
            "description": "",
            "_model_name": "FloatProgressModel",
            "bar_style": "success",
            "max": 35,
            "_view_module": "@jupyter-widgets/controls",
            "_model_module_version": "1.5.0",
            "value": 35,
            "_view_count": null,
            "_view_module_version": "1.5.0",
            "orientation": "horizontal",
            "min": 0,
            "description_tooltip": null,
            "_model_module": "@jupyter-widgets/controls",
            "layout": "IPY_MODEL_f88c694241cf489face4a70f5ec1e36f"
          }
        },
        "acef5588457848f187ad4b5e40ee5a5a": {
          "model_module": "@jupyter-widgets/controls",
          "model_name": "HTMLModel",
          "model_module_version": "1.5.0",
          "state": {
            "_view_name": "HTMLView",
            "style": "IPY_MODEL_9e3c9798603a4e99b15d7de6d0634b17",
            "_dom_classes": [],
            "description": "",
            "_model_name": "HTMLModel",
            "placeholder": "​",
            "_view_module": "@jupyter-widgets/controls",
            "_model_module_version": "1.5.0",
            "value": " 35/35 [00:00&lt;00:00, 147.75it/s]",
            "_view_count": null,
            "_view_module_version": "1.5.0",
            "description_tooltip": null,
            "_model_module": "@jupyter-widgets/controls",
            "layout": "IPY_MODEL_f023e529d42046b488347863b4b0e40d"
          }
        },
        "e3bebbcf028d47b9b9f04a991ab9eb4f": {
          "model_module": "@jupyter-widgets/controls",
          "model_name": "DescriptionStyleModel",
          "model_module_version": "1.5.0",
          "state": {
            "_view_name": "StyleView",
            "_model_name": "DescriptionStyleModel",
            "description_width": "",
            "_view_module": "@jupyter-widgets/base",
            "_model_module_version": "1.5.0",
            "_view_count": null,
            "_view_module_version": "1.2.0",
            "_model_module": "@jupyter-widgets/controls"
          }
        },
        "da526ddfe7144403843d809785bf0ea1": {
          "model_module": "@jupyter-widgets/base",
          "model_name": "LayoutModel",
          "model_module_version": "1.2.0",
          "state": {
            "_view_name": "LayoutView",
            "grid_template_rows": null,
            "right": null,
            "justify_content": null,
            "_view_module": "@jupyter-widgets/base",
            "overflow": null,
            "_model_module_version": "1.2.0",
            "_view_count": null,
            "flex_flow": null,
            "width": null,
            "min_width": null,
            "border": null,
            "align_items": null,
            "bottom": null,
            "_model_module": "@jupyter-widgets/base",
            "top": null,
            "grid_column": null,
            "overflow_y": null,
            "overflow_x": null,
            "grid_auto_flow": null,
            "grid_area": null,
            "grid_template_columns": null,
            "flex": null,
            "_model_name": "LayoutModel",
            "justify_items": null,
            "grid_row": null,
            "max_height": null,
            "align_content": null,
            "visibility": null,
            "align_self": null,
            "height": null,
            "min_height": null,
            "padding": null,
            "grid_auto_rows": null,
            "grid_gap": null,
            "max_width": null,
            "order": null,
            "_view_module_version": "1.2.0",
            "grid_template_areas": null,
            "object_position": null,
            "object_fit": null,
            "grid_auto_columns": null,
            "margin": null,
            "display": null,
            "left": null
          }
        },
        "37d60f53fe044809b17192b2c4f377b7": {
          "model_module": "@jupyter-widgets/controls",
          "model_name": "ProgressStyleModel",
          "model_module_version": "1.5.0",
          "state": {
            "_view_name": "StyleView",
            "_model_name": "ProgressStyleModel",
            "description_width": "",
            "_view_module": "@jupyter-widgets/base",
            "_model_module_version": "1.5.0",
            "_view_count": null,
            "_view_module_version": "1.2.0",
            "bar_color": null,
            "_model_module": "@jupyter-widgets/controls"
          }
        },
        "f88c694241cf489face4a70f5ec1e36f": {
          "model_module": "@jupyter-widgets/base",
          "model_name": "LayoutModel",
          "model_module_version": "1.2.0",
          "state": {
            "_view_name": "LayoutView",
            "grid_template_rows": null,
            "right": null,
            "justify_content": null,
            "_view_module": "@jupyter-widgets/base",
            "overflow": null,
            "_model_module_version": "1.2.0",
            "_view_count": null,
            "flex_flow": null,
            "width": null,
            "min_width": null,
            "border": null,
            "align_items": null,
            "bottom": null,
            "_model_module": "@jupyter-widgets/base",
            "top": null,
            "grid_column": null,
            "overflow_y": null,
            "overflow_x": null,
            "grid_auto_flow": null,
            "grid_area": null,
            "grid_template_columns": null,
            "flex": null,
            "_model_name": "LayoutModel",
            "justify_items": null,
            "grid_row": null,
            "max_height": null,
            "align_content": null,
            "visibility": null,
            "align_self": null,
            "height": null,
            "min_height": null,
            "padding": null,
            "grid_auto_rows": null,
            "grid_gap": null,
            "max_width": null,
            "order": null,
            "_view_module_version": "1.2.0",
            "grid_template_areas": null,
            "object_position": null,
            "object_fit": null,
            "grid_auto_columns": null,
            "margin": null,
            "display": null,
            "left": null
          }
        },
        "9e3c9798603a4e99b15d7de6d0634b17": {
          "model_module": "@jupyter-widgets/controls",
          "model_name": "DescriptionStyleModel",
          "model_module_version": "1.5.0",
          "state": {
            "_view_name": "StyleView",
            "_model_name": "DescriptionStyleModel",
            "description_width": "",
            "_view_module": "@jupyter-widgets/base",
            "_model_module_version": "1.5.0",
            "_view_count": null,
            "_view_module_version": "1.2.0",
            "_model_module": "@jupyter-widgets/controls"
          }
        },
        "f023e529d42046b488347863b4b0e40d": {
          "model_module": "@jupyter-widgets/base",
          "model_name": "LayoutModel",
          "model_module_version": "1.2.0",
          "state": {
            "_view_name": "LayoutView",
            "grid_template_rows": null,
            "right": null,
            "justify_content": null,
            "_view_module": "@jupyter-widgets/base",
            "overflow": null,
            "_model_module_version": "1.2.0",
            "_view_count": null,
            "flex_flow": null,
            "width": null,
            "min_width": null,
            "border": null,
            "align_items": null,
            "bottom": null,
            "_model_module": "@jupyter-widgets/base",
            "top": null,
            "grid_column": null,
            "overflow_y": null,
            "overflow_x": null,
            "grid_auto_flow": null,
            "grid_area": null,
            "grid_template_columns": null,
            "flex": null,
            "_model_name": "LayoutModel",
            "justify_items": null,
            "grid_row": null,
            "max_height": null,
            "align_content": null,
            "visibility": null,
            "align_self": null,
            "height": null,
            "min_height": null,
            "padding": null,
            "grid_auto_rows": null,
            "grid_gap": null,
            "max_width": null,
            "order": null,
            "_view_module_version": "1.2.0",
            "grid_template_areas": null,
            "object_position": null,
            "object_fit": null,
            "grid_auto_columns": null,
            "margin": null,
            "display": null,
            "left": null
          }
        },
        "54c8769b122f4e7eb6b980a82514d3d4": {
          "model_module": "@jupyter-widgets/controls",
          "model_name": "HBoxModel",
          "model_module_version": "1.5.0",
          "state": {
            "_view_name": "HBoxView",
            "_dom_classes": [],
            "_model_name": "HBoxModel",
            "_view_module": "@jupyter-widgets/controls",
            "_model_module_version": "1.5.0",
            "_view_count": null,
            "_view_module_version": "1.5.0",
            "box_style": "",
            "layout": "IPY_MODEL_764d457fda3d42ecaa772776a7c4ff5f",
            "_model_module": "@jupyter-widgets/controls",
            "children": [
              "IPY_MODEL_de8e80fef49248dbb91cb656188894a7",
              "IPY_MODEL_97cc0d310b17471eb495c8fc5ff06899",
              "IPY_MODEL_63c3475b36574a8782bfa5b0a9580952"
            ]
          }
        },
        "764d457fda3d42ecaa772776a7c4ff5f": {
          "model_module": "@jupyter-widgets/base",
          "model_name": "LayoutModel",
          "model_module_version": "1.2.0",
          "state": {
            "_view_name": "LayoutView",
            "grid_template_rows": null,
            "right": null,
            "justify_content": null,
            "_view_module": "@jupyter-widgets/base",
            "overflow": null,
            "_model_module_version": "1.2.0",
            "_view_count": null,
            "flex_flow": null,
            "width": null,
            "min_width": null,
            "border": null,
            "align_items": null,
            "bottom": null,
            "_model_module": "@jupyter-widgets/base",
            "top": null,
            "grid_column": null,
            "overflow_y": null,
            "overflow_x": null,
            "grid_auto_flow": null,
            "grid_area": null,
            "grid_template_columns": null,
            "flex": null,
            "_model_name": "LayoutModel",
            "justify_items": null,
            "grid_row": null,
            "max_height": null,
            "align_content": null,
            "visibility": null,
            "align_self": null,
            "height": null,
            "min_height": null,
            "padding": null,
            "grid_auto_rows": null,
            "grid_gap": null,
            "max_width": null,
            "order": null,
            "_view_module_version": "1.2.0",
            "grid_template_areas": null,
            "object_position": null,
            "object_fit": null,
            "grid_auto_columns": null,
            "margin": null,
            "display": null,
            "left": null
          }
        },
        "de8e80fef49248dbb91cb656188894a7": {
          "model_module": "@jupyter-widgets/controls",
          "model_name": "HTMLModel",
          "model_module_version": "1.5.0",
          "state": {
            "_view_name": "HTMLView",
            "style": "IPY_MODEL_0c7e2501a25e425f9b83bd8421486246",
            "_dom_classes": [],
            "description": "",
            "_model_name": "HTMLModel",
            "placeholder": "​",
            "_view_module": "@jupyter-widgets/controls",
            "_model_module_version": "1.5.0",
            "value": "100%",
            "_view_count": null,
            "_view_module_version": "1.5.0",
            "description_tooltip": null,
            "_model_module": "@jupyter-widgets/controls",
            "layout": "IPY_MODEL_8be3ade5bb9d4e5ab1aad6020f33313d"
          }
        },
        "97cc0d310b17471eb495c8fc5ff06899": {
          "model_module": "@jupyter-widgets/controls",
          "model_name": "FloatProgressModel",
          "model_module_version": "1.5.0",
          "state": {
            "_view_name": "ProgressView",
            "style": "IPY_MODEL_4a510a13fc3041d9abc5a4e571b47acc",
            "_dom_classes": [],
            "description": "",
            "_model_name": "FloatProgressModel",
            "bar_style": "success",
            "max": 35,
            "_view_module": "@jupyter-widgets/controls",
            "_model_module_version": "1.5.0",
            "value": 35,
            "_view_count": null,
            "_view_module_version": "1.5.0",
            "orientation": "horizontal",
            "min": 0,
            "description_tooltip": null,
            "_model_module": "@jupyter-widgets/controls",
            "layout": "IPY_MODEL_8513b9ec5f1c4a9daae3b20d36945681"
          }
        },
        "63c3475b36574a8782bfa5b0a9580952": {
          "model_module": "@jupyter-widgets/controls",
          "model_name": "HTMLModel",
          "model_module_version": "1.5.0",
          "state": {
            "_view_name": "HTMLView",
            "style": "IPY_MODEL_604286da265840f2b102f816086aae43",
            "_dom_classes": [],
            "description": "",
            "_model_name": "HTMLModel",
            "placeholder": "​",
            "_view_module": "@jupyter-widgets/controls",
            "_model_module_version": "1.5.0",
            "value": " 35/35 [00:01&lt;00:00, 18.63it/s]",
            "_view_count": null,
            "_view_module_version": "1.5.0",
            "description_tooltip": null,
            "_model_module": "@jupyter-widgets/controls",
            "layout": "IPY_MODEL_71d2ac6ca4ec4fb0ba69832a4a65d6a4"
          }
        },
        "0c7e2501a25e425f9b83bd8421486246": {
          "model_module": "@jupyter-widgets/controls",
          "model_name": "DescriptionStyleModel",
          "model_module_version": "1.5.0",
          "state": {
            "_view_name": "StyleView",
            "_model_name": "DescriptionStyleModel",
            "description_width": "",
            "_view_module": "@jupyter-widgets/base",
            "_model_module_version": "1.5.0",
            "_view_count": null,
            "_view_module_version": "1.2.0",
            "_model_module": "@jupyter-widgets/controls"
          }
        },
        "8be3ade5bb9d4e5ab1aad6020f33313d": {
          "model_module": "@jupyter-widgets/base",
          "model_name": "LayoutModel",
          "model_module_version": "1.2.0",
          "state": {
            "_view_name": "LayoutView",
            "grid_template_rows": null,
            "right": null,
            "justify_content": null,
            "_view_module": "@jupyter-widgets/base",
            "overflow": null,
            "_model_module_version": "1.2.0",
            "_view_count": null,
            "flex_flow": null,
            "width": null,
            "min_width": null,
            "border": null,
            "align_items": null,
            "bottom": null,
            "_model_module": "@jupyter-widgets/base",
            "top": null,
            "grid_column": null,
            "overflow_y": null,
            "overflow_x": null,
            "grid_auto_flow": null,
            "grid_area": null,
            "grid_template_columns": null,
            "flex": null,
            "_model_name": "LayoutModel",
            "justify_items": null,
            "grid_row": null,
            "max_height": null,
            "align_content": null,
            "visibility": null,
            "align_self": null,
            "height": null,
            "min_height": null,
            "padding": null,
            "grid_auto_rows": null,
            "grid_gap": null,
            "max_width": null,
            "order": null,
            "_view_module_version": "1.2.0",
            "grid_template_areas": null,
            "object_position": null,
            "object_fit": null,
            "grid_auto_columns": null,
            "margin": null,
            "display": null,
            "left": null
          }
        },
        "4a510a13fc3041d9abc5a4e571b47acc": {
          "model_module": "@jupyter-widgets/controls",
          "model_name": "ProgressStyleModel",
          "model_module_version": "1.5.0",
          "state": {
            "_view_name": "StyleView",
            "_model_name": "ProgressStyleModel",
            "description_width": "",
            "_view_module": "@jupyter-widgets/base",
            "_model_module_version": "1.5.0",
            "_view_count": null,
            "_view_module_version": "1.2.0",
            "bar_color": null,
            "_model_module": "@jupyter-widgets/controls"
          }
        },
        "8513b9ec5f1c4a9daae3b20d36945681": {
          "model_module": "@jupyter-widgets/base",
          "model_name": "LayoutModel",
          "model_module_version": "1.2.0",
          "state": {
            "_view_name": "LayoutView",
            "grid_template_rows": null,
            "right": null,
            "justify_content": null,
            "_view_module": "@jupyter-widgets/base",
            "overflow": null,
            "_model_module_version": "1.2.0",
            "_view_count": null,
            "flex_flow": null,
            "width": null,
            "min_width": null,
            "border": null,
            "align_items": null,
            "bottom": null,
            "_model_module": "@jupyter-widgets/base",
            "top": null,
            "grid_column": null,
            "overflow_y": null,
            "overflow_x": null,
            "grid_auto_flow": null,
            "grid_area": null,
            "grid_template_columns": null,
            "flex": null,
            "_model_name": "LayoutModel",
            "justify_items": null,
            "grid_row": null,
            "max_height": null,
            "align_content": null,
            "visibility": null,
            "align_self": null,
            "height": null,
            "min_height": null,
            "padding": null,
            "grid_auto_rows": null,
            "grid_gap": null,
            "max_width": null,
            "order": null,
            "_view_module_version": "1.2.0",
            "grid_template_areas": null,
            "object_position": null,
            "object_fit": null,
            "grid_auto_columns": null,
            "margin": null,
            "display": null,
            "left": null
          }
        },
        "604286da265840f2b102f816086aae43": {
          "model_module": "@jupyter-widgets/controls",
          "model_name": "DescriptionStyleModel",
          "model_module_version": "1.5.0",
          "state": {
            "_view_name": "StyleView",
            "_model_name": "DescriptionStyleModel",
            "description_width": "",
            "_view_module": "@jupyter-widgets/base",
            "_model_module_version": "1.5.0",
            "_view_count": null,
            "_view_module_version": "1.2.0",
            "_model_module": "@jupyter-widgets/controls"
          }
        },
        "71d2ac6ca4ec4fb0ba69832a4a65d6a4": {
          "model_module": "@jupyter-widgets/base",
          "model_name": "LayoutModel",
          "model_module_version": "1.2.0",
          "state": {
            "_view_name": "LayoutView",
            "grid_template_rows": null,
            "right": null,
            "justify_content": null,
            "_view_module": "@jupyter-widgets/base",
            "overflow": null,
            "_model_module_version": "1.2.0",
            "_view_count": null,
            "flex_flow": null,
            "width": null,
            "min_width": null,
            "border": null,
            "align_items": null,
            "bottom": null,
            "_model_module": "@jupyter-widgets/base",
            "top": null,
            "grid_column": null,
            "overflow_y": null,
            "overflow_x": null,
            "grid_auto_flow": null,
            "grid_area": null,
            "grid_template_columns": null,
            "flex": null,
            "_model_name": "LayoutModel",
            "justify_items": null,
            "grid_row": null,
            "max_height": null,
            "align_content": null,
            "visibility": null,
            "align_self": null,
            "height": null,
            "min_height": null,
            "padding": null,
            "grid_auto_rows": null,
            "grid_gap": null,
            "max_width": null,
            "order": null,
            "_view_module_version": "1.2.0",
            "grid_template_areas": null,
            "object_position": null,
            "object_fit": null,
            "grid_auto_columns": null,
            "margin": null,
            "display": null,
            "left": null
          }
        }
      }
    }
  },
  "cells": [
    {
      "cell_type": "markdown",
      "metadata": {
        "id": "8ngo-MXwj7Oy"
      },
      "source": [
        "# Install Libraries"
      ]
    },
    {
      "cell_type": "code",
      "metadata": {
        "id": "6uk8ibx2j6aK",
        "colab": {
          "base_uri": "https://localhost:8080/"
        },
        "outputId": "ba3ab5a3-389e-45d9-e0c8-c42a30539ad2"
      },
      "source": [
        "!pip install pillow"
      ],
      "execution_count": 1,
      "outputs": [
        {
          "output_type": "stream",
          "name": "stdout",
          "text": [
            "Requirement already satisfied: pillow in /usr/local/lib/python3.7/dist-packages (7.1.2)\n"
          ]
        }
      ]
    },
    {
      "cell_type": "markdown",
      "metadata": {
        "id": "1nvQsm7qhMPy"
      },
      "source": [
        "# Download Dataset"
      ]
    },
    {
      "cell_type": "code",
      "metadata": {
        "id": "OWpZd9_4b9gm",
        "colab": {
          "base_uri": "https://localhost:8080/"
        },
        "outputId": "217476e5-a159-4657-b674-39f2b2f4398d"
      },
      "source": [
        "DATASET_FILE = \"scalene_triangle_0_355_step5_randomdisp_randomtest.zip\"\n",
        "DATASET_DIR = \"scalene_triangle_0_355_step5_randomdisp_randomtest\"\n",
        "!rm -rf \"$DATASET_DIR\"\n",
        "!curl -L https://github.com/joshbarrass/Y4ProjectNotebooks/raw/master/$DATASET_FILE > \"$DATASET_FILE\"\n",
        "!unzip -d \"$DATASET_DIR\" \"$DATASET_FILE\" > /dev/null"
      ],
      "execution_count": 2,
      "outputs": [
        {
          "output_type": "stream",
          "name": "stdout",
          "text": [
            "  % Total    % Received % Xferd  Average Speed   Time    Time     Time  Current\n",
            "                                 Dload  Upload   Total   Spent    Left  Speed\n",
            "100   192  100   192    0     0    531      0 --:--:-- --:--:-- --:--:--   531\n",
            "100  424k  100  424k    0     0   514k      0 --:--:-- --:--:-- --:--:-- 1644k\n"
          ]
        }
      ]
    },
    {
      "cell_type": "markdown",
      "metadata": {
        "id": "QM9iHDyVobZ7"
      },
      "source": [
        "# Define Helper Functions"
      ]
    },
    {
      "cell_type": "code",
      "metadata": {
        "id": "Hgf278ejobQO"
      },
      "source": [
        "import numpy as np\n",
        "import tensorflow as tf\n",
        "from tensorflow.keras import layers\n",
        "from scipy.spatial.transform import Rotation as R\n",
        "\n",
        "D6_SHAPE = (3, 2)\n",
        "\n",
        "def normalise(x):\n",
        "    return x / np.linalg.norm(x)\n",
        "\n",
        "def from_SO3_to_6D(SO3):\n",
        "    \"\"\"Convert an SO(3) rotation matrix to a 6D internal representation.\"\"\"\n",
        "    return SO3[:,:2]\n",
        "\n",
        "def from_6D_to_SO3(D6):\n",
        "    \"\"\"Convert a 6D internal representation to an SO(3) rotation matrix.\"\"\"\n",
        "    b1 = normalise(D6[:,0])\n",
        "    b2 = normalise(D6[:,1] - np.dot(b1, D6[:,1])*b1)\n",
        "    b3 = np.cross(b1, b2)\n",
        "    return np.array([b1, b2, b3]).T\n",
        "\n",
        "def tf_6D_to_SO3(D6):\n",
        "  \"\"\"tensorflow-compatible conversion from 6D to SO(3). Used in the D6Convert layer.\"\"\"\n",
        "  a1 = D6[:,:,0]\n",
        "  a2 = D6[:,:,1]\n",
        "  b1 = tf.math.l2_normalize(a1, axis=-1)\n",
        "  b2 = tf.math.l2_normalize(a2 - tf.reduce_sum(b1*a2)*b1, axis=-1)\n",
        "  b3 = tf.linalg.cross(b1, b2)\n",
        "  return tf.stack([b1, b2, b3], axis=2)\n",
        "\n",
        "class D6Convert(layers.Layer):\n",
        "  def call(self, inputs):\n",
        "    target_input_shape = tf.TensorShape(((None,) + D6_SHAPE))\n",
        "    if not inputs.shape.is_compatible_with(target_input_shape):\n",
        "      raise TypeError(\"inputs to D6Convert should have shape {}, not {}\".format(target_input_shape, inputs.shape))\n",
        "    return tf_6D_to_SO3(inputs)\n",
        "\n",
        "### DEPRECATED: Returns wrong value\n",
        "# def SO3_distance(M1, M2):\n",
        "#  \"\"\"Returns the distance between two SO3 matrices in degrees\"\"\"\n",
        "#  R = M1 * np.linalg.inv(M2)\n",
        "#  return np.rad2deg(np.arccos((np.trace(R)-1)/2))"
      ],
      "execution_count": 3,
      "outputs": []
    },
    {
      "cell_type": "markdown",
      "metadata": {
        "id": "-ibV1fr0oJPF"
      },
      "source": [
        "# Implement Quaternion SO(3) Distance"
      ]
    },
    {
      "cell_type": "code",
      "metadata": {
        "id": "KRnumNchoGfE"
      },
      "source": [
        "# quaternion [x, y, z, w]: w + xi + yj + zk\n",
        "# this is the format outputted by scipy\n",
        "def SO3_distance(M1, M2):\n",
        "  \"\"\"Returns the angle between two SO3 matrices in degrees.\n",
        "\n",
        "  This is done by converting the matrices to quaternions and multiplying the\n",
        "  conjugate of one with the other. The scalar part of the resulting quaternion\n",
        "  is then cos(theta/2). The expression has been simplified to calculate only the\n",
        "  scalar part.\"\"\"\n",
        "  x1, y1, z1, w1 = R.from_matrix(M1).as_quat()\n",
        "  x2, y2, z2, w2 = R.from_matrix(M2).as_quat()\n",
        "  return np.rad2deg(2*np.arccos(w1*w2 + x1*x2 + y1*y2 + z1*z2))\n",
        "\n",
        "### TEST SO3_distance\n",
        "test_tolerance = 0.001\n",
        "for i in range(100):\n",
        "  test_angle1, test_angle2 = np.random.uniform(0, 180, 2) # max difference should be 180, as > 180 is no longer the shortest angle\n",
        "  testM1 = R.from_euler(\"zyx\", [test_angle1, 0, 0], degrees=True).as_matrix()\n",
        "  testM2 = R.from_euler(\"zyx\", [test_angle2, 0, 0], degrees=True).as_matrix()\n",
        "  test_true_angle = abs(test_angle1-test_angle2)\n",
        "  test_angle = abs(SO3_distance(testM1, testM2))\n",
        "  assert test_angle + test_tolerance > test_true_angle and test_angle - test_tolerance < test_true_angle"
      ],
      "execution_count": 4,
      "outputs": []
    },
    {
      "cell_type": "code",
      "metadata": {
        "id": "8hZ1-TLsB4ka",
        "colab": {
          "base_uri": "https://localhost:8080/"
        },
        "outputId": "d61f3b16-eef8-44bf-97a5-d0337bc66f76"
      },
      "source": [
        "SO31 = R.from_euler(\"zyx\",[3, 2, 1]).as_matrix()\n",
        "D61 = from_SO3_to_6D(SO31)\n",
        "SO32 = R.from_euler(\"zyx\",[0.5, 1, 1.2]).as_matrix()\n",
        "D62 = from_SO3_to_6D(SO32)\n",
        "print(\"True:\", SO31, \"\\n\", SO32, sep=\"\")\n",
        "print(\"np1:\", from_6D_to_SO3(D61))\n",
        "print(\"np2:\", from_6D_to_SO3(D62))\n",
        "print(\"tf:\", tf_6D_to_SO3(np.array([D61, D62])))"
      ],
      "execution_count": 5,
      "outputs": [
        {
          "output_type": "stream",
          "name": "stdout",
          "text": [
            "True:[[ 0.41198225  0.05872664  0.90929743]\n",
            " [-0.68124272 -0.64287284  0.35017549]\n",
            " [ 0.60512725 -0.76371834 -0.2248451 ]]\n",
            "[[ 0.47415988 -0.25903472  0.84147098]\n",
            " [ 0.86199739 -0.05800686 -0.50358287]\n",
            " [ 0.17925654  0.96412459  0.19578273]]\n",
            "np1: [[ 0.41198225  0.05872664  0.90929743]\n",
            " [-0.68124272 -0.64287284  0.35017549]\n",
            " [ 0.60512725 -0.76371834 -0.2248451 ]]\n",
            "np2: [[ 0.47415988 -0.25903472  0.84147098]\n",
            " [ 0.86199739 -0.05800686 -0.50358287]\n",
            " [ 0.17925654  0.96412459  0.19578273]]\n",
            "tf: tf.Tensor(\n",
            "[[[ 0.41198225  0.05872664  0.90929743]\n",
            "  [-0.68124272 -0.64287284  0.35017549]\n",
            "  [ 0.60512725 -0.76371834 -0.2248451 ]]\n",
            "\n",
            " [[ 0.47415988 -0.25903472  0.84147098]\n",
            "  [ 0.86199739 -0.05800686 -0.50358287]\n",
            "  [ 0.17925654  0.96412459  0.19578273]]], shape=(2, 3, 3), dtype=float64)\n"
          ]
        }
      ]
    },
    {
      "cell_type": "markdown",
      "metadata": {
        "id": "RcGH48Hp4_rS"
      },
      "source": [
        "# Create Image Centering Function"
      ]
    },
    {
      "cell_type": "code",
      "metadata": {
        "id": "bIttHkkz5ACK"
      },
      "source": [
        "import numpy as np\n",
        "from scipy import ndimage\n",
        "from PIL import Image\n",
        "def centre_image(a: np.ndarray, target_centre=(0,0)):\n",
        "  \"\"\"Centres a single-channel image using centre of mass.\n",
        "  \n",
        "  Target centre is defined such that (x=0,y=0) is the centre of the image.\n",
        "  Increasing x moves the centre to the right, increasing y moves the centre\n",
        "  down.\"\"\"\n",
        "  if len(a.shape) == 2:\n",
        "    a = a.reshape((1,) + a.shape)\n",
        "\n",
        "  # determine all centres of mass\n",
        "  # TODO: can potentially take advantage of labelling to remove \"noise islands\"\n",
        "  if len(a.shape) == 3:\n",
        "    COM = np.zeros((a.shape[0], 2))\n",
        "    for i in range(a.shape[0]):\n",
        "      COM[i] = ndimage.measurements.center_of_mass(a[i])\n",
        "  else:\n",
        "    raise TypeError(\"a should be either 2D image or an array of 2D\")\n",
        "\n",
        "  output = np.zeros(a.shape)\n",
        "\n",
        "  # translate COM to centre of image\n",
        "  for i in range(a.shape[0]):\n",
        "    im = a[i]\n",
        "    target_centre = (im.shape[0]/2 + target_centre[0],\n",
        "                     im.shape[1]/2 + target_centre[1])\n",
        "    # use affine transform with a=1, e=1, i=1, c=x, f=y to translate\n",
        "    translation = (COM[i][0] - target_centre[0], COM[i][1] - target_centre[1])\n",
        "    transform = np.array([[1, 0, translation[0]],\n",
        "                          [0, 1, translation[1]],\n",
        "                          [0, 0, 1]])\n",
        "    output[i] = ndimage.affine_transform(im, transform, order=0)\n",
        "  \n",
        "  return output\n"
      ],
      "execution_count": 6,
      "outputs": []
    },
    {
      "cell_type": "markdown",
      "metadata": {
        "id": "F5wRIHdPjNIw"
      },
      "source": [
        "# Load and Pre-Process Training Data"
      ]
    },
    {
      "cell_type": "code",
      "metadata": {
        "id": "uYFiuLaEhlpB",
        "colab": {
          "base_uri": "https://localhost:8080/",
          "height": 911,
          "referenced_widgets": [
            "57da05b315a046c890af478d8d26002d",
            "b2ab5fc1433c4c758e7b505c994a5e7d",
            "5dfb8862fec14a6fa611e6ee2b9448ee",
            "5349d8c5d0ca4149b35adc2785245648",
            "360dbf4e298649579b39da52f1a03418",
            "0362820e77824271a270e13c7322c5a9",
            "c266a4d0fb504755b40035bad6e59ad2",
            "709ee0145b1b4db9af0c718413eb5c95",
            "d7fb00f1cd2643c2acfdc4261749d8ee",
            "c9d2a4377e7645549ae7bbd6053adc46",
            "65d229daa2b54035a508f6cf6161cdce",
            "6f848a85d2444a938c9ce4f05d7e25b6",
            "2192833956144befb416aa6881a2f20a",
            "488c91fa292c4536bfad72a51668c495",
            "035d3e1de1f141acbbd95b0a0f04d0aa",
            "acef5588457848f187ad4b5e40ee5a5a",
            "e3bebbcf028d47b9b9f04a991ab9eb4f",
            "da526ddfe7144403843d809785bf0ea1",
            "37d60f53fe044809b17192b2c4f377b7",
            "f88c694241cf489face4a70f5ec1e36f",
            "9e3c9798603a4e99b15d7de6d0634b17",
            "f023e529d42046b488347863b4b0e40d"
          ]
        },
        "outputId": "d2b6a9f1-85d6-4a2b-c13a-680af1e97413"
      },
      "source": [
        "import os\n",
        "import random\n",
        "from scipy.spatial.transform import Rotation as R\n",
        "from PIL import ImageFilter\n",
        "from tqdm.notebook import tqdm\n",
        "from matplotlib import pyplot as plt\n",
        "\n",
        "def polar_to_cartesian(r, theta):\n",
        "  r = np.abs(r)\n",
        "  return r*np.cos(theta), r*np.sin(theta)\n",
        "\n",
        "random.seed(0)\n",
        "\n",
        "RESIZE_SHAPE = (50, 50) # (x, y)\n",
        "\n",
        "GAUSS_RADIUS = 1\n",
        "image_filter = ImageFilter.GaussianBlur(radius=GAUSS_RADIUS)\n",
        "\n",
        "# displace the centre randomly\n",
        "AUGMENT_CENTRE = True\n",
        "CENTRE_AUGMENTATIONS = 16 if AUGMENT_CENTRE else 1\n",
        "CENTRE_AUGMENTATION_SIGMA = 2\n",
        "\n",
        "# dataset size increase factor due to augmentations\n",
        "AUG_MULTIPLIER = 1 * CENTRE_AUGMENTATIONS\n",
        "\n",
        "image_files = os.listdir(os.path.join(DATASET_DIR, \"train\"))\n",
        "total_images = len(image_files)\n",
        "print(f\"Dataset contains {total_images} images\")\n",
        "if total_images == 0:\n",
        "  raise ValueError(\"dataset has no images\")\n",
        "\n",
        "# image_shape = Image.open(os.path.join(DATASET_DIR, image_files[0])).size\n",
        "image_shape = RESIZE_SHAPE + (1,)\n",
        "print(f\"Image shape is {image_shape}\")\n",
        "x_data = np.zeros((total_images*AUG_MULTIPLIER,) + image_shape, dtype=\"float32\")\n",
        "y_data = np.zeros((total_images*AUG_MULTIPLIER, 3, 3), dtype=\"float32\")\n",
        "print(f\"x will have shape {x_data.shape}\")\n",
        "print(f\"y will have shape {y_data.shape}\")\n",
        "print(\"Processing image files...\")\n",
        "\n",
        "def process_image(imf, augment_centre=False):\n",
        "  \"\"\"Takes a path to an image and loads it, performs pre-processing, and returns the xdata and ydata\"\"\"\n",
        "  im = Image.open(imf).convert(\"L\")\n",
        "  im = im.resize(RESIZE_SHAPE)\n",
        "  im = im.filter(image_filter) # blur early to simulate imperfect focus\n",
        "  im = np.array(im).T # gives image with correct shape for centring\n",
        "  angle = float(os.path.splitext(os.path.basename(imf))[0])\n",
        "  rot_matrix = R.from_euler(\"zyx\", (angle, 0, 0), True).as_matrix()\n",
        "  \n",
        "  # return now if no augmentations needed\n",
        "  if not augment_centre: # and not ...\n",
        "    return centre_image(im).reshape(image_shape)/255., rot_matrix\n",
        "  \n",
        "  # construct larger arrays for multiple images\n",
        "  ims = np.empty((AUG_MULTIPLIER, ) + image_shape)\n",
        "  rot_matrices = np.zeros((AUG_MULTIPLIER, 3, 3), dtype=rot_matrix.dtype)\n",
        "  rot_matrices[:] = rot_matrix\n",
        "\n",
        "  if augment_centre:\n",
        "    for i in range(CENTRE_AUGMENTATIONS):\n",
        "      r = np.random.normal(loc=0, scale=CENTRE_AUGMENTATION_SIGMA)\n",
        "      #r = np.random.uniform(low=-CENTRE_AUGMENTATION_SIGMA, high=CENTRE_AUGMENTATION_SIGMA)\n",
        "      theta = np.random.uniform(low=0, high=2*np.pi)\n",
        "      ims[i] = centre_image(im, polar_to_cartesian(r, theta)).reshape(image_shape)/255.  \n",
        "  \n",
        "  return ims, rot_matrices\n",
        "\n",
        "# load training data\n",
        "for i, imf in tqdm(enumerate(image_files), total=total_images):\n",
        "  if AUG_MULTIPLIER == 1:\n",
        "    x_data[i,:,:], y_data[i,:,:] = process_image(os.path.join(DATASET_DIR, \"train\", imf))\n",
        "  else:\n",
        "    n = AUG_MULTIPLIER # alias\n",
        "    x_data[i*n:i*n+n,:,:], y_data[i*n:i*n+n,:,:] = process_image(\n",
        "        os.path.join(DATASET_DIR, \"train\", imf),\n",
        "        augment_centre=AUGMENT_CENTRE,\n",
        "    )\n",
        "\n",
        "test_image_files = os.listdir(os.path.join(DATASET_DIR, \"test\"))\n",
        "total_test_images = len(test_image_files)\n",
        "x_test = np.zeros((total_test_images,) + x_data.shape[1:])\n",
        "y_test = np.zeros((total_test_images,) + y_data.shape[1:])\n",
        "print(\"Loading test data...\")\n",
        "for i, imf in tqdm(enumerate(test_image_files), total=total_test_images):\n",
        "  x_test[i,:,:], y_test[i,:,:] = process_image(os.path.join(DATASET_DIR, \"test\", imf))\n",
        "\n",
        "print(f\"x_data has shape {x_data.shape}\")\n",
        "print(f\"y_data has shape {y_data.shape}\")\n",
        "print(f\"x_test has shape {x_test.shape}\")\n",
        "print(f\"y_test has shape {y_test.shape}\")\n",
        "\n",
        "print(f\"x_data values range from {np.min(x_data)} to {np.max(x_data)}\")\n",
        "\n",
        "im0 = x_data[0,:,:].reshape(RESIZE_SHAPE).T\n",
        "rot0 = y_data[0]\n",
        "plt.imshow(im0)\n",
        "COM = ndimage.measurements.center_of_mass(im0.T)\n",
        "plt.axvline(COM[0])\n",
        "plt.axhline(COM[1])\n",
        "print(rot0)\n",
        "print(COM)\n",
        "plt.show()\n",
        "\n",
        "im1 = x_test[1,:,:].reshape(RESIZE_SHAPE).T\n",
        "rot1 = y_test[1]\n",
        "plt.imshow(im1)\n",
        "COM = ndimage.measurements.center_of_mass(im1.T)\n",
        "plt.axvline(COM[0])\n",
        "plt.axhline(COM[1])\n",
        "print(rot1)\n",
        "print(COM)\n",
        "plt.show()\n"
      ],
      "execution_count": 81,
      "outputs": [
        {
          "output_type": "stream",
          "name": "stdout",
          "text": [
            "Dataset contains 72 images\n",
            "Image shape is (50, 50, 1)\n",
            "x will have shape (1152, 50, 50, 1)\n",
            "y will have shape (1152, 3, 3)\n",
            "Processing image files...\n"
          ]
        },
        {
          "output_type": "display_data",
          "data": {
            "application/vnd.jupyter.widget-view+json": {
              "model_id": "57da05b315a046c890af478d8d26002d",
              "version_minor": 0,
              "version_major": 2
            },
            "text/plain": [
              "  0%|          | 0/72 [00:00<?, ?it/s]"
            ]
          },
          "metadata": {}
        },
        {
          "output_type": "stream",
          "name": "stdout",
          "text": [
            "Loading test data...\n"
          ]
        },
        {
          "output_type": "display_data",
          "data": {
            "application/vnd.jupyter.widget-view+json": {
              "model_id": "6f848a85d2444a938c9ce4f05d7e25b6",
              "version_minor": 0,
              "version_major": 2
            },
            "text/plain": [
              "  0%|          | 0/35 [00:00<?, ?it/s]"
            ]
          },
          "metadata": {}
        },
        {
          "output_type": "stream",
          "name": "stdout",
          "text": [
            "x_data has shape (1152, 50, 50, 1)\n",
            "y_data has shape (1152, 3, 3)\n",
            "x_test has shape (35, 50, 50, 1)\n",
            "y_test has shape (35, 3, 3)\n",
            "x_data values range from 0.0 to 1.0\n",
            "[[-0.42261827  0.9063078   0.        ]\n",
            " [-0.9063078  -0.42261827  0.        ]\n",
            " [ 0.          0.          1.        ]]\n",
            "(25.73832283512224, 25.270035493773964)\n"
          ]
        },
        {
          "output_type": "display_data",
          "data": {
            "image/png": "[encoded data removed]",
            "text/plain": [
              "<Figure size 432x288 with 1 Axes>"
            ]
          },
          "metadata": {
            "needs_background": "light"
          }
        },
        {
          "output_type": "stream",
          "name": "stdout",
          "text": [
            "[[-0.87343248  0.48694527  0.        ]\n",
            " [-0.48694527 -0.87343248  0.        ]\n",
            " [ 0.          0.          1.        ]]\n",
            "(24.999446963831435, 25.000764195432925)\n"
          ]
        },
        {
          "output_type": "display_data",
          "data": {
            "image/png": "[encoded data removed]",
            "text/plain": [
              "<Figure size 432x288 with 1 Axes>"
            ]
          },
          "metadata": {
            "needs_background": "light"
          }
        }
      ]
    },
    {
      "cell_type": "markdown",
      "metadata": {
        "id": "xXnHpEUMYlSc"
      },
      "source": [
        "# Construct Network"
      ]
    },
    {
      "cell_type": "code",
      "metadata": {
        "id": "Vat7z3grkag2",
        "colab": {
          "base_uri": "https://localhost:8080/"
        },
        "outputId": "557ae306-27f3-4e5b-956e-52475508cdfd"
      },
      "source": [
        "from tensorflow import keras\n",
        "from tensorflow.keras import layers\n",
        "\n",
        "batch_size = 16\n",
        "epochs = 100\n",
        "\n",
        "model = keras.Sequential([\n",
        "                          layers.InputLayer(input_shape=image_shape),\n",
        "                          layers.Conv2D(filters=32, kernel_size=3, activation=\"relu\"),\n",
        "                          layers.MaxPool2D(pool_size=2, strides=2),\n",
        "                          layers.Conv2D(filters=32, kernel_size=3, activation=\"relu\"),\n",
        "                          layers.MaxPool2D(pool_size=2, strides=2),\n",
        "                          layers.Flatten(),\n",
        "                          layers.Dense(64, activation=\"relu\"),\n",
        "                          layers.Dense(128, activation=\"relu\"),\n",
        "                          layers.Dense(256, activation=\"relu\"),\n",
        "                          layers.Dense(128, activation=\"relu\"),\n",
        "                          layers.Dense(64, activation=\"relu\"),\n",
        "                          layers.Dense(np.prod(D6_SHAPE), activation=\"tanh\"),\n",
        "                          layers.Reshape(D6_SHAPE),\n",
        "                          D6Convert(),\n",
        "])\n",
        "model.summary()\n",
        "# possible new optimizer: keras.optimizers.SGD(learning_rate=0.007, momentum=0.1)\n",
        "model.compile(optimizer=\"sgd\", loss=\"mean_squared_error\", metrics=[\"accuracy\"])"
      ],
      "execution_count": 82,
      "outputs": [
        {
          "output_type": "stream",
          "name": "stdout",
          "text": [
            "Model: \"sequential_12\"\n",
            "_________________________________________________________________\n",
            " Layer (type)                Output Shape              Param #   \n",
            "=================================================================\n",
            " conv2d_24 (Conv2D)          (None, 48, 48, 32)        320       \n",
            "                                                                 \n",
            " max_pooling2d_24 (MaxPoolin  (None, 24, 24, 32)       0         \n",
            " g2D)                                                            \n",
            "                                                                 \n",
            " conv2d_25 (Conv2D)          (None, 22, 22, 32)        9248      \n",
            "                                                                 \n",
            " max_pooling2d_25 (MaxPoolin  (None, 11, 11, 32)       0         \n",
            " g2D)                                                            \n",
            "                                                                 \n",
            " flatten_12 (Flatten)        (None, 3872)              0         \n",
            "                                                                 \n",
            " dense_72 (Dense)            (None, 64)                247872    \n",
            "                                                                 \n",
            " dense_73 (Dense)            (None, 128)               8320      \n",
            "                                                                 \n",
            " dense_74 (Dense)            (None, 256)               33024     \n",
            "                                                                 \n",
            " dense_75 (Dense)            (None, 128)               32896     \n",
            "                                                                 \n",
            " dense_76 (Dense)            (None, 64)                8256      \n",
            "                                                                 \n",
            " dense_77 (Dense)            (None, 6)                 390       \n",
            "                                                                 \n",
            " reshape_12 (Reshape)        (None, 3, 2)              0         \n",
            "                                                                 \n",
            " d6_convert_12 (D6Convert)   (None, 3, 3)              0         \n",
            "                                                                 \n",
            "=================================================================\n",
            "Total params: 340,326\n",
            "Trainable params: 340,326\n",
            "Non-trainable params: 0\n",
            "_________________________________________________________________\n"
          ]
        }
      ]
    },
    {
      "cell_type": "markdown",
      "metadata": {
        "id": "H_8k1tdWhmG_"
      },
      "source": [
        "# Train Model"
      ]
    },
    {
      "cell_type": "code",
      "metadata": {
        "colab": {
          "base_uri": "https://localhost:8080/"
        },
        "id": "O1Ic9SjfgAkH",
        "outputId": "12172e4a-f496-4beb-a34f-f7fe759f0c40"
      },
      "source": [
        "from matplotlib import gridspec\n",
        "\n",
        "history = model.fit(\n",
        "    x_data,\n",
        "    y_data,\n",
        "    batch_size,\n",
        "    epochs,\n",
        "    validation_data=(x_test, y_test),\n",
        "    steps_per_epoch=int(np.ceil(x_data.shape[0]/batch_size)),\n",
        "    shuffle=True,\n",
        ")"
      ],
      "execution_count": 83,
      "outputs": [
        {
          "output_type": "stream",
          "name": "stdout",
          "text": [
            "Epoch 1/100\n",
            "72/72 [==============================] - 4s 42ms/step - loss: 0.5419 - accuracy: 0.2089 - val_loss: 0.5504 - val_accuracy: 0.4095\n",
            "Epoch 2/100\n",
            "72/72 [==============================] - 3s 40ms/step - loss: 0.5098 - accuracy: 0.4968 - val_loss: 0.5353 - val_accuracy: 0.6000\n",
            "Epoch 3/100\n",
            "72/72 [==============================] - 3s 40ms/step - loss: 0.4985 - accuracy: 0.5506 - val_loss: 0.5067 - val_accuracy: 0.5619\n",
            "Epoch 4/100\n",
            "72/72 [==============================] - 3s 40ms/step - loss: 0.4738 - accuracy: 0.5697 - val_loss: 0.5257 - val_accuracy: 0.6000\n",
            "Epoch 5/100\n",
            "72/72 [==============================] - 3s 39ms/step - loss: 0.4672 - accuracy: 0.5521 - val_loss: 0.4769 - val_accuracy: 0.5714\n",
            "Epoch 6/100\n",
            "72/72 [==============================] - 3s 39ms/step - loss: 0.4561 - accuracy: 0.5590 - val_loss: 0.4772 - val_accuracy: 0.5619\n",
            "Epoch 7/100\n",
            "72/72 [==============================] - 3s 40ms/step - loss: 0.4458 - accuracy: 0.5735 - val_loss: 0.4684 - val_accuracy: 0.5714\n",
            "Epoch 8/100\n",
            "72/72 [==============================] - 3s 39ms/step - loss: 0.4438 - accuracy: 0.5637 - val_loss: 0.4771 - val_accuracy: 0.5619\n",
            "Epoch 9/100\n",
            "72/72 [==============================] - 3s 39ms/step - loss: 0.4435 - accuracy: 0.5680 - val_loss: 0.4697 - val_accuracy: 0.6381\n",
            "Epoch 10/100\n",
            "72/72 [==============================] - 3s 40ms/step - loss: 0.4413 - accuracy: 0.5804 - val_loss: 0.4644 - val_accuracy: 0.5714\n",
            "Epoch 11/100\n",
            "72/72 [==============================] - 3s 39ms/step - loss: 0.4477 - accuracy: 0.5645 - val_loss: 0.4670 - val_accuracy: 0.6476\n",
            "Epoch 12/100\n",
            "72/72 [==============================] - 3s 39ms/step - loss: 0.4461 - accuracy: 0.5654 - val_loss: 0.4624 - val_accuracy: 0.5619\n",
            "Epoch 13/100\n",
            "72/72 [==============================] - 3s 39ms/step - loss: 0.4432 - accuracy: 0.5738 - val_loss: 0.4610 - val_accuracy: 0.5619\n",
            "Epoch 14/100\n",
            "72/72 [==============================] - 3s 40ms/step - loss: 0.4384 - accuracy: 0.5784 - val_loss: 0.4570 - val_accuracy: 0.5714\n",
            "Epoch 15/100\n",
            "72/72 [==============================] - 3s 40ms/step - loss: 0.4383 - accuracy: 0.5738 - val_loss: 0.4617 - val_accuracy: 0.5905\n",
            "Epoch 16/100\n",
            "72/72 [==============================] - 3s 40ms/step - loss: 0.4341 - accuracy: 0.5804 - val_loss: 0.4506 - val_accuracy: 0.5714\n",
            "Epoch 17/100\n",
            "72/72 [==============================] - 3s 39ms/step - loss: 0.4287 - accuracy: 0.5929 - val_loss: 0.4470 - val_accuracy: 0.6286\n",
            "Epoch 18/100\n",
            "72/72 [==============================] - 3s 39ms/step - loss: 0.4248 - accuracy: 0.5828 - val_loss: 0.4485 - val_accuracy: 0.5619\n",
            "Epoch 19/100\n",
            "72/72 [==============================] - 3s 40ms/step - loss: 0.4161 - accuracy: 0.5914 - val_loss: 0.4718 - val_accuracy: 0.6000\n",
            "Epoch 20/100\n",
            "72/72 [==============================] - 3s 39ms/step - loss: 0.4030 - accuracy: 0.5966 - val_loss: 0.4104 - val_accuracy: 0.5905\n",
            "Epoch 21/100\n",
            "72/72 [==============================] - 3s 39ms/step - loss: 0.3794 - accuracy: 0.6079 - val_loss: 0.3406 - val_accuracy: 0.7048\n",
            "Epoch 22/100\n",
            "72/72 [==============================] - 3s 39ms/step - loss: 0.3465 - accuracy: 0.6345 - val_loss: 0.3057 - val_accuracy: 0.8095\n",
            "Epoch 23/100\n",
            "72/72 [==============================] - 3s 40ms/step - loss: 0.3169 - accuracy: 0.6398 - val_loss: 0.2894 - val_accuracy: 0.7714\n",
            "Epoch 24/100\n",
            "72/72 [==============================] - 3s 40ms/step - loss: 0.3795 - accuracy: 0.6236 - val_loss: 0.4532 - val_accuracy: 0.5714\n",
            "Epoch 25/100\n",
            "72/72 [==============================] - 3s 40ms/step - loss: 0.3856 - accuracy: 0.6195 - val_loss: 0.2425 - val_accuracy: 0.8000\n",
            "Epoch 26/100\n",
            "72/72 [==============================] - 3s 40ms/step - loss: 0.2791 - accuracy: 0.6806 - val_loss: 0.2330 - val_accuracy: 0.8190\n",
            "Epoch 27/100\n",
            "72/72 [==============================] - 3s 40ms/step - loss: 0.2854 - accuracy: 0.6800 - val_loss: 0.4408 - val_accuracy: 0.7429\n",
            "Epoch 28/100\n",
            "72/72 [==============================] - 3s 39ms/step - loss: 0.2820 - accuracy: 0.6832 - val_loss: 0.2074 - val_accuracy: 0.7333\n",
            "Epoch 29/100\n",
            "72/72 [==============================] - 3s 40ms/step - loss: 0.2212 - accuracy: 0.7176 - val_loss: 0.1383 - val_accuracy: 0.7810\n",
            "Epoch 30/100\n",
            "72/72 [==============================] - 3s 39ms/step - loss: 0.1585 - accuracy: 0.7700 - val_loss: 0.0423 - val_accuracy: 0.9143\n",
            "Epoch 31/100\n",
            "72/72 [==============================] - 3s 40ms/step - loss: 0.1092 - accuracy: 0.8333 - val_loss: 0.1183 - val_accuracy: 0.7810\n",
            "Epoch 32/100\n",
            "72/72 [==============================] - 3s 40ms/step - loss: 0.0774 - accuracy: 0.8605 - val_loss: 0.0434 - val_accuracy: 0.9048\n",
            "Epoch 33/100\n",
            "72/72 [==============================] - 3s 39ms/step - loss: 0.0712 - accuracy: 0.8718 - val_loss: 0.0265 - val_accuracy: 0.9429\n",
            "Epoch 34/100\n",
            "72/72 [==============================] - 3s 39ms/step - loss: 0.0398 - accuracy: 0.9083 - val_loss: 0.0394 - val_accuracy: 0.8476\n",
            "Epoch 35/100\n",
            "72/72 [==============================] - 3s 39ms/step - loss: 0.0321 - accuracy: 0.9094 - val_loss: 0.0079 - val_accuracy: 0.9714\n",
            "Epoch 36/100\n",
            "72/72 [==============================] - 3s 39ms/step - loss: 0.0230 - accuracy: 0.9326 - val_loss: 0.0043 - val_accuracy: 0.9619\n",
            "Epoch 37/100\n",
            "72/72 [==============================] - 3s 39ms/step - loss: 0.0231 - accuracy: 0.9303 - val_loss: 0.0110 - val_accuracy: 0.9714\n",
            "Epoch 38/100\n",
            "72/72 [==============================] - 3s 40ms/step - loss: 0.0182 - accuracy: 0.9372 - val_loss: 0.0340 - val_accuracy: 0.9048\n",
            "Epoch 39/100\n",
            "72/72 [==============================] - 3s 40ms/step - loss: 0.0202 - accuracy: 0.9389 - val_loss: 0.0098 - val_accuracy: 0.9810\n",
            "Epoch 40/100\n",
            "72/72 [==============================] - 3s 40ms/step - loss: 0.0134 - accuracy: 0.9453 - val_loss: 0.0110 - val_accuracy: 0.9619\n",
            "Epoch 41/100\n",
            "72/72 [==============================] - 3s 40ms/step - loss: 0.0110 - accuracy: 0.9456 - val_loss: 0.0161 - val_accuracy: 0.9810\n",
            "Epoch 42/100\n",
            "72/72 [==============================] - 3s 40ms/step - loss: 0.0144 - accuracy: 0.9436 - val_loss: 0.0023 - val_accuracy: 0.9810\n",
            "Epoch 43/100\n",
            "72/72 [==============================] - 3s 40ms/step - loss: 0.0095 - accuracy: 0.9575 - val_loss: 0.0025 - val_accuracy: 0.9905\n",
            "Epoch 44/100\n",
            "72/72 [==============================] - 3s 41ms/step - loss: 0.0080 - accuracy: 0.9560 - val_loss: 0.0132 - val_accuracy: 0.9524\n",
            "Epoch 45/100\n",
            "72/72 [==============================] - 3s 41ms/step - loss: 0.0062 - accuracy: 0.9676 - val_loss: 0.0043 - val_accuracy: 0.9714\n",
            "Epoch 46/100\n",
            "72/72 [==============================] - 3s 40ms/step - loss: 0.0045 - accuracy: 0.9705 - val_loss: 0.0013 - val_accuracy: 0.9810\n",
            "Epoch 47/100\n",
            "72/72 [==============================] - 3s 40ms/step - loss: 0.0045 - accuracy: 0.9716 - val_loss: 0.0020 - val_accuracy: 0.9810\n",
            "Epoch 48/100\n",
            "72/72 [==============================] - 3s 41ms/step - loss: 0.0044 - accuracy: 0.9641 - val_loss: 0.0022 - val_accuracy: 0.9810\n",
            "Epoch 49/100\n",
            "72/72 [==============================] - 3s 41ms/step - loss: 0.0059 - accuracy: 0.9656 - val_loss: 7.0163e-04 - val_accuracy: 1.0000\n",
            "Epoch 50/100\n",
            "72/72 [==============================] - 3s 41ms/step - loss: 0.0028 - accuracy: 0.9711 - val_loss: 0.0080 - val_accuracy: 0.9619\n",
            "Epoch 51/100\n",
            "72/72 [==============================] - 3s 41ms/step - loss: 0.0036 - accuracy: 0.9676 - val_loss: 0.0066 - val_accuracy: 0.9810\n",
            "Epoch 52/100\n",
            "72/72 [==============================] - 3s 42ms/step - loss: 0.0042 - accuracy: 0.9664 - val_loss: 0.0014 - val_accuracy: 1.0000\n",
            "Epoch 53/100\n",
            "72/72 [==============================] - 3s 41ms/step - loss: 0.0041 - accuracy: 0.9670 - val_loss: 0.0022 - val_accuracy: 0.9905\n",
            "Epoch 54/100\n",
            "72/72 [==============================] - 3s 40ms/step - loss: 0.0042 - accuracy: 0.9656 - val_loss: 6.3133e-04 - val_accuracy: 1.0000\n",
            "Epoch 55/100\n",
            "72/72 [==============================] - 3s 40ms/step - loss: 0.0029 - accuracy: 0.9737 - val_loss: 0.0018 - val_accuracy: 1.0000\n",
            "Epoch 56/100\n",
            "72/72 [==============================] - 3s 39ms/step - loss: 0.0041 - accuracy: 0.9627 - val_loss: 0.0015 - val_accuracy: 0.9810\n",
            "Epoch 57/100\n",
            "72/72 [==============================] - 3s 39ms/step - loss: 0.0027 - accuracy: 0.9737 - val_loss: 0.0011 - val_accuracy: 1.0000\n",
            "Epoch 58/100\n",
            "72/72 [==============================] - 3s 40ms/step - loss: 0.0031 - accuracy: 0.9725 - val_loss: 6.0923e-04 - val_accuracy: 1.0000\n",
            "Epoch 59/100\n",
            "72/72 [==============================] - 3s 40ms/step - loss: 0.0058 - accuracy: 0.9693 - val_loss: 0.0012 - val_accuracy: 1.0000\n",
            "Epoch 60/100\n",
            "72/72 [==============================] - 3s 40ms/step - loss: 0.0037 - accuracy: 0.9676 - val_loss: 0.0017 - val_accuracy: 0.9810\n",
            "Epoch 61/100\n",
            "72/72 [==============================] - 3s 40ms/step - loss: 0.0029 - accuracy: 0.9722 - val_loss: 0.0076 - val_accuracy: 0.9619\n",
            "Epoch 62/100\n",
            "72/72 [==============================] - 3s 40ms/step - loss: 0.0023 - accuracy: 0.9760 - val_loss: 8.9770e-04 - val_accuracy: 1.0000\n",
            "Epoch 63/100\n",
            "72/72 [==============================] - 3s 40ms/step - loss: 0.0020 - accuracy: 0.9789 - val_loss: 0.0026 - val_accuracy: 0.9714\n",
            "Epoch 64/100\n",
            "72/72 [==============================] - 3s 39ms/step - loss: 0.0018 - accuracy: 0.9797 - val_loss: 9.0128e-04 - val_accuracy: 1.0000\n",
            "Epoch 65/100\n",
            "72/72 [==============================] - 3s 41ms/step - loss: 0.0019 - accuracy: 0.9740 - val_loss: 4.0739e-04 - val_accuracy: 0.9905\n",
            "Epoch 66/100\n",
            "72/72 [==============================] - 3s 40ms/step - loss: 0.0023 - accuracy: 0.9754 - val_loss: 7.6882e-04 - val_accuracy: 0.9905\n",
            "Epoch 67/100\n",
            "72/72 [==============================] - 3s 39ms/step - loss: 0.0016 - accuracy: 0.9766 - val_loss: 0.0030 - val_accuracy: 0.9714\n",
            "Epoch 68/100\n",
            "72/72 [==============================] - 3s 40ms/step - loss: 0.0015 - accuracy: 0.9797 - val_loss: 0.0013 - val_accuracy: 1.0000\n",
            "Epoch 69/100\n",
            "72/72 [==============================] - 3s 40ms/step - loss: 0.0022 - accuracy: 0.9751 - val_loss: 0.0018 - val_accuracy: 0.9714\n",
            "Epoch 70/100\n",
            "72/72 [==============================] - 3s 39ms/step - loss: 0.0015 - accuracy: 0.9803 - val_loss: 3.1607e-04 - val_accuracy: 1.0000\n",
            "Epoch 71/100\n",
            "72/72 [==============================] - 3s 40ms/step - loss: 0.0025 - accuracy: 0.9751 - val_loss: 8.8943e-04 - val_accuracy: 1.0000\n",
            "Epoch 72/100\n",
            "72/72 [==============================] - 3s 40ms/step - loss: 0.0014 - accuracy: 0.9780 - val_loss: 3.4170e-04 - val_accuracy: 1.0000\n",
            "Epoch 73/100\n",
            "72/72 [==============================] - 3s 40ms/step - loss: 0.0014 - accuracy: 0.9777 - val_loss: 0.0012 - val_accuracy: 0.9810\n",
            "Epoch 74/100\n",
            "72/72 [==============================] - 3s 39ms/step - loss: 0.0013 - accuracy: 0.9809 - val_loss: 8.8080e-04 - val_accuracy: 1.0000\n",
            "Epoch 75/100\n",
            "72/72 [==============================] - 3s 40ms/step - loss: 0.0012 - accuracy: 0.9812 - val_loss: 1.7836e-04 - val_accuracy: 0.9905\n",
            "Epoch 76/100\n",
            "72/72 [==============================] - 3s 40ms/step - loss: 0.0017 - accuracy: 0.9777 - val_loss: 4.6456e-04 - val_accuracy: 1.0000\n",
            "Epoch 77/100\n",
            "72/72 [==============================] - 3s 40ms/step - loss: 0.0012 - accuracy: 0.9821 - val_loss: 7.2753e-04 - val_accuracy: 1.0000\n",
            "Epoch 78/100\n",
            "72/72 [==============================] - 3s 40ms/step - loss: 0.0010 - accuracy: 0.9818 - val_loss: 3.7136e-04 - val_accuracy: 1.0000\n",
            "Epoch 79/100\n",
            "72/72 [==============================] - 3s 40ms/step - loss: 0.0011 - accuracy: 0.9823 - val_loss: 2.1850e-04 - val_accuracy: 1.0000\n",
            "Epoch 80/100\n",
            "72/72 [==============================] - 3s 40ms/step - loss: 0.0011 - accuracy: 0.9818 - val_loss: 1.9689e-04 - val_accuracy: 1.0000\n",
            "Epoch 81/100\n",
            "72/72 [==============================] - 3s 40ms/step - loss: 0.0010 - accuracy: 0.9838 - val_loss: 8.2745e-04 - val_accuracy: 1.0000\n",
            "Epoch 82/100\n",
            "72/72 [==============================] - 3s 40ms/step - loss: 0.0012 - accuracy: 0.9821 - val_loss: 0.0021 - val_accuracy: 0.9810\n",
            "Epoch 83/100\n",
            "72/72 [==============================] - 3s 40ms/step - loss: 0.0011 - accuracy: 0.9818 - val_loss: 4.0543e-04 - val_accuracy: 1.0000\n",
            "Epoch 84/100\n",
            "72/72 [==============================] - 3s 40ms/step - loss: 7.1304e-04 - accuracy: 0.9826 - val_loss: 3.6863e-04 - val_accuracy: 1.0000\n",
            "Epoch 85/100\n",
            "72/72 [==============================] - 3s 40ms/step - loss: 8.8006e-04 - accuracy: 0.9821 - val_loss: 1.8922e-04 - val_accuracy: 1.0000\n",
            "Epoch 86/100\n",
            "72/72 [==============================] - 3s 40ms/step - loss: 8.8143e-04 - accuracy: 0.9855 - val_loss: 6.5097e-04 - val_accuracy: 0.9905\n",
            "Epoch 87/100\n",
            "72/72 [==============================] - 3s 40ms/step - loss: 8.4102e-04 - accuracy: 0.9826 - val_loss: 2.0624e-04 - val_accuracy: 1.0000\n",
            "Epoch 88/100\n",
            "72/72 [==============================] - 3s 40ms/step - loss: 6.0247e-04 - accuracy: 0.9826 - val_loss: 5.7851e-04 - val_accuracy: 1.0000\n",
            "Epoch 89/100\n",
            "72/72 [==============================] - 3s 40ms/step - loss: 8.0475e-04 - accuracy: 0.9861 - val_loss: 3.8303e-04 - val_accuracy: 1.0000\n",
            "Epoch 90/100\n",
            "72/72 [==============================] - 3s 40ms/step - loss: 0.0012 - accuracy: 0.9838 - val_loss: 5.1556e-04 - val_accuracy: 1.0000\n",
            "Epoch 91/100\n",
            "72/72 [==============================] - 3s 40ms/step - loss: 6.9849e-04 - accuracy: 0.9850 - val_loss: 1.5972e-04 - val_accuracy: 1.0000\n",
            "Epoch 92/100\n",
            "72/72 [==============================] - 3s 40ms/step - loss: 8.1169e-04 - accuracy: 0.9826 - val_loss: 6.8987e-04 - val_accuracy: 0.9905\n",
            "Epoch 93/100\n",
            "72/72 [==============================] - 3s 40ms/step - loss: 9.2278e-04 - accuracy: 0.9809 - val_loss: 0.0012 - val_accuracy: 0.9810\n",
            "Epoch 94/100\n",
            "72/72 [==============================] - 3s 40ms/step - loss: 9.5484e-04 - accuracy: 0.9795 - val_loss: 3.1985e-04 - val_accuracy: 1.0000\n",
            "Epoch 95/100\n",
            "72/72 [==============================] - 3s 40ms/step - loss: 0.0010 - accuracy: 0.9806 - val_loss: 4.4066e-04 - val_accuracy: 0.9905\n",
            "Epoch 96/100\n",
            "72/72 [==============================] - 3s 40ms/step - loss: 9.5236e-04 - accuracy: 0.9832 - val_loss: 4.2425e-04 - val_accuracy: 0.9905\n",
            "Epoch 97/100\n",
            "72/72 [==============================] - 3s 40ms/step - loss: 6.8118e-04 - accuracy: 0.9823 - val_loss: 8.2592e-04 - val_accuracy: 0.9810\n",
            "Epoch 98/100\n",
            "72/72 [==============================] - 3s 40ms/step - loss: 0.0010 - accuracy: 0.9826 - val_loss: 3.6328e-04 - val_accuracy: 0.9905\n",
            "Epoch 99/100\n",
            "72/72 [==============================] - 3s 40ms/step - loss: 7.0950e-04 - accuracy: 0.9826 - val_loss: 4.6304e-04 - val_accuracy: 0.9905\n",
            "Epoch 100/100\n",
            "72/72 [==============================] - 3s 41ms/step - loss: 7.8678e-04 - accuracy: 0.9823 - val_loss: 3.5249e-04 - val_accuracy: 1.0000\n"
          ]
        }
      ]
    },
    {
      "cell_type": "code",
      "metadata": {
        "colab": {
          "base_uri": "https://localhost:8080/",
          "height": 295
        },
        "id": "fccAQ8XDnIWn",
        "outputId": "4fbb02a8-d4a0-4e1e-f69e-d3e4b4a071c8"
      },
      "source": [
        "plt.figure(figsize=(plt.rcParams['figure.figsize'][0]*2, plt.rcParams['figure.figsize'][1]))\n",
        "gs = gridspec.GridSpec(1, 2)\n",
        "ax = plt.subplot(gs[0])\n",
        "ax.plot([i for i in range(1, len(history.history[\"loss\"])+1)], history.history[\"loss\"], \"+-\", label=\"training\")\n",
        "ax.plot([i for i in range(1, len(history.history[\"val_loss\"])+1)], history.history[\"val_loss\"], \"+-\", label=\"validation\")\n",
        "ax.legend()\n",
        "ax.set_xlabel(\"Epoch number\")\n",
        "ax.set_ylabel(\"Loss\")\n",
        "ax.set_title(\"Loss against Epoch\")\n",
        "\n",
        "ax = plt.subplot(gs[1])\n",
        "ax.plot([i for i in range(1, len(history.history[\"accuracy\"])+1)], history.history[\"accuracy\"], \"+-\", label=\"training\")\n",
        "ax.plot([i for i in range(1, len(history.history[\"val_accuracy\"])+1)], history.history[\"val_accuracy\"], \"+-\", label=\"validation\")\n",
        "ax.set_xlabel(\"Epoch number\")\n",
        "ax.set_ylabel(\"Accuracy\")\n",
        "ax.set_title(\"Accuracy against Epoch\")\n",
        "\n",
        "plt.show()"
      ],
      "execution_count": 84,
      "outputs": [
        {
          "output_type": "display_data",
          "data": {
            "image/png": "[encoded data removed]",
            "text/plain": [
              "<Figure size 864x288 with 2 Axes>"
            ]
          },
          "metadata": {
            "needs_background": "light"
          }
        }
      ]
    },
    {
      "cell_type": "markdown",
      "metadata": {
        "id": "Nu3H-hZOpC1b"
      },
      "source": [
        "# Test Model"
      ]
    },
    {
      "cell_type": "code",
      "metadata": {
        "colab": {
          "base_uri": "https://localhost:8080/"
        },
        "id": "dEV4TkXHhrhD",
        "outputId": "17b866a6-21ec-4a06-e660-3790e89b67c5"
      },
      "source": [
        "score = model.evaluate(x_test, y_test, verbose=0)\n",
        "print(\"Test loss:\", score[0])\n",
        "print(\"Test accuracy:\", score[1])"
      ],
      "execution_count": 85,
      "outputs": [
        {
          "output_type": "stream",
          "name": "stdout",
          "text": [
            "Test loss: 0.0012149122776463628\n",
            "Test accuracy: 1.0\n"
          ]
        }
      ]
    },
    {
      "cell_type": "code",
      "metadata": {
        "colab": {
          "base_uri": "https://localhost:8080/"
        },
        "id": "Zm7bvpLMpH3o",
        "outputId": "8d79c33a-f2ef-47f8-fc18-d87a229218a2"
      },
      "source": [
        "i = 6\n",
        "print(\"True SO(3):\\n\", y_test[i].astype(\"float32\"), end=\"\\n\\n\", sep=\"\")\n",
        "prediction = model.predict(x_test[i].reshape((1,)+x_test[i].shape))[0]\n",
        "print(\"SO(3) Prediction:\\n\", prediction, sep=\"\")\n",
        "print(\"Distance: {:.2f} degrees\".format(SO3_distance(y_test[i], prediction)))"
      ],
      "execution_count": 86,
      "outputs": [
        {
          "output_type": "stream",
          "name": "stdout",
          "text": [
            "True SO(3):\n",
            "[[-0.7074769  -0.70673645  0.        ]\n",
            " [ 0.70673645 -0.7074769   0.        ]\n",
            " [ 0.          0.          1.        ]]\n",
            "\n",
            "SO(3) Prediction:\n",
            "[[-0.7122433  -0.7018503  -0.01075176]\n",
            " [ 0.7019282  -0.7122097  -0.00735331]\n",
            " [-0.00249659 -0.01278431  0.9999151 ]]\n",
            "Distance: 0.84 degrees\n"
          ]
        }
      ]
    },
    {
      "cell_type": "markdown",
      "metadata": {
        "id": "Jgwz-oDEyK9r"
      },
      "source": [
        "# Analyse Results"
      ]
    },
    {
      "cell_type": "code",
      "metadata": {
        "id": "fb1vUpDHpsYe",
        "colab": {
          "base_uri": "https://localhost:8080/",
          "height": 311,
          "referenced_widgets": [
            "54c8769b122f4e7eb6b980a82514d3d4",
            "764d457fda3d42ecaa772776a7c4ff5f",
            "de8e80fef49248dbb91cb656188894a7",
            "97cc0d310b17471eb495c8fc5ff06899",
            "63c3475b36574a8782bfa5b0a9580952",
            "0c7e2501a25e425f9b83bd8421486246",
            "8be3ade5bb9d4e5ab1aad6020f33313d",
            "4a510a13fc3041d9abc5a4e571b47acc",
            "8513b9ec5f1c4a9daae3b20d36945681",
            "604286da265840f2b102f816086aae43",
            "71d2ac6ca4ec4fb0ba69832a4a65d6a4"
          ]
        },
        "outputId": "8730ecb8-ef5b-4e05-9714-a22ca3d010e1"
      },
      "source": [
        "distances = np.zeros(x_test.shape[0])\n",
        "for i in tqdm(range(x_test.shape[0])):\n",
        "  prediction = model.predict(x_test[i].reshape((1,)+x_test[i].shape))[0]\n",
        "  distances[i] = SO3_distance(y_test[i], prediction)\n",
        "\n",
        "plt.hist(distances, bins=15)\n",
        "plt.xlabel(\"Absolute Error from True Orientation (degrees)\")\n",
        "plt.ylabel(\"Frequency Density\")\n",
        "plt.show()"
      ],
      "execution_count": 87,
      "outputs": [
        {
          "output_type": "display_data",
          "data": {
            "application/vnd.jupyter.widget-view+json": {
              "model_id": "54c8769b122f4e7eb6b980a82514d3d4",
              "version_minor": 0,
              "version_major": 2
            },
            "text/plain": [
              "  0%|          | 0/35 [00:00<?, ?it/s]"
            ]
          },
          "metadata": {}
        },
        {
          "output_type": "display_data",
          "data": {
            "image/png": "[encoded data removed]",
            "text/plain": [
              "<Figure size 432x288 with 1 Axes>"
            ]
          },
          "metadata": {
            "needs_background": "light"
          }
        }
      ]
    },
    {
      "cell_type": "code",
      "metadata": {
        "id": "Ive1PbGc7X5c",
        "colab": {
          "base_uri": "https://localhost:8080/"
        },
        "outputId": "50fb4c19-5b50-4d08-d655-d5bc462f9a53"
      },
      "source": [
        "distance_mean = np.mean(distances)\n",
        "distance_std = np.std(distances, ddof=1)\n",
        "print(f\"Average distance from the true value is {distance_mean:.2f} +- {distance_std:.2f}\")"
      ],
      "execution_count": 88,
      "outputs": [
        {
          "output_type": "stream",
          "name": "stdout",
          "text": [
            "Average distance from the true value is 1.02 +- 0.49\n"
          ]
        }
      ]
    },
    {
      "cell_type": "code",
      "metadata": {
        "id": "pK4FSFy6flJ7"
      },
      "source": [
        ""
      ],
      "execution_count": null,
      "outputs": []
    }
  ]
}