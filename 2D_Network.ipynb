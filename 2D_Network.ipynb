{
  "nbformat": 4,
  "nbformat_minor": 0,
  "metadata": {
    "colab": {
      "name": "Untitled1.ipynb",
      "provenance": [],
      "authorship_tag": "ABX9TyNm5A+3TxhhwPu0yfNagNa+"
    },
    "kernelspec": {
      "name": "python3",
      "display_name": "Python 3"
    },
    "language_info": {
      "name": "python"
    },
    "widgets": {
      "application/vnd.jupyter.widget-state+json": {
        "b4bc6796e2474903aebc38df40ca0014": {
          "model_module": "@jupyter-widgets/controls",
          "model_name": "HBoxModel",
          "model_module_version": "1.5.0",
          "state": {
            "_view_name": "HBoxView",
            "_dom_classes": [],
            "_model_name": "HBoxModel",
            "_view_module": "@jupyter-widgets/controls",
            "_model_module_version": "1.5.0",
            "_view_count": null,
            "_view_module_version": "1.5.0",
            "box_style": "",
            "layout": "IPY_MODEL_4fb2ed2112024302936a5c6bad3cb75f",
            "_model_module": "@jupyter-widgets/controls",
            "children": [
              "IPY_MODEL_99c6059e79014e3f8788afbb01ccb728",
              "IPY_MODEL_b6de081e4525430ba5738fac9e14ee5f",
              "IPY_MODEL_e0924e3477a34de49aa5ca53bda777be"
            ]
          }
        },
        "4fb2ed2112024302936a5c6bad3cb75f": {
          "model_module": "@jupyter-widgets/base",
          "model_name": "LayoutModel",
          "model_module_version": "1.2.0",
          "state": {
            "_view_name": "LayoutView",
            "grid_template_rows": null,
            "right": null,
            "justify_content": null,
            "_view_module": "@jupyter-widgets/base",
            "overflow": null,
            "_model_module_version": "1.2.0",
            "_view_count": null,
            "flex_flow": null,
            "width": null,
            "min_width": null,
            "border": null,
            "align_items": null,
            "bottom": null,
            "_model_module": "@jupyter-widgets/base",
            "top": null,
            "grid_column": null,
            "overflow_y": null,
            "overflow_x": null,
            "grid_auto_flow": null,
            "grid_area": null,
            "grid_template_columns": null,
            "flex": null,
            "_model_name": "LayoutModel",
            "justify_items": null,
            "grid_row": null,
            "max_height": null,
            "align_content": null,
            "visibility": null,
            "align_self": null,
            "height": null,
            "min_height": null,
            "padding": null,
            "grid_auto_rows": null,
            "grid_gap": null,
            "max_width": null,
            "order": null,
            "_view_module_version": "1.2.0",
            "grid_template_areas": null,
            "object_position": null,
            "object_fit": null,
            "grid_auto_columns": null,
            "margin": null,
            "display": null,
            "left": null
          }
        },
        "99c6059e79014e3f8788afbb01ccb728": {
          "model_module": "@jupyter-widgets/controls",
          "model_name": "HTMLModel",
          "model_module_version": "1.5.0",
          "state": {
            "_view_name": "HTMLView",
            "style": "IPY_MODEL_974e1fbef81e40a5813f16353ee4a5b0",
            "_dom_classes": [],
            "description": "",
            "_model_name": "HTMLModel",
            "placeholder": "​",
            "_view_module": "@jupyter-widgets/controls",
            "_model_module_version": "1.5.0",
            "value": "100%",
            "_view_count": null,
            "_view_module_version": "1.5.0",
            "description_tooltip": null,
            "_model_module": "@jupyter-widgets/controls",
            "layout": "IPY_MODEL_a4730a37833a4af992857fc0b8cafff9"
          }
        },
        "b6de081e4525430ba5738fac9e14ee5f": {
          "model_module": "@jupyter-widgets/controls",
          "model_name": "FloatProgressModel",
          "model_module_version": "1.5.0",
          "state": {
            "_view_name": "ProgressView",
            "style": "IPY_MODEL_baf0cd6d4c17425baaa8fb79afada147",
            "_dom_classes": [],
            "description": "",
            "_model_name": "FloatProgressModel",
            "bar_style": "success",
            "max": 72,
            "_view_module": "@jupyter-widgets/controls",
            "_model_module_version": "1.5.0",
            "value": 72,
            "_view_count": null,
            "_view_module_version": "1.5.0",
            "orientation": "horizontal",
            "min": 0,
            "description_tooltip": null,
            "_model_module": "@jupyter-widgets/controls",
            "layout": "IPY_MODEL_0bb6f2df42b744be818b7adab025158a"
          }
        },
        "e0924e3477a34de49aa5ca53bda777be": {
          "model_module": "@jupyter-widgets/controls",
          "model_name": "HTMLModel",
          "model_module_version": "1.5.0",
          "state": {
            "_view_name": "HTMLView",
            "style": "IPY_MODEL_70f297fe6e4e4b1fac531c8dd3990ac8",
            "_dom_classes": [],
            "description": "",
            "_model_name": "HTMLModel",
            "placeholder": "​",
            "_view_module": "@jupyter-widgets/controls",
            "_model_module_version": "1.5.0",
            "value": " 72/72 [00:00&lt;00:00, 178.37it/s]",
            "_view_count": null,
            "_view_module_version": "1.5.0",
            "description_tooltip": null,
            "_model_module": "@jupyter-widgets/controls",
            "layout": "IPY_MODEL_cf3ff295293544a89f18ab4f5ae924eb"
          }
        },
        "974e1fbef81e40a5813f16353ee4a5b0": {
          "model_module": "@jupyter-widgets/controls",
          "model_name": "DescriptionStyleModel",
          "model_module_version": "1.5.0",
          "state": {
            "_view_name": "StyleView",
            "_model_name": "DescriptionStyleModel",
            "description_width": "",
            "_view_module": "@jupyter-widgets/base",
            "_model_module_version": "1.5.0",
            "_view_count": null,
            "_view_module_version": "1.2.0",
            "_model_module": "@jupyter-widgets/controls"
          }
        },
        "a4730a37833a4af992857fc0b8cafff9": {
          "model_module": "@jupyter-widgets/base",
          "model_name": "LayoutModel",
          "model_module_version": "1.2.0",
          "state": {
            "_view_name": "LayoutView",
            "grid_template_rows": null,
            "right": null,
            "justify_content": null,
            "_view_module": "@jupyter-widgets/base",
            "overflow": null,
            "_model_module_version": "1.2.0",
            "_view_count": null,
            "flex_flow": null,
            "width": null,
            "min_width": null,
            "border": null,
            "align_items": null,
            "bottom": null,
            "_model_module": "@jupyter-widgets/base",
            "top": null,
            "grid_column": null,
            "overflow_y": null,
            "overflow_x": null,
            "grid_auto_flow": null,
            "grid_area": null,
            "grid_template_columns": null,
            "flex": null,
            "_model_name": "LayoutModel",
            "justify_items": null,
            "grid_row": null,
            "max_height": null,
            "align_content": null,
            "visibility": null,
            "align_self": null,
            "height": null,
            "min_height": null,
            "padding": null,
            "grid_auto_rows": null,
            "grid_gap": null,
            "max_width": null,
            "order": null,
            "_view_module_version": "1.2.0",
            "grid_template_areas": null,
            "object_position": null,
            "object_fit": null,
            "grid_auto_columns": null,
            "margin": null,
            "display": null,
            "left": null
          }
        },
        "baf0cd6d4c17425baaa8fb79afada147": {
          "model_module": "@jupyter-widgets/controls",
          "model_name": "ProgressStyleModel",
          "model_module_version": "1.5.0",
          "state": {
            "_view_name": "StyleView",
            "_model_name": "ProgressStyleModel",
            "description_width": "",
            "_view_module": "@jupyter-widgets/base",
            "_model_module_version": "1.5.0",
            "_view_count": null,
            "_view_module_version": "1.2.0",
            "bar_color": null,
            "_model_module": "@jupyter-widgets/controls"
          }
        },
        "0bb6f2df42b744be818b7adab025158a": {
          "model_module": "@jupyter-widgets/base",
          "model_name": "LayoutModel",
          "model_module_version": "1.2.0",
          "state": {
            "_view_name": "LayoutView",
            "grid_template_rows": null,
            "right": null,
            "justify_content": null,
            "_view_module": "@jupyter-widgets/base",
            "overflow": null,
            "_model_module_version": "1.2.0",
            "_view_count": null,
            "flex_flow": null,
            "width": null,
            "min_width": null,
            "border": null,
            "align_items": null,
            "bottom": null,
            "_model_module": "@jupyter-widgets/base",
            "top": null,
            "grid_column": null,
            "overflow_y": null,
            "overflow_x": null,
            "grid_auto_flow": null,
            "grid_area": null,
            "grid_template_columns": null,
            "flex": null,
            "_model_name": "LayoutModel",
            "justify_items": null,
            "grid_row": null,
            "max_height": null,
            "align_content": null,
            "visibility": null,
            "align_self": null,
            "height": null,
            "min_height": null,
            "padding": null,
            "grid_auto_rows": null,
            "grid_gap": null,
            "max_width": null,
            "order": null,
            "_view_module_version": "1.2.0",
            "grid_template_areas": null,
            "object_position": null,
            "object_fit": null,
            "grid_auto_columns": null,
            "margin": null,
            "display": null,
            "left": null
          }
        },
        "70f297fe6e4e4b1fac531c8dd3990ac8": {
          "model_module": "@jupyter-widgets/controls",
          "model_name": "DescriptionStyleModel",
          "model_module_version": "1.5.0",
          "state": {
            "_view_name": "StyleView",
            "_model_name": "DescriptionStyleModel",
            "description_width": "",
            "_view_module": "@jupyter-widgets/base",
            "_model_module_version": "1.5.0",
            "_view_count": null,
            "_view_module_version": "1.2.0",
            "_model_module": "@jupyter-widgets/controls"
          }
        },
        "cf3ff295293544a89f18ab4f5ae924eb": {
          "model_module": "@jupyter-widgets/base",
          "model_name": "LayoutModel",
          "model_module_version": "1.2.0",
          "state": {
            "_view_name": "LayoutView",
            "grid_template_rows": null,
            "right": null,
            "justify_content": null,
            "_view_module": "@jupyter-widgets/base",
            "overflow": null,
            "_model_module_version": "1.2.0",
            "_view_count": null,
            "flex_flow": null,
            "width": null,
            "min_width": null,
            "border": null,
            "align_items": null,
            "bottom": null,
            "_model_module": "@jupyter-widgets/base",
            "top": null,
            "grid_column": null,
            "overflow_y": null,
            "overflow_x": null,
            "grid_auto_flow": null,
            "grid_area": null,
            "grid_template_columns": null,
            "flex": null,
            "_model_name": "LayoutModel",
            "justify_items": null,
            "grid_row": null,
            "max_height": null,
            "align_content": null,
            "visibility": null,
            "align_self": null,
            "height": null,
            "min_height": null,
            "padding": null,
            "grid_auto_rows": null,
            "grid_gap": null,
            "max_width": null,
            "order": null,
            "_view_module_version": "1.2.0",
            "grid_template_areas": null,
            "object_position": null,
            "object_fit": null,
            "grid_auto_columns": null,
            "margin": null,
            "display": null,
            "left": null
          }
        },
        "c79972d559e14a399e49be461c80a78d": {
          "model_module": "@jupyter-widgets/controls",
          "model_name": "HBoxModel",
          "model_module_version": "1.5.0",
          "state": {
            "_view_name": "HBoxView",
            "_dom_classes": [],
            "_model_name": "HBoxModel",
            "_view_module": "@jupyter-widgets/controls",
            "_model_module_version": "1.5.0",
            "_view_count": null,
            "_view_module_version": "1.5.0",
            "box_style": "",
            "layout": "IPY_MODEL_59f3fa8a0d194c4095e808437ececb27",
            "_model_module": "@jupyter-widgets/controls",
            "children": [
              "IPY_MODEL_6fc76ac0462b400a9aa484dab3dc81de",
              "IPY_MODEL_17fc612e1a8d4f228b8f3df8b77aaa79",
              "IPY_MODEL_a4d3e92a19a74f68b87ab8bfb198e888"
            ]
          }
        },
        "59f3fa8a0d194c4095e808437ececb27": {
          "model_module": "@jupyter-widgets/base",
          "model_name": "LayoutModel",
          "model_module_version": "1.2.0",
          "state": {
            "_view_name": "LayoutView",
            "grid_template_rows": null,
            "right": null,
            "justify_content": null,
            "_view_module": "@jupyter-widgets/base",
            "overflow": null,
            "_model_module_version": "1.2.0",
            "_view_count": null,
            "flex_flow": null,
            "width": null,
            "min_width": null,
            "border": null,
            "align_items": null,
            "bottom": null,
            "_model_module": "@jupyter-widgets/base",
            "top": null,
            "grid_column": null,
            "overflow_y": null,
            "overflow_x": null,
            "grid_auto_flow": null,
            "grid_area": null,
            "grid_template_columns": null,
            "flex": null,
            "_model_name": "LayoutModel",
            "justify_items": null,
            "grid_row": null,
            "max_height": null,
            "align_content": null,
            "visibility": null,
            "align_self": null,
            "height": null,
            "min_height": null,
            "padding": null,
            "grid_auto_rows": null,
            "grid_gap": null,
            "max_width": null,
            "order": null,
            "_view_module_version": "1.2.0",
            "grid_template_areas": null,
            "object_position": null,
            "object_fit": null,
            "grid_auto_columns": null,
            "margin": null,
            "display": null,
            "left": null
          }
        },
        "6fc76ac0462b400a9aa484dab3dc81de": {
          "model_module": "@jupyter-widgets/controls",
          "model_name": "HTMLModel",
          "model_module_version": "1.5.0",
          "state": {
            "_view_name": "HTMLView",
            "style": "IPY_MODEL_9438e39fc02e40c79bcc2ed701f298a2",
            "_dom_classes": [],
            "description": "",
            "_model_name": "HTMLModel",
            "placeholder": "​",
            "_view_module": "@jupyter-widgets/controls",
            "_model_module_version": "1.5.0",
            "value": "100%",
            "_view_count": null,
            "_view_module_version": "1.5.0",
            "description_tooltip": null,
            "_model_module": "@jupyter-widgets/controls",
            "layout": "IPY_MODEL_8c4912001d7b441ebc2a13a2f22c0b90"
          }
        },
        "17fc612e1a8d4f228b8f3df8b77aaa79": {
          "model_module": "@jupyter-widgets/controls",
          "model_name": "FloatProgressModel",
          "model_module_version": "1.5.0",
          "state": {
            "_view_name": "ProgressView",
            "style": "IPY_MODEL_5726bae36fb742f2a5cc851b87dc3b3e",
            "_dom_classes": [],
            "description": "",
            "_model_name": "FloatProgressModel",
            "bar_style": "success",
            "max": 14,
            "_view_module": "@jupyter-widgets/controls",
            "_model_module_version": "1.5.0",
            "value": 14,
            "_view_count": null,
            "_view_module_version": "1.5.0",
            "orientation": "horizontal",
            "min": 0,
            "description_tooltip": null,
            "_model_module": "@jupyter-widgets/controls",
            "layout": "IPY_MODEL_42f7ceb7f47342b4b8e115acfcfd9b20"
          }
        },
        "a4d3e92a19a74f68b87ab8bfb198e888": {
          "model_module": "@jupyter-widgets/controls",
          "model_name": "HTMLModel",
          "model_module_version": "1.5.0",
          "state": {
            "_view_name": "HTMLView",
            "style": "IPY_MODEL_08c367d858ca42dfae02b058586d4478",
            "_dom_classes": [],
            "description": "",
            "_model_name": "HTMLModel",
            "placeholder": "​",
            "_view_module": "@jupyter-widgets/controls",
            "_model_module_version": "1.5.0",
            "value": " 14/14 [00:00&lt;00:00, 206.53it/s]",
            "_view_count": null,
            "_view_module_version": "1.5.0",
            "description_tooltip": null,
            "_model_module": "@jupyter-widgets/controls",
            "layout": "IPY_MODEL_de3899506e334da7959a9dc236e857c1"
          }
        },
        "9438e39fc02e40c79bcc2ed701f298a2": {
          "model_module": "@jupyter-widgets/controls",
          "model_name": "DescriptionStyleModel",
          "model_module_version": "1.5.0",
          "state": {
            "_view_name": "StyleView",
            "_model_name": "DescriptionStyleModel",
            "description_width": "",
            "_view_module": "@jupyter-widgets/base",
            "_model_module_version": "1.5.0",
            "_view_count": null,
            "_view_module_version": "1.2.0",
            "_model_module": "@jupyter-widgets/controls"
          }
        },
        "8c4912001d7b441ebc2a13a2f22c0b90": {
          "model_module": "@jupyter-widgets/base",
          "model_name": "LayoutModel",
          "model_module_version": "1.2.0",
          "state": {
            "_view_name": "LayoutView",
            "grid_template_rows": null,
            "right": null,
            "justify_content": null,
            "_view_module": "@jupyter-widgets/base",
            "overflow": null,
            "_model_module_version": "1.2.0",
            "_view_count": null,
            "flex_flow": null,
            "width": null,
            "min_width": null,
            "border": null,
            "align_items": null,
            "bottom": null,
            "_model_module": "@jupyter-widgets/base",
            "top": null,
            "grid_column": null,
            "overflow_y": null,
            "overflow_x": null,
            "grid_auto_flow": null,
            "grid_area": null,
            "grid_template_columns": null,
            "flex": null,
            "_model_name": "LayoutModel",
            "justify_items": null,
            "grid_row": null,
            "max_height": null,
            "align_content": null,
            "visibility": null,
            "align_self": null,
            "height": null,
            "min_height": null,
            "padding": null,
            "grid_auto_rows": null,
            "grid_gap": null,
            "max_width": null,
            "order": null,
            "_view_module_version": "1.2.0",
            "grid_template_areas": null,
            "object_position": null,
            "object_fit": null,
            "grid_auto_columns": null,
            "margin": null,
            "display": null,
            "left": null
          }
        },
        "5726bae36fb742f2a5cc851b87dc3b3e": {
          "model_module": "@jupyter-widgets/controls",
          "model_name": "ProgressStyleModel",
          "model_module_version": "1.5.0",
          "state": {
            "_view_name": "StyleView",
            "_model_name": "ProgressStyleModel",
            "description_width": "",
            "_view_module": "@jupyter-widgets/base",
            "_model_module_version": "1.5.0",
            "_view_count": null,
            "_view_module_version": "1.2.0",
            "bar_color": null,
            "_model_module": "@jupyter-widgets/controls"
          }
        },
        "42f7ceb7f47342b4b8e115acfcfd9b20": {
          "model_module": "@jupyter-widgets/base",
          "model_name": "LayoutModel",
          "model_module_version": "1.2.0",
          "state": {
            "_view_name": "LayoutView",
            "grid_template_rows": null,
            "right": null,
            "justify_content": null,
            "_view_module": "@jupyter-widgets/base",
            "overflow": null,
            "_model_module_version": "1.2.0",
            "_view_count": null,
            "flex_flow": null,
            "width": null,
            "min_width": null,
            "border": null,
            "align_items": null,
            "bottom": null,
            "_model_module": "@jupyter-widgets/base",
            "top": null,
            "grid_column": null,
            "overflow_y": null,
            "overflow_x": null,
            "grid_auto_flow": null,
            "grid_area": null,
            "grid_template_columns": null,
            "flex": null,
            "_model_name": "LayoutModel",
            "justify_items": null,
            "grid_row": null,
            "max_height": null,
            "align_content": null,
            "visibility": null,
            "align_self": null,
            "height": null,
            "min_height": null,
            "padding": null,
            "grid_auto_rows": null,
            "grid_gap": null,
            "max_width": null,
            "order": null,
            "_view_module_version": "1.2.0",
            "grid_template_areas": null,
            "object_position": null,
            "object_fit": null,
            "grid_auto_columns": null,
            "margin": null,
            "display": null,
            "left": null
          }
        },
        "08c367d858ca42dfae02b058586d4478": {
          "model_module": "@jupyter-widgets/controls",
          "model_name": "DescriptionStyleModel",
          "model_module_version": "1.5.0",
          "state": {
            "_view_name": "StyleView",
            "_model_name": "DescriptionStyleModel",
            "description_width": "",
            "_view_module": "@jupyter-widgets/base",
            "_model_module_version": "1.5.0",
            "_view_count": null,
            "_view_module_version": "1.2.0",
            "_model_module": "@jupyter-widgets/controls"
          }
        },
        "de3899506e334da7959a9dc236e857c1": {
          "model_module": "@jupyter-widgets/base",
          "model_name": "LayoutModel",
          "model_module_version": "1.2.0",
          "state": {
            "_view_name": "LayoutView",
            "grid_template_rows": null,
            "right": null,
            "justify_content": null,
            "_view_module": "@jupyter-widgets/base",
            "overflow": null,
            "_model_module_version": "1.2.0",
            "_view_count": null,
            "flex_flow": null,
            "width": null,
            "min_width": null,
            "border": null,
            "align_items": null,
            "bottom": null,
            "_model_module": "@jupyter-widgets/base",
            "top": null,
            "grid_column": null,
            "overflow_y": null,
            "overflow_x": null,
            "grid_auto_flow": null,
            "grid_area": null,
            "grid_template_columns": null,
            "flex": null,
            "_model_name": "LayoutModel",
            "justify_items": null,
            "grid_row": null,
            "max_height": null,
            "align_content": null,
            "visibility": null,
            "align_self": null,
            "height": null,
            "min_height": null,
            "padding": null,
            "grid_auto_rows": null,
            "grid_gap": null,
            "max_width": null,
            "order": null,
            "_view_module_version": "1.2.0",
            "grid_template_areas": null,
            "object_position": null,
            "object_fit": null,
            "grid_auto_columns": null,
            "margin": null,
            "display": null,
            "left": null
          }
        }
      }
    }
  },
  "cells": [
    {
      "cell_type": "markdown",
      "metadata": {
        "id": "8ngo-MXwj7Oy"
      },
      "source": [
        "# Install Libraries"
      ]
    },
    {
      "cell_type": "code",
      "metadata": {
        "id": "6uk8ibx2j6aK",
        "colab": {
          "base_uri": "https://localhost:8080/"
        },
        "outputId": "bc7b7f20-3dcc-41b2-c6fb-dd242b4aee67"
      },
      "source": [
        "!pip install pillow"
      ],
      "execution_count": 26,
      "outputs": [
        {
          "output_type": "stream",
          "name": "stdout",
          "text": [
            "Requirement already satisfied: pillow in /usr/local/lib/python3.7/dist-packages (7.1.2)\n"
          ]
        }
      ]
    },
    {
      "cell_type": "markdown",
      "metadata": {
        "id": "1nvQsm7qhMPy"
      },
      "source": [
        "# Download Dataset"
      ]
    },
    {
      "cell_type": "code",
      "metadata": {
        "id": "OWpZd9_4b9gm",
        "colab": {
          "base_uri": "https://localhost:8080/"
        },
        "outputId": "900389cd-88ba-44c6-98f1-1d6109199fdd"
      },
      "source": [
        "DATASET_DIR = \"scalene_triangle_0_355_step5\"\n",
        "!rm -rf \"$DATASET_DIR\"\n",
        "!curl -L https://github.com/joshbarrass/Y4ProjectNotebooks/raw/master/scalene_triangle_0_355_step5.zip > \"scalene_triangle_0_355_step5.zip\"\n",
        "!unzip -d \"$DATASET_DIR\" \"scalene_triangle_0_355_step5.zip\" > /dev/null"
      ],
      "execution_count": 27,
      "outputs": [
        {
          "output_type": "stream",
          "name": "stdout",
          "text": [
            "  % Total    % Received % Xferd  Average Speed   Time    Time     Time  Current\n",
            "                                 Dload  Upload   Total   Spent    Left  Speed\n",
            "100   170  100   170    0     0    429      0 --:--:-- --:--:-- --:--:--   429\n",
            "100  281k  100  281k    0     0   319k      0 --:--:-- --:--:-- --:--:-- 1008k\n"
          ]
        }
      ]
    },
    {
      "cell_type": "markdown",
      "metadata": {
        "id": "QM9iHDyVobZ7"
      },
      "source": [
        "# Define Helper Functions"
      ]
    },
    {
      "cell_type": "code",
      "metadata": {
        "id": "Hgf278ejobQO"
      },
      "source": [
        "def normalise(x):\n",
        "    return x / np.linalg.norm(x)\n",
        "\n",
        "def from_SO3_to_6D(SO3):\n",
        "    \"\"\"Convert an SO(3) rotation matrix to a 6D internal representation.\"\"\"\n",
        "    return SO3[:,:2]\n",
        "\n",
        "def from_6D_to_SO3(D6):\n",
        "    \"\"\"Convert a 6D internal representation to an SO(3) rotation matrix.\"\"\"\n",
        "    b1 = normalise(D6[:,0])\n",
        "    b2 = normalise(D6[:,1] - np.dot(b1, D6[:,1])*b1)\n",
        "    b3 = np.cross(b1, b2)\n",
        "    return np.array([b1, b2, b3]).T"
      ],
      "execution_count": 28,
      "outputs": []
    },
    {
      "cell_type": "markdown",
      "metadata": {
        "id": "F5wRIHdPjNIw"
      },
      "source": [
        "# Load and Pre-Process Training Data"
      ]
    },
    {
      "cell_type": "code",
      "metadata": {
        "id": "uYFiuLaEhlpB",
        "colab": {
          "base_uri": "https://localhost:8080/",
          "height": 574,
          "referenced_widgets": [
            "b4bc6796e2474903aebc38df40ca0014",
            "4fb2ed2112024302936a5c6bad3cb75f",
            "99c6059e79014e3f8788afbb01ccb728",
            "b6de081e4525430ba5738fac9e14ee5f",
            "e0924e3477a34de49aa5ca53bda777be",
            "974e1fbef81e40a5813f16353ee4a5b0",
            "a4730a37833a4af992857fc0b8cafff9",
            "baf0cd6d4c17425baaa8fb79afada147",
            "0bb6f2df42b744be818b7adab025158a",
            "70f297fe6e4e4b1fac531c8dd3990ac8",
            "cf3ff295293544a89f18ab4f5ae924eb",
            "c79972d559e14a399e49be461c80a78d",
            "59f3fa8a0d194c4095e808437ececb27",
            "6fc76ac0462b400a9aa484dab3dc81de",
            "17fc612e1a8d4f228b8f3df8b77aaa79",
            "a4d3e92a19a74f68b87ab8bfb198e888",
            "9438e39fc02e40c79bcc2ed701f298a2",
            "8c4912001d7b441ebc2a13a2f22c0b90",
            "5726bae36fb742f2a5cc851b87dc3b3e",
            "42f7ceb7f47342b4b8e115acfcfd9b20",
            "08c367d858ca42dfae02b058586d4478",
            "de3899506e334da7959a9dc236e857c1"
          ]
        },
        "outputId": "f5dd3f84-f0d9-4438-d1c8-a5fa531f03db"
      },
      "source": [
        "import os\n",
        "import random\n",
        "import numpy as np\n",
        "from scipy.spatial.transform import Rotation as R\n",
        "from PIL import Image, ImageFilter\n",
        "from tqdm.notebook import tqdm\n",
        "from matplotlib import pyplot as plt\n",
        "\n",
        "random.seed(0)\n",
        "\n",
        "D6_SHAPE = (3, 2)\n",
        "RESIZE_SHAPE = (50, 50)\n",
        "\n",
        "GAUSS_RADIUS = 1\n",
        "image_filter = ImageFilter.GaussianBlur(radius=GAUSS_RADIUS)\n",
        "\n",
        "image_files = os.listdir(DATASET_DIR)\n",
        "total_images = len(image_files)\n",
        "print(f\"Dataset contains {total_images} images\")\n",
        "if total_images == 0:\n",
        "  raise ValueError(\"dataset has no images\")\n",
        "\n",
        "# image_shape = Image.open(os.path.join(DATASET_DIR, image_files[0])).size\n",
        "image_shape = RESIZE_SHAPE + (1,)\n",
        "print(f\"Image shape is {image_shape}\")\n",
        "x_data = np.zeros((total_images,) + image_shape, dtype=\"float32\")\n",
        "y_data = np.zeros((total_images,) + D6_SHAPE, dtype=\"float32\")\n",
        "print(f\"x will have shape {x_data.shape}\")\n",
        "print(f\"y will have shape {y_data.shape}\")\n",
        "print(\"Processing image files...\")\n",
        "for i, imf in tqdm(enumerate(image_files), total=total_images):\n",
        "  im = Image.open(os.path.join(DATASET_DIR, imf)).convert(\"L\")\n",
        "  im = im.resize(RESIZE_SHAPE)\n",
        "  im = im.filter(image_filter)\n",
        "  x_data[i,:,:] = np.array(im).reshape(image_shape)/255\n",
        "  angle = float(os.path.splitext(imf)[0])\n",
        "  y_data[i,:,:] = from_SO3_to_6D(R.from_euler(\"zyx\", (angle, 0, 0), True).as_matrix())\n",
        "\n",
        "# take 20% of the images as test data\n",
        "total_test_images = int(0.2*total_images)\n",
        "x_test = np.zeros((total_test_images,) + image_shape)\n",
        "y_test = np.zeros((total_test_images,) + D6_SHAPE)\n",
        "print(\"Selecting test data...\")\n",
        "for i in tqdm(range(total_test_images)):\n",
        "  r = random.randrange(x_data.shape[0])\n",
        "  x_test[i] = x_data[r]\n",
        "  x_data = np.delete(x_data, r, 0)\n",
        "  y_test[i] = y_data[r]\n",
        "  y_data = np.delete(y_data, r, 0)\n",
        "print(f\"x_data has shape {x_data.shape}\")\n",
        "print(f\"y_data has shape {y_data.shape}\")\n",
        "print(f\"x_test has shape {x_test.shape}\")\n",
        "print(f\"y_test has shape {y_test.shape}\")\n",
        "\n",
        "print(f\"x_data values range from {np.min(x_data)} to {np.max(x_data)}\")\n",
        "\n",
        "plt.imshow(x_data[0,:,:].reshape(RESIZE_SHAPE))\n",
        "print(y_data[0,:,:])"
      ],
      "execution_count": 186,
      "outputs": [
        {
          "output_type": "stream",
          "name": "stdout",
          "text": [
            "Dataset contains 72 images\n",
            "Image shape is (50, 50, 1)\n",
            "x will have shape (72, 50, 50, 1)\n",
            "y will have shape (72, 3, 2)\n",
            "Processing image files...\n"
          ]
        },
        {
          "output_type": "display_data",
          "data": {
            "application/vnd.jupyter.widget-view+json": {
              "model_id": "b4bc6796e2474903aebc38df40ca0014",
              "version_minor": 0,
              "version_major": 2
            },
            "text/plain": [
              "  0%|          | 0/72 [00:00<?, ?it/s]"
            ]
          },
          "metadata": {}
        },
        {
          "output_type": "stream",
          "name": "stdout",
          "text": [
            "Selecting test data...\n"
          ]
        },
        {
          "output_type": "display_data",
          "data": {
            "application/vnd.jupyter.widget-view+json": {
              "model_id": "c79972d559e14a399e49be461c80a78d",
              "version_minor": 0,
              "version_major": 2
            },
            "text/plain": [
              "  0%|          | 0/14 [00:00<?, ?it/s]"
            ]
          },
          "metadata": {}
        },
        {
          "output_type": "stream",
          "name": "stdout",
          "text": [
            "x_data has shape (58, 50, 50, 1)\n",
            "y_data has shape (58, 3, 2)\n",
            "x_test has shape (14, 50, 50, 1)\n",
            "y_test has shape (14, 3, 2)\n",
            "x_data values range from 0.0 to 0.8509804010391235\n",
            "[[-0.25881904 -0.9659258 ]\n",
            " [ 0.9659258  -0.25881904]\n",
            " [ 0.          0.        ]]\n"
          ]
        },
        {
          "output_type": "display_data",
          "data": {
            "image/png": "[encoded data removed]",
            "text/plain": [
              "<Figure size 432x288 with 1 Axes>"
            ]
          },
          "metadata": {
            "needs_background": "light"
          }
        }
      ]
    },
    {
      "cell_type": "markdown",
      "metadata": {
        "id": "xXnHpEUMYlSc"
      },
      "source": [
        "# Construct Network"
      ]
    },
    {
      "cell_type": "code",
      "metadata": {
        "id": "Vat7z3grkag2",
        "colab": {
          "base_uri": "https://localhost:8080/"
        },
        "outputId": "d62078f1-6ec3-4980-df5b-b344c0bc161b"
      },
      "source": [
        "from tensorflow import keras\n",
        "from tensorflow.keras import layers\n",
        "\n",
        "batch_size = 5\n",
        "epochs = 60\n",
        "\n",
        "model = keras.Sequential([\n",
        "                          layers.InputLayer(input_shape=image_shape),\n",
        "                          layers.Conv2D(filters=32, kernel_size=3, activation=\"relu\"),\n",
        "                          layers.MaxPool2D(pool_size=2, strides=2),\n",
        "                          layers.Conv2D(filters=32, kernel_size=3, activation=\"relu\"),\n",
        "                          layers.MaxPool2D(pool_size=2, strides=2),\n",
        "                          layers.Flatten(),\n",
        "                          layers.Dense(64, activation=\"relu\"),\n",
        "                          layers.Dense(128, activation=\"relu\"),\n",
        "                          layers.Dense(64, activation=\"relu\"),\n",
        "                          layers.Dense(np.prod(D6_SHAPE), activation=\"tanh\"),\n",
        "                          layers.Reshape(D6_SHAPE),\n",
        "])\n",
        "model.summary()\n",
        "model.compile(optimizer=\"sgd\", loss=\"mean_squared_error\", metrics=[\"accuracy\"])"
      ],
      "execution_count": 187,
      "outputs": [
        {
          "output_type": "stream",
          "name": "stdout",
          "text": [
            "Model: \"sequential_54\"\n",
            "_________________________________________________________________\n",
            "Layer (type)                 Output Shape              Param #   \n",
            "=================================================================\n",
            "conv2d_59 (Conv2D)           (None, 48, 48, 32)        320       \n",
            "_________________________________________________________________\n",
            "max_pooling2d_54 (MaxPooling (None, 24, 24, 32)        0         \n",
            "_________________________________________________________________\n",
            "conv2d_60 (Conv2D)           (None, 22, 22, 32)        9248      \n",
            "_________________________________________________________________\n",
            "max_pooling2d_55 (MaxPooling (None, 11, 11, 32)        0         \n",
            "_________________________________________________________________\n",
            "flatten_54 (Flatten)         (None, 3872)              0         \n",
            "_________________________________________________________________\n",
            "dense_136 (Dense)            (None, 64)                247872    \n",
            "_________________________________________________________________\n",
            "dense_137 (Dense)            (None, 128)               8320      \n",
            "_________________________________________________________________\n",
            "dense_138 (Dense)            (None, 64)                8256      \n",
            "_________________________________________________________________\n",
            "dense_139 (Dense)            (None, 6)                 390       \n",
            "_________________________________________________________________\n",
            "reshape_51 (Reshape)         (None, 3, 2)              0         \n",
            "=================================================================\n",
            "Total params: 274,406\n",
            "Trainable params: 274,406\n",
            "Non-trainable params: 0\n",
            "_________________________________________________________________\n"
          ]
        }
      ]
    },
    {
      "cell_type": "markdown",
      "metadata": {
        "id": "H_8k1tdWhmG_"
      },
      "source": [
        "# Train Model"
      ]
    },
    {
      "cell_type": "code",
      "metadata": {
        "colab": {
          "base_uri": "https://localhost:8080/",
          "height": 1000
        },
        "id": "O1Ic9SjfgAkH",
        "outputId": "98eea7fd-3d92-4929-ef0c-7bf982f74828"
      },
      "source": [
        "history = model.fit(\n",
        "    x_data,\n",
        "    y_data,\n",
        "    batch_size,\n",
        "    epochs,\n",
        ")\n",
        "plt.plot([i for i in range(1, len(history.history[\"loss\"])+1)], history.history[\"loss\"], \"+-\")\n",
        "plt.xlabel(\"Epoch number\")\n",
        "plt.ylabel(\"Loss\")\n",
        "plt.title(\"Loss against Epoch\")\n",
        "plt.show()"
      ],
      "execution_count": 188,
      "outputs": [
        {
          "output_type": "stream",
          "name": "stdout",
          "text": [
            "Epoch 1/60\n",
            "12/12 [==============================] - 1s 17ms/step - loss: 0.3400 - accuracy: 0.6552\n",
            "Epoch 2/60\n",
            "12/12 [==============================] - 0s 19ms/step - loss: 0.3308 - accuracy: 0.6437\n",
            "Epoch 3/60\n",
            "12/12 [==============================] - 0s 17ms/step - loss: 0.3255 - accuracy: 0.6897\n",
            "Epoch 4/60\n",
            "12/12 [==============================] - 0s 18ms/step - loss: 0.3221 - accuracy: 0.6034\n",
            "Epoch 5/60\n",
            "12/12 [==============================] - 0s 18ms/step - loss: 0.3191 - accuracy: 0.6609\n",
            "Epoch 6/60\n",
            "12/12 [==============================] - 0s 17ms/step - loss: 0.3158 - accuracy: 0.6437\n",
            "Epoch 7/60\n",
            "12/12 [==============================] - 0s 17ms/step - loss: 0.3129 - accuracy: 0.5862\n",
            "Epoch 8/60\n",
            "12/12 [==============================] - 0s 17ms/step - loss: 0.3084 - accuracy: 0.6724\n",
            "Epoch 9/60\n",
            "12/12 [==============================] - 0s 18ms/step - loss: 0.3058 - accuracy: 0.6264\n",
            "Epoch 10/60\n",
            "12/12 [==============================] - 0s 17ms/step - loss: 0.3023 - accuracy: 0.6092\n",
            "Epoch 11/60\n",
            "12/12 [==============================] - 0s 17ms/step - loss: 0.3006 - accuracy: 0.6552\n",
            "Epoch 12/60\n",
            "12/12 [==============================] - 0s 17ms/step - loss: 0.2924 - accuracy: 0.6954\n",
            "Epoch 13/60\n",
            "12/12 [==============================] - 0s 17ms/step - loss: 0.2888 - accuracy: 0.6667\n",
            "Epoch 14/60\n",
            "12/12 [==============================] - 0s 18ms/step - loss: 0.2848 - accuracy: 0.5747\n",
            "Epoch 15/60\n",
            "12/12 [==============================] - 0s 17ms/step - loss: 0.2745 - accuracy: 0.6954\n",
            "Epoch 16/60\n",
            "12/12 [==============================] - 0s 18ms/step - loss: 0.2698 - accuracy: 0.6954\n",
            "Epoch 17/60\n",
            "12/12 [==============================] - 0s 17ms/step - loss: 0.2596 - accuracy: 0.6954\n",
            "Epoch 18/60\n",
            "12/12 [==============================] - 0s 17ms/step - loss: 0.2526 - accuracy: 0.7471\n",
            "Epoch 19/60\n",
            "12/12 [==============================] - 0s 18ms/step - loss: 0.2422 - accuracy: 0.6954\n",
            "Epoch 20/60\n",
            "12/12 [==============================] - 0s 17ms/step - loss: 0.2294 - accuracy: 0.6724\n",
            "Epoch 21/60\n",
            "12/12 [==============================] - 0s 16ms/step - loss: 0.2240 - accuracy: 0.6897\n",
            "Epoch 22/60\n",
            "12/12 [==============================] - 0s 17ms/step - loss: 0.2130 - accuracy: 0.7011\n",
            "Epoch 23/60\n",
            "12/12 [==============================] - 0s 16ms/step - loss: 0.1966 - accuracy: 0.6839\n",
            "Epoch 24/60\n",
            "12/12 [==============================] - 0s 18ms/step - loss: 0.1869 - accuracy: 0.7184\n",
            "Epoch 25/60\n",
            "12/12 [==============================] - 0s 17ms/step - loss: 0.1665 - accuracy: 0.7586\n",
            "Epoch 26/60\n",
            "12/12 [==============================] - 0s 17ms/step - loss: 0.1523 - accuracy: 0.7241\n",
            "Epoch 27/60\n",
            "12/12 [==============================] - 0s 18ms/step - loss: 0.1521 - accuracy: 0.7184\n",
            "Epoch 28/60\n",
            "12/12 [==============================] - 0s 17ms/step - loss: 0.1283 - accuracy: 0.7759\n",
            "Epoch 29/60\n",
            "12/12 [==============================] - 0s 17ms/step - loss: 0.1384 - accuracy: 0.7184\n",
            "Epoch 30/60\n",
            "12/12 [==============================] - 0s 17ms/step - loss: 0.1104 - accuracy: 0.7644\n",
            "Epoch 31/60\n",
            "12/12 [==============================] - 0s 16ms/step - loss: 0.1142 - accuracy: 0.7414\n",
            "Epoch 32/60\n",
            "12/12 [==============================] - 0s 18ms/step - loss: 0.0831 - accuracy: 0.7759\n",
            "Epoch 33/60\n",
            "12/12 [==============================] - 0s 17ms/step - loss: 0.0794 - accuracy: 0.7701\n",
            "Epoch 34/60\n",
            "12/12 [==============================] - 0s 17ms/step - loss: 0.0678 - accuracy: 0.7759\n",
            "Epoch 35/60\n",
            "12/12 [==============================] - 0s 17ms/step - loss: 0.0627 - accuracy: 0.8333\n",
            "Epoch 36/60\n",
            "12/12 [==============================] - 0s 18ms/step - loss: 0.0586 - accuracy: 0.8103\n",
            "Epoch 37/60\n",
            "12/12 [==============================] - 0s 17ms/step - loss: 0.0455 - accuracy: 0.8218\n",
            "Epoch 38/60\n",
            "12/12 [==============================] - 0s 18ms/step - loss: 0.0650 - accuracy: 0.7701\n",
            "Epoch 39/60\n",
            "12/12 [==============================] - 0s 18ms/step - loss: 0.0343 - accuracy: 0.7931\n",
            "Epoch 40/60\n",
            "12/12 [==============================] - 0s 17ms/step - loss: 0.0311 - accuracy: 0.8218\n",
            "Epoch 41/60\n",
            "12/12 [==============================] - 0s 17ms/step - loss: 0.0320 - accuracy: 0.8218\n",
            "Epoch 42/60\n",
            "12/12 [==============================] - 0s 17ms/step - loss: 0.0222 - accuracy: 0.8218\n",
            "Epoch 43/60\n",
            "12/12 [==============================] - 0s 18ms/step - loss: 0.0181 - accuracy: 0.8276\n",
            "Epoch 44/60\n",
            "12/12 [==============================] - 0s 16ms/step - loss: 0.0163 - accuracy: 0.8103\n",
            "Epoch 45/60\n",
            "12/12 [==============================] - 0s 17ms/step - loss: 0.0143 - accuracy: 0.8103\n",
            "Epoch 46/60\n",
            "12/12 [==============================] - 0s 16ms/step - loss: 0.0112 - accuracy: 0.8218\n",
            "Epoch 47/60\n",
            "12/12 [==============================] - 0s 18ms/step - loss: 0.0096 - accuracy: 0.8103\n",
            "Epoch 48/60\n",
            "12/12 [==============================] - 0s 18ms/step - loss: 0.0096 - accuracy: 0.8218\n",
            "Epoch 49/60\n",
            "12/12 [==============================] - 0s 17ms/step - loss: 0.0086 - accuracy: 0.8046\n",
            "Epoch 50/60\n",
            "12/12 [==============================] - 0s 17ms/step - loss: 0.0089 - accuracy: 0.8218\n",
            "Epoch 51/60\n",
            "12/12 [==============================] - 0s 18ms/step - loss: 0.0078 - accuracy: 0.8276\n",
            "Epoch 52/60\n",
            "12/12 [==============================] - 0s 17ms/step - loss: 0.0081 - accuracy: 0.7989\n",
            "Epoch 53/60\n",
            "12/12 [==============================] - 0s 17ms/step - loss: 0.0052 - accuracy: 0.8161\n",
            "Epoch 54/60\n",
            "12/12 [==============================] - 0s 16ms/step - loss: 0.0043 - accuracy: 0.8391\n",
            "Epoch 55/60\n",
            "12/12 [==============================] - 0s 17ms/step - loss: 0.0059 - accuracy: 0.8046\n",
            "Epoch 56/60\n",
            "12/12 [==============================] - 0s 17ms/step - loss: 0.0044 - accuracy: 0.8448\n",
            "Epoch 57/60\n",
            "12/12 [==============================] - 0s 17ms/step - loss: 0.0035 - accuracy: 0.8218\n",
            "Epoch 58/60\n",
            "12/12 [==============================] - 0s 17ms/step - loss: 0.0447 - accuracy: 0.7644\n",
            "Epoch 59/60\n",
            "12/12 [==============================] - 0s 17ms/step - loss: 0.0054 - accuracy: 0.7989\n",
            "Epoch 60/60\n",
            "12/12 [==============================] - 0s 17ms/step - loss: 0.0038 - accuracy: 0.8161\n"
          ]
        },
        {
          "output_type": "display_data",
          "data": {
            "image/png": "[encoded data removed]",
            "text/plain": [
              "<Figure size 432x288 with 1 Axes>"
            ]
          },
          "metadata": {
            "needs_background": "light"
          }
        }
      ]
    },
    {
      "cell_type": "markdown",
      "metadata": {
        "id": "Nu3H-hZOpC1b"
      },
      "source": [
        "# Test Model"
      ]
    },
    {
      "cell_type": "code",
      "metadata": {
        "colab": {
          "base_uri": "https://localhost:8080/"
        },
        "id": "dEV4TkXHhrhD",
        "outputId": "bf3b6b36-a3c7-4bee-b9bb-f01e2a4e3a40"
      },
      "source": [
        "score = model.evaluate(x_test, y_test, verbose=0)\n",
        "print(\"Test loss:\", score[0])\n",
        "print(\"Test accuracy:\", score[1])"
      ],
      "execution_count": 189,
      "outputs": [
        {
          "output_type": "stream",
          "name": "stdout",
          "text": [
            "Test loss: 0.00371945439837873\n",
            "Test accuracy: 0.8571428656578064\n"
          ]
        }
      ]
    },
    {
      "cell_type": "code",
      "metadata": {
        "colab": {
          "base_uri": "https://localhost:8080/"
        },
        "id": "Zm7bvpLMpH3o",
        "outputId": "c5df9009-e626-4f57-80cb-a20030492d35"
      },
      "source": [
        "i = 1\n",
        "print(\"True SO(3):\\n\", from_6D_to_SO3(y_test[i].astype(\"float32\")), end=\"\\n\\n\", sep=\"\")\n",
        "print(\"True 6D:\\n\", y_test[i].astype(\"float32\"), end=\"\\n\\n\", sep=\"\")\n",
        "prediction = model.predict(x_test[i].reshape((1,)+x_test[i].shape))[0]\n",
        "print(\"6D Prediction:\\n\", prediction, end=\"\\n\\n\", sep=\"\")\n",
        "print(\"SO(3) Prediction:\\n\", from_6D_to_SO3(prediction), sep=\"\")"
      ],
      "execution_count": 191,
      "outputs": [
        {
          "output_type": "stream",
          "name": "stdout",
          "text": [
            "True SO(3):\n",
            "[[-0.64278764 -0.76604444  0.        ]\n",
            " [ 0.76604444 -0.64278764  0.        ]\n",
            " [ 0.          0.          1.        ]]\n",
            "\n",
            "True 6D:\n",
            "[[-0.64278764 -0.76604444]\n",
            " [ 0.76604444 -0.64278764]\n",
            " [ 0.          0.        ]]\n",
            "\n",
            "6D Prediction:\n",
            "[[-0.63678575 -0.73580945]\n",
            " [ 0.7329963  -0.6973072 ]\n",
            " [-0.0187593   0.04538656]]\n",
            "\n",
            "SO(3) Prediction:\n",
            "[[-0.655703   -0.7547404   0.02050471]\n",
            " [ 0.7547717  -0.65455186  0.04337648]\n",
            " [-0.01931659  0.04391846  0.9988483 ]]\n"
          ]
        }
      ]
    },
    {
      "cell_type": "code",
      "metadata": {
        "id": "fb1vUpDHpsYe"
      },
      "source": [
        ""
      ],
      "execution_count": null,
      "outputs": []
    }
  ]
}