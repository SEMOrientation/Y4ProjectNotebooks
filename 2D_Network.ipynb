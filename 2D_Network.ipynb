{
  "nbformat": 4,
  "nbformat_minor": 0,
  "metadata": {
    "colab": {
      "name": "Untitled1.ipynb",
      "provenance": [],
      "authorship_tag": "ABX9TyNyyY3Zi/T/W9sT7XRGVwtX"
    },
    "kernelspec": {
      "name": "python3",
      "display_name": "Python 3"
    },
    "language_info": {
      "name": "python"
    },
    "widgets": {
      "application/vnd.jupyter.widget-state+json": {
        "5d047f641c294c1e93cfcfee1781aef7": {
          "model_module": "@jupyter-widgets/controls",
          "model_name": "HBoxModel",
          "model_module_version": "1.5.0",
          "state": {
            "_view_name": "HBoxView",
            "_dom_classes": [],
            "_model_name": "HBoxModel",
            "_view_module": "@jupyter-widgets/controls",
            "_model_module_version": "1.5.0",
            "_view_count": null,
            "_view_module_version": "1.5.0",
            "box_style": "",
            "layout": "IPY_MODEL_b7a513fcba944941a03a073bcd39a4ed",
            "_model_module": "@jupyter-widgets/controls",
            "children": [
              "IPY_MODEL_c07e1fbc1fa944dcaa1c6bcdd53601be",
              "IPY_MODEL_6ad6b2da24d14318b9d6cb6fb8ec55ad",
              "IPY_MODEL_28efa6d5daeb4a4185999f8e39e25027"
            ]
          }
        },
        "b7a513fcba944941a03a073bcd39a4ed": {
          "model_module": "@jupyter-widgets/base",
          "model_name": "LayoutModel",
          "model_module_version": "1.2.0",
          "state": {
            "_view_name": "LayoutView",
            "grid_template_rows": null,
            "right": null,
            "justify_content": null,
            "_view_module": "@jupyter-widgets/base",
            "overflow": null,
            "_model_module_version": "1.2.0",
            "_view_count": null,
            "flex_flow": null,
            "width": null,
            "min_width": null,
            "border": null,
            "align_items": null,
            "bottom": null,
            "_model_module": "@jupyter-widgets/base",
            "top": null,
            "grid_column": null,
            "overflow_y": null,
            "overflow_x": null,
            "grid_auto_flow": null,
            "grid_area": null,
            "grid_template_columns": null,
            "flex": null,
            "_model_name": "LayoutModel",
            "justify_items": null,
            "grid_row": null,
            "max_height": null,
            "align_content": null,
            "visibility": null,
            "align_self": null,
            "height": null,
            "min_height": null,
            "padding": null,
            "grid_auto_rows": null,
            "grid_gap": null,
            "max_width": null,
            "order": null,
            "_view_module_version": "1.2.0",
            "grid_template_areas": null,
            "object_position": null,
            "object_fit": null,
            "grid_auto_columns": null,
            "margin": null,
            "display": null,
            "left": null
          }
        },
        "c07e1fbc1fa944dcaa1c6bcdd53601be": {
          "model_module": "@jupyter-widgets/controls",
          "model_name": "HTMLModel",
          "model_module_version": "1.5.0",
          "state": {
            "_view_name": "HTMLView",
            "style": "IPY_MODEL_51f7723a3c64489da921effd6f7f4ed0",
            "_dom_classes": [],
            "description": "",
            "_model_name": "HTMLModel",
            "placeholder": "​",
            "_view_module": "@jupyter-widgets/controls",
            "_model_module_version": "1.5.0",
            "value": "100%",
            "_view_count": null,
            "_view_module_version": "1.5.0",
            "description_tooltip": null,
            "_model_module": "@jupyter-widgets/controls",
            "layout": "IPY_MODEL_652d0378e69541e5a9dae2de1fd9d99f"
          }
        },
        "6ad6b2da24d14318b9d6cb6fb8ec55ad": {
          "model_module": "@jupyter-widgets/controls",
          "model_name": "FloatProgressModel",
          "model_module_version": "1.5.0",
          "state": {
            "_view_name": "ProgressView",
            "style": "IPY_MODEL_bbe5b5dcd5d145a6870e173059bc9bf6",
            "_dom_classes": [],
            "description": "",
            "_model_name": "FloatProgressModel",
            "bar_style": "success",
            "max": 360,
            "_view_module": "@jupyter-widgets/controls",
            "_model_module_version": "1.5.0",
            "value": 360,
            "_view_count": null,
            "_view_module_version": "1.5.0",
            "orientation": "horizontal",
            "min": 0,
            "description_tooltip": null,
            "_model_module": "@jupyter-widgets/controls",
            "layout": "IPY_MODEL_97e6a5712a514201a6326a3c624e7143"
          }
        },
        "28efa6d5daeb4a4185999f8e39e25027": {
          "model_module": "@jupyter-widgets/controls",
          "model_name": "HTMLModel",
          "model_module_version": "1.5.0",
          "state": {
            "_view_name": "HTMLView",
            "style": "IPY_MODEL_52dfdbf99f4949648203e0ae0b4e9088",
            "_dom_classes": [],
            "description": "",
            "_model_name": "HTMLModel",
            "placeholder": "​",
            "_view_module": "@jupyter-widgets/controls",
            "_model_module_version": "1.5.0",
            "value": " 360/360 [00:07&lt;00:00, 87.68it/s]",
            "_view_count": null,
            "_view_module_version": "1.5.0",
            "description_tooltip": null,
            "_model_module": "@jupyter-widgets/controls",
            "layout": "IPY_MODEL_25d02eba2c5a4395a936de3b866214ea"
          }
        },
        "51f7723a3c64489da921effd6f7f4ed0": {
          "model_module": "@jupyter-widgets/controls",
          "model_name": "DescriptionStyleModel",
          "model_module_version": "1.5.0",
          "state": {
            "_view_name": "StyleView",
            "_model_name": "DescriptionStyleModel",
            "description_width": "",
            "_view_module": "@jupyter-widgets/base",
            "_model_module_version": "1.5.0",
            "_view_count": null,
            "_view_module_version": "1.2.0",
            "_model_module": "@jupyter-widgets/controls"
          }
        },
        "652d0378e69541e5a9dae2de1fd9d99f": {
          "model_module": "@jupyter-widgets/base",
          "model_name": "LayoutModel",
          "model_module_version": "1.2.0",
          "state": {
            "_view_name": "LayoutView",
            "grid_template_rows": null,
            "right": null,
            "justify_content": null,
            "_view_module": "@jupyter-widgets/base",
            "overflow": null,
            "_model_module_version": "1.2.0",
            "_view_count": null,
            "flex_flow": null,
            "width": null,
            "min_width": null,
            "border": null,
            "align_items": null,
            "bottom": null,
            "_model_module": "@jupyter-widgets/base",
            "top": null,
            "grid_column": null,
            "overflow_y": null,
            "overflow_x": null,
            "grid_auto_flow": null,
            "grid_area": null,
            "grid_template_columns": null,
            "flex": null,
            "_model_name": "LayoutModel",
            "justify_items": null,
            "grid_row": null,
            "max_height": null,
            "align_content": null,
            "visibility": null,
            "align_self": null,
            "height": null,
            "min_height": null,
            "padding": null,
            "grid_auto_rows": null,
            "grid_gap": null,
            "max_width": null,
            "order": null,
            "_view_module_version": "1.2.0",
            "grid_template_areas": null,
            "object_position": null,
            "object_fit": null,
            "grid_auto_columns": null,
            "margin": null,
            "display": null,
            "left": null
          }
        },
        "bbe5b5dcd5d145a6870e173059bc9bf6": {
          "model_module": "@jupyter-widgets/controls",
          "model_name": "ProgressStyleModel",
          "model_module_version": "1.5.0",
          "state": {
            "_view_name": "StyleView",
            "_model_name": "ProgressStyleModel",
            "description_width": "",
            "_view_module": "@jupyter-widgets/base",
            "_model_module_version": "1.5.0",
            "_view_count": null,
            "_view_module_version": "1.2.0",
            "bar_color": null,
            "_model_module": "@jupyter-widgets/controls"
          }
        },
        "97e6a5712a514201a6326a3c624e7143": {
          "model_module": "@jupyter-widgets/base",
          "model_name": "LayoutModel",
          "model_module_version": "1.2.0",
          "state": {
            "_view_name": "LayoutView",
            "grid_template_rows": null,
            "right": null,
            "justify_content": null,
            "_view_module": "@jupyter-widgets/base",
            "overflow": null,
            "_model_module_version": "1.2.0",
            "_view_count": null,
            "flex_flow": null,
            "width": null,
            "min_width": null,
            "border": null,
            "align_items": null,
            "bottom": null,
            "_model_module": "@jupyter-widgets/base",
            "top": null,
            "grid_column": null,
            "overflow_y": null,
            "overflow_x": null,
            "grid_auto_flow": null,
            "grid_area": null,
            "grid_template_columns": null,
            "flex": null,
            "_model_name": "LayoutModel",
            "justify_items": null,
            "grid_row": null,
            "max_height": null,
            "align_content": null,
            "visibility": null,
            "align_self": null,
            "height": null,
            "min_height": null,
            "padding": null,
            "grid_auto_rows": null,
            "grid_gap": null,
            "max_width": null,
            "order": null,
            "_view_module_version": "1.2.0",
            "grid_template_areas": null,
            "object_position": null,
            "object_fit": null,
            "grid_auto_columns": null,
            "margin": null,
            "display": null,
            "left": null
          }
        },
        "52dfdbf99f4949648203e0ae0b4e9088": {
          "model_module": "@jupyter-widgets/controls",
          "model_name": "DescriptionStyleModel",
          "model_module_version": "1.5.0",
          "state": {
            "_view_name": "StyleView",
            "_model_name": "DescriptionStyleModel",
            "description_width": "",
            "_view_module": "@jupyter-widgets/base",
            "_model_module_version": "1.5.0",
            "_view_count": null,
            "_view_module_version": "1.2.0",
            "_model_module": "@jupyter-widgets/controls"
          }
        },
        "25d02eba2c5a4395a936de3b866214ea": {
          "model_module": "@jupyter-widgets/base",
          "model_name": "LayoutModel",
          "model_module_version": "1.2.0",
          "state": {
            "_view_name": "LayoutView",
            "grid_template_rows": null,
            "right": null,
            "justify_content": null,
            "_view_module": "@jupyter-widgets/base",
            "overflow": null,
            "_model_module_version": "1.2.0",
            "_view_count": null,
            "flex_flow": null,
            "width": null,
            "min_width": null,
            "border": null,
            "align_items": null,
            "bottom": null,
            "_model_module": "@jupyter-widgets/base",
            "top": null,
            "grid_column": null,
            "overflow_y": null,
            "overflow_x": null,
            "grid_auto_flow": null,
            "grid_area": null,
            "grid_template_columns": null,
            "flex": null,
            "_model_name": "LayoutModel",
            "justify_items": null,
            "grid_row": null,
            "max_height": null,
            "align_content": null,
            "visibility": null,
            "align_self": null,
            "height": null,
            "min_height": null,
            "padding": null,
            "grid_auto_rows": null,
            "grid_gap": null,
            "max_width": null,
            "order": null,
            "_view_module_version": "1.2.0",
            "grid_template_areas": null,
            "object_position": null,
            "object_fit": null,
            "grid_auto_columns": null,
            "margin": null,
            "display": null,
            "left": null
          }
        },
        "106f1531406544dc8b8609d6a3460d77": {
          "model_module": "@jupyter-widgets/controls",
          "model_name": "HBoxModel",
          "model_module_version": "1.5.0",
          "state": {
            "_view_name": "HBoxView",
            "_dom_classes": [],
            "_model_name": "HBoxModel",
            "_view_module": "@jupyter-widgets/controls",
            "_model_module_version": "1.5.0",
            "_view_count": null,
            "_view_module_version": "1.5.0",
            "box_style": "",
            "layout": "IPY_MODEL_baf588a5927c4bdaad13c259c8ac6540",
            "_model_module": "@jupyter-widgets/controls",
            "children": [
              "IPY_MODEL_ea29d095118047e6bb9ee072d95104c4",
              "IPY_MODEL_ccb1f91ea6e749e7904d3e109a6359b2",
              "IPY_MODEL_b73b1edd63e742c1aa03612365af3978"
            ]
          }
        },
        "baf588a5927c4bdaad13c259c8ac6540": {
          "model_module": "@jupyter-widgets/base",
          "model_name": "LayoutModel",
          "model_module_version": "1.2.0",
          "state": {
            "_view_name": "LayoutView",
            "grid_template_rows": null,
            "right": null,
            "justify_content": null,
            "_view_module": "@jupyter-widgets/base",
            "overflow": null,
            "_model_module_version": "1.2.0",
            "_view_count": null,
            "flex_flow": null,
            "width": null,
            "min_width": null,
            "border": null,
            "align_items": null,
            "bottom": null,
            "_model_module": "@jupyter-widgets/base",
            "top": null,
            "grid_column": null,
            "overflow_y": null,
            "overflow_x": null,
            "grid_auto_flow": null,
            "grid_area": null,
            "grid_template_columns": null,
            "flex": null,
            "_model_name": "LayoutModel",
            "justify_items": null,
            "grid_row": null,
            "max_height": null,
            "align_content": null,
            "visibility": null,
            "align_self": null,
            "height": null,
            "min_height": null,
            "padding": null,
            "grid_auto_rows": null,
            "grid_gap": null,
            "max_width": null,
            "order": null,
            "_view_module_version": "1.2.0",
            "grid_template_areas": null,
            "object_position": null,
            "object_fit": null,
            "grid_auto_columns": null,
            "margin": null,
            "display": null,
            "left": null
          }
        },
        "ea29d095118047e6bb9ee072d95104c4": {
          "model_module": "@jupyter-widgets/controls",
          "model_name": "HTMLModel",
          "model_module_version": "1.5.0",
          "state": {
            "_view_name": "HTMLView",
            "style": "IPY_MODEL_941dc4aaaeb04f009d0b12f44edef49d",
            "_dom_classes": [],
            "description": "",
            "_model_name": "HTMLModel",
            "placeholder": "​",
            "_view_module": "@jupyter-widgets/controls",
            "_model_module_version": "1.5.0",
            "value": "100%",
            "_view_count": null,
            "_view_module_version": "1.5.0",
            "description_tooltip": null,
            "_model_module": "@jupyter-widgets/controls",
            "layout": "IPY_MODEL_d55ce5bcc37e46a79af6fe6c9da20fbf"
          }
        },
        "ccb1f91ea6e749e7904d3e109a6359b2": {
          "model_module": "@jupyter-widgets/controls",
          "model_name": "FloatProgressModel",
          "model_module_version": "1.5.0",
          "state": {
            "_view_name": "ProgressView",
            "style": "IPY_MODEL_d2b7853d431e4117b0871ed7ad7f1634",
            "_dom_classes": [],
            "description": "",
            "_model_name": "FloatProgressModel",
            "bar_style": "success",
            "max": 4673,
            "_view_module": "@jupyter-widgets/controls",
            "_model_module_version": "1.5.0",
            "value": 4673,
            "_view_count": null,
            "_view_module_version": "1.5.0",
            "orientation": "horizontal",
            "min": 0,
            "description_tooltip": null,
            "_model_module": "@jupyter-widgets/controls",
            "layout": "IPY_MODEL_5bd9035140d146faa65d2672b1ec92e4"
          }
        },
        "b73b1edd63e742c1aa03612365af3978": {
          "model_module": "@jupyter-widgets/controls",
          "model_name": "HTMLModel",
          "model_module_version": "1.5.0",
          "state": {
            "_view_name": "HTMLView",
            "style": "IPY_MODEL_3cf051b0720f41428a2c3481db49a31b",
            "_dom_classes": [],
            "description": "",
            "_model_name": "HTMLModel",
            "placeholder": "​",
            "_view_module": "@jupyter-widgets/controls",
            "_model_module_version": "1.5.0",
            "value": " 4673/4673 [00:22&lt;00:00, 210.95it/s]",
            "_view_count": null,
            "_view_module_version": "1.5.0",
            "description_tooltip": null,
            "_model_module": "@jupyter-widgets/controls",
            "layout": "IPY_MODEL_39b5e8242de741f394e51e95e6a025fa"
          }
        },
        "941dc4aaaeb04f009d0b12f44edef49d": {
          "model_module": "@jupyter-widgets/controls",
          "model_name": "DescriptionStyleModel",
          "model_module_version": "1.5.0",
          "state": {
            "_view_name": "StyleView",
            "_model_name": "DescriptionStyleModel",
            "description_width": "",
            "_view_module": "@jupyter-widgets/base",
            "_model_module_version": "1.5.0",
            "_view_count": null,
            "_view_module_version": "1.2.0",
            "_model_module": "@jupyter-widgets/controls"
          }
        },
        "d55ce5bcc37e46a79af6fe6c9da20fbf": {
          "model_module": "@jupyter-widgets/base",
          "model_name": "LayoutModel",
          "model_module_version": "1.2.0",
          "state": {
            "_view_name": "LayoutView",
            "grid_template_rows": null,
            "right": null,
            "justify_content": null,
            "_view_module": "@jupyter-widgets/base",
            "overflow": null,
            "_model_module_version": "1.2.0",
            "_view_count": null,
            "flex_flow": null,
            "width": null,
            "min_width": null,
            "border": null,
            "align_items": null,
            "bottom": null,
            "_model_module": "@jupyter-widgets/base",
            "top": null,
            "grid_column": null,
            "overflow_y": null,
            "overflow_x": null,
            "grid_auto_flow": null,
            "grid_area": null,
            "grid_template_columns": null,
            "flex": null,
            "_model_name": "LayoutModel",
            "justify_items": null,
            "grid_row": null,
            "max_height": null,
            "align_content": null,
            "visibility": null,
            "align_self": null,
            "height": null,
            "min_height": null,
            "padding": null,
            "grid_auto_rows": null,
            "grid_gap": null,
            "max_width": null,
            "order": null,
            "_view_module_version": "1.2.0",
            "grid_template_areas": null,
            "object_position": null,
            "object_fit": null,
            "grid_auto_columns": null,
            "margin": null,
            "display": null,
            "left": null
          }
        },
        "d2b7853d431e4117b0871ed7ad7f1634": {
          "model_module": "@jupyter-widgets/controls",
          "model_name": "ProgressStyleModel",
          "model_module_version": "1.5.0",
          "state": {
            "_view_name": "StyleView",
            "_model_name": "ProgressStyleModel",
            "description_width": "",
            "_view_module": "@jupyter-widgets/base",
            "_model_module_version": "1.5.0",
            "_view_count": null,
            "_view_module_version": "1.2.0",
            "bar_color": null,
            "_model_module": "@jupyter-widgets/controls"
          }
        },
        "5bd9035140d146faa65d2672b1ec92e4": {
          "model_module": "@jupyter-widgets/base",
          "model_name": "LayoutModel",
          "model_module_version": "1.2.0",
          "state": {
            "_view_name": "LayoutView",
            "grid_template_rows": null,
            "right": null,
            "justify_content": null,
            "_view_module": "@jupyter-widgets/base",
            "overflow": null,
            "_model_module_version": "1.2.0",
            "_view_count": null,
            "flex_flow": null,
            "width": null,
            "min_width": null,
            "border": null,
            "align_items": null,
            "bottom": null,
            "_model_module": "@jupyter-widgets/base",
            "top": null,
            "grid_column": null,
            "overflow_y": null,
            "overflow_x": null,
            "grid_auto_flow": null,
            "grid_area": null,
            "grid_template_columns": null,
            "flex": null,
            "_model_name": "LayoutModel",
            "justify_items": null,
            "grid_row": null,
            "max_height": null,
            "align_content": null,
            "visibility": null,
            "align_self": null,
            "height": null,
            "min_height": null,
            "padding": null,
            "grid_auto_rows": null,
            "grid_gap": null,
            "max_width": null,
            "order": null,
            "_view_module_version": "1.2.0",
            "grid_template_areas": null,
            "object_position": null,
            "object_fit": null,
            "grid_auto_columns": null,
            "margin": null,
            "display": null,
            "left": null
          }
        },
        "3cf051b0720f41428a2c3481db49a31b": {
          "model_module": "@jupyter-widgets/controls",
          "model_name": "DescriptionStyleModel",
          "model_module_version": "1.5.0",
          "state": {
            "_view_name": "StyleView",
            "_model_name": "DescriptionStyleModel",
            "description_width": "",
            "_view_module": "@jupyter-widgets/base",
            "_model_module_version": "1.5.0",
            "_view_count": null,
            "_view_module_version": "1.2.0",
            "_model_module": "@jupyter-widgets/controls"
          }
        },
        "39b5e8242de741f394e51e95e6a025fa": {
          "model_module": "@jupyter-widgets/base",
          "model_name": "LayoutModel",
          "model_module_version": "1.2.0",
          "state": {
            "_view_name": "LayoutView",
            "grid_template_rows": null,
            "right": null,
            "justify_content": null,
            "_view_module": "@jupyter-widgets/base",
            "overflow": null,
            "_model_module_version": "1.2.0",
            "_view_count": null,
            "flex_flow": null,
            "width": null,
            "min_width": null,
            "border": null,
            "align_items": null,
            "bottom": null,
            "_model_module": "@jupyter-widgets/base",
            "top": null,
            "grid_column": null,
            "overflow_y": null,
            "overflow_x": null,
            "grid_auto_flow": null,
            "grid_area": null,
            "grid_template_columns": null,
            "flex": null,
            "_model_name": "LayoutModel",
            "justify_items": null,
            "grid_row": null,
            "max_height": null,
            "align_content": null,
            "visibility": null,
            "align_self": null,
            "height": null,
            "min_height": null,
            "padding": null,
            "grid_auto_rows": null,
            "grid_gap": null,
            "max_width": null,
            "order": null,
            "_view_module_version": "1.2.0",
            "grid_template_areas": null,
            "object_position": null,
            "object_fit": null,
            "grid_auto_columns": null,
            "margin": null,
            "display": null,
            "left": null
          }
        },
        "2f60930ddbf44ce0a4f816cac81cc327": {
          "model_module": "@jupyter-widgets/controls",
          "model_name": "HBoxModel",
          "model_module_version": "1.5.0",
          "state": {
            "_view_name": "HBoxView",
            "_dom_classes": [],
            "_model_name": "HBoxModel",
            "_view_module": "@jupyter-widgets/controls",
            "_model_module_version": "1.5.0",
            "_view_count": null,
            "_view_module_version": "1.5.0",
            "box_style": "",
            "layout": "IPY_MODEL_49dc814b05fd4d94a30a22f35ddd6ffe",
            "_model_module": "@jupyter-widgets/controls",
            "children": [
              "IPY_MODEL_866fd96022084a68931b4e3259bb52fb",
              "IPY_MODEL_6169392182214f51ac364a60a87f5be8",
              "IPY_MODEL_f236b68a906a466aa4c42266991c95ab"
            ]
          }
        },
        "49dc814b05fd4d94a30a22f35ddd6ffe": {
          "model_module": "@jupyter-widgets/base",
          "model_name": "LayoutModel",
          "model_module_version": "1.2.0",
          "state": {
            "_view_name": "LayoutView",
            "grid_template_rows": null,
            "right": null,
            "justify_content": null,
            "_view_module": "@jupyter-widgets/base",
            "overflow": null,
            "_model_module_version": "1.2.0",
            "_view_count": null,
            "flex_flow": null,
            "width": null,
            "min_width": null,
            "border": null,
            "align_items": null,
            "bottom": null,
            "_model_module": "@jupyter-widgets/base",
            "top": null,
            "grid_column": null,
            "overflow_y": null,
            "overflow_x": null,
            "grid_auto_flow": null,
            "grid_area": null,
            "grid_template_columns": null,
            "flex": null,
            "_model_name": "LayoutModel",
            "justify_items": null,
            "grid_row": null,
            "max_height": null,
            "align_content": null,
            "visibility": null,
            "align_self": null,
            "height": null,
            "min_height": null,
            "padding": null,
            "grid_auto_rows": null,
            "grid_gap": null,
            "max_width": null,
            "order": null,
            "_view_module_version": "1.2.0",
            "grid_template_areas": null,
            "object_position": null,
            "object_fit": null,
            "grid_auto_columns": null,
            "margin": null,
            "display": null,
            "left": null
          }
        },
        "866fd96022084a68931b4e3259bb52fb": {
          "model_module": "@jupyter-widgets/controls",
          "model_name": "HTMLModel",
          "model_module_version": "1.5.0",
          "state": {
            "_view_name": "HTMLView",
            "style": "IPY_MODEL_edd17ec9d9a74834bb5e6891ae26d506",
            "_dom_classes": [],
            "description": "",
            "_model_name": "HTMLModel",
            "placeholder": "​",
            "_view_module": "@jupyter-widgets/controls",
            "_model_module_version": "1.5.0",
            "value": "100%",
            "_view_count": null,
            "_view_module_version": "1.5.0",
            "description_tooltip": null,
            "_model_module": "@jupyter-widgets/controls",
            "layout": "IPY_MODEL_30230bafd8984a858e4d220aa6962b4a"
          }
        },
        "6169392182214f51ac364a60a87f5be8": {
          "model_module": "@jupyter-widgets/controls",
          "model_name": "FloatProgressModel",
          "model_module_version": "1.5.0",
          "state": {
            "_view_name": "ProgressView",
            "style": "IPY_MODEL_ba1e1f01548a4f0a907f90ea46296c7d",
            "_dom_classes": [],
            "description": "",
            "_model_name": "FloatProgressModel",
            "bar_style": "success",
            "max": 4673,
            "_view_module": "@jupyter-widgets/controls",
            "_model_module_version": "1.5.0",
            "value": 4673,
            "_view_count": null,
            "_view_module_version": "1.5.0",
            "orientation": "horizontal",
            "min": 0,
            "description_tooltip": null,
            "_model_module": "@jupyter-widgets/controls",
            "layout": "IPY_MODEL_8c5ab76dfe5345b8854172e8ce09bc39"
          }
        },
        "f236b68a906a466aa4c42266991c95ab": {
          "model_module": "@jupyter-widgets/controls",
          "model_name": "HTMLModel",
          "model_module_version": "1.5.0",
          "state": {
            "_view_name": "HTMLView",
            "style": "IPY_MODEL_12b897dedad942c8980b9e6d18153114",
            "_dom_classes": [],
            "description": "",
            "_model_name": "HTMLModel",
            "placeholder": "​",
            "_view_module": "@jupyter-widgets/controls",
            "_model_module_version": "1.5.0",
            "value": " 4673/4673 [00:01&lt;00:00, 3425.33it/s]",
            "_view_count": null,
            "_view_module_version": "1.5.0",
            "description_tooltip": null,
            "_model_module": "@jupyter-widgets/controls",
            "layout": "IPY_MODEL_080e58f4d4a8409cbf512577e100ed40"
          }
        },
        "edd17ec9d9a74834bb5e6891ae26d506": {
          "model_module": "@jupyter-widgets/controls",
          "model_name": "DescriptionStyleModel",
          "model_module_version": "1.5.0",
          "state": {
            "_view_name": "StyleView",
            "_model_name": "DescriptionStyleModel",
            "description_width": "",
            "_view_module": "@jupyter-widgets/base",
            "_model_module_version": "1.5.0",
            "_view_count": null,
            "_view_module_version": "1.2.0",
            "_model_module": "@jupyter-widgets/controls"
          }
        },
        "30230bafd8984a858e4d220aa6962b4a": {
          "model_module": "@jupyter-widgets/base",
          "model_name": "LayoutModel",
          "model_module_version": "1.2.0",
          "state": {
            "_view_name": "LayoutView",
            "grid_template_rows": null,
            "right": null,
            "justify_content": null,
            "_view_module": "@jupyter-widgets/base",
            "overflow": null,
            "_model_module_version": "1.2.0",
            "_view_count": null,
            "flex_flow": null,
            "width": null,
            "min_width": null,
            "border": null,
            "align_items": null,
            "bottom": null,
            "_model_module": "@jupyter-widgets/base",
            "top": null,
            "grid_column": null,
            "overflow_y": null,
            "overflow_x": null,
            "grid_auto_flow": null,
            "grid_area": null,
            "grid_template_columns": null,
            "flex": null,
            "_model_name": "LayoutModel",
            "justify_items": null,
            "grid_row": null,
            "max_height": null,
            "align_content": null,
            "visibility": null,
            "align_self": null,
            "height": null,
            "min_height": null,
            "padding": null,
            "grid_auto_rows": null,
            "grid_gap": null,
            "max_width": null,
            "order": null,
            "_view_module_version": "1.2.0",
            "grid_template_areas": null,
            "object_position": null,
            "object_fit": null,
            "grid_auto_columns": null,
            "margin": null,
            "display": null,
            "left": null
          }
        },
        "ba1e1f01548a4f0a907f90ea46296c7d": {
          "model_module": "@jupyter-widgets/controls",
          "model_name": "ProgressStyleModel",
          "model_module_version": "1.5.0",
          "state": {
            "_view_name": "StyleView",
            "_model_name": "ProgressStyleModel",
            "description_width": "",
            "_view_module": "@jupyter-widgets/base",
            "_model_module_version": "1.5.0",
            "_view_count": null,
            "_view_module_version": "1.2.0",
            "bar_color": null,
            "_model_module": "@jupyter-widgets/controls"
          }
        },
        "8c5ab76dfe5345b8854172e8ce09bc39": {
          "model_module": "@jupyter-widgets/base",
          "model_name": "LayoutModel",
          "model_module_version": "1.2.0",
          "state": {
            "_view_name": "LayoutView",
            "grid_template_rows": null,
            "right": null,
            "justify_content": null,
            "_view_module": "@jupyter-widgets/base",
            "overflow": null,
            "_model_module_version": "1.2.0",
            "_view_count": null,
            "flex_flow": null,
            "width": null,
            "min_width": null,
            "border": null,
            "align_items": null,
            "bottom": null,
            "_model_module": "@jupyter-widgets/base",
            "top": null,
            "grid_column": null,
            "overflow_y": null,
            "overflow_x": null,
            "grid_auto_flow": null,
            "grid_area": null,
            "grid_template_columns": null,
            "flex": null,
            "_model_name": "LayoutModel",
            "justify_items": null,
            "grid_row": null,
            "max_height": null,
            "align_content": null,
            "visibility": null,
            "align_self": null,
            "height": null,
            "min_height": null,
            "padding": null,
            "grid_auto_rows": null,
            "grid_gap": null,
            "max_width": null,
            "order": null,
            "_view_module_version": "1.2.0",
            "grid_template_areas": null,
            "object_position": null,
            "object_fit": null,
            "grid_auto_columns": null,
            "margin": null,
            "display": null,
            "left": null
          }
        },
        "12b897dedad942c8980b9e6d18153114": {
          "model_module": "@jupyter-widgets/controls",
          "model_name": "DescriptionStyleModel",
          "model_module_version": "1.5.0",
          "state": {
            "_view_name": "StyleView",
            "_model_name": "DescriptionStyleModel",
            "description_width": "",
            "_view_module": "@jupyter-widgets/base",
            "_model_module_version": "1.5.0",
            "_view_count": null,
            "_view_module_version": "1.2.0",
            "_model_module": "@jupyter-widgets/controls"
          }
        },
        "080e58f4d4a8409cbf512577e100ed40": {
          "model_module": "@jupyter-widgets/base",
          "model_name": "LayoutModel",
          "model_module_version": "1.2.0",
          "state": {
            "_view_name": "LayoutView",
            "grid_template_rows": null,
            "right": null,
            "justify_content": null,
            "_view_module": "@jupyter-widgets/base",
            "overflow": null,
            "_model_module_version": "1.2.0",
            "_view_count": null,
            "flex_flow": null,
            "width": null,
            "min_width": null,
            "border": null,
            "align_items": null,
            "bottom": null,
            "_model_module": "@jupyter-widgets/base",
            "top": null,
            "grid_column": null,
            "overflow_y": null,
            "overflow_x": null,
            "grid_auto_flow": null,
            "grid_area": null,
            "grid_template_columns": null,
            "flex": null,
            "_model_name": "LayoutModel",
            "justify_items": null,
            "grid_row": null,
            "max_height": null,
            "align_content": null,
            "visibility": null,
            "align_self": null,
            "height": null,
            "min_height": null,
            "padding": null,
            "grid_auto_rows": null,
            "grid_gap": null,
            "max_width": null,
            "order": null,
            "_view_module_version": "1.2.0",
            "grid_template_areas": null,
            "object_position": null,
            "object_fit": null,
            "grid_auto_columns": null,
            "margin": null,
            "display": null,
            "left": null
          }
        }
      }
    },
    "accelerator": "GPU"
  },
  "cells": [
    {
      "cell_type": "markdown",
      "metadata": {
        "id": "8ngo-MXwj7Oy"
      },
      "source": [
        "# Install Libraries"
      ]
    },
    {
      "cell_type": "code",
      "metadata": {
        "id": "6uk8ibx2j6aK",
        "colab": {
          "base_uri": "https://localhost:8080/"
        },
        "outputId": "1d7900fa-42a8-4c77-bbb7-bfcfae62023c"
      },
      "source": [
        "!pip install pillow"
      ],
      "execution_count": 1,
      "outputs": [
        {
          "output_type": "stream",
          "name": "stdout",
          "text": [
            "Requirement already satisfied: pillow in /usr/local/lib/python3.7/dist-packages (7.1.2)\n"
          ]
        }
      ]
    },
    {
      "cell_type": "markdown",
      "metadata": {
        "id": "1nvQsm7qhMPy"
      },
      "source": [
        "# Download Dataset"
      ]
    },
    {
      "cell_type": "code",
      "metadata": {
        "id": "OWpZd9_4b9gm",
        "colab": {
          "base_uri": "https://localhost:8080/"
        },
        "outputId": "f53779eb-46ca-4de6-9888-52fdfa46055e"
      },
      "source": [
        "DATASET_FILE = \"scalene_triangle_0_355_step5_randomdisp_5000randomtest.zip\"\n",
        "DATASET_DIR = \"scalene_triangle_0_355_step5_randomdisp_5000randomtest\"\n",
        "!rm -rf \"$DATASET_DIR\"\n",
        "!curl -L https://github.com/joshbarrass/Y4ProjectNotebooks/raw/master/$DATASET_FILE > \"$DATASET_FILE\"\n",
        "!unzip -d \"$DATASET_DIR\" \"$DATASET_FILE\" > /dev/null"
      ],
      "execution_count": 2,
      "outputs": [
        {
          "output_type": "stream",
          "name": "stdout",
          "text": [
            "  % Total    % Received % Xferd  Average Speed   Time    Time     Time  Current\n",
            "                                 Dload  Upload   Total   Spent    Left  Speed\n",
            "100   188  100   188    0     0    964      0 --:--:-- --:--:-- --:--:--   969\n",
            "100   199  100   199    0     0    718      0 --:--:-- --:--:-- --:--:--   718\n",
            "100 19.6M  100 19.6M    0     0  22.9M      0 --:--:-- --:--:-- --:--:--  144M\n"
          ]
        }
      ]
    },
    {
      "cell_type": "markdown",
      "metadata": {
        "id": "QM9iHDyVobZ7"
      },
      "source": [
        "# Define Helper Functions"
      ]
    },
    {
      "cell_type": "code",
      "metadata": {
        "id": "Hgf278ejobQO"
      },
      "source": [
        "import numpy as np\n",
        "import tensorflow as tf\n",
        "from tensorflow.keras import layers\n",
        "from scipy.spatial.transform import Rotation as R\n",
        "\n",
        "D6_SHAPE = (3, 2)\n",
        "\n",
        "def normalise(x):\n",
        "    return x / np.linalg.norm(x)\n",
        "\n",
        "def from_SO3_to_6D(SO3):\n",
        "    \"\"\"Convert an SO(3) rotation matrix to a 6D internal representation.\"\"\"\n",
        "    return SO3[:,:2]\n",
        "\n",
        "def from_6D_to_SO3(D6):\n",
        "    \"\"\"Convert a 6D internal representation to an SO(3) rotation matrix.\"\"\"\n",
        "    b1 = normalise(D6[:,0])\n",
        "    b2 = normalise(D6[:,1] - np.dot(b1, D6[:,1])*b1)\n",
        "    b3 = np.cross(b1, b2)\n",
        "    return np.array([b1, b2, b3]).T\n",
        "\n",
        "def tf_6D_to_SO3(D6):\n",
        "  \"\"\"tensorflow-compatible conversion from 6D to SO(3). Used in the D6Convert layer.\"\"\"\n",
        "  a1 = D6[:,:,0]\n",
        "  a2 = D6[:,:,1]\n",
        "  b1 = tf.math.l2_normalize(a1, axis=-1)\n",
        "  b2 = tf.math.l2_normalize(a2 - tf.reduce_sum(b1*a2)*b1, axis=-1)\n",
        "  b3 = tf.linalg.cross(b1, b2)\n",
        "  return tf.stack([b1, b2, b3], axis=2)\n",
        "\n",
        "class D6Convert(layers.Layer):\n",
        "  def call(self, inputs):\n",
        "    target_input_shape = tf.TensorShape(((None,) + D6_SHAPE))\n",
        "    if not inputs.shape.is_compatible_with(target_input_shape):\n",
        "      raise TypeError(\"inputs to D6Convert should have shape {}, not {}\".format(target_input_shape, inputs.shape))\n",
        "    return tf_6D_to_SO3(inputs)\n",
        "\n",
        "### DEPRECATED: Returns wrong value\n",
        "# def SO3_distance(M1, M2):\n",
        "#  \"\"\"Returns the distance between two SO3 matrices in degrees\"\"\"\n",
        "#  R = M1 * np.linalg.inv(M2)\n",
        "#  return np.rad2deg(np.arccos((np.trace(R)-1)/2))"
      ],
      "execution_count": 3,
      "outputs": []
    },
    {
      "cell_type": "markdown",
      "metadata": {
        "id": "-ibV1fr0oJPF"
      },
      "source": [
        "# Implement Quaternion SO(3) Distance"
      ]
    },
    {
      "cell_type": "code",
      "metadata": {
        "id": "KRnumNchoGfE"
      },
      "source": [
        "# quaternion [x, y, z, w]: w + xi + yj + zk\n",
        "# this is the format outputted by scipy\n",
        "def SO3_distance(M1, M2):\n",
        "  \"\"\"Returns the angle between two SO3 matrices in degrees.\n",
        "\n",
        "  This is done by converting the matrices to quaternions and multiplying the\n",
        "  conjugate of one with the other. The scalar part of the resulting quaternion\n",
        "  is then cos(theta/2). The expression has been simplified to calculate only the\n",
        "  scalar part.\"\"\"\n",
        "  x1, y1, z1, w1 = R.from_matrix(M1).as_quat()\n",
        "  x2, y2, z2, w2 = R.from_matrix(M2).as_quat()\n",
        "  angle = np.rad2deg(2*np.arccos(w1*w2 + x1*x2 + y1*y2 + z1*z2))\n",
        "  # maximum rotation away from a given angle is 180 degrees\n",
        "  # any further and you reduce the angle by rotating the opposite direction\n",
        "  # some edge cases produce angles > 180 degrees, so rectify these\n",
        "  if angle > 180:\n",
        "    return 360 - angle\n",
        "  return angle\n",
        "\n",
        "### TEST SO3_distance\n",
        "test_tolerance = 0.001\n",
        "for i in range(100):\n",
        "  test_angle1, test_angle2 = np.random.uniform(0, 180, 2) # max difference should be 180, as > 180 is no longer the shortest angle\n",
        "  testM1 = R.from_euler(\"zyx\", [test_angle1, 0, 0], degrees=True).as_matrix()\n",
        "  testM2 = R.from_euler(\"zyx\", [test_angle2, 0, 0], degrees=True).as_matrix()\n",
        "  test_true_angle = abs(test_angle1-test_angle2)\n",
        "  test_angle = abs(SO3_distance(testM1, testM2))\n",
        "  assert test_angle + test_tolerance > test_true_angle and test_angle - test_tolerance < test_true_angle"
      ],
      "execution_count": 43,
      "outputs": []
    },
    {
      "cell_type": "code",
      "metadata": {
        "id": "8hZ1-TLsB4ka",
        "colab": {
          "base_uri": "https://localhost:8080/"
        },
        "outputId": "34643155-0eaf-4bff-a30d-f097c00d37ca"
      },
      "source": [
        "SO31 = R.from_euler(\"zyx\",[3, 2, 1]).as_matrix()\n",
        "D61 = from_SO3_to_6D(SO31)\n",
        "SO32 = R.from_euler(\"zyx\",[0.5, 1, 1.2]).as_matrix()\n",
        "D62 = from_SO3_to_6D(SO32)\n",
        "print(\"True:\", SO31, \"\\n\", SO32, sep=\"\")\n",
        "print(\"np1:\", from_6D_to_SO3(D61))\n",
        "print(\"np2:\", from_6D_to_SO3(D62))\n",
        "print(\"tf:\", tf_6D_to_SO3(np.array([D61, D62])))"
      ],
      "execution_count": 5,
      "outputs": [
        {
          "output_type": "stream",
          "name": "stdout",
          "text": [
            "True:[[ 0.41198225  0.05872664  0.90929743]\n",
            " [-0.68124272 -0.64287284  0.35017549]\n",
            " [ 0.60512725 -0.76371834 -0.2248451 ]]\n",
            "[[ 0.47415988 -0.25903472  0.84147098]\n",
            " [ 0.86199739 -0.05800686 -0.50358287]\n",
            " [ 0.17925654  0.96412459  0.19578273]]\n",
            "np1: [[ 0.41198225  0.05872664  0.90929743]\n",
            " [-0.68124272 -0.64287284  0.35017549]\n",
            " [ 0.60512725 -0.76371834 -0.2248451 ]]\n",
            "np2: [[ 0.47415988 -0.25903472  0.84147098]\n",
            " [ 0.86199739 -0.05800686 -0.50358287]\n",
            " [ 0.17925654  0.96412459  0.19578273]]\n",
            "tf: tf.Tensor(\n",
            "[[[ 0.41198225  0.05872664  0.90929743]\n",
            "  [-0.68124272 -0.64287284  0.35017549]\n",
            "  [ 0.60512725 -0.76371834 -0.2248451 ]]\n",
            "\n",
            " [[ 0.47415988 -0.25903472  0.84147098]\n",
            "  [ 0.86199739 -0.05800686 -0.50358287]\n",
            "  [ 0.17925654  0.96412459  0.19578273]]], shape=(2, 3, 3), dtype=float64)\n"
          ]
        }
      ]
    },
    {
      "cell_type": "markdown",
      "metadata": {
        "id": "RcGH48Hp4_rS"
      },
      "source": [
        "# Create Image Centering Function"
      ]
    },
    {
      "cell_type": "code",
      "metadata": {
        "id": "bIttHkkz5ACK"
      },
      "source": [
        "import numpy as np\n",
        "from scipy import ndimage\n",
        "from PIL import Image\n",
        "def centre_image(a: np.ndarray, target_centre=(0,0)):\n",
        "  \"\"\"Centres a single-channel image using centre of mass.\n",
        "  \n",
        "  Target centre is defined such that (x=0,y=0) is the centre of the image.\n",
        "  Increasing x moves the centre to the right, increasing y moves the centre\n",
        "  down.\"\"\"\n",
        "  if len(a.shape) == 2:\n",
        "    a = a.reshape((1,) + a.shape)\n",
        "\n",
        "  # determine all centres of mass\n",
        "  # TODO: can potentially take advantage of labelling to remove \"noise islands\"\n",
        "  if len(a.shape) == 3:\n",
        "    COM = np.zeros((a.shape[0], 2))\n",
        "    for i in range(a.shape[0]):\n",
        "      COM[i] = ndimage.measurements.center_of_mass(a[i])\n",
        "  else:\n",
        "    raise TypeError(\"a should be either 2D image or an array of 2D\")\n",
        "\n",
        "  output = np.zeros(a.shape)\n",
        "\n",
        "  # translate COM to centre of image\n",
        "  for i in range(a.shape[0]):\n",
        "    im = a[i]\n",
        "    target_centre = (im.shape[0]/2 + target_centre[0],\n",
        "                     im.shape[1]/2 + target_centre[1])\n",
        "    # use affine transform with a=1, e=1, i=1, c=x, f=y to translate\n",
        "    translation = (COM[i][0] - target_centre[0], COM[i][1] - target_centre[1])\n",
        "    transform = np.array([[1, 0, translation[0]],\n",
        "                          [0, 1, translation[1]],\n",
        "                          [0, 0, 1]])\n",
        "    output[i] = ndimage.affine_transform(im, transform, order=0)\n",
        "  \n",
        "  return output\n"
      ],
      "execution_count": 6,
      "outputs": []
    },
    {
      "cell_type": "markdown",
      "metadata": {
        "id": "F5wRIHdPjNIw"
      },
      "source": [
        "# Load and Pre-Process Training Data"
      ]
    },
    {
      "cell_type": "code",
      "metadata": {
        "id": "uYFiuLaEhlpB",
        "colab": {
          "base_uri": "https://localhost:8080/",
          "height": 909,
          "referenced_widgets": [
            "5d047f641c294c1e93cfcfee1781aef7",
            "b7a513fcba944941a03a073bcd39a4ed",
            "c07e1fbc1fa944dcaa1c6bcdd53601be",
            "6ad6b2da24d14318b9d6cb6fb8ec55ad",
            "28efa6d5daeb4a4185999f8e39e25027",
            "51f7723a3c64489da921effd6f7f4ed0",
            "652d0378e69541e5a9dae2de1fd9d99f",
            "bbe5b5dcd5d145a6870e173059bc9bf6",
            "97e6a5712a514201a6326a3c624e7143",
            "52dfdbf99f4949648203e0ae0b4e9088",
            "25d02eba2c5a4395a936de3b866214ea",
            "106f1531406544dc8b8609d6a3460d77",
            "baf588a5927c4bdaad13c259c8ac6540",
            "ea29d095118047e6bb9ee072d95104c4",
            "ccb1f91ea6e749e7904d3e109a6359b2",
            "b73b1edd63e742c1aa03612365af3978",
            "941dc4aaaeb04f009d0b12f44edef49d",
            "d55ce5bcc37e46a79af6fe6c9da20fbf",
            "d2b7853d431e4117b0871ed7ad7f1634",
            "5bd9035140d146faa65d2672b1ec92e4",
            "3cf051b0720f41428a2c3481db49a31b",
            "39b5e8242de741f394e51e95e6a025fa"
          ]
        },
        "outputId": "e6036d87-1be8-42ef-d6d6-9a8527e07842"
      },
      "source": [
        "import os\n",
        "import random\n",
        "from scipy.spatial.transform import Rotation as R\n",
        "from PIL import ImageFilter\n",
        "from tqdm.notebook import tqdm\n",
        "from matplotlib import pyplot as plt\n",
        "\n",
        "def polar_to_cartesian(r, theta):\n",
        "  r = np.abs(r)\n",
        "  return r*np.cos(theta), r*np.sin(theta)\n",
        "\n",
        "random.seed(0)\n",
        "\n",
        "RESIZE_SHAPE = (32, 32) # (x, y)\n",
        "\n",
        "GAUSS_RADIUS = 1 * RESIZE_SHAPE[0]/50\n",
        "image_filter = ImageFilter.GaussianBlur(radius=GAUSS_RADIUS)\n",
        "\n",
        "# displace the centre randomly\n",
        "AUGMENT_CENTRE = True\n",
        "CENTRE_AUGMENTATIONS = 16 if AUGMENT_CENTRE else 1\n",
        "CENTRE_AUGMENTATION_SIGMA = 2 * RESIZE_SHAPE[0]/50\n",
        "\n",
        "# dataset size increase factor due to augmentations\n",
        "AUG_MULTIPLIER = 1 * CENTRE_AUGMENTATIONS\n",
        "\n",
        "image_files = os.listdir(os.path.join(DATASET_DIR, \"train\"))\n",
        "total_images = len(image_files)\n",
        "print(f\"Dataset contains {total_images} images\")\n",
        "if total_images == 0:\n",
        "  raise ValueError(\"dataset has no images\")\n",
        "\n",
        "# image_shape = Image.open(os.path.join(DATASET_DIR, image_files[0])).size\n",
        "image_shape = RESIZE_SHAPE + (1,)\n",
        "print(f\"Image shape is {image_shape}\")\n",
        "x_data = np.zeros((total_images*AUG_MULTIPLIER,) + image_shape, dtype=\"float32\")\n",
        "y_data = np.zeros((total_images*AUG_MULTIPLIER, 3, 3), dtype=\"float32\")\n",
        "print(f\"x will have shape {x_data.shape}\")\n",
        "print(f\"y will have shape {y_data.shape}\")\n",
        "print(\"Processing image files...\")\n",
        "\n",
        "def process_image(imf, augment_centre=False):\n",
        "  \"\"\"Takes a path to an image and loads it, performs pre-processing, and returns the xdata and ydata\"\"\"\n",
        "  im = Image.open(imf).convert(\"L\")\n",
        "  im = im.resize(RESIZE_SHAPE)\n",
        "  im = im.filter(image_filter) # blur early to simulate imperfect focus\n",
        "  im = np.array(im).T # gives image with correct shape for centring\n",
        "  angle = os.path.splitext(os.path.basename(imf))[0]\n",
        "  if \"_\" in angle: # multiple examples; separate out the angle from the index\n",
        "    angle = angle.split(\"_\")[1]\n",
        "  angle = float(angle)\n",
        "  assert angle >= 0 and angle < 360\n",
        "  rot_matrix = R.from_euler(\"zyx\", (angle, 0, 0), True).as_matrix()\n",
        "  \n",
        "  # return now if no augmentations needed\n",
        "  if not augment_centre: # and not ...\n",
        "    return centre_image(im).reshape(image_shape)/255., rot_matrix\n",
        "  \n",
        "  # construct larger arrays for multiple images\n",
        "  ims = np.empty((AUG_MULTIPLIER, ) + image_shape)\n",
        "  rot_matrices = np.zeros((AUG_MULTIPLIER, 3, 3), dtype=rot_matrix.dtype)\n",
        "  rot_matrices[:] = rot_matrix\n",
        "\n",
        "  if augment_centre:\n",
        "    for i in range(CENTRE_AUGMENTATIONS):\n",
        "      r = np.random.normal(loc=0, scale=CENTRE_AUGMENTATION_SIGMA)\n",
        "      #r = np.random.uniform(low=-CENTRE_AUGMENTATION_SIGMA, high=CENTRE_AUGMENTATION_SIGMA)\n",
        "      theta = np.random.uniform(low=0, high=2*np.pi)\n",
        "      ims[i] = centre_image(im, polar_to_cartesian(r, theta)).reshape(image_shape)/255.  \n",
        "  \n",
        "  return ims, rot_matrices\n",
        "\n",
        "# load training data\n",
        "for i, imf in tqdm(enumerate(image_files), total=total_images):\n",
        "  if AUG_MULTIPLIER == 1:\n",
        "    x_data[i,:,:], y_data[i,:,:] = process_image(os.path.join(DATASET_DIR, \"train\", imf))\n",
        "  else:\n",
        "    n = AUG_MULTIPLIER # alias\n",
        "    x_data[i*n:i*n+n,:,:], y_data[i*n:i*n+n,:,:] = process_image(\n",
        "        os.path.join(DATASET_DIR, \"train\", imf),\n",
        "        augment_centre=AUGMENT_CENTRE,\n",
        "    )\n",
        "\n",
        "test_image_files = os.listdir(os.path.join(DATASET_DIR, \"test\"))\n",
        "total_test_images = len(test_image_files)\n",
        "x_test = np.zeros((total_test_images,) + x_data.shape[1:])\n",
        "y_test = np.zeros((total_test_images,) + y_data.shape[1:])\n",
        "print(\"Loading test data...\")\n",
        "for i, imf in tqdm(enumerate(test_image_files), total=total_test_images):\n",
        "  x_test[i,:,:], y_test[i,:,:] = process_image(os.path.join(DATASET_DIR, \"test\", imf))\n",
        "\n",
        "print(f\"x_data has shape {x_data.shape}\")\n",
        "print(f\"y_data has shape {y_data.shape}\")\n",
        "print(f\"x_test has shape {x_test.shape}\")\n",
        "print(f\"y_test has shape {y_test.shape}\")\n",
        "\n",
        "print(f\"x_data values range from {np.min(x_data)} to {np.max(x_data)}\")\n",
        "\n",
        "im0 = x_data[0,:,:].reshape(RESIZE_SHAPE).T\n",
        "rot0 = y_data[0]\n",
        "plt.imshow(im0)\n",
        "COM = ndimage.measurements.center_of_mass(im0.T)\n",
        "plt.axvline(COM[0])\n",
        "plt.axhline(COM[1])\n",
        "print(rot0)\n",
        "print(COM)\n",
        "plt.show()\n",
        "\n",
        "im1 = x_test[1,:,:].reshape(RESIZE_SHAPE).T\n",
        "rot1 = y_test[1]\n",
        "plt.imshow(im1)\n",
        "COM = ndimage.measurements.center_of_mass(im1.T)\n",
        "plt.axvline(COM[0])\n",
        "plt.axhline(COM[1])\n",
        "print(rot1)\n",
        "print(COM)\n",
        "plt.show()\n"
      ],
      "execution_count": 27,
      "outputs": [
        {
          "output_type": "stream",
          "name": "stdout",
          "text": [
            "Dataset contains 360 images\n",
            "Image shape is (32, 32, 1)\n",
            "x will have shape (5760, 32, 32, 1)\n",
            "y will have shape (5760, 3, 3)\n",
            "Processing image files...\n"
          ]
        },
        {
          "output_type": "display_data",
          "data": {
            "application/vnd.jupyter.widget-view+json": {
              "model_id": "5d047f641c294c1e93cfcfee1781aef7",
              "version_minor": 0,
              "version_major": 2
            },
            "text/plain": [
              "  0%|          | 0/360 [00:00<?, ?it/s]"
            ]
          },
          "metadata": {}
        },
        {
          "output_type": "stream",
          "name": "stdout",
          "text": [
            "Loading test data...\n"
          ]
        },
        {
          "output_type": "display_data",
          "data": {
            "application/vnd.jupyter.widget-view+json": {
              "model_id": "106f1531406544dc8b8609d6a3460d77",
              "version_minor": 0,
              "version_major": 2
            },
            "text/plain": [
              "  0%|          | 0/4673 [00:00<?, ?it/s]"
            ]
          },
          "metadata": {}
        },
        {
          "output_type": "stream",
          "name": "stdout",
          "text": [
            "x_data has shape (5760, 32, 32, 1)\n",
            "y_data has shape (5760, 3, 3)\n",
            "x_test has shape (4673, 32, 32, 1)\n",
            "y_test has shape (4673, 3, 3)\n",
            "x_data values range from 0.0 to 1.0\n",
            "[[-0.9396926  -0.34202015  0.        ]\n",
            " [ 0.34202015 -0.9396926   0.        ]\n",
            " [ 0.          0.          1.        ]]\n",
            "(14.33214226053827, 15.236810931045653)\n"
          ]
        },
        {
          "output_type": "display_data",
          "data": {
            "image/png": "[encoded data removed]",
            "text/plain": [
              "<Figure size 432x288 with 1 Axes>"
            ]
          },
          "metadata": {
            "needs_background": "light"
          }
        },
        {
          "output_type": "stream",
          "name": "stdout",
          "text": [
            "[[-0.97584056 -0.21848389  0.        ]\n",
            " [ 0.21848389 -0.97584056  0.        ]\n",
            " [ 0.          0.          1.        ]]\n",
            "(16.35399290693408, 15.928775834658188)\n"
          ]
        },
        {
          "output_type": "display_data",
          "data": {
            "image/png": "[encoded data removed]",
            "text/plain": [
              "<Figure size 432x288 with 1 Axes>"
            ]
          },
          "metadata": {
            "needs_background": "light"
          }
        }
      ]
    },
    {
      "cell_type": "markdown",
      "metadata": {
        "id": "xXnHpEUMYlSc"
      },
      "source": [
        "# Construct Network"
      ]
    },
    {
      "cell_type": "code",
      "metadata": {
        "id": "Vat7z3grkag2",
        "colab": {
          "base_uri": "https://localhost:8080/"
        },
        "outputId": "32469b43-a975-4942-9161-36353f1d4cb6"
      },
      "source": [
        "from tensorflow import keras\n",
        "from tensorflow.keras import layers\n",
        "\n",
        "batch_size = 16\n",
        "epochs = 100\n",
        "\n",
        "model = keras.Sequential([\n",
        "                          layers.InputLayer(input_shape=image_shape),\n",
        "                          layers.Conv2D(filters=32, kernel_size=3, activation=\"relu\"),\n",
        "                          layers.MaxPool2D(pool_size=2, strides=2),\n",
        "                          layers.Conv2D(filters=32, kernel_size=3, activation=\"relu\"),\n",
        "                          layers.MaxPool2D(pool_size=2, strides=2),\n",
        "                          layers.Flatten(),\n",
        "                          layers.Dense(64, activation=\"relu\"),\n",
        "                          layers.Dense(128, activation=\"relu\"),\n",
        "                          layers.Dense(256, activation=\"relu\"),\n",
        "                          layers.Dense(128, activation=\"relu\"),\n",
        "                          layers.Dense(64, activation=\"relu\"),\n",
        "                          layers.Dense(np.prod(D6_SHAPE), activation=\"tanh\"),\n",
        "                          layers.Reshape(D6_SHAPE),\n",
        "                          D6Convert(),\n",
        "])\n",
        "model.summary()\n",
        "# possible new optimizer: keras.optimizers.SGD(learning_rate=0.007, momentum=0.1)\n",
        "model.compile(optimizer=\"sgd\", loss=\"mean_squared_error\", metrics=[\"accuracy\"])"
      ],
      "execution_count": 28,
      "outputs": [
        {
          "output_type": "stream",
          "name": "stdout",
          "text": [
            "Model: \"sequential_7\"\n",
            "_________________________________________________________________\n",
            " Layer (type)                Output Shape              Param #   \n",
            "=================================================================\n",
            " conv2d_14 (Conv2D)          (None, 30, 30, 32)        320       \n",
            "                                                                 \n",
            " max_pooling2d_14 (MaxPoolin  (None, 15, 15, 32)       0         \n",
            " g2D)                                                            \n",
            "                                                                 \n",
            " conv2d_15 (Conv2D)          (None, 13, 13, 32)        9248      \n",
            "                                                                 \n",
            " max_pooling2d_15 (MaxPoolin  (None, 6, 6, 32)         0         \n",
            " g2D)                                                            \n",
            "                                                                 \n",
            " flatten_7 (Flatten)         (None, 1152)              0         \n",
            "                                                                 \n",
            " dense_42 (Dense)            (None, 64)                73792     \n",
            "                                                                 \n",
            " dense_43 (Dense)            (None, 128)               8320      \n",
            "                                                                 \n",
            " dense_44 (Dense)            (None, 256)               33024     \n",
            "                                                                 \n",
            " dense_45 (Dense)            (None, 128)               32896     \n",
            "                                                                 \n",
            " dense_46 (Dense)            (None, 64)                8256      \n",
            "                                                                 \n",
            " dense_47 (Dense)            (None, 6)                 390       \n",
            "                                                                 \n",
            " reshape_7 (Reshape)         (None, 3, 2)              0         \n",
            "                                                                 \n",
            " d6_convert_7 (D6Convert)    (None, 3, 3)              0         \n",
            "                                                                 \n",
            "=================================================================\n",
            "Total params: 166,246\n",
            "Trainable params: 166,246\n",
            "Non-trainable params: 0\n",
            "_________________________________________________________________\n"
          ]
        }
      ]
    },
    {
      "cell_type": "markdown",
      "metadata": {
        "id": "H_8k1tdWhmG_"
      },
      "source": [
        "# Train Model"
      ]
    },
    {
      "cell_type": "code",
      "metadata": {
        "colab": {
          "base_uri": "https://localhost:8080/"
        },
        "id": "O1Ic9SjfgAkH",
        "outputId": "fea895f5-cd11-4393-c888-0faec2f306f4"
      },
      "source": [
        "from matplotlib import gridspec\n",
        "\n",
        "history = model.fit(\n",
        "    x_data,\n",
        "    y_data,\n",
        "    batch_size,\n",
        "    epochs,\n",
        "    validation_data=(x_test, y_test),\n",
        "    steps_per_epoch=int(np.ceil(x_data.shape[0]/batch_size)),\n",
        "    shuffle=True,\n",
        ")"
      ],
      "execution_count": 29,
      "outputs": [
        {
          "output_type": "stream",
          "name": "stdout",
          "text": [
            "Epoch 1/100\n",
            "360/360 [==============================] - 4s 10ms/step - loss: 0.4811 - accuracy: 0.5284 - val_loss: 0.4627 - val_accuracy: 0.5393\n",
            "Epoch 2/100\n",
            "360/360 [==============================] - 3s 9ms/step - loss: 0.4487 - accuracy: 0.5686 - val_loss: 0.4355 - val_accuracy: 0.5896\n",
            "Epoch 3/100\n",
            "360/360 [==============================] - 3s 9ms/step - loss: 0.4317 - accuracy: 0.5754 - val_loss: 0.4058 - val_accuracy: 0.6429\n",
            "Epoch 4/100\n",
            "360/360 [==============================] - 3s 9ms/step - loss: 0.3658 - accuracy: 0.5985 - val_loss: 0.5261 - val_accuracy: 0.2090\n",
            "Epoch 5/100\n",
            "360/360 [==============================] - 3s 9ms/step - loss: 0.3120 - accuracy: 0.6306 - val_loss: 0.1676 - val_accuracy: 0.7735\n",
            "Epoch 6/100\n",
            "360/360 [==============================] - 3s 9ms/step - loss: 0.0712 - accuracy: 0.8753 - val_loss: 0.0187 - val_accuracy: 0.9381\n",
            "Epoch 7/100\n",
            "360/360 [==============================] - 3s 9ms/step - loss: 0.0214 - accuracy: 0.9382 - val_loss: 0.0074 - val_accuracy: 0.9648\n",
            "Epoch 8/100\n",
            "360/360 [==============================] - 3s 9ms/step - loss: 0.0180 - accuracy: 0.9477 - val_loss: 0.0062 - val_accuracy: 0.9653\n",
            "Epoch 9/100\n",
            "360/360 [==============================] - 3s 9ms/step - loss: 0.0079 - accuracy: 0.9648 - val_loss: 0.0020 - val_accuracy: 0.9804\n",
            "Epoch 10/100\n",
            "360/360 [==============================] - 3s 9ms/step - loss: 0.0070 - accuracy: 0.9657 - val_loss: 0.0029 - val_accuracy: 0.9827\n",
            "Epoch 11/100\n",
            "360/360 [==============================] - 3s 9ms/step - loss: 0.0043 - accuracy: 0.9730 - val_loss: 0.0014 - val_accuracy: 0.9847\n",
            "Epoch 12/100\n",
            "360/360 [==============================] - 3s 9ms/step - loss: 0.0041 - accuracy: 0.9725 - val_loss: 0.0012 - val_accuracy: 0.9837\n",
            "Epoch 13/100\n",
            "360/360 [==============================] - 3s 9ms/step - loss: 0.0034 - accuracy: 0.9764 - val_loss: 6.8971e-04 - val_accuracy: 0.9900\n",
            "Epoch 14/100\n",
            "360/360 [==============================] - 3s 9ms/step - loss: 0.0087 - accuracy: 0.9673 - val_loss: 0.0018 - val_accuracy: 0.9787\n",
            "Epoch 15/100\n",
            "360/360 [==============================] - 3s 8ms/step - loss: 0.0032 - accuracy: 0.9737 - val_loss: 0.0016 - val_accuracy: 0.9801\n",
            "Epoch 16/100\n",
            "360/360 [==============================] - 3s 9ms/step - loss: 0.0025 - accuracy: 0.9760 - val_loss: 0.0013 - val_accuracy: 0.9859\n",
            "Epoch 17/100\n",
            "360/360 [==============================] - 3s 9ms/step - loss: 0.0021 - accuracy: 0.9788 - val_loss: 3.2608e-04 - val_accuracy: 0.9927\n",
            "Epoch 18/100\n",
            "360/360 [==============================] - 3s 9ms/step - loss: 0.0029 - accuracy: 0.9768 - val_loss: 3.4063e-04 - val_accuracy: 0.9891\n",
            "Epoch 19/100\n",
            "360/360 [==============================] - 3s 9ms/step - loss: 0.0022 - accuracy: 0.9796 - val_loss: 0.0011 - val_accuracy: 0.9839\n",
            "Epoch 20/100\n",
            "360/360 [==============================] - 3s 8ms/step - loss: 0.0015 - accuracy: 0.9802 - val_loss: 5.5474e-04 - val_accuracy: 0.9904\n",
            "Epoch 21/100\n",
            "360/360 [==============================] - 3s 9ms/step - loss: 0.0015 - accuracy: 0.9778 - val_loss: 2.1976e-04 - val_accuracy: 0.9932\n",
            "Epoch 22/100\n",
            "360/360 [==============================] - 3s 9ms/step - loss: 0.0012 - accuracy: 0.9818 - val_loss: 2.4141e-04 - val_accuracy: 0.9935\n",
            "Epoch 23/100\n",
            "360/360 [==============================] - 3s 9ms/step - loss: 0.0015 - accuracy: 0.9799 - val_loss: 8.6172e-04 - val_accuracy: 0.9851\n",
            "Epoch 24/100\n",
            "360/360 [==============================] - 3s 9ms/step - loss: 0.0012 - accuracy: 0.9802 - val_loss: 2.9742e-04 - val_accuracy: 0.9909\n",
            "Epoch 25/100\n",
            "360/360 [==============================] - 3s 9ms/step - loss: 0.0012 - accuracy: 0.9825 - val_loss: 2.1667e-04 - val_accuracy: 0.9934\n",
            "Epoch 26/100\n",
            "360/360 [==============================] - 3s 9ms/step - loss: 0.0010 - accuracy: 0.9823 - val_loss: 3.8220e-04 - val_accuracy: 0.9905\n",
            "Epoch 27/100\n",
            "360/360 [==============================] - 3s 9ms/step - loss: 9.2313e-04 - accuracy: 0.9828 - val_loss: 2.5940e-04 - val_accuracy: 0.9927\n",
            "Epoch 28/100\n",
            "360/360 [==============================] - 3s 9ms/step - loss: 8.8610e-04 - accuracy: 0.9818 - val_loss: 1.5249e-04 - val_accuracy: 0.9947\n",
            "Epoch 29/100\n",
            "360/360 [==============================] - 3s 9ms/step - loss: 0.0010 - accuracy: 0.9816 - val_loss: 2.0438e-04 - val_accuracy: 0.9939\n",
            "Epoch 30/100\n",
            "360/360 [==============================] - 3s 8ms/step - loss: 9.4233e-04 - accuracy: 0.9819 - val_loss: 1.3143e-04 - val_accuracy: 0.9947\n",
            "Epoch 31/100\n",
            "360/360 [==============================] - 3s 9ms/step - loss: 8.8412e-04 - accuracy: 0.9829 - val_loss: 1.4325e-04 - val_accuracy: 0.9955\n",
            "Epoch 32/100\n",
            "360/360 [==============================] - 3s 9ms/step - loss: 8.2165e-04 - accuracy: 0.9819 - val_loss: 3.8385e-04 - val_accuracy: 0.9903\n",
            "Epoch 33/100\n",
            "360/360 [==============================] - 3s 9ms/step - loss: 8.5411e-04 - accuracy: 0.9829 - val_loss: 1.4736e-04 - val_accuracy: 0.9953\n",
            "Epoch 34/100\n",
            "360/360 [==============================] - 3s 8ms/step - loss: 7.7374e-04 - accuracy: 0.9825 - val_loss: 1.2516e-04 - val_accuracy: 0.9959\n",
            "Epoch 35/100\n",
            "360/360 [==============================] - 3s 9ms/step - loss: 7.6463e-04 - accuracy: 0.9829 - val_loss: 1.6474e-04 - val_accuracy: 0.9946\n",
            "Epoch 36/100\n",
            "360/360 [==============================] - 3s 9ms/step - loss: 6.9584e-04 - accuracy: 0.9830 - val_loss: 1.6603e-04 - val_accuracy: 0.9934\n",
            "Epoch 37/100\n",
            "360/360 [==============================] - 3s 8ms/step - loss: 7.1085e-04 - accuracy: 0.9836 - val_loss: 1.9193e-04 - val_accuracy: 0.9936\n",
            "Epoch 38/100\n",
            "360/360 [==============================] - 3s 9ms/step - loss: 6.4840e-04 - accuracy: 0.9850 - val_loss: 6.6413e-04 - val_accuracy: 0.9890\n",
            "Epoch 39/100\n",
            "360/360 [==============================] - 3s 8ms/step - loss: 6.2284e-04 - accuracy: 0.9845 - val_loss: 2.1024e-04 - val_accuracy: 0.9934\n",
            "Epoch 40/100\n",
            "360/360 [==============================] - 3s 9ms/step - loss: 6.3496e-04 - accuracy: 0.9845 - val_loss: 2.6904e-04 - val_accuracy: 0.9938\n",
            "Epoch 41/100\n",
            "360/360 [==============================] - 3s 9ms/step - loss: 5.9157e-04 - accuracy: 0.9840 - val_loss: 1.0494e-04 - val_accuracy: 0.9961\n",
            "Epoch 42/100\n",
            "360/360 [==============================] - 3s 9ms/step - loss: 6.1339e-04 - accuracy: 0.9815 - val_loss: 2.5159e-04 - val_accuracy: 0.9927\n",
            "Epoch 43/100\n",
            "360/360 [==============================] - 3s 9ms/step - loss: 5.7820e-04 - accuracy: 0.9834 - val_loss: 1.3724e-04 - val_accuracy: 0.9951\n",
            "Epoch 44/100\n",
            "360/360 [==============================] - 3s 9ms/step - loss: 5.6012e-04 - accuracy: 0.9839 - val_loss: 4.6138e-04 - val_accuracy: 0.9904\n",
            "Epoch 45/100\n",
            "360/360 [==============================] - 3s 9ms/step - loss: 5.4265e-04 - accuracy: 0.9861 - val_loss: 1.3548e-04 - val_accuracy: 0.9940\n",
            "Epoch 46/100\n",
            "360/360 [==============================] - 3s 8ms/step - loss: 5.8619e-04 - accuracy: 0.9848 - val_loss: 2.1656e-04 - val_accuracy: 0.9927\n",
            "Epoch 47/100\n",
            "360/360 [==============================] - 3s 9ms/step - loss: 5.7170e-04 - accuracy: 0.9829 - val_loss: 1.0730e-04 - val_accuracy: 0.9954\n",
            "Epoch 48/100\n",
            "360/360 [==============================] - 3s 9ms/step - loss: 4.8939e-04 - accuracy: 0.9852 - val_loss: 4.1986e-04 - val_accuracy: 0.9905\n",
            "Epoch 49/100\n",
            "360/360 [==============================] - 3s 9ms/step - loss: 6.0325e-04 - accuracy: 0.9854 - val_loss: 0.0022 - val_accuracy: 0.9793\n",
            "Epoch 50/100\n",
            "360/360 [==============================] - 3s 9ms/step - loss: 5.1908e-04 - accuracy: 0.9838 - val_loss: 1.2953e-04 - val_accuracy: 0.9949\n",
            "Epoch 51/100\n",
            "360/360 [==============================] - 3s 9ms/step - loss: 4.8230e-04 - accuracy: 0.9845 - val_loss: 9.9641e-05 - val_accuracy: 0.9957\n",
            "Epoch 52/100\n",
            "360/360 [==============================] - 3s 9ms/step - loss: 4.8058e-04 - accuracy: 0.9862 - val_loss: 2.1190e-04 - val_accuracy: 0.9924\n",
            "Epoch 53/100\n",
            "360/360 [==============================] - 3s 9ms/step - loss: 4.6172e-04 - accuracy: 0.9851 - val_loss: 7.0079e-05 - val_accuracy: 0.9969\n",
            "Epoch 54/100\n",
            "360/360 [==============================] - 3s 10ms/step - loss: 4.5451e-04 - accuracy: 0.9855 - val_loss: 1.1631e-04 - val_accuracy: 0.9950\n",
            "Epoch 55/100\n",
            "360/360 [==============================] - 3s 9ms/step - loss: 4.2675e-04 - accuracy: 0.9854 - val_loss: 1.6776e-04 - val_accuracy: 0.9943\n",
            "Epoch 56/100\n",
            "360/360 [==============================] - 3s 9ms/step - loss: 5.0963e-04 - accuracy: 0.9854 - val_loss: 3.8296e-04 - val_accuracy: 0.9902\n",
            "Epoch 57/100\n",
            "360/360 [==============================] - 3s 9ms/step - loss: 4.5664e-04 - accuracy: 0.9851 - val_loss: 1.6329e-04 - val_accuracy: 0.9947\n",
            "Epoch 58/100\n",
            "360/360 [==============================] - 3s 9ms/step - loss: 4.8009e-04 - accuracy: 0.9848 - val_loss: 9.3165e-05 - val_accuracy: 0.9955\n",
            "Epoch 59/100\n",
            "360/360 [==============================] - 3s 9ms/step - loss: 4.6322e-04 - accuracy: 0.9852 - val_loss: 3.5019e-04 - val_accuracy: 0.9926\n",
            "Epoch 60/100\n",
            "360/360 [==============================] - 3s 9ms/step - loss: 4.6618e-04 - accuracy: 0.9855 - val_loss: 8.5651e-05 - val_accuracy: 0.9954\n",
            "Epoch 61/100\n",
            "360/360 [==============================] - 3s 9ms/step - loss: 4.1559e-04 - accuracy: 0.9849 - val_loss: 7.4481e-05 - val_accuracy: 0.9971\n",
            "Epoch 62/100\n",
            "360/360 [==============================] - 3s 10ms/step - loss: 3.9509e-04 - accuracy: 0.9862 - val_loss: 1.3517e-04 - val_accuracy: 0.9952\n",
            "Epoch 63/100\n",
            "360/360 [==============================] - 3s 10ms/step - loss: 4.0910e-04 - accuracy: 0.9847 - val_loss: 6.9644e-05 - val_accuracy: 0.9964\n",
            "Epoch 64/100\n",
            "360/360 [==============================] - 3s 9ms/step - loss: 3.9177e-04 - accuracy: 0.9858 - val_loss: 1.3553e-04 - val_accuracy: 0.9953\n",
            "Epoch 65/100\n",
            "360/360 [==============================] - 3s 9ms/step - loss: 4.2187e-04 - accuracy: 0.9849 - val_loss: 1.0503e-04 - val_accuracy: 0.9963\n",
            "Epoch 66/100\n",
            "360/360 [==============================] - 3s 9ms/step - loss: 3.9560e-04 - accuracy: 0.9855 - val_loss: 6.6229e-05 - val_accuracy: 0.9969\n",
            "Epoch 67/100\n",
            "360/360 [==============================] - 3s 10ms/step - loss: 4.1555e-04 - accuracy: 0.9845 - val_loss: 8.1483e-05 - val_accuracy: 0.9959\n",
            "Epoch 68/100\n",
            "360/360 [==============================] - 3s 9ms/step - loss: 3.9636e-04 - accuracy: 0.9851 - val_loss: 2.0010e-04 - val_accuracy: 0.9938\n",
            "Epoch 69/100\n",
            "360/360 [==============================] - 3s 10ms/step - loss: 4.2243e-04 - accuracy: 0.9849 - val_loss: 6.5821e-05 - val_accuracy: 0.9965\n",
            "Epoch 70/100\n",
            "360/360 [==============================] - 3s 9ms/step - loss: 3.8086e-04 - accuracy: 0.9852 - val_loss: 1.0355e-04 - val_accuracy: 0.9956\n",
            "Epoch 71/100\n",
            "360/360 [==============================] - 3s 9ms/step - loss: 4.2919e-04 - accuracy: 0.9841 - val_loss: 1.4633e-04 - val_accuracy: 0.9944\n",
            "Epoch 72/100\n",
            "360/360 [==============================] - 3s 9ms/step - loss: 3.7313e-04 - accuracy: 0.9847 - val_loss: 5.9751e-05 - val_accuracy: 0.9974\n",
            "Epoch 73/100\n",
            "360/360 [==============================] - 3s 9ms/step - loss: 3.7868e-04 - accuracy: 0.9856 - val_loss: 1.4331e-04 - val_accuracy: 0.9956\n",
            "Epoch 74/100\n",
            "360/360 [==============================] - 3s 9ms/step - loss: 3.9429e-04 - accuracy: 0.9856 - val_loss: 1.1295e-04 - val_accuracy: 0.9944\n",
            "Epoch 75/100\n",
            "360/360 [==============================] - 3s 9ms/step - loss: 3.8786e-04 - accuracy: 0.9867 - val_loss: 7.4935e-05 - val_accuracy: 0.9966\n",
            "Epoch 76/100\n",
            "360/360 [==============================] - 3s 9ms/step - loss: 3.8410e-04 - accuracy: 0.9856 - val_loss: 1.7285e-04 - val_accuracy: 0.9946\n",
            "Epoch 77/100\n",
            "360/360 [==============================] - 3s 9ms/step - loss: 3.7178e-04 - accuracy: 0.9858 - val_loss: 6.8311e-05 - val_accuracy: 0.9971\n",
            "Epoch 78/100\n",
            "360/360 [==============================] - 3s 9ms/step - loss: 3.7557e-04 - accuracy: 0.9861 - val_loss: 3.9147e-04 - val_accuracy: 0.9911\n",
            "Epoch 79/100\n",
            "360/360 [==============================] - 3s 10ms/step - loss: 3.6448e-04 - accuracy: 0.9851 - val_loss: 6.3426e-05 - val_accuracy: 0.9969\n",
            "Epoch 80/100\n",
            "360/360 [==============================] - 3s 9ms/step - loss: 3.7752e-04 - accuracy: 0.9858 - val_loss: 1.0654e-04 - val_accuracy: 0.9956\n",
            "Epoch 81/100\n",
            "360/360 [==============================] - 3s 9ms/step - loss: 3.6249e-04 - accuracy: 0.9859 - val_loss: 9.3113e-05 - val_accuracy: 0.9963\n",
            "Epoch 82/100\n",
            "360/360 [==============================] - 3s 9ms/step - loss: 3.4883e-04 - accuracy: 0.9856 - val_loss: 7.0514e-05 - val_accuracy: 0.9963\n",
            "Epoch 83/100\n",
            "360/360 [==============================] - 3s 10ms/step - loss: 3.6509e-04 - accuracy: 0.9859 - val_loss: 5.8720e-05 - val_accuracy: 0.9968\n",
            "Epoch 84/100\n",
            "360/360 [==============================] - 3s 9ms/step - loss: 3.4757e-04 - accuracy: 0.9855 - val_loss: 3.0394e-04 - val_accuracy: 0.9924\n",
            "Epoch 85/100\n",
            "360/360 [==============================] - 3s 9ms/step - loss: 3.5436e-04 - accuracy: 0.9854 - val_loss: 5.2716e-05 - val_accuracy: 0.9974\n",
            "Epoch 86/100\n",
            "360/360 [==============================] - 3s 10ms/step - loss: 3.4751e-04 - accuracy: 0.9862 - val_loss: 6.7889e-05 - val_accuracy: 0.9961\n",
            "Epoch 87/100\n",
            "360/360 [==============================] - 4s 10ms/step - loss: 3.4171e-04 - accuracy: 0.9854 - val_loss: 5.1659e-05 - val_accuracy: 0.9972\n",
            "Epoch 88/100\n",
            "360/360 [==============================] - 3s 9ms/step - loss: 3.4406e-04 - accuracy: 0.9862 - val_loss: 1.1051e-04 - val_accuracy: 0.9962\n",
            "Epoch 89/100\n",
            "360/360 [==============================] - 3s 9ms/step - loss: 4.0499e-04 - accuracy: 0.9865 - val_loss: 2.2510e-04 - val_accuracy: 0.9929\n",
            "Epoch 90/100\n",
            "360/360 [==============================] - 4s 10ms/step - loss: 3.6113e-04 - accuracy: 0.9854 - val_loss: 6.5141e-05 - val_accuracy: 0.9964\n",
            "Epoch 91/100\n",
            "360/360 [==============================] - 4s 10ms/step - loss: 3.4011e-04 - accuracy: 0.9863 - val_loss: 6.1468e-05 - val_accuracy: 0.9972\n",
            "Epoch 92/100\n",
            "360/360 [==============================] - 4s 10ms/step - loss: 3.3726e-04 - accuracy: 0.9854 - val_loss: 5.5867e-05 - val_accuracy: 0.9969\n",
            "Epoch 93/100\n",
            "360/360 [==============================] - 4s 10ms/step - loss: 3.6491e-04 - accuracy: 0.9861 - val_loss: 5.3261e-05 - val_accuracy: 0.9961\n",
            "Epoch 94/100\n",
            "360/360 [==============================] - 3s 9ms/step - loss: 3.2327e-04 - accuracy: 0.9867 - val_loss: 4.7327e-05 - val_accuracy: 0.9975\n",
            "Epoch 95/100\n",
            "360/360 [==============================] - 3s 9ms/step - loss: 3.7846e-04 - accuracy: 0.9852 - val_loss: 5.6107e-05 - val_accuracy: 0.9964\n",
            "Epoch 96/100\n",
            "360/360 [==============================] - 3s 9ms/step - loss: 3.2572e-04 - accuracy: 0.9856 - val_loss: 5.2061e-05 - val_accuracy: 0.9965\n",
            "Epoch 97/100\n",
            "360/360 [==============================] - 3s 9ms/step - loss: 3.1725e-04 - accuracy: 0.9859 - val_loss: 4.1921e-05 - val_accuracy: 0.9972\n",
            "Epoch 98/100\n",
            "360/360 [==============================] - 3s 10ms/step - loss: 3.2770e-04 - accuracy: 0.9864 - val_loss: 6.1130e-05 - val_accuracy: 0.9970\n",
            "Epoch 99/100\n",
            "360/360 [==============================] - 3s 9ms/step - loss: 3.1447e-04 - accuracy: 0.9864 - val_loss: 4.9400e-05 - val_accuracy: 0.9972\n",
            "Epoch 100/100\n",
            "360/360 [==============================] - 3s 10ms/step - loss: 3.1793e-04 - accuracy: 0.9859 - val_loss: 4.8040e-05 - val_accuracy: 0.9971\n"
          ]
        }
      ]
    },
    {
      "cell_type": "code",
      "metadata": {
        "colab": {
          "base_uri": "https://localhost:8080/",
          "height": 695
        },
        "id": "fccAQ8XDnIWn",
        "outputId": "2280de85-c0eb-40ad-e42a-07e95c05fd86"
      },
      "source": [
        "plt.figure(figsize=(plt.rcParams['figure.figsize'][0]*2, plt.rcParams['figure.figsize'][1]), dpi=300)\n",
        "gs = gridspec.GridSpec(1, 2)\n",
        "ax = plt.subplot(gs[0])\n",
        "ax.plot([i for i in range(1, len(history.history[\"loss\"])+1)], history.history[\"loss\"], \"+-\", label=\"training\")\n",
        "ax.plot([i for i in range(1, len(history.history[\"val_loss\"])+1)], history.history[\"val_loss\"], \"+-\", label=\"validation\")\n",
        "ax.legend()\n",
        "ax.set_xlabel(\"Epoch number\")\n",
        "ax.set_ylabel(\"Loss\")\n",
        "ax.set_title(\"Loss against Epoch\")\n",
        "\n",
        "ax = plt.subplot(gs[1])\n",
        "ax.plot([i for i in range(1, len(history.history[\"accuracy\"])+1)], history.history[\"accuracy\"], \"+-\", label=\"training\")\n",
        "ax.plot([i for i in range(1, len(history.history[\"val_accuracy\"])+1)], history.history[\"val_accuracy\"], \"+-\", label=\"validation\")\n",
        "ax.set_xlabel(\"Epoch number\")\n",
        "ax.set_ylabel(\"Accuracy\")\n",
        "ax.set_title(\"Accuracy against Epoch\")\n",
        "\n",
        "plt.show()"
      ],
      "execution_count": 61,
      "outputs": [
        {
          "output_type": "display_data",
          "data": {
            "image/png": "[encoded data removed]",
            "text/plain": [
              "<Figure size 3600x1200 with 2 Axes>"
            ]
          },
          "metadata": {
            "needs_background": "light"
          }
        }
      ]
    },
    {
      "cell_type": "markdown",
      "metadata": {
        "id": "Nu3H-hZOpC1b"
      },
      "source": [
        "# Test Model"
      ]
    },
    {
      "cell_type": "code",
      "metadata": {
        "colab": {
          "base_uri": "https://localhost:8080/"
        },
        "id": "dEV4TkXHhrhD",
        "outputId": "b315d86f-e59b-4b1e-e05d-6c7fc76b9b79"
      },
      "source": [
        "score = model.evaluate(x_test, y_test, verbose=0)\n",
        "print(\"Test loss:\", score[0])\n",
        "print(\"Test accuracy:\", score[1])"
      ],
      "execution_count": 50,
      "outputs": [
        {
          "output_type": "stream",
          "name": "stdout",
          "text": [
            "Test loss: 6.600684719160199e-05\n",
            "Test accuracy: 0.9965047240257263\n"
          ]
        }
      ]
    },
    {
      "cell_type": "code",
      "metadata": {
        "colab": {
          "base_uri": "https://localhost:8080/"
        },
        "id": "Zm7bvpLMpH3o",
        "outputId": "52230fe1-2605-4b37-b676-1bd55bf4eacd"
      },
      "source": [
        "i = 6\n",
        "print(\"True SO(3):\\n\", y_test[i].astype(\"float32\"), end=\"\\n\\n\", sep=\"\")\n",
        "prediction = model.predict(x_test[i].reshape((1,)+x_test[i].shape))[0]\n",
        "print(\"SO(3) Prediction:\\n\", prediction, sep=\"\")\n",
        "print(\"Distance: {:.2f} degrees\".format(SO3_distance(y_test[i], prediction)))"
      ],
      "execution_count": 51,
      "outputs": [
        {
          "output_type": "stream",
          "name": "stdout",
          "text": [
            "True SO(3):\n",
            "[[ 0.2763084   0.96106905  0.        ]\n",
            " [-0.96106905  0.2763084   0.        ]\n",
            " [ 0.          0.          1.        ]]\n",
            "\n",
            "SO(3) Prediction:\n",
            "[[ 0.27592865  0.9611542  -0.00677387]\n",
            " [-0.9611719   0.2758948  -0.00552686]\n",
            " [-0.0034433   0.00803587  0.99996173]]\n",
            "Distance: 0.50 degrees\n"
          ]
        }
      ]
    },
    {
      "cell_type": "markdown",
      "metadata": {
        "id": "Jgwz-oDEyK9r"
      },
      "source": [
        "# Analyse Results"
      ]
    },
    {
      "cell_type": "code",
      "metadata": {
        "id": "fb1vUpDHpsYe",
        "colab": {
          "base_uri": "https://localhost:8080/",
          "height": 49,
          "referenced_widgets": [
            "2f60930ddbf44ce0a4f816cac81cc327",
            "49dc814b05fd4d94a30a22f35ddd6ffe",
            "866fd96022084a68931b4e3259bb52fb",
            "6169392182214f51ac364a60a87f5be8",
            "f236b68a906a466aa4c42266991c95ab",
            "edd17ec9d9a74834bb5e6891ae26d506",
            "30230bafd8984a858e4d220aa6962b4a",
            "ba1e1f01548a4f0a907f90ea46296c7d",
            "8c5ab76dfe5345b8854172e8ce09bc39",
            "12b897dedad942c8980b9e6d18153114",
            "080e58f4d4a8409cbf512577e100ed40"
          ]
        },
        "outputId": "e8ac4758-3666-437e-cdb0-e9a637949a1e"
      },
      "source": [
        "distances = np.zeros(x_test.shape[0])\n",
        "predictions = model.predict(x_test)\n",
        "for i in tqdm(range(x_test.shape[0])):\n",
        "  distances[i] = SO3_distance(y_test[i], predictions[i])"
      ],
      "execution_count": 52,
      "outputs": [
        {
          "output_type": "display_data",
          "data": {
            "application/vnd.jupyter.widget-view+json": {
              "model_id": "2f60930ddbf44ce0a4f816cac81cc327",
              "version_minor": 0,
              "version_major": 2
            },
            "text/plain": [
              "  0%|          | 0/4673 [00:00<?, ?it/s]"
            ]
          },
          "metadata": {}
        }
      ]
    },
    {
      "cell_type": "code",
      "source": [
        "plt.figure(figsize=(plt.rcParams['figure.figsize'][0]*2, plt.rcParams['figure.figsize'][1]), dpi=300)\n",
        "gs = gridspec.GridSpec(1, 2)\n",
        "\n",
        "ax = plt.subplot(gs[0])\n",
        "ax.hist(distances, bins=15)\n",
        "ax.set_xlabel(\"Absolute Error from True Orientation (degrees)\")\n",
        "ax.set_ylabel(\"Frequency Density\")\n",
        "\n",
        "ax = plt.subplot(gs[1])\n",
        "ax.hist(distances, bins=15, log=\"y\")\n",
        "ax.set_xlabel(\"Absolute Error from True Orientation (degrees)\")\n",
        "ax.set_ylabel(\"Frequency Density\")\n",
        "\n",
        "plt.show()"
      ],
      "metadata": {
        "colab": {
          "base_uri": "https://localhost:8080/",
          "height": 650
        },
        "id": "GwZ5cR7XZstG",
        "outputId": "57d5c9ab-0757-41c0-bdfd-cdc676f87186"
      },
      "execution_count": 60,
      "outputs": [
        {
          "output_type": "display_data",
          "data": {
            "image/png": "[encoded data removed]",
            "text/plain": [
              "<Figure size 3600x1200 with 2 Axes>"
            ]
          },
          "metadata": {
            "needs_background": "light"
          }
        }
      ]
    },
    {
      "cell_type": "code",
      "metadata": {
        "id": "Ive1PbGc7X5c",
        "colab": {
          "base_uri": "https://localhost:8080/"
        },
        "outputId": "c9d677a7-e5f6-4c1e-9a21-4c562228bd79"
      },
      "source": [
        "distance_mean = np.mean(distances)\n",
        "distance_std = np.std(distances, ddof=1)\n",
        "print(f\"Average distance from the true value is {distance_mean:.2f} +- {distance_std:.2f}\")"
      ],
      "execution_count": 59,
      "outputs": [
        {
          "output_type": "stream",
          "name": "stdout",
          "text": [
            "Average distance from the true value is 0.75 +- 0.41\n"
          ]
        }
      ]
    },
    {
      "cell_type": "code",
      "metadata": {
        "id": "pK4FSFy6flJ7"
      },
      "source": [
        ""
      ],
      "execution_count": 54,
      "outputs": []
    }
  ]
}