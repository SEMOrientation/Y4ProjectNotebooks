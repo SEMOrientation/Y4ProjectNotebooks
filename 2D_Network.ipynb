{
  "nbformat": 4,
  "nbformat_minor": 0,
  "metadata": {
    "colab": {
      "name": "Untitled1.ipynb",
      "provenance": [],
      "authorship_tag": "ABX9TyPUDsAKaOKu2yIpxHMWnJnn"
    },
    "kernelspec": {
      "name": "python3",
      "display_name": "Python 3"
    },
    "language_info": {
      "name": "python"
    },
    "widgets": {
      "application/vnd.jupyter.widget-state+json": {
        "31b95ef76c2c4f30a05a6563fcbda5d5": {
          "model_module": "@jupyter-widgets/controls",
          "model_name": "HBoxModel",
          "model_module_version": "1.5.0",
          "state": {
            "_view_name": "HBoxView",
            "_dom_classes": [],
            "_model_name": "HBoxModel",
            "_view_module": "@jupyter-widgets/controls",
            "_model_module_version": "1.5.0",
            "_view_count": null,
            "_view_module_version": "1.5.0",
            "box_style": "",
            "layout": "IPY_MODEL_8e9b14ebaee64507b869ed5e4d0a87d4",
            "_model_module": "@jupyter-widgets/controls",
            "children": [
              "IPY_MODEL_2ee14485d00847b6bd8465e52ddd3cbe",
              "IPY_MODEL_14634e94147c43069df2330c6a717c29",
              "IPY_MODEL_bf8d7b38d58145419878a196f3f68a91"
            ]
          }
        },
        "8e9b14ebaee64507b869ed5e4d0a87d4": {
          "model_module": "@jupyter-widgets/base",
          "model_name": "LayoutModel",
          "model_module_version": "1.2.0",
          "state": {
            "_view_name": "LayoutView",
            "grid_template_rows": null,
            "right": null,
            "justify_content": null,
            "_view_module": "@jupyter-widgets/base",
            "overflow": null,
            "_model_module_version": "1.2.0",
            "_view_count": null,
            "flex_flow": null,
            "width": null,
            "min_width": null,
            "border": null,
            "align_items": null,
            "bottom": null,
            "_model_module": "@jupyter-widgets/base",
            "top": null,
            "grid_column": null,
            "overflow_y": null,
            "overflow_x": null,
            "grid_auto_flow": null,
            "grid_area": null,
            "grid_template_columns": null,
            "flex": null,
            "_model_name": "LayoutModel",
            "justify_items": null,
            "grid_row": null,
            "max_height": null,
            "align_content": null,
            "visibility": null,
            "align_self": null,
            "height": null,
            "min_height": null,
            "padding": null,
            "grid_auto_rows": null,
            "grid_gap": null,
            "max_width": null,
            "order": null,
            "_view_module_version": "1.2.0",
            "grid_template_areas": null,
            "object_position": null,
            "object_fit": null,
            "grid_auto_columns": null,
            "margin": null,
            "display": null,
            "left": null
          }
        },
        "2ee14485d00847b6bd8465e52ddd3cbe": {
          "model_module": "@jupyter-widgets/controls",
          "model_name": "HTMLModel",
          "model_module_version": "1.5.0",
          "state": {
            "_view_name": "HTMLView",
            "style": "IPY_MODEL_e975f54809f745cd8d6d7f73e02e8eb8",
            "_dom_classes": [],
            "description": "",
            "_model_name": "HTMLModel",
            "placeholder": "​",
            "_view_module": "@jupyter-widgets/controls",
            "_model_module_version": "1.5.0",
            "value": "100%",
            "_view_count": null,
            "_view_module_version": "1.5.0",
            "description_tooltip": null,
            "_model_module": "@jupyter-widgets/controls",
            "layout": "IPY_MODEL_2854b9ce1a6046efa5b96748a04b9f0b"
          }
        },
        "14634e94147c43069df2330c6a717c29": {
          "model_module": "@jupyter-widgets/controls",
          "model_name": "FloatProgressModel",
          "model_module_version": "1.5.0",
          "state": {
            "_view_name": "ProgressView",
            "style": "IPY_MODEL_65ee08fa3a8c4bbdb9366707ac51fadb",
            "_dom_classes": [],
            "description": "",
            "_model_name": "FloatProgressModel",
            "bar_style": "success",
            "max": 360,
            "_view_module": "@jupyter-widgets/controls",
            "_model_module_version": "1.5.0",
            "value": 360,
            "_view_count": null,
            "_view_module_version": "1.5.0",
            "orientation": "horizontal",
            "min": 0,
            "description_tooltip": null,
            "_model_module": "@jupyter-widgets/controls",
            "layout": "IPY_MODEL_3e14ab83944345c685808f729261e91e"
          }
        },
        "bf8d7b38d58145419878a196f3f68a91": {
          "model_module": "@jupyter-widgets/controls",
          "model_name": "HTMLModel",
          "model_module_version": "1.5.0",
          "state": {
            "_view_name": "HTMLView",
            "style": "IPY_MODEL_fd8ccbf25d074d4b8c9c4a37633f907e",
            "_dom_classes": [],
            "description": "",
            "_model_name": "HTMLModel",
            "placeholder": "​",
            "_view_module": "@jupyter-widgets/controls",
            "_model_module_version": "1.5.0",
            "value": " 360/360 [00:08&lt;00:00, 40.30it/s]",
            "_view_count": null,
            "_view_module_version": "1.5.0",
            "description_tooltip": null,
            "_model_module": "@jupyter-widgets/controls",
            "layout": "IPY_MODEL_39f427676ece4e818ee1f25176623afe"
          }
        },
        "e975f54809f745cd8d6d7f73e02e8eb8": {
          "model_module": "@jupyter-widgets/controls",
          "model_name": "DescriptionStyleModel",
          "model_module_version": "1.5.0",
          "state": {
            "_view_name": "StyleView",
            "_model_name": "DescriptionStyleModel",
            "description_width": "",
            "_view_module": "@jupyter-widgets/base",
            "_model_module_version": "1.5.0",
            "_view_count": null,
            "_view_module_version": "1.2.0",
            "_model_module": "@jupyter-widgets/controls"
          }
        },
        "2854b9ce1a6046efa5b96748a04b9f0b": {
          "model_module": "@jupyter-widgets/base",
          "model_name": "LayoutModel",
          "model_module_version": "1.2.0",
          "state": {
            "_view_name": "LayoutView",
            "grid_template_rows": null,
            "right": null,
            "justify_content": null,
            "_view_module": "@jupyter-widgets/base",
            "overflow": null,
            "_model_module_version": "1.2.0",
            "_view_count": null,
            "flex_flow": null,
            "width": null,
            "min_width": null,
            "border": null,
            "align_items": null,
            "bottom": null,
            "_model_module": "@jupyter-widgets/base",
            "top": null,
            "grid_column": null,
            "overflow_y": null,
            "overflow_x": null,
            "grid_auto_flow": null,
            "grid_area": null,
            "grid_template_columns": null,
            "flex": null,
            "_model_name": "LayoutModel",
            "justify_items": null,
            "grid_row": null,
            "max_height": null,
            "align_content": null,
            "visibility": null,
            "align_self": null,
            "height": null,
            "min_height": null,
            "padding": null,
            "grid_auto_rows": null,
            "grid_gap": null,
            "max_width": null,
            "order": null,
            "_view_module_version": "1.2.0",
            "grid_template_areas": null,
            "object_position": null,
            "object_fit": null,
            "grid_auto_columns": null,
            "margin": null,
            "display": null,
            "left": null
          }
        },
        "65ee08fa3a8c4bbdb9366707ac51fadb": {
          "model_module": "@jupyter-widgets/controls",
          "model_name": "ProgressStyleModel",
          "model_module_version": "1.5.0",
          "state": {
            "_view_name": "StyleView",
            "_model_name": "ProgressStyleModel",
            "description_width": "",
            "_view_module": "@jupyter-widgets/base",
            "_model_module_version": "1.5.0",
            "_view_count": null,
            "_view_module_version": "1.2.0",
            "bar_color": null,
            "_model_module": "@jupyter-widgets/controls"
          }
        },
        "3e14ab83944345c685808f729261e91e": {
          "model_module": "@jupyter-widgets/base",
          "model_name": "LayoutModel",
          "model_module_version": "1.2.0",
          "state": {
            "_view_name": "LayoutView",
            "grid_template_rows": null,
            "right": null,
            "justify_content": null,
            "_view_module": "@jupyter-widgets/base",
            "overflow": null,
            "_model_module_version": "1.2.0",
            "_view_count": null,
            "flex_flow": null,
            "width": null,
            "min_width": null,
            "border": null,
            "align_items": null,
            "bottom": null,
            "_model_module": "@jupyter-widgets/base",
            "top": null,
            "grid_column": null,
            "overflow_y": null,
            "overflow_x": null,
            "grid_auto_flow": null,
            "grid_area": null,
            "grid_template_columns": null,
            "flex": null,
            "_model_name": "LayoutModel",
            "justify_items": null,
            "grid_row": null,
            "max_height": null,
            "align_content": null,
            "visibility": null,
            "align_self": null,
            "height": null,
            "min_height": null,
            "padding": null,
            "grid_auto_rows": null,
            "grid_gap": null,
            "max_width": null,
            "order": null,
            "_view_module_version": "1.2.0",
            "grid_template_areas": null,
            "object_position": null,
            "object_fit": null,
            "grid_auto_columns": null,
            "margin": null,
            "display": null,
            "left": null
          }
        },
        "fd8ccbf25d074d4b8c9c4a37633f907e": {
          "model_module": "@jupyter-widgets/controls",
          "model_name": "DescriptionStyleModel",
          "model_module_version": "1.5.0",
          "state": {
            "_view_name": "StyleView",
            "_model_name": "DescriptionStyleModel",
            "description_width": "",
            "_view_module": "@jupyter-widgets/base",
            "_model_module_version": "1.5.0",
            "_view_count": null,
            "_view_module_version": "1.2.0",
            "_model_module": "@jupyter-widgets/controls"
          }
        },
        "39f427676ece4e818ee1f25176623afe": {
          "model_module": "@jupyter-widgets/base",
          "model_name": "LayoutModel",
          "model_module_version": "1.2.0",
          "state": {
            "_view_name": "LayoutView",
            "grid_template_rows": null,
            "right": null,
            "justify_content": null,
            "_view_module": "@jupyter-widgets/base",
            "overflow": null,
            "_model_module_version": "1.2.0",
            "_view_count": null,
            "flex_flow": null,
            "width": null,
            "min_width": null,
            "border": null,
            "align_items": null,
            "bottom": null,
            "_model_module": "@jupyter-widgets/base",
            "top": null,
            "grid_column": null,
            "overflow_y": null,
            "overflow_x": null,
            "grid_auto_flow": null,
            "grid_area": null,
            "grid_template_columns": null,
            "flex": null,
            "_model_name": "LayoutModel",
            "justify_items": null,
            "grid_row": null,
            "max_height": null,
            "align_content": null,
            "visibility": null,
            "align_self": null,
            "height": null,
            "min_height": null,
            "padding": null,
            "grid_auto_rows": null,
            "grid_gap": null,
            "max_width": null,
            "order": null,
            "_view_module_version": "1.2.0",
            "grid_template_areas": null,
            "object_position": null,
            "object_fit": null,
            "grid_auto_columns": null,
            "margin": null,
            "display": null,
            "left": null
          }
        },
        "68f5a729a3b34fe0a92685ba873663f7": {
          "model_module": "@jupyter-widgets/controls",
          "model_name": "HBoxModel",
          "model_module_version": "1.5.0",
          "state": {
            "_view_name": "HBoxView",
            "_dom_classes": [],
            "_model_name": "HBoxModel",
            "_view_module": "@jupyter-widgets/controls",
            "_model_module_version": "1.5.0",
            "_view_count": null,
            "_view_module_version": "1.5.0",
            "box_style": "",
            "layout": "IPY_MODEL_d1d4f7a9a6654c0e9fad9a621814312b",
            "_model_module": "@jupyter-widgets/controls",
            "children": [
              "IPY_MODEL_36fce4c3341c467e8002b16e0435cc4b",
              "IPY_MODEL_792dab45a90748e88e5703ff77189d0c",
              "IPY_MODEL_d2273d69cf544c14a54c551139c0bd59"
            ]
          }
        },
        "d1d4f7a9a6654c0e9fad9a621814312b": {
          "model_module": "@jupyter-widgets/base",
          "model_name": "LayoutModel",
          "model_module_version": "1.2.0",
          "state": {
            "_view_name": "LayoutView",
            "grid_template_rows": null,
            "right": null,
            "justify_content": null,
            "_view_module": "@jupyter-widgets/base",
            "overflow": null,
            "_model_module_version": "1.2.0",
            "_view_count": null,
            "flex_flow": null,
            "width": null,
            "min_width": null,
            "border": null,
            "align_items": null,
            "bottom": null,
            "_model_module": "@jupyter-widgets/base",
            "top": null,
            "grid_column": null,
            "overflow_y": null,
            "overflow_x": null,
            "grid_auto_flow": null,
            "grid_area": null,
            "grid_template_columns": null,
            "flex": null,
            "_model_name": "LayoutModel",
            "justify_items": null,
            "grid_row": null,
            "max_height": null,
            "align_content": null,
            "visibility": null,
            "align_self": null,
            "height": null,
            "min_height": null,
            "padding": null,
            "grid_auto_rows": null,
            "grid_gap": null,
            "max_width": null,
            "order": null,
            "_view_module_version": "1.2.0",
            "grid_template_areas": null,
            "object_position": null,
            "object_fit": null,
            "grid_auto_columns": null,
            "margin": null,
            "display": null,
            "left": null
          }
        },
        "36fce4c3341c467e8002b16e0435cc4b": {
          "model_module": "@jupyter-widgets/controls",
          "model_name": "HTMLModel",
          "model_module_version": "1.5.0",
          "state": {
            "_view_name": "HTMLView",
            "style": "IPY_MODEL_4d19b7318b8a4dfcbf64d98e2b3953b2",
            "_dom_classes": [],
            "description": "",
            "_model_name": "HTMLModel",
            "placeholder": "​",
            "_view_module": "@jupyter-widgets/controls",
            "_model_module_version": "1.5.0",
            "value": "100%",
            "_view_count": null,
            "_view_module_version": "1.5.0",
            "description_tooltip": null,
            "_model_module": "@jupyter-widgets/controls",
            "layout": "IPY_MODEL_d1b1ada78a3c4e72aefe33d66be6eb11"
          }
        },
        "792dab45a90748e88e5703ff77189d0c": {
          "model_module": "@jupyter-widgets/controls",
          "model_name": "FloatProgressModel",
          "model_module_version": "1.5.0",
          "state": {
            "_view_name": "ProgressView",
            "style": "IPY_MODEL_553207dcfe644bb1803465f75b7bca60",
            "_dom_classes": [],
            "description": "",
            "_model_name": "FloatProgressModel",
            "bar_style": "success",
            "max": 4673,
            "_view_module": "@jupyter-widgets/controls",
            "_model_module_version": "1.5.0",
            "value": 4673,
            "_view_count": null,
            "_view_module_version": "1.5.0",
            "orientation": "horizontal",
            "min": 0,
            "description_tooltip": null,
            "_model_module": "@jupyter-widgets/controls",
            "layout": "IPY_MODEL_48b28946b9974bada279da8e80b80137"
          }
        },
        "d2273d69cf544c14a54c551139c0bd59": {
          "model_module": "@jupyter-widgets/controls",
          "model_name": "HTMLModel",
          "model_module_version": "1.5.0",
          "state": {
            "_view_name": "HTMLView",
            "style": "IPY_MODEL_b3ac95f7ae744f548f242d8a1e4ef2b1",
            "_dom_classes": [],
            "description": "",
            "_model_name": "HTMLModel",
            "placeholder": "​",
            "_view_module": "@jupyter-widgets/controls",
            "_model_module_version": "1.5.0",
            "value": " 4673/4673 [00:32&lt;00:00, 207.50it/s]",
            "_view_count": null,
            "_view_module_version": "1.5.0",
            "description_tooltip": null,
            "_model_module": "@jupyter-widgets/controls",
            "layout": "IPY_MODEL_91e6c359163449719f4ab18b193ad79a"
          }
        },
        "4d19b7318b8a4dfcbf64d98e2b3953b2": {
          "model_module": "@jupyter-widgets/controls",
          "model_name": "DescriptionStyleModel",
          "model_module_version": "1.5.0",
          "state": {
            "_view_name": "StyleView",
            "_model_name": "DescriptionStyleModel",
            "description_width": "",
            "_view_module": "@jupyter-widgets/base",
            "_model_module_version": "1.5.0",
            "_view_count": null,
            "_view_module_version": "1.2.0",
            "_model_module": "@jupyter-widgets/controls"
          }
        },
        "d1b1ada78a3c4e72aefe33d66be6eb11": {
          "model_module": "@jupyter-widgets/base",
          "model_name": "LayoutModel",
          "model_module_version": "1.2.0",
          "state": {
            "_view_name": "LayoutView",
            "grid_template_rows": null,
            "right": null,
            "justify_content": null,
            "_view_module": "@jupyter-widgets/base",
            "overflow": null,
            "_model_module_version": "1.2.0",
            "_view_count": null,
            "flex_flow": null,
            "width": null,
            "min_width": null,
            "border": null,
            "align_items": null,
            "bottom": null,
            "_model_module": "@jupyter-widgets/base",
            "top": null,
            "grid_column": null,
            "overflow_y": null,
            "overflow_x": null,
            "grid_auto_flow": null,
            "grid_area": null,
            "grid_template_columns": null,
            "flex": null,
            "_model_name": "LayoutModel",
            "justify_items": null,
            "grid_row": null,
            "max_height": null,
            "align_content": null,
            "visibility": null,
            "align_self": null,
            "height": null,
            "min_height": null,
            "padding": null,
            "grid_auto_rows": null,
            "grid_gap": null,
            "max_width": null,
            "order": null,
            "_view_module_version": "1.2.0",
            "grid_template_areas": null,
            "object_position": null,
            "object_fit": null,
            "grid_auto_columns": null,
            "margin": null,
            "display": null,
            "left": null
          }
        },
        "553207dcfe644bb1803465f75b7bca60": {
          "model_module": "@jupyter-widgets/controls",
          "model_name": "ProgressStyleModel",
          "model_module_version": "1.5.0",
          "state": {
            "_view_name": "StyleView",
            "_model_name": "ProgressStyleModel",
            "description_width": "",
            "_view_module": "@jupyter-widgets/base",
            "_model_module_version": "1.5.0",
            "_view_count": null,
            "_view_module_version": "1.2.0",
            "bar_color": null,
            "_model_module": "@jupyter-widgets/controls"
          }
        },
        "48b28946b9974bada279da8e80b80137": {
          "model_module": "@jupyter-widgets/base",
          "model_name": "LayoutModel",
          "model_module_version": "1.2.0",
          "state": {
            "_view_name": "LayoutView",
            "grid_template_rows": null,
            "right": null,
            "justify_content": null,
            "_view_module": "@jupyter-widgets/base",
            "overflow": null,
            "_model_module_version": "1.2.0",
            "_view_count": null,
            "flex_flow": null,
            "width": null,
            "min_width": null,
            "border": null,
            "align_items": null,
            "bottom": null,
            "_model_module": "@jupyter-widgets/base",
            "top": null,
            "grid_column": null,
            "overflow_y": null,
            "overflow_x": null,
            "grid_auto_flow": null,
            "grid_area": null,
            "grid_template_columns": null,
            "flex": null,
            "_model_name": "LayoutModel",
            "justify_items": null,
            "grid_row": null,
            "max_height": null,
            "align_content": null,
            "visibility": null,
            "align_self": null,
            "height": null,
            "min_height": null,
            "padding": null,
            "grid_auto_rows": null,
            "grid_gap": null,
            "max_width": null,
            "order": null,
            "_view_module_version": "1.2.0",
            "grid_template_areas": null,
            "object_position": null,
            "object_fit": null,
            "grid_auto_columns": null,
            "margin": null,
            "display": null,
            "left": null
          }
        },
        "b3ac95f7ae744f548f242d8a1e4ef2b1": {
          "model_module": "@jupyter-widgets/controls",
          "model_name": "DescriptionStyleModel",
          "model_module_version": "1.5.0",
          "state": {
            "_view_name": "StyleView",
            "_model_name": "DescriptionStyleModel",
            "description_width": "",
            "_view_module": "@jupyter-widgets/base",
            "_model_module_version": "1.5.0",
            "_view_count": null,
            "_view_module_version": "1.2.0",
            "_model_module": "@jupyter-widgets/controls"
          }
        },
        "91e6c359163449719f4ab18b193ad79a": {
          "model_module": "@jupyter-widgets/base",
          "model_name": "LayoutModel",
          "model_module_version": "1.2.0",
          "state": {
            "_view_name": "LayoutView",
            "grid_template_rows": null,
            "right": null,
            "justify_content": null,
            "_view_module": "@jupyter-widgets/base",
            "overflow": null,
            "_model_module_version": "1.2.0",
            "_view_count": null,
            "flex_flow": null,
            "width": null,
            "min_width": null,
            "border": null,
            "align_items": null,
            "bottom": null,
            "_model_module": "@jupyter-widgets/base",
            "top": null,
            "grid_column": null,
            "overflow_y": null,
            "overflow_x": null,
            "grid_auto_flow": null,
            "grid_area": null,
            "grid_template_columns": null,
            "flex": null,
            "_model_name": "LayoutModel",
            "justify_items": null,
            "grid_row": null,
            "max_height": null,
            "align_content": null,
            "visibility": null,
            "align_self": null,
            "height": null,
            "min_height": null,
            "padding": null,
            "grid_auto_rows": null,
            "grid_gap": null,
            "max_width": null,
            "order": null,
            "_view_module_version": "1.2.0",
            "grid_template_areas": null,
            "object_position": null,
            "object_fit": null,
            "grid_auto_columns": null,
            "margin": null,
            "display": null,
            "left": null
          }
        },
        "6616d46575ae4d9792c781c15ce66212": {
          "model_module": "@jupyter-widgets/controls",
          "model_name": "HBoxModel",
          "model_module_version": "1.5.0",
          "state": {
            "_view_name": "HBoxView",
            "_dom_classes": [],
            "_model_name": "HBoxModel",
            "_view_module": "@jupyter-widgets/controls",
            "_model_module_version": "1.5.0",
            "_view_count": null,
            "_view_module_version": "1.5.0",
            "box_style": "",
            "layout": "IPY_MODEL_964e0d0c81f341bc967f438b4521fe0c",
            "_model_module": "@jupyter-widgets/controls",
            "children": [
              "IPY_MODEL_e5d43f17c9c045bb81f68d6d1037bde9",
              "IPY_MODEL_8b7817ea03094343b8d1ffb549bde59c",
              "IPY_MODEL_488bcb4ca2e74b5ea87d0e7d7a6e6487"
            ]
          }
        },
        "964e0d0c81f341bc967f438b4521fe0c": {
          "model_module": "@jupyter-widgets/base",
          "model_name": "LayoutModel",
          "model_module_version": "1.2.0",
          "state": {
            "_view_name": "LayoutView",
            "grid_template_rows": null,
            "right": null,
            "justify_content": null,
            "_view_module": "@jupyter-widgets/base",
            "overflow": null,
            "_model_module_version": "1.2.0",
            "_view_count": null,
            "flex_flow": null,
            "width": null,
            "min_width": null,
            "border": null,
            "align_items": null,
            "bottom": null,
            "_model_module": "@jupyter-widgets/base",
            "top": null,
            "grid_column": null,
            "overflow_y": null,
            "overflow_x": null,
            "grid_auto_flow": null,
            "grid_area": null,
            "grid_template_columns": null,
            "flex": null,
            "_model_name": "LayoutModel",
            "justify_items": null,
            "grid_row": null,
            "max_height": null,
            "align_content": null,
            "visibility": null,
            "align_self": null,
            "height": null,
            "min_height": null,
            "padding": null,
            "grid_auto_rows": null,
            "grid_gap": null,
            "max_width": null,
            "order": null,
            "_view_module_version": "1.2.0",
            "grid_template_areas": null,
            "object_position": null,
            "object_fit": null,
            "grid_auto_columns": null,
            "margin": null,
            "display": null,
            "left": null
          }
        },
        "e5d43f17c9c045bb81f68d6d1037bde9": {
          "model_module": "@jupyter-widgets/controls",
          "model_name": "HTMLModel",
          "model_module_version": "1.5.0",
          "state": {
            "_view_name": "HTMLView",
            "style": "IPY_MODEL_9c0560c90d634351907ed5841ee336b0",
            "_dom_classes": [],
            "description": "",
            "_model_name": "HTMLModel",
            "placeholder": "​",
            "_view_module": "@jupyter-widgets/controls",
            "_model_module_version": "1.5.0",
            "value": "100%",
            "_view_count": null,
            "_view_module_version": "1.5.0",
            "description_tooltip": null,
            "_model_module": "@jupyter-widgets/controls",
            "layout": "IPY_MODEL_3d0e577c437f46b89a05341277a2be4a"
          }
        },
        "8b7817ea03094343b8d1ffb549bde59c": {
          "model_module": "@jupyter-widgets/controls",
          "model_name": "FloatProgressModel",
          "model_module_version": "1.5.0",
          "state": {
            "_view_name": "ProgressView",
            "style": "IPY_MODEL_00960055d59343e28e2c0741bcc3f771",
            "_dom_classes": [],
            "description": "",
            "_model_name": "FloatProgressModel",
            "bar_style": "success",
            "max": 4673,
            "_view_module": "@jupyter-widgets/controls",
            "_model_module_version": "1.5.0",
            "value": 4673,
            "_view_count": null,
            "_view_module_version": "1.5.0",
            "orientation": "horizontal",
            "min": 0,
            "description_tooltip": null,
            "_model_module": "@jupyter-widgets/controls",
            "layout": "IPY_MODEL_c49ad8bb956846ffa6d42ec544d6384a"
          }
        },
        "488bcb4ca2e74b5ea87d0e7d7a6e6487": {
          "model_module": "@jupyter-widgets/controls",
          "model_name": "HTMLModel",
          "model_module_version": "1.5.0",
          "state": {
            "_view_name": "HTMLView",
            "style": "IPY_MODEL_65fae7f24d084d099117bac37f00f0f0",
            "_dom_classes": [],
            "description": "",
            "_model_name": "HTMLModel",
            "placeholder": "​",
            "_view_module": "@jupyter-widgets/controls",
            "_model_module_version": "1.5.0",
            "value": " 4673/4673 [00:01&lt;00:00, 3591.73it/s]",
            "_view_count": null,
            "_view_module_version": "1.5.0",
            "description_tooltip": null,
            "_model_module": "@jupyter-widgets/controls",
            "layout": "IPY_MODEL_9d00609fc4db44a2bab72043d2f0602f"
          }
        },
        "9c0560c90d634351907ed5841ee336b0": {
          "model_module": "@jupyter-widgets/controls",
          "model_name": "DescriptionStyleModel",
          "model_module_version": "1.5.0",
          "state": {
            "_view_name": "StyleView",
            "_model_name": "DescriptionStyleModel",
            "description_width": "",
            "_view_module": "@jupyter-widgets/base",
            "_model_module_version": "1.5.0",
            "_view_count": null,
            "_view_module_version": "1.2.0",
            "_model_module": "@jupyter-widgets/controls"
          }
        },
        "3d0e577c437f46b89a05341277a2be4a": {
          "model_module": "@jupyter-widgets/base",
          "model_name": "LayoutModel",
          "model_module_version": "1.2.0",
          "state": {
            "_view_name": "LayoutView",
            "grid_template_rows": null,
            "right": null,
            "justify_content": null,
            "_view_module": "@jupyter-widgets/base",
            "overflow": null,
            "_model_module_version": "1.2.0",
            "_view_count": null,
            "flex_flow": null,
            "width": null,
            "min_width": null,
            "border": null,
            "align_items": null,
            "bottom": null,
            "_model_module": "@jupyter-widgets/base",
            "top": null,
            "grid_column": null,
            "overflow_y": null,
            "overflow_x": null,
            "grid_auto_flow": null,
            "grid_area": null,
            "grid_template_columns": null,
            "flex": null,
            "_model_name": "LayoutModel",
            "justify_items": null,
            "grid_row": null,
            "max_height": null,
            "align_content": null,
            "visibility": null,
            "align_self": null,
            "height": null,
            "min_height": null,
            "padding": null,
            "grid_auto_rows": null,
            "grid_gap": null,
            "max_width": null,
            "order": null,
            "_view_module_version": "1.2.0",
            "grid_template_areas": null,
            "object_position": null,
            "object_fit": null,
            "grid_auto_columns": null,
            "margin": null,
            "display": null,
            "left": null
          }
        },
        "00960055d59343e28e2c0741bcc3f771": {
          "model_module": "@jupyter-widgets/controls",
          "model_name": "ProgressStyleModel",
          "model_module_version": "1.5.0",
          "state": {
            "_view_name": "StyleView",
            "_model_name": "ProgressStyleModel",
            "description_width": "",
            "_view_module": "@jupyter-widgets/base",
            "_model_module_version": "1.5.0",
            "_view_count": null,
            "_view_module_version": "1.2.0",
            "bar_color": null,
            "_model_module": "@jupyter-widgets/controls"
          }
        },
        "c49ad8bb956846ffa6d42ec544d6384a": {
          "model_module": "@jupyter-widgets/base",
          "model_name": "LayoutModel",
          "model_module_version": "1.2.0",
          "state": {
            "_view_name": "LayoutView",
            "grid_template_rows": null,
            "right": null,
            "justify_content": null,
            "_view_module": "@jupyter-widgets/base",
            "overflow": null,
            "_model_module_version": "1.2.0",
            "_view_count": null,
            "flex_flow": null,
            "width": null,
            "min_width": null,
            "border": null,
            "align_items": null,
            "bottom": null,
            "_model_module": "@jupyter-widgets/base",
            "top": null,
            "grid_column": null,
            "overflow_y": null,
            "overflow_x": null,
            "grid_auto_flow": null,
            "grid_area": null,
            "grid_template_columns": null,
            "flex": null,
            "_model_name": "LayoutModel",
            "justify_items": null,
            "grid_row": null,
            "max_height": null,
            "align_content": null,
            "visibility": null,
            "align_self": null,
            "height": null,
            "min_height": null,
            "padding": null,
            "grid_auto_rows": null,
            "grid_gap": null,
            "max_width": null,
            "order": null,
            "_view_module_version": "1.2.0",
            "grid_template_areas": null,
            "object_position": null,
            "object_fit": null,
            "grid_auto_columns": null,
            "margin": null,
            "display": null,
            "left": null
          }
        },
        "65fae7f24d084d099117bac37f00f0f0": {
          "model_module": "@jupyter-widgets/controls",
          "model_name": "DescriptionStyleModel",
          "model_module_version": "1.5.0",
          "state": {
            "_view_name": "StyleView",
            "_model_name": "DescriptionStyleModel",
            "description_width": "",
            "_view_module": "@jupyter-widgets/base",
            "_model_module_version": "1.5.0",
            "_view_count": null,
            "_view_module_version": "1.2.0",
            "_model_module": "@jupyter-widgets/controls"
          }
        },
        "9d00609fc4db44a2bab72043d2f0602f": {
          "model_module": "@jupyter-widgets/base",
          "model_name": "LayoutModel",
          "model_module_version": "1.2.0",
          "state": {
            "_view_name": "LayoutView",
            "grid_template_rows": null,
            "right": null,
            "justify_content": null,
            "_view_module": "@jupyter-widgets/base",
            "overflow": null,
            "_model_module_version": "1.2.0",
            "_view_count": null,
            "flex_flow": null,
            "width": null,
            "min_width": null,
            "border": null,
            "align_items": null,
            "bottom": null,
            "_model_module": "@jupyter-widgets/base",
            "top": null,
            "grid_column": null,
            "overflow_y": null,
            "overflow_x": null,
            "grid_auto_flow": null,
            "grid_area": null,
            "grid_template_columns": null,
            "flex": null,
            "_model_name": "LayoutModel",
            "justify_items": null,
            "grid_row": null,
            "max_height": null,
            "align_content": null,
            "visibility": null,
            "align_self": null,
            "height": null,
            "min_height": null,
            "padding": null,
            "grid_auto_rows": null,
            "grid_gap": null,
            "max_width": null,
            "order": null,
            "_view_module_version": "1.2.0",
            "grid_template_areas": null,
            "object_position": null,
            "object_fit": null,
            "grid_auto_columns": null,
            "margin": null,
            "display": null,
            "left": null
          }
        }
      }
    },
    "accelerator": "GPU"
  },
  "cells": [
    {
      "cell_type": "markdown",
      "metadata": {
        "id": "8ngo-MXwj7Oy"
      },
      "source": [
        "# Install Libraries"
      ]
    },
    {
      "cell_type": "code",
      "metadata": {
        "id": "6uk8ibx2j6aK",
        "colab": {
          "base_uri": "https://localhost:8080/"
        },
        "outputId": "0bd80722-042c-4c76-b476-58f962635580"
      },
      "source": [
        "!pip install pillow\n",
        "!nvidia-smi"
      ],
      "execution_count": 1,
      "outputs": [
        {
          "output_type": "stream",
          "name": "stdout",
          "text": [
            "Requirement already satisfied: pillow in /usr/local/lib/python3.7/dist-packages (7.1.2)\n",
            "Wed Dec 15 23:27:53 2021       \n",
            "+-----------------------------------------------------------------------------+\n",
            "| NVIDIA-SMI 495.44       Driver Version: 460.32.03    CUDA Version: 11.2     |\n",
            "|-------------------------------+----------------------+----------------------+\n",
            "| GPU  Name        Persistence-M| Bus-Id        Disp.A | Volatile Uncorr. ECC |\n",
            "| Fan  Temp  Perf  Pwr:Usage/Cap|         Memory-Usage | GPU-Util  Compute M. |\n",
            "|                               |                      |               MIG M. |\n",
            "|===============================+======================+======================|\n",
            "|   0  Tesla K80           Off  | 00000000:00:04.0 Off |                    0 |\n",
            "| N/A   49C    P8    28W / 149W |      0MiB / 11441MiB |      0%      Default |\n",
            "|                               |                      |                  N/A |\n",
            "+-------------------------------+----------------------+----------------------+\n",
            "                                                                               \n",
            "+-----------------------------------------------------------------------------+\n",
            "| Processes:                                                                  |\n",
            "|  GPU   GI   CI        PID   Type   Process name                  GPU Memory |\n",
            "|        ID   ID                                                   Usage      |\n",
            "|=============================================================================|\n",
            "|  No running processes found                                                 |\n",
            "+-----------------------------------------------------------------------------+\n"
          ]
        }
      ]
    },
    {
      "cell_type": "markdown",
      "metadata": {
        "id": "1nvQsm7qhMPy"
      },
      "source": [
        "# Download Dataset"
      ]
    },
    {
      "cell_type": "code",
      "metadata": {
        "id": "OWpZd9_4b9gm",
        "colab": {
          "base_uri": "https://localhost:8080/"
        },
        "outputId": "b7141a8e-fb0e-41a0-b249-8c27d868c3f0"
      },
      "source": [
        "DATASET_FILE = \"scalene_triangle_0_355_step5_randomdisp_5000randomtest.zip\"\n",
        "DATASET_DIR = \"scalene_triangle_0_355_step5_randomdisp_5000randomtest\"\n",
        "!rm -rf \"$DATASET_DIR\"\n",
        "!curl -L https://github.com/joshbarrass/Y4ProjectNotebooks/raw/master/$DATASET_FILE > \"$DATASET_FILE\"\n",
        "!unzip -d \"$DATASET_DIR\" \"$DATASET_FILE\" > /dev/null"
      ],
      "execution_count": 2,
      "outputs": [
        {
          "output_type": "stream",
          "name": "stdout",
          "text": [
            "  % Total    % Received % Xferd  Average Speed   Time    Time     Time  Current\n",
            "                                 Dload  Upload   Total   Spent    Left  Speed\n",
            "\r  0     0    0     0    0     0      0      0 --:--:-- --:--:-- --:--:--     0\r100   188  100   188    0     0   1528      0 --:--:-- --:--:-- --:--:--  1528\n",
            "100   199  100   199    0     0    917      0 --:--:-- --:--:-- --:--:--   917\n",
            "100 19.6M  100 19.6M    0     0  24.1M      0 --:--:-- --:--:-- --:--:-- 24.1M\n"
          ]
        }
      ]
    },
    {
      "cell_type": "markdown",
      "metadata": {
        "id": "QM9iHDyVobZ7"
      },
      "source": [
        "# Define Helper Functions"
      ]
    },
    {
      "cell_type": "code",
      "metadata": {
        "id": "Hgf278ejobQO"
      },
      "source": [
        "import numpy as np\n",
        "import tensorflow as tf\n",
        "from tensorflow.keras import layers\n",
        "from scipy.spatial.transform import Rotation as R\n",
        "\n",
        "D6_SHAPE = (3, 2)\n",
        "\n",
        "def normalise(x):\n",
        "    return x / np.linalg.norm(x)\n",
        "\n",
        "def from_SO3_to_6D(SO3):\n",
        "    \"\"\"Convert an SO(3) rotation matrix to a 6D internal representation.\"\"\"\n",
        "    return SO3[:,:2]\n",
        "\n",
        "def from_6D_to_SO3(D6):\n",
        "    \"\"\"Convert a 6D internal representation to an SO(3) rotation matrix.\"\"\"\n",
        "    b1 = normalise(D6[:,0])\n",
        "    b2 = normalise(D6[:,1] - np.dot(b1, D6[:,1])*b1)\n",
        "    b3 = np.cross(b1, b2)\n",
        "    return np.array([b1, b2, b3]).T\n",
        "\n",
        "def tf_6D_to_SO3(D6):\n",
        "  \"\"\"tensorflow-compatible conversion from 6D to SO(3). Used in the D6Convert layer.\"\"\"\n",
        "  a1 = D6[:,:,0]\n",
        "  a2 = D6[:,:,1]\n",
        "  b1 = tf.math.l2_normalize(a1, axis=-1)\n",
        "  b2 = tf.math.l2_normalize(a2 - tf.reduce_sum(b1*a2)*b1, axis=-1)\n",
        "  b3 = tf.linalg.cross(b1, b2)\n",
        "  return tf.stack([b1, b2, b3], axis=2)\n",
        "\n",
        "class D6Convert(layers.Layer):\n",
        "  def call(self, inputs):\n",
        "    target_input_shape = tf.TensorShape(((None,) + D6_SHAPE))\n",
        "    if not inputs.shape.is_compatible_with(target_input_shape):\n",
        "      raise TypeError(\"inputs to D6Convert should have shape {}, not {}\".format(target_input_shape, inputs.shape))\n",
        "    return tf_6D_to_SO3(inputs)\n",
        "\n",
        "### DEPRECATED: Returns wrong value\n",
        "# def SO3_distance(M1, M2):\n",
        "#  \"\"\"Returns the distance between two SO3 matrices in degrees\"\"\"\n",
        "#  R = M1 * np.linalg.inv(M2)\n",
        "#  return np.rad2deg(np.arccos((np.trace(R)-1)/2))"
      ],
      "execution_count": 3,
      "outputs": []
    },
    {
      "cell_type": "markdown",
      "metadata": {
        "id": "-ibV1fr0oJPF"
      },
      "source": [
        "# Implement Quaternion SO(3) Distance"
      ]
    },
    {
      "cell_type": "code",
      "metadata": {
        "id": "KRnumNchoGfE"
      },
      "source": [
        "# quaternion [x, y, z, w]: w + xi + yj + zk\n",
        "# this is the format outputted by scipy\n",
        "def SO3_distance(M1, M2):\n",
        "  \"\"\"Returns the angle between two SO3 matrices in degrees.\n",
        "\n",
        "  This is done by converting the matrices to quaternions and multiplying the\n",
        "  conjugate of one with the other. The scalar part of the resulting quaternion\n",
        "  is then cos(theta/2). The expression has been simplified to calculate only the\n",
        "  scalar part.\"\"\"\n",
        "  x1, y1, z1, w1 = R.from_matrix(M1).as_quat()\n",
        "  x2, y2, z2, w2 = R.from_matrix(M2).as_quat()\n",
        "  angle = np.rad2deg(2*np.arccos(w1*w2 + x1*x2 + y1*y2 + z1*z2))\n",
        "  # maximum rotation away from a given angle is 180 degrees\n",
        "  # any further and you reduce the angle by rotating the opposite direction\n",
        "  # some edge cases produce angles > 180 degrees, so rectify these\n",
        "  if angle > 180:\n",
        "    return 360 - angle\n",
        "  return angle\n",
        "\n",
        "### TEST SO3_distance\n",
        "test_tolerance = 0.001\n",
        "for i in range(100):\n",
        "  test_angle1, test_angle2 = np.random.uniform(0, 180, 2) # max difference should be 180, as > 180 is no longer the shortest angle\n",
        "  testM1 = R.from_euler(\"zyx\", [test_angle1, 0, 0], degrees=True).as_matrix()\n",
        "  testM2 = R.from_euler(\"zyx\", [test_angle2, 0, 0], degrees=True).as_matrix()\n",
        "  test_true_angle = abs(test_angle1-test_angle2)\n",
        "  test_angle = abs(SO3_distance(testM1, testM2))\n",
        "  assert test_angle + test_tolerance > test_true_angle and test_angle - test_tolerance < test_true_angle"
      ],
      "execution_count": 4,
      "outputs": []
    },
    {
      "cell_type": "code",
      "metadata": {
        "id": "8hZ1-TLsB4ka",
        "colab": {
          "base_uri": "https://localhost:8080/"
        },
        "outputId": "40448af7-b7a3-42ba-d312-6048b8c10c14"
      },
      "source": [
        "SO31 = R.from_euler(\"zyx\",[3, 2, 1]).as_matrix()\n",
        "D61 = from_SO3_to_6D(SO31)\n",
        "SO32 = R.from_euler(\"zyx\",[0.5, 1, 1.2]).as_matrix()\n",
        "D62 = from_SO3_to_6D(SO32)\n",
        "print(\"True:\", SO31, \"\\n\", SO32, sep=\"\")\n",
        "print(\"np1:\", from_6D_to_SO3(D61))\n",
        "print(\"np2:\", from_6D_to_SO3(D62))\n",
        "print(\"tf:\", tf_6D_to_SO3(np.array([D61, D62])))"
      ],
      "execution_count": 5,
      "outputs": [
        {
          "output_type": "stream",
          "name": "stdout",
          "text": [
            "True:[[ 0.41198225  0.05872664  0.90929743]\n",
            " [-0.68124272 -0.64287284  0.35017549]\n",
            " [ 0.60512725 -0.76371834 -0.2248451 ]]\n",
            "[[ 0.47415988 -0.25903472  0.84147098]\n",
            " [ 0.86199739 -0.05800686 -0.50358287]\n",
            " [ 0.17925654  0.96412459  0.19578273]]\n",
            "np1: [[ 0.41198225  0.05872664  0.90929743]\n",
            " [-0.68124272 -0.64287284  0.35017549]\n",
            " [ 0.60512725 -0.76371834 -0.2248451 ]]\n",
            "np2: [[ 0.47415988 -0.25903472  0.84147098]\n",
            " [ 0.86199739 -0.05800686 -0.50358287]\n",
            " [ 0.17925654  0.96412459  0.19578273]]\n",
            "tf: tf.Tensor(\n",
            "[[[ 0.41198225  0.05872664  0.90929743]\n",
            "  [-0.68124272 -0.64287284  0.35017549]\n",
            "  [ 0.60512725 -0.76371834 -0.2248451 ]]\n",
            "\n",
            " [[ 0.47415988 -0.25903472  0.84147098]\n",
            "  [ 0.86199739 -0.05800686 -0.50358287]\n",
            "  [ 0.17925654  0.96412459  0.19578273]]], shape=(2, 3, 3), dtype=float64)\n"
          ]
        }
      ]
    },
    {
      "cell_type": "markdown",
      "metadata": {
        "id": "RcGH48Hp4_rS"
      },
      "source": [
        "# Create Image Centering Function"
      ]
    },
    {
      "cell_type": "code",
      "metadata": {
        "id": "bIttHkkz5ACK"
      },
      "source": [
        "import numpy as np\n",
        "from scipy import ndimage\n",
        "from PIL import Image\n",
        "def centre_image(a: np.ndarray, target_centre=(0,0)):\n",
        "  \"\"\"Centres a single-channel image using centre of mass.\n",
        "  \n",
        "  Target centre is defined such that (x=0,y=0) is the centre of the image.\n",
        "  Increasing x moves the centre to the right, increasing y moves the centre\n",
        "  down.\"\"\"\n",
        "  if len(a.shape) == 2:\n",
        "    a = a.reshape((1,) + a.shape)\n",
        "\n",
        "  # determine all centres of mass\n",
        "  # TODO: can potentially take advantage of labelling to remove \"noise islands\"\n",
        "  if len(a.shape) == 3:\n",
        "    COM = np.zeros((a.shape[0], 2))\n",
        "    for i in range(a.shape[0]):\n",
        "      COM[i] = ndimage.measurements.center_of_mass(a[i])\n",
        "  else:\n",
        "    raise TypeError(\"a should be either 2D image or an array of 2D\")\n",
        "\n",
        "  output = np.zeros(a.shape)\n",
        "\n",
        "  # translate COM to centre of image\n",
        "  for i in range(a.shape[0]):\n",
        "    im = a[i]\n",
        "    target_centre = (im.shape[0]/2 + target_centre[0],\n",
        "                     im.shape[1]/2 + target_centre[1])\n",
        "    # use affine transform with a=1, e=1, i=1, c=x, f=y to translate\n",
        "    translation = (COM[i][0] - target_centre[0], COM[i][1] - target_centre[1])\n",
        "    transform = np.array([[1, 0, translation[0]],\n",
        "                          [0, 1, translation[1]],\n",
        "                          [0, 0, 1]])\n",
        "    output[i] = ndimage.affine_transform(im, transform, order=0)\n",
        "  \n",
        "  return output\n"
      ],
      "execution_count": 6,
      "outputs": []
    },
    {
      "cell_type": "markdown",
      "metadata": {
        "id": "F5wRIHdPjNIw"
      },
      "source": [
        "# Load and Pre-Process Training Data"
      ]
    },
    {
      "cell_type": "code",
      "metadata": {
        "id": "uYFiuLaEhlpB",
        "colab": {
          "base_uri": "https://localhost:8080/",
          "height": 909,
          "referenced_widgets": [
            "31b95ef76c2c4f30a05a6563fcbda5d5",
            "8e9b14ebaee64507b869ed5e4d0a87d4",
            "2ee14485d00847b6bd8465e52ddd3cbe",
            "14634e94147c43069df2330c6a717c29",
            "bf8d7b38d58145419878a196f3f68a91",
            "e975f54809f745cd8d6d7f73e02e8eb8",
            "2854b9ce1a6046efa5b96748a04b9f0b",
            "65ee08fa3a8c4bbdb9366707ac51fadb",
            "3e14ab83944345c685808f729261e91e",
            "fd8ccbf25d074d4b8c9c4a37633f907e",
            "39f427676ece4e818ee1f25176623afe",
            "68f5a729a3b34fe0a92685ba873663f7",
            "d1d4f7a9a6654c0e9fad9a621814312b",
            "36fce4c3341c467e8002b16e0435cc4b",
            "792dab45a90748e88e5703ff77189d0c",
            "d2273d69cf544c14a54c551139c0bd59",
            "4d19b7318b8a4dfcbf64d98e2b3953b2",
            "d1b1ada78a3c4e72aefe33d66be6eb11",
            "553207dcfe644bb1803465f75b7bca60",
            "48b28946b9974bada279da8e80b80137",
            "b3ac95f7ae744f548f242d8a1e4ef2b1",
            "91e6c359163449719f4ab18b193ad79a"
          ]
        },
        "outputId": "0ef2c51e-2b18-4f03-ea86-9947e22d1a67"
      },
      "source": [
        "import os\n",
        "import random\n",
        "from scipy.spatial.transform import Rotation as R\n",
        "from PIL import ImageFilter\n",
        "from tqdm.notebook import tqdm\n",
        "from matplotlib import pyplot as plt\n",
        "\n",
        "def polar_to_cartesian(r, theta):\n",
        "  r = np.abs(r)\n",
        "  return r*np.cos(theta), r*np.sin(theta)\n",
        "\n",
        "random.seed(0)\n",
        "\n",
        "RESIZE_SHAPE = (32, 32) # (x, y)\n",
        "\n",
        "GAUSS_RADIUS = 1 * RESIZE_SHAPE[0]/50\n",
        "image_filter = ImageFilter.GaussianBlur(radius=GAUSS_RADIUS)\n",
        "\n",
        "# displace the centre randomly\n",
        "AUGMENT_CENTRE = True\n",
        "CENTRE_AUGMENTATIONS = 16 if AUGMENT_CENTRE else 1\n",
        "CENTRE_AUGMENTATION_SIGMA = 2 * RESIZE_SHAPE[0]/50\n",
        "\n",
        "# dataset size increase factor due to augmentations\n",
        "AUG_MULTIPLIER = 1 * CENTRE_AUGMENTATIONS\n",
        "\n",
        "image_files = os.listdir(os.path.join(DATASET_DIR, \"train\"))\n",
        "total_images = len(image_files)\n",
        "print(f\"Dataset contains {total_images} images\")\n",
        "if total_images == 0:\n",
        "  raise ValueError(\"dataset has no images\")\n",
        "\n",
        "# image_shape = Image.open(os.path.join(DATASET_DIR, image_files[0])).size\n",
        "image_shape = RESIZE_SHAPE + (1,)\n",
        "print(f\"Image shape is {image_shape}\")\n",
        "x_data = np.zeros((total_images*AUG_MULTIPLIER,) + image_shape, dtype=\"float32\")\n",
        "y_data = np.zeros((total_images*AUG_MULTIPLIER, 3, 3), dtype=\"float32\")\n",
        "print(f\"x will have shape {x_data.shape}\")\n",
        "print(f\"y will have shape {y_data.shape}\")\n",
        "print(\"Processing image files...\")\n",
        "\n",
        "def process_image(imf, augment_centre=False):\n",
        "  \"\"\"Takes a path to an image and loads it, performs pre-processing, and returns the xdata and ydata\"\"\"\n",
        "  im = Image.open(imf).convert(\"L\")\n",
        "  im = im.resize(RESIZE_SHAPE)\n",
        "  im = im.filter(image_filter) # blur early to simulate imperfect focus\n",
        "  im = np.array(im).T # gives image with correct shape for centring\n",
        "  angle = os.path.splitext(os.path.basename(imf))[0]\n",
        "  if \"_\" in angle: # multiple examples; separate out the angle from the index\n",
        "    angle = angle.split(\"_\")[1]\n",
        "  angle = float(angle)\n",
        "  assert angle >= 0 and angle < 360\n",
        "  rot_matrix = R.from_euler(\"zyx\", (angle, 0, 0), True).as_matrix()\n",
        "  \n",
        "  # return now if no augmentations needed\n",
        "  if not augment_centre: # and not ...\n",
        "    return centre_image(im).reshape(image_shape)/255., rot_matrix\n",
        "  \n",
        "  # construct larger arrays for multiple images\n",
        "  ims = np.empty((AUG_MULTIPLIER, ) + image_shape)\n",
        "  rot_matrices = np.zeros((AUG_MULTIPLIER, 3, 3), dtype=rot_matrix.dtype)\n",
        "  rot_matrices[:] = rot_matrix\n",
        "\n",
        "  if augment_centre:\n",
        "    for i in range(CENTRE_AUGMENTATIONS):\n",
        "      r = np.random.normal(loc=0, scale=CENTRE_AUGMENTATION_SIGMA)\n",
        "      #r = np.random.uniform(low=-CENTRE_AUGMENTATION_SIGMA, high=CENTRE_AUGMENTATION_SIGMA)\n",
        "      theta = np.random.uniform(low=0, high=2*np.pi)\n",
        "      ims[i] = centre_image(im, polar_to_cartesian(r, theta)).reshape(image_shape)/255.  \n",
        "  \n",
        "  return ims, rot_matrices\n",
        "\n",
        "# load training data\n",
        "for i, imf in tqdm(enumerate(image_files), total=total_images):\n",
        "  if AUG_MULTIPLIER == 1:\n",
        "    x_data[i,:,:], y_data[i,:,:] = process_image(os.path.join(DATASET_DIR, \"train\", imf))\n",
        "  else:\n",
        "    n = AUG_MULTIPLIER # alias\n",
        "    x_data[i*n:i*n+n,:,:], y_data[i*n:i*n+n,:,:] = process_image(\n",
        "        os.path.join(DATASET_DIR, \"train\", imf),\n",
        "        augment_centre=AUGMENT_CENTRE,\n",
        "    )\n",
        "\n",
        "test_image_files = os.listdir(os.path.join(DATASET_DIR, \"test\"))\n",
        "total_test_images = len(test_image_files)\n",
        "x_test = np.zeros((total_test_images,) + x_data.shape[1:])\n",
        "y_test = np.zeros((total_test_images,) + y_data.shape[1:])\n",
        "print(\"Loading test data...\")\n",
        "for i, imf in tqdm(enumerate(test_image_files), total=total_test_images):\n",
        "  x_test[i,:,:], y_test[i,:,:] = process_image(os.path.join(DATASET_DIR, \"test\", imf))\n",
        "\n",
        "print(f\"x_data has shape {x_data.shape}\")\n",
        "print(f\"y_data has shape {y_data.shape}\")\n",
        "print(f\"x_test has shape {x_test.shape}\")\n",
        "print(f\"y_test has shape {y_test.shape}\")\n",
        "\n",
        "print(f\"x_data values range from {np.min(x_data)} to {np.max(x_data)}\")\n",
        "\n",
        "im0 = x_data[0,:,:].reshape(RESIZE_SHAPE).T\n",
        "rot0 = y_data[0]\n",
        "plt.imshow(im0)\n",
        "COM = ndimage.measurements.center_of_mass(im0.T)\n",
        "plt.axvline(COM[0])\n",
        "plt.axhline(COM[1])\n",
        "print(rot0)\n",
        "print(COM)\n",
        "plt.show()\n",
        "\n",
        "im1 = x_test[1,:,:].reshape(RESIZE_SHAPE).T\n",
        "rot1 = y_test[1]\n",
        "plt.imshow(im1)\n",
        "COM = ndimage.measurements.center_of_mass(im1.T)\n",
        "plt.axvline(COM[0])\n",
        "plt.axhline(COM[1])\n",
        "print(rot1)\n",
        "print(COM)\n",
        "plt.show()\n"
      ],
      "execution_count": 7,
      "outputs": [
        {
          "output_type": "stream",
          "name": "stdout",
          "text": [
            "Dataset contains 360 images\n",
            "Image shape is (32, 32, 1)\n",
            "x will have shape (5760, 32, 32, 1)\n",
            "y will have shape (5760, 3, 3)\n",
            "Processing image files...\n"
          ]
        },
        {
          "output_type": "display_data",
          "data": {
            "application/vnd.jupyter.widget-view+json": {
              "model_id": "31b95ef76c2c4f30a05a6563fcbda5d5",
              "version_minor": 0,
              "version_major": 2
            },
            "text/plain": [
              "  0%|          | 0/360 [00:00<?, ?it/s]"
            ]
          },
          "metadata": {}
        },
        {
          "output_type": "stream",
          "name": "stdout",
          "text": [
            "Loading test data...\n"
          ]
        },
        {
          "output_type": "display_data",
          "data": {
            "application/vnd.jupyter.widget-view+json": {
              "model_id": "68f5a729a3b34fe0a92685ba873663f7",
              "version_minor": 0,
              "version_major": 2
            },
            "text/plain": [
              "  0%|          | 0/4673 [00:00<?, ?it/s]"
            ]
          },
          "metadata": {}
        },
        {
          "output_type": "stream",
          "name": "stdout",
          "text": [
            "x_data has shape (5760, 32, 32, 1)\n",
            "y_data has shape (5760, 3, 3)\n",
            "x_test has shape (4673, 32, 32, 1)\n",
            "y_test has shape (4673, 3, 3)\n",
            "x_data values range from 0.0 to 1.0\n",
            "[[ 0.5       -0.8660254  0.       ]\n",
            " [ 0.8660254  0.5        0.       ]\n",
            " [ 0.         0.         1.       ]]\n",
            "(17.025142313208242, 16.228876867048555)\n"
          ]
        },
        {
          "output_type": "display_data",
          "data": {
            "image/png": "[encoded data removed]",
            "text/plain": [
              "<Figure size 432x288 with 1 Axes>"
            ]
          },
          "metadata": {
            "needs_background": "light"
          }
        },
        {
          "output_type": "stream",
          "name": "stdout",
          "text": [
            "[[ 0.99479214  0.10192446  0.        ]\n",
            " [-0.10192446  0.99479214  0.        ]\n",
            " [ 0.          0.          1.        ]]\n",
            "(15.64658359243029, 16.407863490586823)\n"
          ]
        },
        {
          "output_type": "display_data",
          "data": {
            "image/png": "[encoded data removed]",
            "text/plain": [
              "<Figure size 432x288 with 1 Axes>"
            ]
          },
          "metadata": {
            "needs_background": "light"
          }
        }
      ]
    },
    {
      "cell_type": "markdown",
      "metadata": {
        "id": "xXnHpEUMYlSc"
      },
      "source": [
        "# Construct Network"
      ]
    },
    {
      "cell_type": "code",
      "metadata": {
        "id": "Vat7z3grkag2",
        "colab": {
          "base_uri": "https://localhost:8080/"
        },
        "outputId": "00bb6208-96c8-4191-f5ae-30c69766437d"
      },
      "source": [
        "from tensorflow import keras\n",
        "from tensorflow.keras import layers\n",
        "\n",
        "batch_size = 16\n",
        "epochs = 100\n",
        "\n",
        "model = keras.Sequential([\n",
        "                          layers.InputLayer(input_shape=image_shape),\n",
        "                          layers.Conv2D(filters=32, kernel_size=3, activation=\"relu\"),\n",
        "                          layers.MaxPool2D(pool_size=2, strides=2),\n",
        "                          layers.Conv2D(filters=32, kernel_size=3, activation=\"relu\"),\n",
        "                          layers.MaxPool2D(pool_size=2, strides=2),\n",
        "                          layers.Flatten(),\n",
        "                          layers.Dense(64, activation=\"relu\"),\n",
        "                          layers.Dense(128, activation=\"relu\"),\n",
        "                          layers.Dense(256, activation=\"relu\"),\n",
        "                          layers.Dense(128, activation=\"relu\"),\n",
        "                          layers.Dense(64, activation=\"relu\"),\n",
        "                          layers.Dense(np.prod(D6_SHAPE), activation=\"tanh\"),\n",
        "                          layers.Reshape(D6_SHAPE),\n",
        "                          D6Convert(),\n",
        "])\n",
        "model.summary()\n",
        "# possible new optimizer: keras.optimizers.SGD(learning_rate=0.007, momentum=0.1)\n",
        "model.compile(optimizer=\"sgd\", loss=\"mean_squared_error\", metrics=[\"accuracy\"])"
      ],
      "execution_count": 64,
      "outputs": [
        {
          "output_type": "stream",
          "name": "stdout",
          "text": [
            "Model: \"sequential_6\"\n",
            "_________________________________________________________________\n",
            " Layer (type)                Output Shape              Param #   \n",
            "=================================================================\n",
            " conv2d_12 (Conv2D)          (None, 30, 30, 32)        320       \n",
            "                                                                 \n",
            " max_pooling2d_12 (MaxPoolin  (None, 15, 15, 32)       0         \n",
            " g2D)                                                            \n",
            "                                                                 \n",
            " conv2d_13 (Conv2D)          (None, 13, 13, 32)        9248      \n",
            "                                                                 \n",
            " max_pooling2d_13 (MaxPoolin  (None, 6, 6, 32)         0         \n",
            " g2D)                                                            \n",
            "                                                                 \n",
            " flatten_6 (Flatten)         (None, 1152)              0         \n",
            "                                                                 \n",
            " dense_36 (Dense)            (None, 64)                73792     \n",
            "                                                                 \n",
            " dense_37 (Dense)            (None, 128)               8320      \n",
            "                                                                 \n",
            " dense_38 (Dense)            (None, 256)               33024     \n",
            "                                                                 \n",
            " dense_39 (Dense)            (None, 128)               32896     \n",
            "                                                                 \n",
            " dense_40 (Dense)            (None, 64)                8256      \n",
            "                                                                 \n",
            " dense_41 (Dense)            (None, 6)                 390       \n",
            "                                                                 \n",
            " reshape_6 (Reshape)         (None, 3, 2)              0         \n",
            "                                                                 \n",
            " d6_convert_6 (D6Convert)    (None, 3, 3)              0         \n",
            "                                                                 \n",
            "=================================================================\n",
            "Total params: 166,246\n",
            "Trainable params: 166,246\n",
            "Non-trainable params: 0\n",
            "_________________________________________________________________\n"
          ]
        }
      ]
    },
    {
      "cell_type": "markdown",
      "metadata": {
        "id": "H_8k1tdWhmG_"
      },
      "source": [
        "# Train Model"
      ]
    },
    {
      "cell_type": "code",
      "metadata": {
        "colab": {
          "base_uri": "https://localhost:8080/"
        },
        "id": "O1Ic9SjfgAkH",
        "outputId": "4fe58873-44b3-4671-b4f7-c9943ad1780f"
      },
      "source": [
        "from matplotlib import gridspec\n",
        "import time\n",
        "\n",
        "VALIDATION_FRACTION = 0.1\n",
        "\n",
        "def choose_validation(n, x, y):\n",
        "  \"\"\"Choose n items at random from both arrays, maintaining the same order in both.\n",
        "  Items will not be duplicated.\"\"\"\n",
        "  x_out = np.empty((n,)+x.shape[1:], dtype=x.dtype)\n",
        "  y_out = np.empty((n,)+y.shape[1:], dtype=y.dtype)\n",
        "\n",
        "  indices = random.sample(range(n), n)\n",
        "  for i, j in enumerate(indices):\n",
        "    x_out[i] = x[j]\n",
        "    y_out[i] = y[j]\n",
        "  return x_out, y_out\n",
        "\n",
        "x_val, y_val = choose_validation(int(x_test.shape[0]*VALIDATION_FRACTION), x_test, y_test)\n",
        "\n",
        "start_time = time.time()\n",
        "history = model.fit(\n",
        "    x_data,\n",
        "    y_data,\n",
        "    batch_size,\n",
        "    epochs,\n",
        "    validation_data=(x_val, y_val),\n",
        "    steps_per_epoch=int(np.ceil(x_data.shape[0]/batch_size)),\n",
        "    shuffle=True,\n",
        ")\n",
        "end_time = time.time()\n",
        "print(\"Training time:\", end_time-start_time, \"seconds\")"
      ],
      "execution_count": 65,
      "outputs": [
        {
          "output_type": "stream",
          "name": "stdout",
          "text": [
            "Epoch 1/100\n",
            "360/360 [==============================] - 3s 7ms/step - loss: 0.4734 - accuracy: 0.5030 - val_loss: 0.4592 - val_accuracy: 0.5310\n",
            "Epoch 2/100\n",
            "360/360 [==============================] - 2s 6ms/step - loss: 0.4460 - accuracy: 0.5343 - val_loss: 0.4594 - val_accuracy: 0.5310\n",
            "Epoch 3/100\n",
            "360/360 [==============================] - 2s 6ms/step - loss: 0.4430 - accuracy: 0.5372 - val_loss: 0.4586 - val_accuracy: 0.5061\n",
            "Epoch 4/100\n",
            "360/360 [==============================] - 2s 6ms/step - loss: 0.4339 - accuracy: 0.5414 - val_loss: 0.4427 - val_accuracy: 0.5360\n",
            "Epoch 5/100\n",
            "360/360 [==============================] - 2s 6ms/step - loss: 0.3987 - accuracy: 0.5832 - val_loss: 0.4808 - val_accuracy: 0.5517\n",
            "Epoch 6/100\n",
            "360/360 [==============================] - 2s 6ms/step - loss: 0.3993 - accuracy: 0.5950 - val_loss: 0.3013 - val_accuracy: 0.6667\n",
            "Epoch 7/100\n",
            "360/360 [==============================] - 2s 6ms/step - loss: 0.1892 - accuracy: 0.7582 - val_loss: 0.0512 - val_accuracy: 0.8965\n",
            "Epoch 8/100\n",
            "360/360 [==============================] - 2s 6ms/step - loss: 0.0528 - accuracy: 0.9021 - val_loss: 0.0408 - val_accuracy: 0.9122\n",
            "Epoch 9/100\n",
            "360/360 [==============================] - 2s 6ms/step - loss: 0.0221 - accuracy: 0.9400 - val_loss: 0.0412 - val_accuracy: 0.8922\n",
            "Epoch 10/100\n",
            "360/360 [==============================] - 2s 6ms/step - loss: 0.0145 - accuracy: 0.9545 - val_loss: 0.0097 - val_accuracy: 0.9536\n",
            "Epoch 11/100\n",
            "360/360 [==============================] - 2s 6ms/step - loss: 0.0103 - accuracy: 0.9604 - val_loss: 0.0018 - val_accuracy: 0.9772\n",
            "Epoch 12/100\n",
            "360/360 [==============================] - 2s 6ms/step - loss: 0.0095 - accuracy: 0.9619 - val_loss: 0.0016 - val_accuracy: 0.9807\n",
            "Epoch 13/100\n",
            "360/360 [==============================] - 2s 6ms/step - loss: 0.0045 - accuracy: 0.9731 - val_loss: 0.0011 - val_accuracy: 0.9814\n",
            "Epoch 14/100\n",
            "360/360 [==============================] - 2s 6ms/step - loss: 0.0035 - accuracy: 0.9744 - val_loss: 9.3845e-04 - val_accuracy: 0.9822\n",
            "Epoch 15/100\n",
            "360/360 [==============================] - 2s 6ms/step - loss: 0.0028 - accuracy: 0.9764 - val_loss: 4.8318e-04 - val_accuracy: 0.9872\n",
            "Epoch 16/100\n",
            "360/360 [==============================] - 2s 6ms/step - loss: 0.0040 - accuracy: 0.9709 - val_loss: 0.0013 - val_accuracy: 0.9729\n",
            "Epoch 17/100\n",
            "360/360 [==============================] - 2s 6ms/step - loss: 0.0019 - accuracy: 0.9786 - val_loss: 4.2958e-04 - val_accuracy: 0.9822\n",
            "Epoch 18/100\n",
            "360/360 [==============================] - 2s 6ms/step - loss: 0.0025 - accuracy: 0.9760 - val_loss: 0.0017 - val_accuracy: 0.9736\n",
            "Epoch 19/100\n",
            "360/360 [==============================] - 2s 6ms/step - loss: 0.0018 - accuracy: 0.9790 - val_loss: 5.1456e-04 - val_accuracy: 0.9843\n",
            "Epoch 20/100\n",
            "360/360 [==============================] - 2s 6ms/step - loss: 0.0020 - accuracy: 0.9787 - val_loss: 0.0013 - val_accuracy: 0.9779\n",
            "Epoch 21/100\n",
            "360/360 [==============================] - 2s 6ms/step - loss: 0.0015 - accuracy: 0.9817 - val_loss: 0.0018 - val_accuracy: 0.9764\n",
            "Epoch 22/100\n",
            "360/360 [==============================] - 2s 6ms/step - loss: 0.0014 - accuracy: 0.9806 - val_loss: 4.4931e-04 - val_accuracy: 0.9850\n",
            "Epoch 23/100\n",
            "360/360 [==============================] - 2s 6ms/step - loss: 0.0013 - accuracy: 0.9797 - val_loss: 2.9359e-04 - val_accuracy: 0.9857\n",
            "Epoch 24/100\n",
            "360/360 [==============================] - 2s 6ms/step - loss: 0.0012 - accuracy: 0.9796 - val_loss: 3.7717e-04 - val_accuracy: 0.9879\n",
            "Epoch 25/100\n",
            "360/360 [==============================] - 2s 6ms/step - loss: 0.0014 - accuracy: 0.9798 - val_loss: 4.5180e-04 - val_accuracy: 0.9872\n",
            "Epoch 26/100\n",
            "360/360 [==============================] - 2s 6ms/step - loss: 0.0013 - accuracy: 0.9819 - val_loss: 4.1278e-04 - val_accuracy: 0.9900\n",
            "Epoch 27/100\n",
            "360/360 [==============================] - 2s 6ms/step - loss: 0.0012 - accuracy: 0.9813 - val_loss: 3.3598e-04 - val_accuracy: 0.9872\n",
            "Epoch 28/100\n",
            "360/360 [==============================] - 2s 6ms/step - loss: 0.0011 - accuracy: 0.9822 - val_loss: 2.6144e-04 - val_accuracy: 0.9914\n",
            "Epoch 29/100\n",
            "360/360 [==============================] - 2s 6ms/step - loss: 9.6638e-04 - accuracy: 0.9826 - val_loss: 3.3186e-04 - val_accuracy: 0.9857\n",
            "Epoch 30/100\n",
            "360/360 [==============================] - 2s 6ms/step - loss: 0.0011 - accuracy: 0.9822 - val_loss: 2.7402e-04 - val_accuracy: 0.9886\n",
            "Epoch 31/100\n",
            "360/360 [==============================] - 2s 6ms/step - loss: 0.0014 - accuracy: 0.9817 - val_loss: 9.2315e-04 - val_accuracy: 0.9850\n",
            "Epoch 32/100\n",
            "360/360 [==============================] - 2s 6ms/step - loss: 0.0010 - accuracy: 0.9836 - val_loss: 2.7330e-04 - val_accuracy: 0.9893\n",
            "Epoch 33/100\n",
            "360/360 [==============================] - 2s 6ms/step - loss: 0.0011 - accuracy: 0.9835 - val_loss: 2.0469e-04 - val_accuracy: 0.9900\n",
            "Epoch 34/100\n",
            "360/360 [==============================] - 2s 6ms/step - loss: 0.0010 - accuracy: 0.9828 - val_loss: 0.0016 - val_accuracy: 0.9786\n",
            "Epoch 35/100\n",
            "360/360 [==============================] - 2s 6ms/step - loss: 9.0182e-04 - accuracy: 0.9828 - val_loss: 2.4486e-04 - val_accuracy: 0.9914\n",
            "Epoch 36/100\n",
            "360/360 [==============================] - 2s 6ms/step - loss: 9.4557e-04 - accuracy: 0.9831 - val_loss: 3.1318e-04 - val_accuracy: 0.9893\n",
            "Epoch 37/100\n",
            "360/360 [==============================] - 2s 6ms/step - loss: 8.9970e-04 - accuracy: 0.9842 - val_loss: 1.5076e-04 - val_accuracy: 0.9929\n",
            "Epoch 38/100\n",
            "360/360 [==============================] - 2s 6ms/step - loss: 8.6909e-04 - accuracy: 0.9841 - val_loss: 1.5201e-04 - val_accuracy: 0.9936\n",
            "Epoch 39/100\n",
            "360/360 [==============================] - 2s 6ms/step - loss: 8.6373e-04 - accuracy: 0.9832 - val_loss: 1.4286e-04 - val_accuracy: 0.9893\n",
            "Epoch 40/100\n",
            "360/360 [==============================] - 2s 6ms/step - loss: 7.5994e-04 - accuracy: 0.9844 - val_loss: 1.0568e-04 - val_accuracy: 0.9929\n",
            "Epoch 41/100\n",
            "360/360 [==============================] - 2s 6ms/step - loss: 8.2872e-04 - accuracy: 0.9840 - val_loss: 1.2030e-04 - val_accuracy: 0.9943\n",
            "Epoch 42/100\n",
            "360/360 [==============================] - 2s 6ms/step - loss: 9.4149e-04 - accuracy: 0.9824 - val_loss: 2.6241e-04 - val_accuracy: 0.9907\n",
            "Epoch 43/100\n",
            "360/360 [==============================] - 2s 6ms/step - loss: 7.6430e-04 - accuracy: 0.9834 - val_loss: 1.3202e-04 - val_accuracy: 0.9929\n",
            "Epoch 44/100\n",
            "360/360 [==============================] - 2s 6ms/step - loss: 7.7128e-04 - accuracy: 0.9838 - val_loss: 1.3098e-04 - val_accuracy: 0.9943\n",
            "Epoch 45/100\n",
            "360/360 [==============================] - 2s 6ms/step - loss: 7.3959e-04 - accuracy: 0.9850 - val_loss: 3.6913e-04 - val_accuracy: 0.9836\n",
            "Epoch 46/100\n",
            "360/360 [==============================] - 2s 6ms/step - loss: 7.8007e-04 - accuracy: 0.9839 - val_loss: 3.4001e-04 - val_accuracy: 0.9893\n",
            "Epoch 47/100\n",
            "360/360 [==============================] - 2s 6ms/step - loss: 7.7601e-04 - accuracy: 0.9833 - val_loss: 1.4688e-04 - val_accuracy: 0.9921\n",
            "Epoch 48/100\n",
            "360/360 [==============================] - 2s 6ms/step - loss: 8.0309e-04 - accuracy: 0.9830 - val_loss: 1.2160e-04 - val_accuracy: 0.9943\n",
            "Epoch 49/100\n",
            "360/360 [==============================] - 2s 6ms/step - loss: 7.5333e-04 - accuracy: 0.9831 - val_loss: 1.4476e-04 - val_accuracy: 0.9914\n",
            "Epoch 50/100\n",
            "360/360 [==============================] - 2s 6ms/step - loss: 7.1458e-04 - accuracy: 0.9841 - val_loss: 2.3743e-04 - val_accuracy: 0.9879\n",
            "Epoch 51/100\n",
            "360/360 [==============================] - 2s 6ms/step - loss: 6.7957e-04 - accuracy: 0.9843 - val_loss: 1.0902e-04 - val_accuracy: 0.9900\n",
            "Epoch 52/100\n",
            "360/360 [==============================] - 2s 6ms/step - loss: 7.4730e-04 - accuracy: 0.9821 - val_loss: 1.3928e-04 - val_accuracy: 0.9929\n",
            "Epoch 53/100\n",
            "360/360 [==============================] - 2s 6ms/step - loss: 6.4891e-04 - accuracy: 0.9848 - val_loss: 3.1096e-04 - val_accuracy: 0.9893\n",
            "Epoch 54/100\n",
            "360/360 [==============================] - 2s 6ms/step - loss: 6.9600e-04 - accuracy: 0.9838 - val_loss: 2.1084e-04 - val_accuracy: 0.9907\n",
            "Epoch 55/100\n",
            "360/360 [==============================] - 2s 6ms/step - loss: 7.1584e-04 - accuracy: 0.9844 - val_loss: 1.3888e-04 - val_accuracy: 0.9943\n",
            "Epoch 56/100\n",
            "360/360 [==============================] - 2s 6ms/step - loss: 6.8318e-04 - accuracy: 0.9826 - val_loss: 9.1293e-05 - val_accuracy: 0.9943\n",
            "Epoch 57/100\n",
            "360/360 [==============================] - 2s 6ms/step - loss: 5.9522e-04 - accuracy: 0.9852 - val_loss: 2.4775e-04 - val_accuracy: 0.9886\n",
            "Epoch 58/100\n",
            "360/360 [==============================] - 2s 6ms/step - loss: 6.4487e-04 - accuracy: 0.9832 - val_loss: 2.4684e-04 - val_accuracy: 0.9900\n",
            "Epoch 59/100\n",
            "360/360 [==============================] - 2s 6ms/step - loss: 5.8335e-04 - accuracy: 0.9835 - val_loss: 1.1699e-04 - val_accuracy: 0.9936\n",
            "Epoch 60/100\n",
            "360/360 [==============================] - 2s 6ms/step - loss: 4.9266e-04 - accuracy: 0.9848 - val_loss: 1.3355e-04 - val_accuracy: 0.9943\n",
            "Epoch 61/100\n",
            "360/360 [==============================] - 2s 6ms/step - loss: 5.1273e-04 - accuracy: 0.9845 - val_loss: 1.1061e-04 - val_accuracy: 0.9936\n",
            "Epoch 62/100\n",
            "360/360 [==============================] - 2s 6ms/step - loss: 5.1042e-04 - accuracy: 0.9837 - val_loss: 1.0415e-04 - val_accuracy: 0.9921\n",
            "Epoch 63/100\n",
            "360/360 [==============================] - 2s 6ms/step - loss: 5.1677e-04 - accuracy: 0.9829 - val_loss: 1.1747e-04 - val_accuracy: 0.9929\n",
            "Epoch 64/100\n",
            "360/360 [==============================] - 2s 6ms/step - loss: 5.0778e-04 - accuracy: 0.9844 - val_loss: 7.9448e-05 - val_accuracy: 0.9929\n",
            "Epoch 65/100\n",
            "360/360 [==============================] - 2s 6ms/step - loss: 4.9451e-04 - accuracy: 0.9837 - val_loss: 1.0214e-04 - val_accuracy: 0.9900\n",
            "Epoch 66/100\n",
            "360/360 [==============================] - 2s 6ms/step - loss: 4.6032e-04 - accuracy: 0.9847 - val_loss: 1.0601e-04 - val_accuracy: 0.9907\n",
            "Epoch 67/100\n",
            "360/360 [==============================] - 2s 6ms/step - loss: 5.2171e-04 - accuracy: 0.9839 - val_loss: 1.8003e-04 - val_accuracy: 0.9929\n",
            "Epoch 68/100\n",
            "360/360 [==============================] - 2s 6ms/step - loss: 4.7262e-04 - accuracy: 0.9850 - val_loss: 1.5395e-04 - val_accuracy: 0.9929\n",
            "Epoch 69/100\n",
            "360/360 [==============================] - 2s 6ms/step - loss: 4.4718e-04 - accuracy: 0.9847 - val_loss: 7.9976e-05 - val_accuracy: 0.9950\n",
            "Epoch 70/100\n",
            "360/360 [==============================] - 2s 6ms/step - loss: 4.5313e-04 - accuracy: 0.9843 - val_loss: 1.0737e-04 - val_accuracy: 0.9936\n",
            "Epoch 71/100\n",
            "360/360 [==============================] - 2s 6ms/step - loss: 4.8770e-04 - accuracy: 0.9833 - val_loss: 9.4427e-05 - val_accuracy: 0.9936\n",
            "Epoch 72/100\n",
            "360/360 [==============================] - 2s 6ms/step - loss: 4.4180e-04 - accuracy: 0.9845 - val_loss: 5.7077e-05 - val_accuracy: 0.9936\n",
            "Epoch 73/100\n",
            "360/360 [==============================] - 2s 6ms/step - loss: 4.3255e-04 - accuracy: 0.9847 - val_loss: 6.5968e-05 - val_accuracy: 0.9929\n",
            "Epoch 74/100\n",
            "360/360 [==============================] - 2s 6ms/step - loss: 4.2471e-04 - accuracy: 0.9836 - val_loss: 7.0675e-05 - val_accuracy: 0.9943\n",
            "Epoch 75/100\n",
            "360/360 [==============================] - 2s 6ms/step - loss: 4.5016e-04 - accuracy: 0.9847 - val_loss: 7.1197e-05 - val_accuracy: 0.9921\n",
            "Epoch 76/100\n",
            "360/360 [==============================] - 2s 6ms/step - loss: 4.1421e-04 - accuracy: 0.9843 - val_loss: 7.7280e-05 - val_accuracy: 0.9936\n",
            "Epoch 77/100\n",
            "360/360 [==============================] - 2s 6ms/step - loss: 4.4514e-04 - accuracy: 0.9836 - val_loss: 1.2621e-04 - val_accuracy: 0.9950\n",
            "Epoch 78/100\n",
            "360/360 [==============================] - 2s 6ms/step - loss: 4.2092e-04 - accuracy: 0.9844 - val_loss: 1.1106e-04 - val_accuracy: 0.9950\n",
            "Epoch 79/100\n",
            "360/360 [==============================] - 2s 6ms/step - loss: 4.3965e-04 - accuracy: 0.9843 - val_loss: 7.5115e-05 - val_accuracy: 0.9950\n",
            "Epoch 80/100\n",
            "360/360 [==============================] - 2s 6ms/step - loss: 4.5485e-04 - accuracy: 0.9836 - val_loss: 8.1462e-05 - val_accuracy: 0.9921\n",
            "Epoch 81/100\n",
            "360/360 [==============================] - 2s 6ms/step - loss: 4.1571e-04 - accuracy: 0.9834 - val_loss: 7.5314e-05 - val_accuracy: 0.9964\n",
            "Epoch 82/100\n",
            "360/360 [==============================] - 2s 6ms/step - loss: 4.0932e-04 - accuracy: 0.9840 - val_loss: 6.8611e-05 - val_accuracy: 0.9943\n",
            "Epoch 83/100\n",
            "360/360 [==============================] - 2s 6ms/step - loss: 4.2979e-04 - accuracy: 0.9854 - val_loss: 6.4540e-05 - val_accuracy: 0.9957\n",
            "Epoch 84/100\n",
            "360/360 [==============================] - 2s 6ms/step - loss: 3.8776e-04 - accuracy: 0.9834 - val_loss: 3.1457e-04 - val_accuracy: 0.9857\n",
            "Epoch 85/100\n",
            "360/360 [==============================] - 2s 6ms/step - loss: 3.8530e-04 - accuracy: 0.9847 - val_loss: 1.3005e-04 - val_accuracy: 0.9943\n",
            "Epoch 86/100\n",
            "360/360 [==============================] - 2s 6ms/step - loss: 3.8768e-04 - accuracy: 0.9839 - val_loss: 9.3164e-05 - val_accuracy: 0.9950\n",
            "Epoch 87/100\n",
            "360/360 [==============================] - 2s 6ms/step - loss: 3.9176e-04 - accuracy: 0.9843 - val_loss: 5.7479e-04 - val_accuracy: 0.9879\n",
            "Epoch 88/100\n",
            "360/360 [==============================] - 2s 6ms/step - loss: 3.6906e-04 - accuracy: 0.9837 - val_loss: 1.1841e-04 - val_accuracy: 0.9936\n",
            "Epoch 89/100\n",
            "360/360 [==============================] - 2s 6ms/step - loss: 4.0677e-04 - accuracy: 0.9848 - val_loss: 6.3400e-05 - val_accuracy: 0.9943\n",
            "Epoch 90/100\n",
            "360/360 [==============================] - 2s 6ms/step - loss: 4.9424e-04 - accuracy: 0.9839 - val_loss: 2.6010e-04 - val_accuracy: 0.9921\n",
            "Epoch 91/100\n",
            "360/360 [==============================] - 2s 6ms/step - loss: 3.8140e-04 - accuracy: 0.9845 - val_loss: 7.3310e-05 - val_accuracy: 0.9957\n",
            "Epoch 92/100\n",
            "360/360 [==============================] - 2s 6ms/step - loss: 7.3247e-04 - accuracy: 0.9839 - val_loss: 1.9930e-04 - val_accuracy: 0.9872\n",
            "Epoch 93/100\n",
            "360/360 [==============================] - 2s 6ms/step - loss: 4.6723e-04 - accuracy: 0.9836 - val_loss: 6.3824e-05 - val_accuracy: 0.9936\n",
            "Epoch 94/100\n",
            "360/360 [==============================] - 2s 6ms/step - loss: 4.3432e-04 - accuracy: 0.9826 - val_loss: 2.3479e-04 - val_accuracy: 0.9886\n",
            "Epoch 95/100\n",
            "360/360 [==============================] - 2s 6ms/step - loss: 4.3602e-04 - accuracy: 0.9832 - val_loss: 1.4044e-04 - val_accuracy: 0.9936\n",
            "Epoch 96/100\n",
            "360/360 [==============================] - 2s 6ms/step - loss: 2.5144e-04 - accuracy: 0.9835 - val_loss: 2.6429e-04 - val_accuracy: 0.9893\n",
            "Epoch 97/100\n",
            "360/360 [==============================] - 2s 6ms/step - loss: 2.8630e-04 - accuracy: 0.9833 - val_loss: 6.7349e-05 - val_accuracy: 0.9936\n",
            "Epoch 98/100\n",
            "360/360 [==============================] - 2s 6ms/step - loss: 2.4853e-04 - accuracy: 0.9850 - val_loss: 5.3637e-05 - val_accuracy: 0.9950\n",
            "Epoch 99/100\n",
            "360/360 [==============================] - 2s 6ms/step - loss: 2.5603e-04 - accuracy: 0.9843 - val_loss: 6.4265e-05 - val_accuracy: 0.9950\n",
            "Epoch 100/100\n",
            "360/360 [==============================] - 2s 6ms/step - loss: 2.1793e-04 - accuracy: 0.9831 - val_loss: 8.6924e-05 - val_accuracy: 0.9957\n",
            "Training time: 262.7753367424011 seconds\n"
          ]
        }
      ]
    },
    {
      "cell_type": "code",
      "metadata": {
        "colab": {
          "base_uri": "https://localhost:8080/",
          "height": 295
        },
        "id": "fccAQ8XDnIWn",
        "outputId": "230b118d-1236-426c-b3ac-e9b1ad0354f2"
      },
      "source": [
        "plt.figure(figsize=(plt.rcParams['figure.figsize'][0]*2, plt.rcParams['figure.figsize'][1]))\n",
        "gs = gridspec.GridSpec(1, 2)\n",
        "ax = plt.subplot(gs[0])\n",
        "ax.plot([i for i in range(1, len(history.history[\"loss\"])+1)], history.history[\"loss\"], \"+-\", label=\"training\")\n",
        "ax.plot([i for i in range(1, len(history.history[\"val_loss\"])+1)], history.history[\"val_loss\"], \"+-\", label=\"validation\")\n",
        "ax.legend()\n",
        "ax.set_xlabel(\"Epoch number\")\n",
        "ax.set_ylabel(\"Loss\")\n",
        "ax.set_title(\"Loss against Epoch\")\n",
        "\n",
        "ax = plt.subplot(gs[1])\n",
        "ax.plot([i for i in range(1, len(history.history[\"accuracy\"])+1)], history.history[\"accuracy\"], \"+-\", label=\"training\")\n",
        "ax.plot([i for i in range(1, len(history.history[\"val_accuracy\"])+1)], history.history[\"val_accuracy\"], \"+-\", label=\"validation\")\n",
        "ax.set_xlabel(\"Epoch number\")\n",
        "ax.set_ylabel(\"Accuracy\")\n",
        "ax.set_title(\"Accuracy against Epoch\")\n",
        "\n",
        "plt.savefig(\"training.pdf\")\n",
        "plt.show()"
      ],
      "execution_count": 66,
      "outputs": [
        {
          "output_type": "display_data",
          "data": {
            "image/png": "[encoded data removed]",
            "text/plain": [
              "<Figure size 864x288 with 2 Axes>"
            ]
          },
          "metadata": {
            "needs_background": "light"
          }
        }
      ]
    },
    {
      "cell_type": "markdown",
      "metadata": {
        "id": "Nu3H-hZOpC1b"
      },
      "source": [
        "# Test Model"
      ]
    },
    {
      "cell_type": "code",
      "metadata": {
        "colab": {
          "base_uri": "https://localhost:8080/"
        },
        "id": "dEV4TkXHhrhD",
        "outputId": "4ebddd7e-24b9-430c-bfac-da021ea57fb7"
      },
      "source": [
        "score = model.evaluate(x_test, y_test, verbose=0)\n",
        "print(\"Test loss:\", score[0])\n",
        "print(\"Test accuracy:\", score[1])"
      ],
      "execution_count": 67,
      "outputs": [
        {
          "output_type": "stream",
          "name": "stdout",
          "text": [
            "Test loss: 0.00022871331020724028\n",
            "Test accuracy: 0.994222104549408\n"
          ]
        }
      ]
    },
    {
      "cell_type": "code",
      "metadata": {
        "colab": {
          "base_uri": "https://localhost:8080/"
        },
        "id": "Zm7bvpLMpH3o",
        "outputId": "0bb0877f-deb0-476f-f32e-cdad9001527a"
      },
      "source": [
        "i = 6\n",
        "print(\"True SO(3):\\n\", y_test[i].astype(\"float32\"), end=\"\\n\\n\", sep=\"\")\n",
        "prediction = model.predict(x_test[i].reshape((1,)+x_test[i].shape))[0]\n",
        "print(\"SO(3) Prediction:\\n\", prediction, sep=\"\")\n",
        "print(\"Distance: {:.2f} degrees\".format(SO3_distance(y_test[i], prediction)))"
      ],
      "execution_count": 68,
      "outputs": [
        {
          "output_type": "stream",
          "name": "stdout",
          "text": [
            "True SO(3):\n",
            "[[ 0.266902    0.96372366  0.        ]\n",
            " [-0.96372366  0.266902    0.        ]\n",
            " [ 0.          0.          1.        ]]\n",
            "\n",
            "SO(3) Prediction:\n",
            "[[ 2.6705974e-01  9.6367973e-01  6.9351454e-04]\n",
            " [-9.6367133e-01  2.6705426e-01  4.4216570e-03]\n",
            " [ 4.0758550e-03 -1.8491667e-03  9.9998999e-01]]\n",
            "Distance: 0.26 degrees\n"
          ]
        }
      ]
    },
    {
      "cell_type": "markdown",
      "metadata": {
        "id": "Jgwz-oDEyK9r"
      },
      "source": [
        "# Analyse Results"
      ]
    },
    {
      "cell_type": "code",
      "metadata": {
        "id": "fb1vUpDHpsYe",
        "colab": {
          "base_uri": "https://localhost:8080/",
          "height": 49,
          "referenced_widgets": [
            "6616d46575ae4d9792c781c15ce66212",
            "964e0d0c81f341bc967f438b4521fe0c",
            "e5d43f17c9c045bb81f68d6d1037bde9",
            "8b7817ea03094343b8d1ffb549bde59c",
            "488bcb4ca2e74b5ea87d0e7d7a6e6487",
            "9c0560c90d634351907ed5841ee336b0",
            "3d0e577c437f46b89a05341277a2be4a",
            "00960055d59343e28e2c0741bcc3f771",
            "c49ad8bb956846ffa6d42ec544d6384a",
            "65fae7f24d084d099117bac37f00f0f0",
            "9d00609fc4db44a2bab72043d2f0602f"
          ]
        },
        "outputId": "2408023a-17bb-4d0f-9c05-f8205a54294f"
      },
      "source": [
        "MULTI_RUN_MODE = True\n",
        "if not MULTI_RUN_MODE or \"RUN_COUNT\" not in globals():\n",
        "  RUN_COUNT = 0\n",
        "\n",
        "d = np.zeros(x_test.shape[0])\n",
        "predictions = model.predict(x_test)\n",
        "for i in tqdm(range(x_test.shape[0])):\n",
        "  d[i] = SO3_distance(y_test[i], predictions[i])\n",
        "\n",
        "if not MULTI_RUN_MODE or \"distances\" not in globals():\n",
        "  distances = d\n",
        "else:\n",
        "  distances = np.append(distances, d, axis=0)\n",
        "RUN_COUNT += 1"
      ],
      "execution_count": 69,
      "outputs": [
        {
          "output_type": "display_data",
          "data": {
            "application/vnd.jupyter.widget-view+json": {
              "model_id": "6616d46575ae4d9792c781c15ce66212",
              "version_minor": 0,
              "version_major": 2
            },
            "text/plain": [
              "  0%|          | 0/4673 [00:00<?, ?it/s]"
            ]
          },
          "metadata": {}
        }
      ]
    },
    {
      "cell_type": "markdown",
      "source": [
        "## Plot Histogram"
      ],
      "metadata": {
        "id": "LPcalUunQ25W"
      }
    },
    {
      "cell_type": "code",
      "source": [
        "import scipy.stats\n",
        "from scipy.optimize import curve_fit\n",
        "\n",
        "def skewed_norm(x, mu, sigma, alpha):\n",
        "  norm = scipy.stats.norm(loc=mu, scale=sigma)\n",
        "  return 2*norm.pdf(x)*norm.cdf(alpha*x)\n",
        "\n",
        "distance_mean = np.mean(distances)\n",
        "distance_std = np.std(distances, ddof=1)\n",
        "distance_median = np.median(distances)\n",
        "print(f\"Mean distance from the true value is {distance_mean:.2f} +- {distance_std:.2f}\")\n",
        "print(f\"Median distance: {distance_median:.2f}\")\n",
        "print(f\"This is averaged over {RUN_COUNT} run(s).\")\n",
        "print(f\"(run count prediction from number of distances: {distances.shape[0]/x_test.shape[0]})\")\n",
        "\n",
        "plt.figure(figsize=(plt.rcParams['figure.figsize'][0]*2, plt.rcParams['figure.figsize'][1]))\n",
        "gs = gridspec.GridSpec(1, 2)\n",
        "\n",
        "ax = plt.subplot(gs[0])\n",
        "hist1 = ax.hist(distances, bins=20)\n",
        "hist_x = (hist1[1][1:] + hist1[1][:-1]) / 2\n",
        "ax.axvline(distance_mean, color=\"k\", linestyle=\"--\", label=\"mean\")\n",
        "ax.axvline(distance_median, color=\"r\", linestyle=\"--\", label=\"median\")\n",
        "##ax.axvline(hist_x[hist1[0].argmax()], color=\"r\", linestyle=\"-\")\n",
        "ax.set_xlabel(\"Angle Between Prediction and True Orientation ($^o$)\")\n",
        "ax.set_ylabel(\"Occurances\")\n",
        "ax.legend()\n",
        "print(\"Max probability at:\", hist_x[hist1[0].argmax()])\n",
        "\n",
        "# fit histogram to skewed Gaussian (actually doesn't match)\n",
        "## hist_x = hist1[1][:-1]\n",
        "##popt, pcov = curve_fit(skewed_norm, hist_x, hist1[0], p0=[distance_mean, distance_std, 0])\n",
        "##print(popt)\n",
        "##xdata = np.linspace(hist_x.min(), hist_x.max())\n",
        "##ydata = skewed_norm(xdata, *popt)\n",
        "##ax.plot(xdata, ydata, \"-\")\n",
        "\n",
        "ax = plt.subplot(gs[1])\n",
        "ax.hist(distances, bins=20, log=\"y\")\n",
        "ax.axvline(distance_mean, color=\"k\", linestyle=\"--\", label=\"mean\")\n",
        "ax.axvline(distance_median, color=\"r\", linestyle=\"--\", label=\"median\")\n",
        "ax.set_xlabel(\"Angle Between Prediction and True Orientation ($^o$)\")\n",
        "ax.set_ylabel(\"Occurances\")\n",
        "ax.legend()\n",
        "\n",
        "plt.savefig(\"error_hist.pdf\")\n",
        "plt.show()"
      ],
      "metadata": {
        "colab": {
          "base_uri": "https://localhost:8080/",
          "height": 371
        },
        "id": "GwZ5cR7XZstG",
        "outputId": "60c96d32-cb0d-4052-9745-e4d9f26625eb"
      },
      "execution_count": 98,
      "outputs": [
        {
          "output_type": "stream",
          "name": "stdout",
          "text": [
            "Mean distance from the true value is 1.06 +- 0.67\n",
            "Median distance: 0.89\n",
            "This is averaged over 5 run(s).\n",
            "(run count prediction from number of distances: 5.0)\n",
            "Max probability at: 0.6248562761578005\n"
          ]
        },
        {
          "output_type": "display_data",
          "data": {
            "image/png": "[encoded data removed]",
            "text/plain": [
              "<Figure size 864x288 with 2 Axes>"
            ]
          },
          "metadata": {
            "needs_background": "light"
          }
        }
      ]
    },
    {
      "cell_type": "code",
      "metadata": {
        "id": "Ive1PbGc7X5c"
      },
      "source": [
        ""
      ],
      "execution_count": 21,
      "outputs": []
    }
  ]
}