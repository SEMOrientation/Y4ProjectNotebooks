{
  "nbformat": 4,
  "nbformat_minor": 0,
  "metadata": {
    "colab": {
      "name": "Untitled1.ipynb",
      "provenance": [],
      "authorship_tag": "ABX9TyOJtyYRfcVoUprKy8cesl67"
    },
    "kernelspec": {
      "name": "python3",
      "display_name": "Python 3"
    },
    "language_info": {
      "name": "python"
    },
    "widgets": {
      "application/vnd.jupyter.widget-state+json": {
        "642977075fcc4d6880c4e74c7c441207": {
          "model_module": "@jupyter-widgets/controls",
          "model_name": "HBoxModel",
          "model_module_version": "1.5.0",
          "state": {
            "_view_name": "HBoxView",
            "_dom_classes": [],
            "_model_name": "HBoxModel",
            "_view_module": "@jupyter-widgets/controls",
            "_model_module_version": "1.5.0",
            "_view_count": null,
            "_view_module_version": "1.5.0",
            "box_style": "",
            "layout": "IPY_MODEL_37c59899a8cd4e049def1e1b17b34314",
            "_model_module": "@jupyter-widgets/controls",
            "children": [
              "IPY_MODEL_42dbcf9826d04359bcb7385d5feea437",
              "IPY_MODEL_64d4b1ef446d40948313c6cdba2630b6",
              "IPY_MODEL_d284d1cb9c234c119d4156dbe3785950"
            ]
          }
        },
        "37c59899a8cd4e049def1e1b17b34314": {
          "model_module": "@jupyter-widgets/base",
          "model_name": "LayoutModel",
          "model_module_version": "1.2.0",
          "state": {
            "_view_name": "LayoutView",
            "grid_template_rows": null,
            "right": null,
            "justify_content": null,
            "_view_module": "@jupyter-widgets/base",
            "overflow": null,
            "_model_module_version": "1.2.0",
            "_view_count": null,
            "flex_flow": null,
            "width": null,
            "min_width": null,
            "border": null,
            "align_items": null,
            "bottom": null,
            "_model_module": "@jupyter-widgets/base",
            "top": null,
            "grid_column": null,
            "overflow_y": null,
            "overflow_x": null,
            "grid_auto_flow": null,
            "grid_area": null,
            "grid_template_columns": null,
            "flex": null,
            "_model_name": "LayoutModel",
            "justify_items": null,
            "grid_row": null,
            "max_height": null,
            "align_content": null,
            "visibility": null,
            "align_self": null,
            "height": null,
            "min_height": null,
            "padding": null,
            "grid_auto_rows": null,
            "grid_gap": null,
            "max_width": null,
            "order": null,
            "_view_module_version": "1.2.0",
            "grid_template_areas": null,
            "object_position": null,
            "object_fit": null,
            "grid_auto_columns": null,
            "margin": null,
            "display": null,
            "left": null
          }
        },
        "42dbcf9826d04359bcb7385d5feea437": {
          "model_module": "@jupyter-widgets/controls",
          "model_name": "HTMLModel",
          "model_module_version": "1.5.0",
          "state": {
            "_view_name": "HTMLView",
            "style": "IPY_MODEL_881b4a8f32914865aa7c59ee1fadfbb8",
            "_dom_classes": [],
            "description": "",
            "_model_name": "HTMLModel",
            "placeholder": "​",
            "_view_module": "@jupyter-widgets/controls",
            "_model_module_version": "1.5.0",
            "value": "100%",
            "_view_count": null,
            "_view_module_version": "1.5.0",
            "description_tooltip": null,
            "_model_module": "@jupyter-widgets/controls",
            "layout": "IPY_MODEL_bce0730abb0a460baf033b2f3cd9ac2c"
          }
        },
        "64d4b1ef446d40948313c6cdba2630b6": {
          "model_module": "@jupyter-widgets/controls",
          "model_name": "FloatProgressModel",
          "model_module_version": "1.5.0",
          "state": {
            "_view_name": "ProgressView",
            "style": "IPY_MODEL_0bfecb746f674aeb87c8fc332516d0f2",
            "_dom_classes": [],
            "description": "",
            "_model_name": "FloatProgressModel",
            "bar_style": "success",
            "max": 360,
            "_view_module": "@jupyter-widgets/controls",
            "_model_module_version": "1.5.0",
            "value": 360,
            "_view_count": null,
            "_view_module_version": "1.5.0",
            "orientation": "horizontal",
            "min": 0,
            "description_tooltip": null,
            "_model_module": "@jupyter-widgets/controls",
            "layout": "IPY_MODEL_e750f8c6556e41c39c7c1d67094e1d33"
          }
        },
        "d284d1cb9c234c119d4156dbe3785950": {
          "model_module": "@jupyter-widgets/controls",
          "model_name": "HTMLModel",
          "model_module_version": "1.5.0",
          "state": {
            "_view_name": "HTMLView",
            "style": "IPY_MODEL_6a0c373c29844eb4bc678de536e88894",
            "_dom_classes": [],
            "description": "",
            "_model_name": "HTMLModel",
            "placeholder": "​",
            "_view_module": "@jupyter-widgets/controls",
            "_model_module_version": "1.5.0",
            "value": " 360/360 [00:08&lt;00:00, 38.31it/s]",
            "_view_count": null,
            "_view_module_version": "1.5.0",
            "description_tooltip": null,
            "_model_module": "@jupyter-widgets/controls",
            "layout": "IPY_MODEL_2acbc68e0ce74dd5b0547bea8a9840c0"
          }
        },
        "881b4a8f32914865aa7c59ee1fadfbb8": {
          "model_module": "@jupyter-widgets/controls",
          "model_name": "DescriptionStyleModel",
          "model_module_version": "1.5.0",
          "state": {
            "_view_name": "StyleView",
            "_model_name": "DescriptionStyleModel",
            "description_width": "",
            "_view_module": "@jupyter-widgets/base",
            "_model_module_version": "1.5.0",
            "_view_count": null,
            "_view_module_version": "1.2.0",
            "_model_module": "@jupyter-widgets/controls"
          }
        },
        "bce0730abb0a460baf033b2f3cd9ac2c": {
          "model_module": "@jupyter-widgets/base",
          "model_name": "LayoutModel",
          "model_module_version": "1.2.0",
          "state": {
            "_view_name": "LayoutView",
            "grid_template_rows": null,
            "right": null,
            "justify_content": null,
            "_view_module": "@jupyter-widgets/base",
            "overflow": null,
            "_model_module_version": "1.2.0",
            "_view_count": null,
            "flex_flow": null,
            "width": null,
            "min_width": null,
            "border": null,
            "align_items": null,
            "bottom": null,
            "_model_module": "@jupyter-widgets/base",
            "top": null,
            "grid_column": null,
            "overflow_y": null,
            "overflow_x": null,
            "grid_auto_flow": null,
            "grid_area": null,
            "grid_template_columns": null,
            "flex": null,
            "_model_name": "LayoutModel",
            "justify_items": null,
            "grid_row": null,
            "max_height": null,
            "align_content": null,
            "visibility": null,
            "align_self": null,
            "height": null,
            "min_height": null,
            "padding": null,
            "grid_auto_rows": null,
            "grid_gap": null,
            "max_width": null,
            "order": null,
            "_view_module_version": "1.2.0",
            "grid_template_areas": null,
            "object_position": null,
            "object_fit": null,
            "grid_auto_columns": null,
            "margin": null,
            "display": null,
            "left": null
          }
        },
        "0bfecb746f674aeb87c8fc332516d0f2": {
          "model_module": "@jupyter-widgets/controls",
          "model_name": "ProgressStyleModel",
          "model_module_version": "1.5.0",
          "state": {
            "_view_name": "StyleView",
            "_model_name": "ProgressStyleModel",
            "description_width": "",
            "_view_module": "@jupyter-widgets/base",
            "_model_module_version": "1.5.0",
            "_view_count": null,
            "_view_module_version": "1.2.0",
            "bar_color": null,
            "_model_module": "@jupyter-widgets/controls"
          }
        },
        "e750f8c6556e41c39c7c1d67094e1d33": {
          "model_module": "@jupyter-widgets/base",
          "model_name": "LayoutModel",
          "model_module_version": "1.2.0",
          "state": {
            "_view_name": "LayoutView",
            "grid_template_rows": null,
            "right": null,
            "justify_content": null,
            "_view_module": "@jupyter-widgets/base",
            "overflow": null,
            "_model_module_version": "1.2.0",
            "_view_count": null,
            "flex_flow": null,
            "width": null,
            "min_width": null,
            "border": null,
            "align_items": null,
            "bottom": null,
            "_model_module": "@jupyter-widgets/base",
            "top": null,
            "grid_column": null,
            "overflow_y": null,
            "overflow_x": null,
            "grid_auto_flow": null,
            "grid_area": null,
            "grid_template_columns": null,
            "flex": null,
            "_model_name": "LayoutModel",
            "justify_items": null,
            "grid_row": null,
            "max_height": null,
            "align_content": null,
            "visibility": null,
            "align_self": null,
            "height": null,
            "min_height": null,
            "padding": null,
            "grid_auto_rows": null,
            "grid_gap": null,
            "max_width": null,
            "order": null,
            "_view_module_version": "1.2.0",
            "grid_template_areas": null,
            "object_position": null,
            "object_fit": null,
            "grid_auto_columns": null,
            "margin": null,
            "display": null,
            "left": null
          }
        },
        "6a0c373c29844eb4bc678de536e88894": {
          "model_module": "@jupyter-widgets/controls",
          "model_name": "DescriptionStyleModel",
          "model_module_version": "1.5.0",
          "state": {
            "_view_name": "StyleView",
            "_model_name": "DescriptionStyleModel",
            "description_width": "",
            "_view_module": "@jupyter-widgets/base",
            "_model_module_version": "1.5.0",
            "_view_count": null,
            "_view_module_version": "1.2.0",
            "_model_module": "@jupyter-widgets/controls"
          }
        },
        "2acbc68e0ce74dd5b0547bea8a9840c0": {
          "model_module": "@jupyter-widgets/base",
          "model_name": "LayoutModel",
          "model_module_version": "1.2.0",
          "state": {
            "_view_name": "LayoutView",
            "grid_template_rows": null,
            "right": null,
            "justify_content": null,
            "_view_module": "@jupyter-widgets/base",
            "overflow": null,
            "_model_module_version": "1.2.0",
            "_view_count": null,
            "flex_flow": null,
            "width": null,
            "min_width": null,
            "border": null,
            "align_items": null,
            "bottom": null,
            "_model_module": "@jupyter-widgets/base",
            "top": null,
            "grid_column": null,
            "overflow_y": null,
            "overflow_x": null,
            "grid_auto_flow": null,
            "grid_area": null,
            "grid_template_columns": null,
            "flex": null,
            "_model_name": "LayoutModel",
            "justify_items": null,
            "grid_row": null,
            "max_height": null,
            "align_content": null,
            "visibility": null,
            "align_self": null,
            "height": null,
            "min_height": null,
            "padding": null,
            "grid_auto_rows": null,
            "grid_gap": null,
            "max_width": null,
            "order": null,
            "_view_module_version": "1.2.0",
            "grid_template_areas": null,
            "object_position": null,
            "object_fit": null,
            "grid_auto_columns": null,
            "margin": null,
            "display": null,
            "left": null
          }
        },
        "235983ea01ff4c42990d3f88a2291ccc": {
          "model_module": "@jupyter-widgets/controls",
          "model_name": "HBoxModel",
          "model_module_version": "1.5.0",
          "state": {
            "_view_name": "HBoxView",
            "_dom_classes": [],
            "_model_name": "HBoxModel",
            "_view_module": "@jupyter-widgets/controls",
            "_model_module_version": "1.5.0",
            "_view_count": null,
            "_view_module_version": "1.5.0",
            "box_style": "",
            "layout": "IPY_MODEL_7e1deb4a463d4d08b89bf1e88c533c68",
            "_model_module": "@jupyter-widgets/controls",
            "children": [
              "IPY_MODEL_efa9e95929c84ef4b0af870f7de9d66b",
              "IPY_MODEL_19ef434eae444b5a8242142f6a456cea",
              "IPY_MODEL_a404cb8dc30c4ff4b9b35410d5008e2d"
            ]
          }
        },
        "7e1deb4a463d4d08b89bf1e88c533c68": {
          "model_module": "@jupyter-widgets/base",
          "model_name": "LayoutModel",
          "model_module_version": "1.2.0",
          "state": {
            "_view_name": "LayoutView",
            "grid_template_rows": null,
            "right": null,
            "justify_content": null,
            "_view_module": "@jupyter-widgets/base",
            "overflow": null,
            "_model_module_version": "1.2.0",
            "_view_count": null,
            "flex_flow": null,
            "width": null,
            "min_width": null,
            "border": null,
            "align_items": null,
            "bottom": null,
            "_model_module": "@jupyter-widgets/base",
            "top": null,
            "grid_column": null,
            "overflow_y": null,
            "overflow_x": null,
            "grid_auto_flow": null,
            "grid_area": null,
            "grid_template_columns": null,
            "flex": null,
            "_model_name": "LayoutModel",
            "justify_items": null,
            "grid_row": null,
            "max_height": null,
            "align_content": null,
            "visibility": null,
            "align_self": null,
            "height": null,
            "min_height": null,
            "padding": null,
            "grid_auto_rows": null,
            "grid_gap": null,
            "max_width": null,
            "order": null,
            "_view_module_version": "1.2.0",
            "grid_template_areas": null,
            "object_position": null,
            "object_fit": null,
            "grid_auto_columns": null,
            "margin": null,
            "display": null,
            "left": null
          }
        },
        "efa9e95929c84ef4b0af870f7de9d66b": {
          "model_module": "@jupyter-widgets/controls",
          "model_name": "HTMLModel",
          "model_module_version": "1.5.0",
          "state": {
            "_view_name": "HTMLView",
            "style": "IPY_MODEL_4a897828eaa2448989d3f14444f5dc89",
            "_dom_classes": [],
            "description": "",
            "_model_name": "HTMLModel",
            "placeholder": "​",
            "_view_module": "@jupyter-widgets/controls",
            "_model_module_version": "1.5.0",
            "value": "100%",
            "_view_count": null,
            "_view_module_version": "1.5.0",
            "description_tooltip": null,
            "_model_module": "@jupyter-widgets/controls",
            "layout": "IPY_MODEL_808bda5d622f4806ad0da3d1d53d9fe7"
          }
        },
        "19ef434eae444b5a8242142f6a456cea": {
          "model_module": "@jupyter-widgets/controls",
          "model_name": "FloatProgressModel",
          "model_module_version": "1.5.0",
          "state": {
            "_view_name": "ProgressView",
            "style": "IPY_MODEL_c552f8b4fb7e45ecb30f3f0447c93f5d",
            "_dom_classes": [],
            "description": "",
            "_model_name": "FloatProgressModel",
            "bar_style": "success",
            "max": 4673,
            "_view_module": "@jupyter-widgets/controls",
            "_model_module_version": "1.5.0",
            "value": 4673,
            "_view_count": null,
            "_view_module_version": "1.5.0",
            "orientation": "horizontal",
            "min": 0,
            "description_tooltip": null,
            "_model_module": "@jupyter-widgets/controls",
            "layout": "IPY_MODEL_cead7b66954742979d01880baa8c8eb3"
          }
        },
        "a404cb8dc30c4ff4b9b35410d5008e2d": {
          "model_module": "@jupyter-widgets/controls",
          "model_name": "HTMLModel",
          "model_module_version": "1.5.0",
          "state": {
            "_view_name": "HTMLView",
            "style": "IPY_MODEL_09df5dcad5334ff4b5b5d0b24c80f2c0",
            "_dom_classes": [],
            "description": "",
            "_model_name": "HTMLModel",
            "placeholder": "​",
            "_view_module": "@jupyter-widgets/controls",
            "_model_module_version": "1.5.0",
            "value": " 4673/4673 [00:33&lt;00:00, 197.59it/s]",
            "_view_count": null,
            "_view_module_version": "1.5.0",
            "description_tooltip": null,
            "_model_module": "@jupyter-widgets/controls",
            "layout": "IPY_MODEL_7f5bbefa6f194790818aa465a3e8ad2b"
          }
        },
        "4a897828eaa2448989d3f14444f5dc89": {
          "model_module": "@jupyter-widgets/controls",
          "model_name": "DescriptionStyleModel",
          "model_module_version": "1.5.0",
          "state": {
            "_view_name": "StyleView",
            "_model_name": "DescriptionStyleModel",
            "description_width": "",
            "_view_module": "@jupyter-widgets/base",
            "_model_module_version": "1.5.0",
            "_view_count": null,
            "_view_module_version": "1.2.0",
            "_model_module": "@jupyter-widgets/controls"
          }
        },
        "808bda5d622f4806ad0da3d1d53d9fe7": {
          "model_module": "@jupyter-widgets/base",
          "model_name": "LayoutModel",
          "model_module_version": "1.2.0",
          "state": {
            "_view_name": "LayoutView",
            "grid_template_rows": null,
            "right": null,
            "justify_content": null,
            "_view_module": "@jupyter-widgets/base",
            "overflow": null,
            "_model_module_version": "1.2.0",
            "_view_count": null,
            "flex_flow": null,
            "width": null,
            "min_width": null,
            "border": null,
            "align_items": null,
            "bottom": null,
            "_model_module": "@jupyter-widgets/base",
            "top": null,
            "grid_column": null,
            "overflow_y": null,
            "overflow_x": null,
            "grid_auto_flow": null,
            "grid_area": null,
            "grid_template_columns": null,
            "flex": null,
            "_model_name": "LayoutModel",
            "justify_items": null,
            "grid_row": null,
            "max_height": null,
            "align_content": null,
            "visibility": null,
            "align_self": null,
            "height": null,
            "min_height": null,
            "padding": null,
            "grid_auto_rows": null,
            "grid_gap": null,
            "max_width": null,
            "order": null,
            "_view_module_version": "1.2.0",
            "grid_template_areas": null,
            "object_position": null,
            "object_fit": null,
            "grid_auto_columns": null,
            "margin": null,
            "display": null,
            "left": null
          }
        },
        "c552f8b4fb7e45ecb30f3f0447c93f5d": {
          "model_module": "@jupyter-widgets/controls",
          "model_name": "ProgressStyleModel",
          "model_module_version": "1.5.0",
          "state": {
            "_view_name": "StyleView",
            "_model_name": "ProgressStyleModel",
            "description_width": "",
            "_view_module": "@jupyter-widgets/base",
            "_model_module_version": "1.5.0",
            "_view_count": null,
            "_view_module_version": "1.2.0",
            "bar_color": null,
            "_model_module": "@jupyter-widgets/controls"
          }
        },
        "cead7b66954742979d01880baa8c8eb3": {
          "model_module": "@jupyter-widgets/base",
          "model_name": "LayoutModel",
          "model_module_version": "1.2.0",
          "state": {
            "_view_name": "LayoutView",
            "grid_template_rows": null,
            "right": null,
            "justify_content": null,
            "_view_module": "@jupyter-widgets/base",
            "overflow": null,
            "_model_module_version": "1.2.0",
            "_view_count": null,
            "flex_flow": null,
            "width": null,
            "min_width": null,
            "border": null,
            "align_items": null,
            "bottom": null,
            "_model_module": "@jupyter-widgets/base",
            "top": null,
            "grid_column": null,
            "overflow_y": null,
            "overflow_x": null,
            "grid_auto_flow": null,
            "grid_area": null,
            "grid_template_columns": null,
            "flex": null,
            "_model_name": "LayoutModel",
            "justify_items": null,
            "grid_row": null,
            "max_height": null,
            "align_content": null,
            "visibility": null,
            "align_self": null,
            "height": null,
            "min_height": null,
            "padding": null,
            "grid_auto_rows": null,
            "grid_gap": null,
            "max_width": null,
            "order": null,
            "_view_module_version": "1.2.0",
            "grid_template_areas": null,
            "object_position": null,
            "object_fit": null,
            "grid_auto_columns": null,
            "margin": null,
            "display": null,
            "left": null
          }
        },
        "09df5dcad5334ff4b5b5d0b24c80f2c0": {
          "model_module": "@jupyter-widgets/controls",
          "model_name": "DescriptionStyleModel",
          "model_module_version": "1.5.0",
          "state": {
            "_view_name": "StyleView",
            "_model_name": "DescriptionStyleModel",
            "description_width": "",
            "_view_module": "@jupyter-widgets/base",
            "_model_module_version": "1.5.0",
            "_view_count": null,
            "_view_module_version": "1.2.0",
            "_model_module": "@jupyter-widgets/controls"
          }
        },
        "7f5bbefa6f194790818aa465a3e8ad2b": {
          "model_module": "@jupyter-widgets/base",
          "model_name": "LayoutModel",
          "model_module_version": "1.2.0",
          "state": {
            "_view_name": "LayoutView",
            "grid_template_rows": null,
            "right": null,
            "justify_content": null,
            "_view_module": "@jupyter-widgets/base",
            "overflow": null,
            "_model_module_version": "1.2.0",
            "_view_count": null,
            "flex_flow": null,
            "width": null,
            "min_width": null,
            "border": null,
            "align_items": null,
            "bottom": null,
            "_model_module": "@jupyter-widgets/base",
            "top": null,
            "grid_column": null,
            "overflow_y": null,
            "overflow_x": null,
            "grid_auto_flow": null,
            "grid_area": null,
            "grid_template_columns": null,
            "flex": null,
            "_model_name": "LayoutModel",
            "justify_items": null,
            "grid_row": null,
            "max_height": null,
            "align_content": null,
            "visibility": null,
            "align_self": null,
            "height": null,
            "min_height": null,
            "padding": null,
            "grid_auto_rows": null,
            "grid_gap": null,
            "max_width": null,
            "order": null,
            "_view_module_version": "1.2.0",
            "grid_template_areas": null,
            "object_position": null,
            "object_fit": null,
            "grid_auto_columns": null,
            "margin": null,
            "display": null,
            "left": null
          }
        },
        "ff7536303f7d497598e784b2935d3e3c": {
          "model_module": "@jupyter-widgets/controls",
          "model_name": "HBoxModel",
          "model_module_version": "1.5.0",
          "state": {
            "_view_name": "HBoxView",
            "_dom_classes": [],
            "_model_name": "HBoxModel",
            "_view_module": "@jupyter-widgets/controls",
            "_model_module_version": "1.5.0",
            "_view_count": null,
            "_view_module_version": "1.5.0",
            "box_style": "",
            "layout": "IPY_MODEL_d21af67dcce74c06bdfa442dad826d0f",
            "_model_module": "@jupyter-widgets/controls",
            "children": [
              "IPY_MODEL_4ce17a603ebd44e297028026929742e0",
              "IPY_MODEL_1244ffe9001b4b9286ffeaea87a4a6e4",
              "IPY_MODEL_2fd775740a9b48808aaf7d2aa1d40890"
            ]
          }
        },
        "d21af67dcce74c06bdfa442dad826d0f": {
          "model_module": "@jupyter-widgets/base",
          "model_name": "LayoutModel",
          "model_module_version": "1.2.0",
          "state": {
            "_view_name": "LayoutView",
            "grid_template_rows": null,
            "right": null,
            "justify_content": null,
            "_view_module": "@jupyter-widgets/base",
            "overflow": null,
            "_model_module_version": "1.2.0",
            "_view_count": null,
            "flex_flow": null,
            "width": null,
            "min_width": null,
            "border": null,
            "align_items": null,
            "bottom": null,
            "_model_module": "@jupyter-widgets/base",
            "top": null,
            "grid_column": null,
            "overflow_y": null,
            "overflow_x": null,
            "grid_auto_flow": null,
            "grid_area": null,
            "grid_template_columns": null,
            "flex": null,
            "_model_name": "LayoutModel",
            "justify_items": null,
            "grid_row": null,
            "max_height": null,
            "align_content": null,
            "visibility": null,
            "align_self": null,
            "height": null,
            "min_height": null,
            "padding": null,
            "grid_auto_rows": null,
            "grid_gap": null,
            "max_width": null,
            "order": null,
            "_view_module_version": "1.2.0",
            "grid_template_areas": null,
            "object_position": null,
            "object_fit": null,
            "grid_auto_columns": null,
            "margin": null,
            "display": null,
            "left": null
          }
        },
        "4ce17a603ebd44e297028026929742e0": {
          "model_module": "@jupyter-widgets/controls",
          "model_name": "HTMLModel",
          "model_module_version": "1.5.0",
          "state": {
            "_view_name": "HTMLView",
            "style": "IPY_MODEL_9a472c60803841239e12e64f42bb7d24",
            "_dom_classes": [],
            "description": "",
            "_model_name": "HTMLModel",
            "placeholder": "​",
            "_view_module": "@jupyter-widgets/controls",
            "_model_module_version": "1.5.0",
            "value": "100%",
            "_view_count": null,
            "_view_module_version": "1.5.0",
            "description_tooltip": null,
            "_model_module": "@jupyter-widgets/controls",
            "layout": "IPY_MODEL_972ce6e373054a4cb4bc70cb37d53d59"
          }
        },
        "1244ffe9001b4b9286ffeaea87a4a6e4": {
          "model_module": "@jupyter-widgets/controls",
          "model_name": "FloatProgressModel",
          "model_module_version": "1.5.0",
          "state": {
            "_view_name": "ProgressView",
            "style": "IPY_MODEL_8a3fa30edf1b46ff92983f6aace51b60",
            "_dom_classes": [],
            "description": "",
            "_model_name": "FloatProgressModel",
            "bar_style": "success",
            "max": 4673,
            "_view_module": "@jupyter-widgets/controls",
            "_model_module_version": "1.5.0",
            "value": 4673,
            "_view_count": null,
            "_view_module_version": "1.5.0",
            "orientation": "horizontal",
            "min": 0,
            "description_tooltip": null,
            "_model_module": "@jupyter-widgets/controls",
            "layout": "IPY_MODEL_1cd782f825e648018d259979c0ce9eb9"
          }
        },
        "2fd775740a9b48808aaf7d2aa1d40890": {
          "model_module": "@jupyter-widgets/controls",
          "model_name": "HTMLModel",
          "model_module_version": "1.5.0",
          "state": {
            "_view_name": "HTMLView",
            "style": "IPY_MODEL_5a150686a2bd4a4da114bbda17a99d9e",
            "_dom_classes": [],
            "description": "",
            "_model_name": "HTMLModel",
            "placeholder": "​",
            "_view_module": "@jupyter-widgets/controls",
            "_model_module_version": "1.5.0",
            "value": " 4673/4673 [00:01&lt;00:00, 3379.29it/s]",
            "_view_count": null,
            "_view_module_version": "1.5.0",
            "description_tooltip": null,
            "_model_module": "@jupyter-widgets/controls",
            "layout": "IPY_MODEL_5f67e291a02b45e7b568ba5e99676059"
          }
        },
        "9a472c60803841239e12e64f42bb7d24": {
          "model_module": "@jupyter-widgets/controls",
          "model_name": "DescriptionStyleModel",
          "model_module_version": "1.5.0",
          "state": {
            "_view_name": "StyleView",
            "_model_name": "DescriptionStyleModel",
            "description_width": "",
            "_view_module": "@jupyter-widgets/base",
            "_model_module_version": "1.5.0",
            "_view_count": null,
            "_view_module_version": "1.2.0",
            "_model_module": "@jupyter-widgets/controls"
          }
        },
        "972ce6e373054a4cb4bc70cb37d53d59": {
          "model_module": "@jupyter-widgets/base",
          "model_name": "LayoutModel",
          "model_module_version": "1.2.0",
          "state": {
            "_view_name": "LayoutView",
            "grid_template_rows": null,
            "right": null,
            "justify_content": null,
            "_view_module": "@jupyter-widgets/base",
            "overflow": null,
            "_model_module_version": "1.2.0",
            "_view_count": null,
            "flex_flow": null,
            "width": null,
            "min_width": null,
            "border": null,
            "align_items": null,
            "bottom": null,
            "_model_module": "@jupyter-widgets/base",
            "top": null,
            "grid_column": null,
            "overflow_y": null,
            "overflow_x": null,
            "grid_auto_flow": null,
            "grid_area": null,
            "grid_template_columns": null,
            "flex": null,
            "_model_name": "LayoutModel",
            "justify_items": null,
            "grid_row": null,
            "max_height": null,
            "align_content": null,
            "visibility": null,
            "align_self": null,
            "height": null,
            "min_height": null,
            "padding": null,
            "grid_auto_rows": null,
            "grid_gap": null,
            "max_width": null,
            "order": null,
            "_view_module_version": "1.2.0",
            "grid_template_areas": null,
            "object_position": null,
            "object_fit": null,
            "grid_auto_columns": null,
            "margin": null,
            "display": null,
            "left": null
          }
        },
        "8a3fa30edf1b46ff92983f6aace51b60": {
          "model_module": "@jupyter-widgets/controls",
          "model_name": "ProgressStyleModel",
          "model_module_version": "1.5.0",
          "state": {
            "_view_name": "StyleView",
            "_model_name": "ProgressStyleModel",
            "description_width": "",
            "_view_module": "@jupyter-widgets/base",
            "_model_module_version": "1.5.0",
            "_view_count": null,
            "_view_module_version": "1.2.0",
            "bar_color": null,
            "_model_module": "@jupyter-widgets/controls"
          }
        },
        "1cd782f825e648018d259979c0ce9eb9": {
          "model_module": "@jupyter-widgets/base",
          "model_name": "LayoutModel",
          "model_module_version": "1.2.0",
          "state": {
            "_view_name": "LayoutView",
            "grid_template_rows": null,
            "right": null,
            "justify_content": null,
            "_view_module": "@jupyter-widgets/base",
            "overflow": null,
            "_model_module_version": "1.2.0",
            "_view_count": null,
            "flex_flow": null,
            "width": null,
            "min_width": null,
            "border": null,
            "align_items": null,
            "bottom": null,
            "_model_module": "@jupyter-widgets/base",
            "top": null,
            "grid_column": null,
            "overflow_y": null,
            "overflow_x": null,
            "grid_auto_flow": null,
            "grid_area": null,
            "grid_template_columns": null,
            "flex": null,
            "_model_name": "LayoutModel",
            "justify_items": null,
            "grid_row": null,
            "max_height": null,
            "align_content": null,
            "visibility": null,
            "align_self": null,
            "height": null,
            "min_height": null,
            "padding": null,
            "grid_auto_rows": null,
            "grid_gap": null,
            "max_width": null,
            "order": null,
            "_view_module_version": "1.2.0",
            "grid_template_areas": null,
            "object_position": null,
            "object_fit": null,
            "grid_auto_columns": null,
            "margin": null,
            "display": null,
            "left": null
          }
        },
        "5a150686a2bd4a4da114bbda17a99d9e": {
          "model_module": "@jupyter-widgets/controls",
          "model_name": "DescriptionStyleModel",
          "model_module_version": "1.5.0",
          "state": {
            "_view_name": "StyleView",
            "_model_name": "DescriptionStyleModel",
            "description_width": "",
            "_view_module": "@jupyter-widgets/base",
            "_model_module_version": "1.5.0",
            "_view_count": null,
            "_view_module_version": "1.2.0",
            "_model_module": "@jupyter-widgets/controls"
          }
        },
        "5f67e291a02b45e7b568ba5e99676059": {
          "model_module": "@jupyter-widgets/base",
          "model_name": "LayoutModel",
          "model_module_version": "1.2.0",
          "state": {
            "_view_name": "LayoutView",
            "grid_template_rows": null,
            "right": null,
            "justify_content": null,
            "_view_module": "@jupyter-widgets/base",
            "overflow": null,
            "_model_module_version": "1.2.0",
            "_view_count": null,
            "flex_flow": null,
            "width": null,
            "min_width": null,
            "border": null,
            "align_items": null,
            "bottom": null,
            "_model_module": "@jupyter-widgets/base",
            "top": null,
            "grid_column": null,
            "overflow_y": null,
            "overflow_x": null,
            "grid_auto_flow": null,
            "grid_area": null,
            "grid_template_columns": null,
            "flex": null,
            "_model_name": "LayoutModel",
            "justify_items": null,
            "grid_row": null,
            "max_height": null,
            "align_content": null,
            "visibility": null,
            "align_self": null,
            "height": null,
            "min_height": null,
            "padding": null,
            "grid_auto_rows": null,
            "grid_gap": null,
            "max_width": null,
            "order": null,
            "_view_module_version": "1.2.0",
            "grid_template_areas": null,
            "object_position": null,
            "object_fit": null,
            "grid_auto_columns": null,
            "margin": null,
            "display": null,
            "left": null
          }
        }
      }
    },
    "accelerator": "GPU"
  },
  "cells": [
    {
      "cell_type": "markdown",
      "metadata": {
        "id": "8ngo-MXwj7Oy"
      },
      "source": [
        "# Install Libraries"
      ]
    },
    {
      "cell_type": "code",
      "metadata": {
        "id": "6uk8ibx2j6aK",
        "colab": {
          "base_uri": "https://localhost:8080/"
        },
        "outputId": "9c827322-3084-4044-c270-d1b1ac31a1fb"
      },
      "source": [
        "!pip install pillow\n",
        "!nvidia-smi"
      ],
      "execution_count": 1,
      "outputs": [
        {
          "output_type": "stream",
          "name": "stdout",
          "text": [
            "Requirement already satisfied: pillow in /usr/local/lib/python3.7/dist-packages (7.1.2)\n",
            "Wed Dec 15 22:34:56 2021       \n",
            "+-----------------------------------------------------------------------------+\n",
            "| NVIDIA-SMI 495.44       Driver Version: 460.32.03    CUDA Version: 11.2     |\n",
            "|-------------------------------+----------------------+----------------------+\n",
            "| GPU  Name        Persistence-M| Bus-Id        Disp.A | Volatile Uncorr. ECC |\n",
            "| Fan  Temp  Perf  Pwr:Usage/Cap|         Memory-Usage | GPU-Util  Compute M. |\n",
            "|                               |                      |               MIG M. |\n",
            "|===============================+======================+======================|\n",
            "|   0  Tesla K80           Off  | 00000000:00:04.0 Off |                    0 |\n",
            "| N/A   38C    P8    27W / 149W |      0MiB / 11441MiB |      0%      Default |\n",
            "|                               |                      |                  N/A |\n",
            "+-------------------------------+----------------------+----------------------+\n",
            "                                                                               \n",
            "+-----------------------------------------------------------------------------+\n",
            "| Processes:                                                                  |\n",
            "|  GPU   GI   CI        PID   Type   Process name                  GPU Memory |\n",
            "|        ID   ID                                                   Usage      |\n",
            "|=============================================================================|\n",
            "|  No running processes found                                                 |\n",
            "+-----------------------------------------------------------------------------+\n"
          ]
        }
      ]
    },
    {
      "cell_type": "markdown",
      "metadata": {
        "id": "1nvQsm7qhMPy"
      },
      "source": [
        "# Download Dataset"
      ]
    },
    {
      "cell_type": "code",
      "metadata": {
        "id": "OWpZd9_4b9gm",
        "colab": {
          "base_uri": "https://localhost:8080/"
        },
        "outputId": "89586429-18cc-45ec-8009-31bd57818ec9"
      },
      "source": [
        "DATASET_FILE = \"scalene_triangle_0_355_step5_randomdisp_5000randomtest.zip\"\n",
        "DATASET_DIR = \"scalene_triangle_0_355_step5_randomdisp_5000randomtest\"\n",
        "!rm -rf \"$DATASET_DIR\"\n",
        "!curl -L https://github.com/joshbarrass/Y4ProjectNotebooks/raw/master/$DATASET_FILE > \"$DATASET_FILE\"\n",
        "!unzip -d \"$DATASET_DIR\" \"$DATASET_FILE\" > /dev/null"
      ],
      "execution_count": 2,
      "outputs": [
        {
          "output_type": "stream",
          "name": "stdout",
          "text": [
            "  % Total    % Received % Xferd  Average Speed   Time    Time     Time  Current\n",
            "                                 Dload  Upload   Total   Spent    Left  Speed\n",
            "100   188  100   188    0     0   1220      0 --:--:-- --:--:-- --:--:--  1220\n",
            "100   199  100   199    0     0    715      0 --:--:-- --:--:-- --:--:--   715\n",
            "100 19.6M  100 19.6M    0     0  19.1M      0  0:00:01  0:00:01 --:--:--  111M\n"
          ]
        }
      ]
    },
    {
      "cell_type": "markdown",
      "metadata": {
        "id": "QM9iHDyVobZ7"
      },
      "source": [
        "# Define Helper Functions"
      ]
    },
    {
      "cell_type": "code",
      "metadata": {
        "id": "Hgf278ejobQO"
      },
      "source": [
        "import numpy as np\n",
        "import tensorflow as tf\n",
        "from tensorflow.keras import layers\n",
        "from scipy.spatial.transform import Rotation as R\n",
        "\n",
        "D6_SHAPE = (3, 2)\n",
        "\n",
        "def normalise(x):\n",
        "    return x / np.linalg.norm(x)\n",
        "\n",
        "def from_SO3_to_6D(SO3):\n",
        "    \"\"\"Convert an SO(3) rotation matrix to a 6D internal representation.\"\"\"\n",
        "    return SO3[:,:2]\n",
        "\n",
        "def from_6D_to_SO3(D6):\n",
        "    \"\"\"Convert a 6D internal representation to an SO(3) rotation matrix.\"\"\"\n",
        "    b1 = normalise(D6[:,0])\n",
        "    b2 = normalise(D6[:,1] - np.dot(b1, D6[:,1])*b1)\n",
        "    b3 = np.cross(b1, b2)\n",
        "    return np.array([b1, b2, b3]).T\n",
        "\n",
        "def tf_6D_to_SO3(D6):\n",
        "  \"\"\"tensorflow-compatible conversion from 6D to SO(3). Used in the D6Convert layer.\"\"\"\n",
        "  a1 = D6[:,:,0]\n",
        "  a2 = D6[:,:,1]\n",
        "  b1 = tf.math.l2_normalize(a1, axis=-1)\n",
        "  b2 = tf.math.l2_normalize(a2 - tf.reduce_sum(b1*a2)*b1, axis=-1)\n",
        "  b3 = tf.linalg.cross(b1, b2)\n",
        "  return tf.stack([b1, b2, b3], axis=2)\n",
        "\n",
        "class D6Convert(layers.Layer):\n",
        "  def call(self, inputs):\n",
        "    target_input_shape = tf.TensorShape(((None,) + D6_SHAPE))\n",
        "    if not inputs.shape.is_compatible_with(target_input_shape):\n",
        "      raise TypeError(\"inputs to D6Convert should have shape {}, not {}\".format(target_input_shape, inputs.shape))\n",
        "    return tf_6D_to_SO3(inputs)\n",
        "\n",
        "### DEPRECATED: Returns wrong value\n",
        "# def SO3_distance(M1, M2):\n",
        "#  \"\"\"Returns the distance between two SO3 matrices in degrees\"\"\"\n",
        "#  R = M1 * np.linalg.inv(M2)\n",
        "#  return np.rad2deg(np.arccos((np.trace(R)-1)/2))"
      ],
      "execution_count": 3,
      "outputs": []
    },
    {
      "cell_type": "markdown",
      "metadata": {
        "id": "-ibV1fr0oJPF"
      },
      "source": [
        "# Implement Quaternion SO(3) Distance"
      ]
    },
    {
      "cell_type": "code",
      "metadata": {
        "id": "KRnumNchoGfE"
      },
      "source": [
        "# quaternion [x, y, z, w]: w + xi + yj + zk\n",
        "# this is the format outputted by scipy\n",
        "def SO3_distance(M1, M2):\n",
        "  \"\"\"Returns the angle between two SO3 matrices in degrees.\n",
        "\n",
        "  This is done by converting the matrices to quaternions and multiplying the\n",
        "  conjugate of one with the other. The scalar part of the resulting quaternion\n",
        "  is then cos(theta/2). The expression has been simplified to calculate only the\n",
        "  scalar part.\"\"\"\n",
        "  x1, y1, z1, w1 = R.from_matrix(M1).as_quat()\n",
        "  x2, y2, z2, w2 = R.from_matrix(M2).as_quat()\n",
        "  angle = np.rad2deg(2*np.arccos(w1*w2 + x1*x2 + y1*y2 + z1*z2))\n",
        "  # maximum rotation away from a given angle is 180 degrees\n",
        "  # any further and you reduce the angle by rotating the opposite direction\n",
        "  # some edge cases produce angles > 180 degrees, so rectify these\n",
        "  if angle > 180:\n",
        "    return 360 - angle\n",
        "  return angle\n",
        "\n",
        "### TEST SO3_distance\n",
        "test_tolerance = 0.001\n",
        "for i in range(100):\n",
        "  test_angle1, test_angle2 = np.random.uniform(0, 180, 2) # max difference should be 180, as > 180 is no longer the shortest angle\n",
        "  testM1 = R.from_euler(\"zyx\", [test_angle1, 0, 0], degrees=True).as_matrix()\n",
        "  testM2 = R.from_euler(\"zyx\", [test_angle2, 0, 0], degrees=True).as_matrix()\n",
        "  test_true_angle = abs(test_angle1-test_angle2)\n",
        "  test_angle = abs(SO3_distance(testM1, testM2))\n",
        "  assert test_angle + test_tolerance > test_true_angle and test_angle - test_tolerance < test_true_angle"
      ],
      "execution_count": 4,
      "outputs": []
    },
    {
      "cell_type": "code",
      "metadata": {
        "id": "8hZ1-TLsB4ka",
        "colab": {
          "base_uri": "https://localhost:8080/"
        },
        "outputId": "0330f8b7-2126-4af0-8bd8-c37be0aa7cc2"
      },
      "source": [
        "SO31 = R.from_euler(\"zyx\",[3, 2, 1]).as_matrix()\n",
        "D61 = from_SO3_to_6D(SO31)\n",
        "SO32 = R.from_euler(\"zyx\",[0.5, 1, 1.2]).as_matrix()\n",
        "D62 = from_SO3_to_6D(SO32)\n",
        "print(\"True:\", SO31, \"\\n\", SO32, sep=\"\")\n",
        "print(\"np1:\", from_6D_to_SO3(D61))\n",
        "print(\"np2:\", from_6D_to_SO3(D62))\n",
        "print(\"tf:\", tf_6D_to_SO3(np.array([D61, D62])))"
      ],
      "execution_count": 5,
      "outputs": [
        {
          "output_type": "stream",
          "name": "stdout",
          "text": [
            "True:[[ 0.41198225  0.05872664  0.90929743]\n",
            " [-0.68124272 -0.64287284  0.35017549]\n",
            " [ 0.60512725 -0.76371834 -0.2248451 ]]\n",
            "[[ 0.47415988 -0.25903472  0.84147098]\n",
            " [ 0.86199739 -0.05800686 -0.50358287]\n",
            " [ 0.17925654  0.96412459  0.19578273]]\n",
            "np1: [[ 0.41198225  0.05872664  0.90929743]\n",
            " [-0.68124272 -0.64287284  0.35017549]\n",
            " [ 0.60512725 -0.76371834 -0.2248451 ]]\n",
            "np2: [[ 0.47415988 -0.25903472  0.84147098]\n",
            " [ 0.86199739 -0.05800686 -0.50358287]\n",
            " [ 0.17925654  0.96412459  0.19578273]]\n",
            "tf: tf.Tensor(\n",
            "[[[ 0.41198225  0.05872664  0.90929743]\n",
            "  [-0.68124272 -0.64287284  0.35017549]\n",
            "  [ 0.60512725 -0.76371834 -0.2248451 ]]\n",
            "\n",
            " [[ 0.47415988 -0.25903472  0.84147098]\n",
            "  [ 0.86199739 -0.05800686 -0.50358287]\n",
            "  [ 0.17925654  0.96412459  0.19578273]]], shape=(2, 3, 3), dtype=float64)\n"
          ]
        }
      ]
    },
    {
      "cell_type": "markdown",
      "metadata": {
        "id": "RcGH48Hp4_rS"
      },
      "source": [
        "# Create Image Centering Function"
      ]
    },
    {
      "cell_type": "code",
      "metadata": {
        "id": "bIttHkkz5ACK"
      },
      "source": [
        "import numpy as np\n",
        "from scipy import ndimage\n",
        "from PIL import Image\n",
        "def centre_image(a: np.ndarray, target_centre=(0,0)):\n",
        "  \"\"\"Centres a single-channel image using centre of mass.\n",
        "  \n",
        "  Target centre is defined such that (x=0,y=0) is the centre of the image.\n",
        "  Increasing x moves the centre to the right, increasing y moves the centre\n",
        "  down.\"\"\"\n",
        "  if len(a.shape) == 2:\n",
        "    a = a.reshape((1,) + a.shape)\n",
        "\n",
        "  # determine all centres of mass\n",
        "  # TODO: can potentially take advantage of labelling to remove \"noise islands\"\n",
        "  if len(a.shape) == 3:\n",
        "    COM = np.zeros((a.shape[0], 2))\n",
        "    for i in range(a.shape[0]):\n",
        "      COM[i] = ndimage.measurements.center_of_mass(a[i])\n",
        "  else:\n",
        "    raise TypeError(\"a should be either 2D image or an array of 2D\")\n",
        "\n",
        "  output = np.zeros(a.shape)\n",
        "\n",
        "  # translate COM to centre of image\n",
        "  for i in range(a.shape[0]):\n",
        "    im = a[i]\n",
        "    target_centre = (im.shape[0]/2 + target_centre[0],\n",
        "                     im.shape[1]/2 + target_centre[1])\n",
        "    # use affine transform with a=1, e=1, i=1, c=x, f=y to translate\n",
        "    translation = (COM[i][0] - target_centre[0], COM[i][1] - target_centre[1])\n",
        "    transform = np.array([[1, 0, translation[0]],\n",
        "                          [0, 1, translation[1]],\n",
        "                          [0, 0, 1]])\n",
        "    output[i] = ndimage.affine_transform(im, transform, order=0)\n",
        "  \n",
        "  return output\n"
      ],
      "execution_count": 6,
      "outputs": []
    },
    {
      "cell_type": "markdown",
      "metadata": {
        "id": "F5wRIHdPjNIw"
      },
      "source": [
        "# Load and Pre-Process Training Data"
      ]
    },
    {
      "cell_type": "code",
      "metadata": {
        "id": "uYFiuLaEhlpB",
        "colab": {
          "base_uri": "https://localhost:8080/",
          "height": 909,
          "referenced_widgets": [
            "642977075fcc4d6880c4e74c7c441207",
            "37c59899a8cd4e049def1e1b17b34314",
            "42dbcf9826d04359bcb7385d5feea437",
            "64d4b1ef446d40948313c6cdba2630b6",
            "d284d1cb9c234c119d4156dbe3785950",
            "881b4a8f32914865aa7c59ee1fadfbb8",
            "bce0730abb0a460baf033b2f3cd9ac2c",
            "0bfecb746f674aeb87c8fc332516d0f2",
            "e750f8c6556e41c39c7c1d67094e1d33",
            "6a0c373c29844eb4bc678de536e88894",
            "2acbc68e0ce74dd5b0547bea8a9840c0",
            "235983ea01ff4c42990d3f88a2291ccc",
            "7e1deb4a463d4d08b89bf1e88c533c68",
            "efa9e95929c84ef4b0af870f7de9d66b",
            "19ef434eae444b5a8242142f6a456cea",
            "a404cb8dc30c4ff4b9b35410d5008e2d",
            "4a897828eaa2448989d3f14444f5dc89",
            "808bda5d622f4806ad0da3d1d53d9fe7",
            "c552f8b4fb7e45ecb30f3f0447c93f5d",
            "cead7b66954742979d01880baa8c8eb3",
            "09df5dcad5334ff4b5b5d0b24c80f2c0",
            "7f5bbefa6f194790818aa465a3e8ad2b"
          ]
        },
        "outputId": "7184e7b0-d1b9-41bd-dd6f-b6a17bc0cf20"
      },
      "source": [
        "import os\n",
        "import random\n",
        "from scipy.spatial.transform import Rotation as R\n",
        "from PIL import ImageFilter\n",
        "from tqdm.notebook import tqdm\n",
        "from matplotlib import pyplot as plt\n",
        "\n",
        "def polar_to_cartesian(r, theta):\n",
        "  r = np.abs(r)\n",
        "  return r*np.cos(theta), r*np.sin(theta)\n",
        "\n",
        "random.seed(0)\n",
        "\n",
        "RESIZE_SHAPE = (32, 32) # (x, y)\n",
        "\n",
        "GAUSS_RADIUS = 1 * RESIZE_SHAPE[0]/50\n",
        "image_filter = ImageFilter.GaussianBlur(radius=GAUSS_RADIUS)\n",
        "\n",
        "# displace the centre randomly\n",
        "AUGMENT_CENTRE = True\n",
        "CENTRE_AUGMENTATIONS = 16 if AUGMENT_CENTRE else 1\n",
        "CENTRE_AUGMENTATION_SIGMA = 2 * RESIZE_SHAPE[0]/50\n",
        "\n",
        "# dataset size increase factor due to augmentations\n",
        "AUG_MULTIPLIER = 1 * CENTRE_AUGMENTATIONS\n",
        "\n",
        "image_files = os.listdir(os.path.join(DATASET_DIR, \"train\"))\n",
        "total_images = len(image_files)\n",
        "print(f\"Dataset contains {total_images} images\")\n",
        "if total_images == 0:\n",
        "  raise ValueError(\"dataset has no images\")\n",
        "\n",
        "# image_shape = Image.open(os.path.join(DATASET_DIR, image_files[0])).size\n",
        "image_shape = RESIZE_SHAPE + (1,)\n",
        "print(f\"Image shape is {image_shape}\")\n",
        "x_data = np.zeros((total_images*AUG_MULTIPLIER,) + image_shape, dtype=\"float32\")\n",
        "y_data = np.zeros((total_images*AUG_MULTIPLIER, 3, 3), dtype=\"float32\")\n",
        "print(f\"x will have shape {x_data.shape}\")\n",
        "print(f\"y will have shape {y_data.shape}\")\n",
        "print(\"Processing image files...\")\n",
        "\n",
        "def process_image(imf, augment_centre=False):\n",
        "  \"\"\"Takes a path to an image and loads it, performs pre-processing, and returns the xdata and ydata\"\"\"\n",
        "  im = Image.open(imf).convert(\"L\")\n",
        "  im = im.resize(RESIZE_SHAPE)\n",
        "  im = im.filter(image_filter) # blur early to simulate imperfect focus\n",
        "  im = np.array(im).T # gives image with correct shape for centring\n",
        "  angle = os.path.splitext(os.path.basename(imf))[0]\n",
        "  if \"_\" in angle: # multiple examples; separate out the angle from the index\n",
        "    angle = angle.split(\"_\")[1]\n",
        "  angle = float(angle)\n",
        "  assert angle >= 0 and angle < 360\n",
        "  rot_matrix = R.from_euler(\"zyx\", (angle, 0, 0), True).as_matrix()\n",
        "  \n",
        "  # return now if no augmentations needed\n",
        "  if not augment_centre: # and not ...\n",
        "    return centre_image(im).reshape(image_shape)/255., rot_matrix\n",
        "  \n",
        "  # construct larger arrays for multiple images\n",
        "  ims = np.empty((AUG_MULTIPLIER, ) + image_shape)\n",
        "  rot_matrices = np.zeros((AUG_MULTIPLIER, 3, 3), dtype=rot_matrix.dtype)\n",
        "  rot_matrices[:] = rot_matrix\n",
        "\n",
        "  if augment_centre:\n",
        "    for i in range(CENTRE_AUGMENTATIONS):\n",
        "      r = np.random.normal(loc=0, scale=CENTRE_AUGMENTATION_SIGMA)\n",
        "      #r = np.random.uniform(low=-CENTRE_AUGMENTATION_SIGMA, high=CENTRE_AUGMENTATION_SIGMA)\n",
        "      theta = np.random.uniform(low=0, high=2*np.pi)\n",
        "      ims[i] = centre_image(im, polar_to_cartesian(r, theta)).reshape(image_shape)/255.  \n",
        "  \n",
        "  return ims, rot_matrices\n",
        "\n",
        "# load training data\n",
        "for i, imf in tqdm(enumerate(image_files), total=total_images):\n",
        "  if AUG_MULTIPLIER == 1:\n",
        "    x_data[i,:,:], y_data[i,:,:] = process_image(os.path.join(DATASET_DIR, \"train\", imf))\n",
        "  else:\n",
        "    n = AUG_MULTIPLIER # alias\n",
        "    x_data[i*n:i*n+n,:,:], y_data[i*n:i*n+n,:,:] = process_image(\n",
        "        os.path.join(DATASET_DIR, \"train\", imf),\n",
        "        augment_centre=AUGMENT_CENTRE,\n",
        "    )\n",
        "\n",
        "test_image_files = os.listdir(os.path.join(DATASET_DIR, \"test\"))\n",
        "total_test_images = len(test_image_files)\n",
        "x_test = np.zeros((total_test_images,) + x_data.shape[1:])\n",
        "y_test = np.zeros((total_test_images,) + y_data.shape[1:])\n",
        "print(\"Loading test data...\")\n",
        "for i, imf in tqdm(enumerate(test_image_files), total=total_test_images):\n",
        "  x_test[i,:,:], y_test[i,:,:] = process_image(os.path.join(DATASET_DIR, \"test\", imf))\n",
        "\n",
        "print(f\"x_data has shape {x_data.shape}\")\n",
        "print(f\"y_data has shape {y_data.shape}\")\n",
        "print(f\"x_test has shape {x_test.shape}\")\n",
        "print(f\"y_test has shape {y_test.shape}\")\n",
        "\n",
        "print(f\"x_data values range from {np.min(x_data)} to {np.max(x_data)}\")\n",
        "\n",
        "im0 = x_data[0,:,:].reshape(RESIZE_SHAPE).T\n",
        "rot0 = y_data[0]\n",
        "plt.imshow(im0)\n",
        "COM = ndimage.measurements.center_of_mass(im0.T)\n",
        "plt.axvline(COM[0])\n",
        "plt.axhline(COM[1])\n",
        "print(rot0)\n",
        "print(COM)\n",
        "plt.show()\n",
        "\n",
        "im1 = x_test[1,:,:].reshape(RESIZE_SHAPE).T\n",
        "rot1 = y_test[1]\n",
        "plt.imshow(im1)\n",
        "COM = ndimage.measurements.center_of_mass(im1.T)\n",
        "plt.axvline(COM[0])\n",
        "plt.axhline(COM[1])\n",
        "print(rot1)\n",
        "print(COM)\n",
        "plt.show()\n"
      ],
      "execution_count": 7,
      "outputs": [
        {
          "output_type": "stream",
          "name": "stdout",
          "text": [
            "Dataset contains 360 images\n",
            "Image shape is (32, 32, 1)\n",
            "x will have shape (5760, 32, 32, 1)\n",
            "y will have shape (5760, 3, 3)\n",
            "Processing image files...\n"
          ]
        },
        {
          "output_type": "display_data",
          "data": {
            "application/vnd.jupyter.widget-view+json": {
              "model_id": "642977075fcc4d6880c4e74c7c441207",
              "version_minor": 0,
              "version_major": 2
            },
            "text/plain": [
              "  0%|          | 0/360 [00:00<?, ?it/s]"
            ]
          },
          "metadata": {}
        },
        {
          "output_type": "stream",
          "name": "stdout",
          "text": [
            "Loading test data...\n"
          ]
        },
        {
          "output_type": "display_data",
          "data": {
            "application/vnd.jupyter.widget-view+json": {
              "model_id": "235983ea01ff4c42990d3f88a2291ccc",
              "version_minor": 0,
              "version_major": 2
            },
            "text/plain": [
              "  0%|          | 0/4673 [00:00<?, ?it/s]"
            ]
          },
          "metadata": {}
        },
        {
          "output_type": "stream",
          "name": "stdout",
          "text": [
            "x_data has shape (5760, 32, 32, 1)\n",
            "y_data has shape (5760, 3, 3)\n",
            "x_test has shape (4673, 32, 32, 1)\n",
            "y_test has shape (4673, 3, 3)\n",
            "x_data values range from 0.0 to 1.0\n",
            "[[ 0.5       -0.8660254  0.       ]\n",
            " [ 0.8660254  0.5        0.       ]\n",
            " [ 0.         0.         1.       ]]\n",
            "(16.02514077461051, 16.228875319645805)\n"
          ]
        },
        {
          "output_type": "display_data",
          "data": {
            "image/png": "[encoded data removed]",
            "text/plain": [
              "<Figure size 432x288 with 1 Axes>"
            ]
          },
          "metadata": {
            "needs_background": "light"
          }
        },
        {
          "output_type": "stream",
          "name": "stdout",
          "text": [
            "[[ 0.99479214  0.10192446  0.        ]\n",
            " [-0.10192446  0.99479214  0.        ]\n",
            " [ 0.          0.          1.        ]]\n",
            "(15.64658359243029, 16.407863490586823)\n"
          ]
        },
        {
          "output_type": "display_data",
          "data": {
            "image/png": "[encoded data removed]",
            "text/plain": [
              "<Figure size 432x288 with 1 Axes>"
            ]
          },
          "metadata": {
            "needs_background": "light"
          }
        }
      ]
    },
    {
      "cell_type": "markdown",
      "metadata": {
        "id": "xXnHpEUMYlSc"
      },
      "source": [
        "# Construct Network"
      ]
    },
    {
      "cell_type": "code",
      "metadata": {
        "id": "Vat7z3grkag2",
        "colab": {
          "base_uri": "https://localhost:8080/"
        },
        "outputId": "4e4358a7-1da8-4b4e-c97c-3e20bf56b471"
      },
      "source": [
        "from tensorflow import keras\n",
        "from tensorflow.keras import layers\n",
        "\n",
        "batch_size = 16\n",
        "epochs = 100\n",
        "\n",
        "model = keras.Sequential([\n",
        "                          layers.InputLayer(input_shape=image_shape),\n",
        "                          layers.Conv2D(filters=32, kernel_size=3, activation=\"relu\"),\n",
        "                          layers.MaxPool2D(pool_size=2, strides=2),\n",
        "                          layers.Conv2D(filters=32, kernel_size=3, activation=\"relu\"),\n",
        "                          layers.MaxPool2D(pool_size=2, strides=2),\n",
        "                          layers.Flatten(),\n",
        "                          layers.Dense(64, activation=\"relu\"),\n",
        "                          layers.Dense(128, activation=\"relu\"),\n",
        "                          layers.Dense(256, activation=\"relu\"),\n",
        "                          layers.Dense(128, activation=\"relu\"),\n",
        "                          layers.Dense(64, activation=\"relu\"),\n",
        "                          layers.Dense(np.prod(D6_SHAPE), activation=\"tanh\"),\n",
        "                          layers.Reshape(D6_SHAPE),\n",
        "                          D6Convert(),\n",
        "])\n",
        "model.summary()\n",
        "# possible new optimizer: keras.optimizers.SGD(learning_rate=0.007, momentum=0.1)\n",
        "model.compile(optimizer=\"sgd\", loss=\"mean_squared_error\", metrics=[\"accuracy\"])"
      ],
      "execution_count": 8,
      "outputs": [
        {
          "output_type": "stream",
          "name": "stdout",
          "text": [
            "Model: \"sequential\"\n",
            "_________________________________________________________________\n",
            " Layer (type)                Output Shape              Param #   \n",
            "=================================================================\n",
            " conv2d (Conv2D)             (None, 30, 30, 32)        320       \n",
            "                                                                 \n",
            " max_pooling2d (MaxPooling2D  (None, 15, 15, 32)       0         \n",
            " )                                                               \n",
            "                                                                 \n",
            " conv2d_1 (Conv2D)           (None, 13, 13, 32)        9248      \n",
            "                                                                 \n",
            " max_pooling2d_1 (MaxPooling  (None, 6, 6, 32)         0         \n",
            " 2D)                                                             \n",
            "                                                                 \n",
            " flatten (Flatten)           (None, 1152)              0         \n",
            "                                                                 \n",
            " dense (Dense)               (None, 64)                73792     \n",
            "                                                                 \n",
            " dense_1 (Dense)             (None, 128)               8320      \n",
            "                                                                 \n",
            " dense_2 (Dense)             (None, 256)               33024     \n",
            "                                                                 \n",
            " dense_3 (Dense)             (None, 128)               32896     \n",
            "                                                                 \n",
            " dense_4 (Dense)             (None, 64)                8256      \n",
            "                                                                 \n",
            " dense_5 (Dense)             (None, 6)                 390       \n",
            "                                                                 \n",
            " reshape (Reshape)           (None, 3, 2)              0         \n",
            "                                                                 \n",
            " d6_convert (D6Convert)      (None, 3, 3)              0         \n",
            "                                                                 \n",
            "=================================================================\n",
            "Total params: 166,246\n",
            "Trainable params: 166,246\n",
            "Non-trainable params: 0\n",
            "_________________________________________________________________\n"
          ]
        }
      ]
    },
    {
      "cell_type": "markdown",
      "metadata": {
        "id": "H_8k1tdWhmG_"
      },
      "source": [
        "# Train Model"
      ]
    },
    {
      "cell_type": "code",
      "metadata": {
        "colab": {
          "base_uri": "https://localhost:8080/"
        },
        "id": "O1Ic9SjfgAkH",
        "outputId": "3a059741-3812-4e5f-ed38-4f6a5d5df5ce"
      },
      "source": [
        "from matplotlib import gridspec\n",
        "import time\n",
        "\n",
        "VALIDATION_FRACTION = 0.1\n",
        "\n",
        "def choose_validation(n, x, y):\n",
        "  \"\"\"Choose n items at random from both arrays, maintaining the same order in both.\n",
        "  Items will not be duplicated.\"\"\"\n",
        "  x_out = np.empty((n,)+x.shape[1:], dtype=x.dtype)\n",
        "  y_out = np.empty((n,)+y.shape[1:], dtype=y.dtype)\n",
        "\n",
        "  indices = random.sample(range(n), n)\n",
        "  for i, j in enumerate(indices):\n",
        "    x_out[i] = x[j]\n",
        "    y_out[i] = y[j]\n",
        "  return x_out, y_out\n",
        "\n",
        "x_val, y_val = choose_validation(int(x_test.shape[0]*VALIDATION_FRACTION), x_test, y_test)\n",
        "\n",
        "start_time = time.time()\n",
        "history = model.fit(\n",
        "    x_data,\n",
        "    y_data,\n",
        "    batch_size,\n",
        "    epochs,\n",
        "    validation_data=(x_val, y_val),\n",
        "    steps_per_epoch=int(np.ceil(x_data.shape[0]/batch_size)),\n",
        "    shuffle=True,\n",
        ")\n",
        "end_time = time.time()\n",
        "print(\"Training time:\", end_time-start_time, \"seconds\")"
      ],
      "execution_count": 9,
      "outputs": [
        {
          "output_type": "stream",
          "name": "stdout",
          "text": [
            "Epoch 1/100\n",
            "360/360 [==============================] - 12s 7ms/step - loss: 0.4964 - accuracy: 0.5478 - val_loss: 0.4232 - val_accuracy: 0.5989\n",
            "Epoch 2/100\n",
            "360/360 [==============================] - 2s 6ms/step - loss: 0.4257 - accuracy: 0.6152 - val_loss: 0.2928 - val_accuracy: 0.7074\n",
            "Epoch 3/100\n",
            "360/360 [==============================] - 2s 6ms/step - loss: 0.3350 - accuracy: 0.6470 - val_loss: 0.1532 - val_accuracy: 0.7880\n",
            "Epoch 4/100\n",
            "360/360 [==============================] - 2s 6ms/step - loss: 0.1523 - accuracy: 0.8010 - val_loss: 0.0359 - val_accuracy: 0.9022\n",
            "Epoch 5/100\n",
            "360/360 [==============================] - 2s 6ms/step - loss: 0.0358 - accuracy: 0.9226 - val_loss: 0.0207 - val_accuracy: 0.9343\n",
            "Epoch 6/100\n",
            "360/360 [==============================] - 2s 6ms/step - loss: 0.0158 - accuracy: 0.9469 - val_loss: 0.0036 - val_accuracy: 0.9665\n",
            "Epoch 7/100\n",
            "360/360 [==============================] - 2s 6ms/step - loss: 0.0090 - accuracy: 0.9580 - val_loss: 0.0016 - val_accuracy: 0.9793\n",
            "Epoch 8/100\n",
            "360/360 [==============================] - 2s 6ms/step - loss: 0.0060 - accuracy: 0.9610 - val_loss: 0.0051 - val_accuracy: 0.9543\n",
            "Epoch 9/100\n",
            "360/360 [==============================] - 2s 6ms/step - loss: 0.0049 - accuracy: 0.9704 - val_loss: 0.0074 - val_accuracy: 0.9472\n",
            "Epoch 10/100\n",
            "360/360 [==============================] - 2s 6ms/step - loss: 0.0042 - accuracy: 0.9692 - val_loss: 0.0033 - val_accuracy: 0.9643\n",
            "Epoch 11/100\n",
            "360/360 [==============================] - 2s 6ms/step - loss: 0.0029 - accuracy: 0.9758 - val_loss: 6.1374e-04 - val_accuracy: 0.9814\n",
            "Epoch 12/100\n",
            "360/360 [==============================] - 2s 6ms/step - loss: 0.0029 - accuracy: 0.9753 - val_loss: 5.9472e-04 - val_accuracy: 0.9800\n",
            "Epoch 13/100\n",
            "360/360 [==============================] - 2s 6ms/step - loss: 0.0021 - accuracy: 0.9786 - val_loss: 9.3737e-04 - val_accuracy: 0.9800\n",
            "Epoch 14/100\n",
            "360/360 [==============================] - 2s 6ms/step - loss: 0.0017 - accuracy: 0.9784 - val_loss: 6.2738e-04 - val_accuracy: 0.9843\n",
            "Epoch 15/100\n",
            "360/360 [==============================] - 2s 6ms/step - loss: 0.0017 - accuracy: 0.9806 - val_loss: 6.8477e-04 - val_accuracy: 0.9836\n",
            "Epoch 16/100\n",
            "360/360 [==============================] - 3s 7ms/step - loss: 0.0013 - accuracy: 0.9812 - val_loss: 7.9478e-04 - val_accuracy: 0.9800\n",
            "Epoch 17/100\n",
            "360/360 [==============================] - 3s 9ms/step - loss: 0.0012 - accuracy: 0.9813 - val_loss: 6.7497e-04 - val_accuracy: 0.9814\n",
            "Epoch 18/100\n",
            "360/360 [==============================] - 3s 7ms/step - loss: 0.0014 - accuracy: 0.9798 - val_loss: 4.2237e-04 - val_accuracy: 0.9836\n",
            "Epoch 19/100\n",
            "360/360 [==============================] - 2s 7ms/step - loss: 0.0011 - accuracy: 0.9827 - val_loss: 4.5440e-04 - val_accuracy: 0.9843\n",
            "Epoch 20/100\n",
            "360/360 [==============================] - 2s 7ms/step - loss: 9.9880e-04 - accuracy: 0.9837 - val_loss: 5.8742e-04 - val_accuracy: 0.9879\n",
            "Epoch 21/100\n",
            "360/360 [==============================] - 2s 6ms/step - loss: 8.7455e-04 - accuracy: 0.9825 - val_loss: 3.0358e-04 - val_accuracy: 0.9893\n",
            "Epoch 22/100\n",
            "360/360 [==============================] - 2s 7ms/step - loss: 8.4067e-04 - accuracy: 0.9829 - val_loss: 1.4787e-04 - val_accuracy: 0.9864\n",
            "Epoch 23/100\n",
            "360/360 [==============================] - 2s 7ms/step - loss: 8.3695e-04 - accuracy: 0.9833 - val_loss: 2.1063e-04 - val_accuracy: 0.9857\n",
            "Epoch 24/100\n",
            "360/360 [==============================] - 2s 7ms/step - loss: 8.1434e-04 - accuracy: 0.9810 - val_loss: 3.1993e-04 - val_accuracy: 0.9836\n",
            "Epoch 25/100\n",
            "360/360 [==============================] - 2s 6ms/step - loss: 8.6962e-04 - accuracy: 0.9836 - val_loss: 1.5894e-04 - val_accuracy: 0.9879\n",
            "Epoch 26/100\n",
            "360/360 [==============================] - 2s 6ms/step - loss: 7.9514e-04 - accuracy: 0.9847 - val_loss: 4.7349e-04 - val_accuracy: 0.9807\n",
            "Epoch 27/100\n",
            "360/360 [==============================] - 2s 7ms/step - loss: 8.2705e-04 - accuracy: 0.9829 - val_loss: 4.2740e-04 - val_accuracy: 0.9872\n",
            "Epoch 28/100\n",
            "360/360 [==============================] - 2s 7ms/step - loss: 7.0693e-04 - accuracy: 0.9841 - val_loss: 3.7511e-04 - val_accuracy: 0.9857\n",
            "Epoch 29/100\n",
            "360/360 [==============================] - 2s 6ms/step - loss: 6.2415e-04 - accuracy: 0.9850 - val_loss: 1.8801e-04 - val_accuracy: 0.9879\n",
            "Epoch 30/100\n",
            "360/360 [==============================] - 2s 7ms/step - loss: 6.0825e-04 - accuracy: 0.9849 - val_loss: 1.2379e-04 - val_accuracy: 0.9900\n",
            "Epoch 31/100\n",
            "360/360 [==============================] - 2s 7ms/step - loss: 5.4392e-04 - accuracy: 0.9850 - val_loss: 1.6667e-04 - val_accuracy: 0.9879\n",
            "Epoch 32/100\n",
            "360/360 [==============================] - 2s 7ms/step - loss: 5.5632e-04 - accuracy: 0.9847 - val_loss: 3.7656e-04 - val_accuracy: 0.9800\n",
            "Epoch 33/100\n",
            "360/360 [==============================] - 2s 6ms/step - loss: 5.3151e-04 - accuracy: 0.9845 - val_loss: 5.5285e-04 - val_accuracy: 0.9822\n",
            "Epoch 34/100\n",
            "360/360 [==============================] - 2s 6ms/step - loss: 4.8862e-04 - accuracy: 0.9852 - val_loss: 1.8839e-04 - val_accuracy: 0.9893\n",
            "Epoch 35/100\n",
            "360/360 [==============================] - 2s 6ms/step - loss: 4.5846e-04 - accuracy: 0.9859 - val_loss: 1.3483e-04 - val_accuracy: 0.9900\n",
            "Epoch 36/100\n",
            "360/360 [==============================] - 2s 6ms/step - loss: 5.4078e-04 - accuracy: 0.9844 - val_loss: 3.6456e-04 - val_accuracy: 0.9814\n",
            "Epoch 37/100\n",
            "360/360 [==============================] - 2s 6ms/step - loss: 4.7821e-04 - accuracy: 0.9855 - val_loss: 2.0257e-04 - val_accuracy: 0.9886\n",
            "Epoch 38/100\n",
            "360/360 [==============================] - 2s 7ms/step - loss: 4.4650e-04 - accuracy: 0.9845 - val_loss: 3.8047e-04 - val_accuracy: 0.9822\n",
            "Epoch 39/100\n",
            "360/360 [==============================] - 2s 7ms/step - loss: 4.1140e-04 - accuracy: 0.9848 - val_loss: 1.0926e-04 - val_accuracy: 0.9879\n",
            "Epoch 40/100\n",
            "360/360 [==============================] - 2s 7ms/step - loss: 4.1296e-04 - accuracy: 0.9851 - val_loss: 1.0917e-04 - val_accuracy: 0.9893\n",
            "Epoch 41/100\n",
            "360/360 [==============================] - 2s 6ms/step - loss: 4.0645e-04 - accuracy: 0.9841 - val_loss: 3.8946e-04 - val_accuracy: 0.9864\n",
            "Epoch 42/100\n",
            "360/360 [==============================] - 2s 6ms/step - loss: 4.4024e-04 - accuracy: 0.9846 - val_loss: 1.7291e-04 - val_accuracy: 0.9907\n",
            "Epoch 43/100\n",
            "360/360 [==============================] - 2s 6ms/step - loss: 4.1311e-04 - accuracy: 0.9851 - val_loss: 2.0465e-04 - val_accuracy: 0.9893\n",
            "Epoch 44/100\n",
            "360/360 [==============================] - 2s 7ms/step - loss: 3.4445e-04 - accuracy: 0.9847 - val_loss: 1.3206e-04 - val_accuracy: 0.9921\n",
            "Epoch 45/100\n",
            "360/360 [==============================] - 2s 7ms/step - loss: 3.9671e-04 - accuracy: 0.9843 - val_loss: 5.9997e-04 - val_accuracy: 0.9793\n",
            "Epoch 46/100\n",
            "360/360 [==============================] - 2s 7ms/step - loss: 3.4667e-04 - accuracy: 0.9852 - val_loss: 1.0292e-04 - val_accuracy: 0.9886\n",
            "Epoch 47/100\n",
            "360/360 [==============================] - 2s 7ms/step - loss: 3.0772e-04 - accuracy: 0.9855 - val_loss: 4.8525e-04 - val_accuracy: 0.9879\n",
            "Epoch 48/100\n",
            "360/360 [==============================] - 2s 7ms/step - loss: 3.4921e-04 - accuracy: 0.9855 - val_loss: 1.4654e-04 - val_accuracy: 0.9900\n",
            "Epoch 49/100\n",
            "360/360 [==============================] - 2s 7ms/step - loss: 3.4934e-04 - accuracy: 0.9861 - val_loss: 1.1803e-04 - val_accuracy: 0.9914\n",
            "Epoch 50/100\n",
            "360/360 [==============================] - 2s 6ms/step - loss: 3.5075e-04 - accuracy: 0.9851 - val_loss: 1.3375e-04 - val_accuracy: 0.9872\n",
            "Epoch 51/100\n",
            "360/360 [==============================] - 2s 7ms/step - loss: 3.1548e-04 - accuracy: 0.9855 - val_loss: 9.1207e-05 - val_accuracy: 0.9893\n",
            "Epoch 52/100\n",
            "360/360 [==============================] - 2s 6ms/step - loss: 3.3907e-04 - accuracy: 0.9859 - val_loss: 1.4619e-04 - val_accuracy: 0.9893\n",
            "Epoch 53/100\n",
            "360/360 [==============================] - 2s 7ms/step - loss: 2.6974e-04 - accuracy: 0.9857 - val_loss: 1.3450e-04 - val_accuracy: 0.9893\n",
            "Epoch 54/100\n",
            "360/360 [==============================] - 2s 6ms/step - loss: 2.7818e-04 - accuracy: 0.9859 - val_loss: 9.2920e-05 - val_accuracy: 0.9886\n",
            "Epoch 55/100\n",
            "360/360 [==============================] - 2s 7ms/step - loss: 2.6697e-04 - accuracy: 0.9863 - val_loss: 9.4046e-05 - val_accuracy: 0.9893\n",
            "Epoch 56/100\n",
            "360/360 [==============================] - 2s 7ms/step - loss: 3.2759e-04 - accuracy: 0.9858 - val_loss: 7.3811e-05 - val_accuracy: 0.9900\n",
            "Epoch 57/100\n",
            "360/360 [==============================] - 2s 6ms/step - loss: 3.2120e-04 - accuracy: 0.9858 - val_loss: 1.4189e-04 - val_accuracy: 0.9886\n",
            "Epoch 58/100\n",
            "360/360 [==============================] - 2s 7ms/step - loss: 3.0720e-04 - accuracy: 0.9860 - val_loss: 8.7369e-05 - val_accuracy: 0.9900\n",
            "Epoch 59/100\n",
            "360/360 [==============================] - 2s 6ms/step - loss: 2.6645e-04 - accuracy: 0.9849 - val_loss: 1.2908e-04 - val_accuracy: 0.9872\n",
            "Epoch 60/100\n",
            "360/360 [==============================] - 2s 7ms/step - loss: 2.6325e-04 - accuracy: 0.9865 - val_loss: 7.5454e-05 - val_accuracy: 0.9900\n",
            "Epoch 61/100\n",
            "360/360 [==============================] - 2s 7ms/step - loss: 2.4612e-04 - accuracy: 0.9852 - val_loss: 1.5253e-04 - val_accuracy: 0.9864\n",
            "Epoch 62/100\n",
            "360/360 [==============================] - 2s 7ms/step - loss: 2.5471e-04 - accuracy: 0.9858 - val_loss: 6.5306e-05 - val_accuracy: 0.9886\n",
            "Epoch 63/100\n",
            "360/360 [==============================] - 2s 7ms/step - loss: 2.5502e-04 - accuracy: 0.9849 - val_loss: 1.1351e-04 - val_accuracy: 0.9914\n",
            "Epoch 64/100\n",
            "360/360 [==============================] - 2s 7ms/step - loss: 2.3480e-04 - accuracy: 0.9866 - val_loss: 6.7272e-05 - val_accuracy: 0.9914\n",
            "Epoch 65/100\n",
            "360/360 [==============================] - 2s 7ms/step - loss: 2.3668e-04 - accuracy: 0.9859 - val_loss: 1.9988e-04 - val_accuracy: 0.9893\n",
            "Epoch 66/100\n",
            "360/360 [==============================] - 2s 7ms/step - loss: 2.4050e-04 - accuracy: 0.9853 - val_loss: 1.3034e-04 - val_accuracy: 0.9914\n",
            "Epoch 67/100\n",
            "360/360 [==============================] - 2s 7ms/step - loss: 2.4798e-04 - accuracy: 0.9867 - val_loss: 8.7975e-05 - val_accuracy: 0.9921\n",
            "Epoch 68/100\n",
            "360/360 [==============================] - 2s 7ms/step - loss: 2.4826e-04 - accuracy: 0.9862 - val_loss: 1.2957e-04 - val_accuracy: 0.9900\n",
            "Epoch 69/100\n",
            "360/360 [==============================] - 2s 7ms/step - loss: 2.5278e-04 - accuracy: 0.9870 - val_loss: 1.0977e-04 - val_accuracy: 0.9886\n",
            "Epoch 70/100\n",
            "360/360 [==============================] - 2s 7ms/step - loss: 2.3148e-04 - accuracy: 0.9867 - val_loss: 9.6526e-05 - val_accuracy: 0.9893\n",
            "Epoch 71/100\n",
            "360/360 [==============================] - 2s 7ms/step - loss: 2.3988e-04 - accuracy: 0.9856 - val_loss: 7.6195e-05 - val_accuracy: 0.9921\n",
            "Epoch 72/100\n",
            "360/360 [==============================] - 2s 7ms/step - loss: 2.2630e-04 - accuracy: 0.9858 - val_loss: 6.1217e-05 - val_accuracy: 0.9907\n",
            "Epoch 73/100\n",
            "360/360 [==============================] - 2s 7ms/step - loss: 2.2819e-04 - accuracy: 0.9857 - val_loss: 9.1856e-05 - val_accuracy: 0.9872\n",
            "Epoch 74/100\n",
            "360/360 [==============================] - 2s 7ms/step - loss: 2.0246e-04 - accuracy: 0.9861 - val_loss: 8.8602e-05 - val_accuracy: 0.9900\n",
            "Epoch 75/100\n",
            "360/360 [==============================] - 2s 7ms/step - loss: 1.9913e-04 - accuracy: 0.9868 - val_loss: 5.8583e-05 - val_accuracy: 0.9921\n",
            "Epoch 76/100\n",
            "360/360 [==============================] - 2s 6ms/step - loss: 2.0946e-04 - accuracy: 0.9863 - val_loss: 5.5740e-05 - val_accuracy: 0.9907\n",
            "Epoch 77/100\n",
            "360/360 [==============================] - 2s 7ms/step - loss: 2.2917e-04 - accuracy: 0.9859 - val_loss: 7.9340e-05 - val_accuracy: 0.9900\n",
            "Epoch 78/100\n",
            "360/360 [==============================] - 2s 7ms/step - loss: 2.0740e-04 - accuracy: 0.9858 - val_loss: 6.8065e-05 - val_accuracy: 0.9886\n",
            "Epoch 79/100\n",
            "360/360 [==============================] - 2s 7ms/step - loss: 2.0055e-04 - accuracy: 0.9862 - val_loss: 2.1810e-04 - val_accuracy: 0.9879\n",
            "Epoch 80/100\n",
            "360/360 [==============================] - 2s 7ms/step - loss: 2.2870e-04 - accuracy: 0.9857 - val_loss: 5.9431e-05 - val_accuracy: 0.9921\n",
            "Epoch 81/100\n",
            "360/360 [==============================] - 2s 7ms/step - loss: 1.9331e-04 - accuracy: 0.9863 - val_loss: 7.0141e-05 - val_accuracy: 0.9914\n",
            "Epoch 82/100\n",
            "360/360 [==============================] - 2s 7ms/step - loss: 1.9338e-04 - accuracy: 0.9858 - val_loss: 8.7352e-05 - val_accuracy: 0.9893\n",
            "Epoch 83/100\n",
            "360/360 [==============================] - 2s 7ms/step - loss: 2.0513e-04 - accuracy: 0.9866 - val_loss: 5.9019e-05 - val_accuracy: 0.9907\n",
            "Epoch 84/100\n",
            "360/360 [==============================] - 2s 7ms/step - loss: 1.8708e-04 - accuracy: 0.9860 - val_loss: 8.3249e-05 - val_accuracy: 0.9914\n",
            "Epoch 85/100\n",
            "360/360 [==============================] - 2s 7ms/step - loss: 1.8271e-04 - accuracy: 0.9852 - val_loss: 6.1121e-05 - val_accuracy: 0.9893\n",
            "Epoch 86/100\n",
            "360/360 [==============================] - 2s 7ms/step - loss: 2.0105e-04 - accuracy: 0.9862 - val_loss: 7.6455e-05 - val_accuracy: 0.9907\n",
            "Epoch 87/100\n",
            "360/360 [==============================] - 2s 7ms/step - loss: 1.7946e-04 - accuracy: 0.9857 - val_loss: 6.3832e-05 - val_accuracy: 0.9900\n",
            "Epoch 88/100\n",
            "360/360 [==============================] - 2s 7ms/step - loss: 1.8014e-04 - accuracy: 0.9859 - val_loss: 5.3019e-05 - val_accuracy: 0.9914\n",
            "Epoch 89/100\n",
            "360/360 [==============================] - 2s 7ms/step - loss: 1.8642e-04 - accuracy: 0.9854 - val_loss: 1.2555e-04 - val_accuracy: 0.9893\n",
            "Epoch 90/100\n",
            "360/360 [==============================] - 2s 7ms/step - loss: 1.7181e-04 - accuracy: 0.9854 - val_loss: 5.6737e-05 - val_accuracy: 0.9914\n",
            "Epoch 91/100\n",
            "360/360 [==============================] - 2s 7ms/step - loss: 1.9370e-04 - accuracy: 0.9858 - val_loss: 1.1860e-04 - val_accuracy: 0.9872\n",
            "Epoch 92/100\n",
            "360/360 [==============================] - 2s 7ms/step - loss: 1.6757e-04 - accuracy: 0.9865 - val_loss: 5.6595e-05 - val_accuracy: 0.9907\n",
            "Epoch 93/100\n",
            "360/360 [==============================] - 2s 7ms/step - loss: 1.6966e-04 - accuracy: 0.9863 - val_loss: 5.7263e-05 - val_accuracy: 0.9914\n",
            "Epoch 94/100\n",
            "360/360 [==============================] - 2s 7ms/step - loss: 1.8086e-04 - accuracy: 0.9865 - val_loss: 4.6652e-05 - val_accuracy: 0.9907\n",
            "Epoch 95/100\n",
            "360/360 [==============================] - 2s 7ms/step - loss: 1.5685e-04 - accuracy: 0.9860 - val_loss: 2.1975e-04 - val_accuracy: 0.9886\n",
            "Epoch 96/100\n",
            "360/360 [==============================] - 2s 7ms/step - loss: 1.8451e-04 - accuracy: 0.9861 - val_loss: 5.3235e-04 - val_accuracy: 0.9807\n",
            "Epoch 97/100\n",
            "360/360 [==============================] - 2s 7ms/step - loss: 1.7618e-04 - accuracy: 0.9855 - val_loss: 2.3212e-04 - val_accuracy: 0.9886\n",
            "Epoch 98/100\n",
            "360/360 [==============================] - 2s 7ms/step - loss: 1.6651e-04 - accuracy: 0.9851 - val_loss: 5.1676e-05 - val_accuracy: 0.9900\n",
            "Epoch 99/100\n",
            "360/360 [==============================] - 2s 7ms/step - loss: 1.5345e-04 - accuracy: 0.9858 - val_loss: 4.3417e-05 - val_accuracy: 0.9914\n",
            "Epoch 100/100\n",
            "360/360 [==============================] - 2s 7ms/step - loss: 1.5632e-04 - accuracy: 0.9869 - val_loss: 5.0491e-05 - val_accuracy: 0.9914\n",
            "Training time: 263.07619762420654 seconds\n"
          ]
        }
      ]
    },
    {
      "cell_type": "code",
      "metadata": {
        "colab": {
          "base_uri": "https://localhost:8080/",
          "height": 287
        },
        "id": "fccAQ8XDnIWn",
        "outputId": "50da74bd-f0fc-4efc-ba87-fddf06da611e"
      },
      "source": [
        "plt.figure(figsize=(plt.rcParams['figure.figsize'][0]*2, plt.rcParams['figure.figsize'][1]))\n",
        "gs = gridspec.GridSpec(1, 2)\n",
        "ax = plt.subplot(gs[0])\n",
        "ax.plot([i for i in range(1, len(history.history[\"loss\"])+1)], history.history[\"loss\"], \"+-\", label=\"training\")\n",
        "ax.plot([i for i in range(1, len(history.history[\"val_loss\"])+1)], history.history[\"val_loss\"], \"+-\", label=\"validation\")\n",
        "ax.legend()\n",
        "ax.set_xlabel(\"Epoch number\")\n",
        "ax.set_ylabel(\"Loss\")\n",
        "ax.set_title(\"Loss against Epoch\")\n",
        "\n",
        "ax = plt.subplot(gs[1])\n",
        "ax.plot([i for i in range(1, len(history.history[\"accuracy\"])+1)], history.history[\"accuracy\"], \"+-\", label=\"training\")\n",
        "ax.plot([i for i in range(1, len(history.history[\"val_accuracy\"])+1)], history.history[\"val_accuracy\"], \"+-\", label=\"validation\")\n",
        "ax.set_xlabel(\"Epoch number\")\n",
        "ax.set_ylabel(\"Accuracy\")\n",
        "ax.set_title(\"Accuracy against Epoch\")\n",
        "\n",
        "plt.savefig(\"training.pdf\")\n",
        "plt.show()"
      ],
      "execution_count": 10,
      "outputs": [
        {
          "output_type": "display_data",
          "data": {
            "image/png": "[encoded data removed]",
            "text/plain": [
              "<Figure size 864x288 with 2 Axes>"
            ]
          },
          "metadata": {
            "needs_background": "light"
          }
        }
      ]
    },
    {
      "cell_type": "markdown",
      "metadata": {
        "id": "Nu3H-hZOpC1b"
      },
      "source": [
        "# Test Model"
      ]
    },
    {
      "cell_type": "code",
      "metadata": {
        "colab": {
          "base_uri": "https://localhost:8080/"
        },
        "id": "dEV4TkXHhrhD",
        "outputId": "afc847f2-6278-4aaa-a00a-68e86321745f"
      },
      "source": [
        "score = model.evaluate(x_test, y_test, verbose=0)\n",
        "print(\"Test loss:\", score[0])\n",
        "print(\"Test accuracy:\", score[1])"
      ],
      "execution_count": 11,
      "outputs": [
        {
          "output_type": "stream",
          "name": "stdout",
          "text": [
            "Test loss: 7.487771654268727e-05\n",
            "Test accuracy: 0.9959340691566467\n"
          ]
        }
      ]
    },
    {
      "cell_type": "code",
      "metadata": {
        "colab": {
          "base_uri": "https://localhost:8080/"
        },
        "id": "Zm7bvpLMpH3o",
        "outputId": "8923af01-6d2c-4856-9e66-7d8646a5c306"
      },
      "source": [
        "i = 6\n",
        "print(\"True SO(3):\\n\", y_test[i].astype(\"float32\"), end=\"\\n\\n\", sep=\"\")\n",
        "prediction = model.predict(x_test[i].reshape((1,)+x_test[i].shape))[0]\n",
        "print(\"SO(3) Prediction:\\n\", prediction, sep=\"\")\n",
        "print(\"Distance: {:.2f} degrees\".format(SO3_distance(y_test[i], prediction)))"
      ],
      "execution_count": 12,
      "outputs": [
        {
          "output_type": "stream",
          "name": "stdout",
          "text": [
            "True SO(3):\n",
            "[[ 0.266902    0.96372366  0.        ]\n",
            " [-0.96372366  0.266902    0.        ]\n",
            " [ 0.          0.          1.        ]]\n",
            "\n",
            "SO(3) Prediction:\n",
            "[[ 2.5289366e-01  9.6749389e-01  4.8381003e-04]\n",
            " [-9.6746838e-01  2.5289056e-01 -7.1584992e-03]\n",
            " [-7.0481561e-03  1.3422683e-03  9.9997419e-01]]\n",
            "Distance: 0.93 degrees\n"
          ]
        }
      ]
    },
    {
      "cell_type": "markdown",
      "metadata": {
        "id": "Jgwz-oDEyK9r"
      },
      "source": [
        "# Analyse Results"
      ]
    },
    {
      "cell_type": "code",
      "metadata": {
        "id": "fb1vUpDHpsYe",
        "colab": {
          "base_uri": "https://localhost:8080/",
          "height": 49,
          "referenced_widgets": [
            "ff7536303f7d497598e784b2935d3e3c",
            "d21af67dcce74c06bdfa442dad826d0f",
            "4ce17a603ebd44e297028026929742e0",
            "1244ffe9001b4b9286ffeaea87a4a6e4",
            "2fd775740a9b48808aaf7d2aa1d40890",
            "9a472c60803841239e12e64f42bb7d24",
            "972ce6e373054a4cb4bc70cb37d53d59",
            "8a3fa30edf1b46ff92983f6aace51b60",
            "1cd782f825e648018d259979c0ce9eb9",
            "5a150686a2bd4a4da114bbda17a99d9e",
            "5f67e291a02b45e7b568ba5e99676059"
          ]
        },
        "outputId": "9f29e51f-9b07-4457-b18e-42dc6ec84617"
      },
      "source": [
        "distances = np.zeros(x_test.shape[0])\n",
        "predictions = model.predict(x_test)\n",
        "for i in tqdm(range(x_test.shape[0])):\n",
        "  distances[i] = SO3_distance(y_test[i], predictions[i])"
      ],
      "execution_count": 13,
      "outputs": [
        {
          "output_type": "display_data",
          "data": {
            "application/vnd.jupyter.widget-view+json": {
              "model_id": "ff7536303f7d497598e784b2935d3e3c",
              "version_minor": 0,
              "version_major": 2
            },
            "text/plain": [
              "  0%|          | 0/4673 [00:00<?, ?it/s]"
            ]
          },
          "metadata": {}
        }
      ]
    },
    {
      "cell_type": "markdown",
      "source": [
        "## Plot Histogram"
      ],
      "metadata": {
        "id": "LPcalUunQ25W"
      }
    },
    {
      "cell_type": "code",
      "source": [
        "import scipy.stats\n",
        "from scipy.optimize import curve_fit\n",
        "\n",
        "def skewed_norm(x, mu, sigma, alpha):\n",
        "  norm = scipy.stats.norm(loc=mu, scale=sigma)\n",
        "  return 2*norm.pdf(x)*norm.cdf(alpha*x)\n",
        "\n",
        "distance_mean = np.mean(distances)\n",
        "distance_std = np.std(distances, ddof=1)\n",
        "print(f\"Mean distance from the true value is {distance_mean:.2f} +- {distance_std:.2f}\")\n",
        "\n",
        "plt.figure(figsize=(plt.rcParams['figure.figsize'][0]*2, plt.rcParams['figure.figsize'][1]))\n",
        "gs = gridspec.GridSpec(1, 2)\n",
        "\n",
        "ax = plt.subplot(gs[0])\n",
        "hist1 = ax.hist(distances, bins=15, density=True)\n",
        "ax.axvline(distance_mean, color=\"k\", linestyle=\"--\", label=\"mean\")\n",
        "ax.set_xlabel(\"Angle Between Prediction and True Orientation ($^o$)\")\n",
        "ax.set_ylabel(\"Frequency Density\")\n",
        "ax.legend()\n",
        "\n",
        "# fit histogram to skewed Gaussian (actually doesn't match)\n",
        "## hist_x = hist1[1][:-1]\n",
        "## popt, pcov = curve_fit(skewed_norm, hist_x, hist1[0], p0=[distance_mean, distance_std, 0])\n",
        "## xdata = np.linspace(hist_x.min(), hist_x.max())\n",
        "## ydata = skewed_norm(xdata, *popt)\n",
        "## ax.plot(xdata, ydata, \"-\")\n",
        "\n",
        "ax = plt.subplot(gs[1])\n",
        "ax.hist(distances, bins=15, log=\"y\")\n",
        "ax.axvline(distance_mean, color=\"k\", linestyle=\"--\", label=\"mean\")\n",
        "ax.set_xlabel(\"Angle Between Prediction and True Orientation ($^o$)\")\n",
        "ax.set_ylabel(\"Frequency Density\")\n",
        "ax.legend()\n",
        "\n",
        "plt.savefig(\"error_hist.pdf\")\n",
        "plt.show()"
      ],
      "metadata": {
        "colab": {
          "base_uri": "https://localhost:8080/",
          "height": 294
        },
        "id": "GwZ5cR7XZstG",
        "outputId": "7aa346ab-c806-44e4-f3a0-572c54e76094"
      },
      "execution_count": 34,
      "outputs": [
        {
          "output_type": "stream",
          "name": "stdout",
          "text": [
            "Mean distance from the true value is 0.79 +- 0.43\n"
          ]
        },
        {
          "output_type": "display_data",
          "data": {
            "image/png": "[encoded data removed]",
            "text/plain": [
              "<Figure size 864x288 with 2 Axes>"
            ]
          },
          "metadata": {
            "needs_background": "light"
          }
        }
      ]
    },
    {
      "cell_type": "code",
      "metadata": {
        "id": "Ive1PbGc7X5c"
      },
      "source": [
        ""
      ],
      "execution_count": 14,
      "outputs": []
    }
  ]
}